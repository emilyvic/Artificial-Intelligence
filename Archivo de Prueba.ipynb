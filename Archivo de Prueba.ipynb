{
  "nbformat": 4,
  "nbformat_minor": 0,
  "metadata": {
    "colab": {
      "name": "Untitled0.ipynb",
      "provenance": [],
      "authorship_tag": "ABX9TyNiXyTO7Vytn8Jk5U9GE2LD",
      "include_colab_link": true
    },
    "kernelspec": {
      "name": "python3",
      "display_name": "Python 3"
    },
    "language_info": {
      "name": "python"
    }
  },
  "cells": [
    {
      "cell_type": "markdown",
      "metadata": {
        "id": "view-in-github",
        "colab_type": "text"
      },
      "source": [
        "<a href=\"https://colab.research.google.com/github/emilyvic/Artificial-Intelligence/blob/main/Archivo%20de%20Prueba.ipynb\" target=\"_parent\"><img src=\"https://colab.research.google.com/assets/colab-badge.svg\" alt=\"Open In Colab\"/></a>"
      ]
    },
    {
      "cell_type": "code",
      "execution_count": 1,
      "metadata": {
        "id": "QjuEmGs3KMxd",
        "colab": {
          "base_uri": "https://localhost:8080/"
        },
        "outputId": "6155f3d2-0a02-4dd6-ab37-88807438f600"
      },
      "outputs": [
        {
          "output_type": "stream",
          "name": "stdout",
          "text": [
            "Primer Mensaje\n"
          ]
        }
      ],
      "source": [
        "print(\"Primer Mensaje\")"
      ]
    },
    {
      "cell_type": "code",
      "source": [
        "print(\"Segundo Mensaje\")"
      ],
      "metadata": {
        "id": "nAGkvNHnMgow",
        "outputId": "72f277da-3fef-418c-f454-0fd3bde01cec",
        "colab": {
          "base_uri": "https://localhost:8080/"
        }
      },
      "execution_count": 2,
      "outputs": [
        {
          "output_type": "stream",
          "name": "stdout",
          "text": [
            "Segundo Mensaje\n"
          ]
        }
      ]
    }
  ]
}