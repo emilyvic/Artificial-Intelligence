{
  "cells": [
    {
      "cell_type": "markdown",
      "metadata": {
        "id": "UZX8oh0LJ5fJ"
      },
      "source": [
        "                                                # Titanic Machine Learning From Disaster\n",
        "Por: \n",
        "\n",
        "Emilia Victoria Jácome Iñiguez - A00828347\n",
        "\n",
        "Gilberto Ramos Salinas -A01734128\n",
        "\n",
        "Aylin Camacho -A01379272\n",
        "\n",
        "Luis Daniel Cano -A0"
      ]
    },
    {
      "cell_type": "markdown",
      "metadata": {
        "id": "lF8PyyxjJ5fK"
      },
      "source": [
        "# **Preliminares**"
      ]
    },
    {
      "cell_type": "markdown",
      "metadata": {
        "id": "y_iJGcvRJ5fL"
      },
      "source": [
        "## Importar Librerías Generales"
      ]
    },
    {
      "cell_type": "code",
      "execution_count": null,
      "metadata": {
        "id": "x8QfL4aRJ5fL"
      },
      "outputs": [],
      "source": [
        "import numpy as np\n",
        "import pandas as pd\n",
        "import plotly.express as px\n",
        "import sklearn as sk\n",
        "import matplotlib.pyplot as plt\n",
        "import seaborn as sns"
      ]
    },
    {
      "cell_type": "markdown",
      "metadata": {
        "id": "cVg_ZdMKJ5fM"
      },
      "source": [
        "## Definir los dataframes"
      ]
    },
    {
      "cell_type": "code",
      "execution_count": null,
      "metadata": {
        "id": "5wqLML97J5fN"
      },
      "outputs": [],
      "source": [
        "df_train = pd.read_csv('train.csv') #generar el dataframe con los datos del titanic\n",
        "df_test = pd.read_csv('test.csv') #generar el dataframe con los datos del titanic\n",
        "df_gs = pd.read_csv('gender_submission.csv') #generar el dataframe con los datos del titanic"
      ]
    },
    {
      "cell_type": "code",
      "execution_count": null,
      "metadata": {
        "id": "Y0DMg5uUJ5fN"
      },
      "outputs": [],
      "source": [
        "df = df_train\n"
      ]
    },
    {
      "cell_type": "markdown",
      "metadata": {
        "id": "Dixt3_SCJ5fN"
      },
      "source": [
        "# **Exploración de Datos**"
      ]
    },
    {
      "cell_type": "code",
      "execution_count": null,
      "metadata": {
        "colab": {
          "base_uri": "https://localhost:8080/",
          "height": 363
        },
        "id": "6o2V03spJ5fN",
        "outputId": "1a241d3e-4246-47ff-c440-c422944a7c0e"
      },
      "outputs": [
        {
          "output_type": "execute_result",
          "data": {
            "text/plain": [
              "   PassengerId  Survived  Pclass  \\\n",
              "0            1         0       3   \n",
              "1            2         1       1   \n",
              "2            3         1       3   \n",
              "3            4         1       1   \n",
              "4            5         0       3   \n",
              "5            6         0       3   \n",
              "6            7         0       1   \n",
              "7            8         0       3   \n",
              "8            9         1       3   \n",
              "9           10         1       2   \n",
              "\n",
              "                                                Name     Sex   Age  SibSp  \\\n",
              "0                            Braund, Mr. Owen Harris    male  22.0      1   \n",
              "1  Cumings, Mrs. John Bradley (Florence Briggs Th...  female  38.0      1   \n",
              "2                             Heikkinen, Miss. Laina  female  26.0      0   \n",
              "3       Futrelle, Mrs. Jacques Heath (Lily May Peel)  female  35.0      1   \n",
              "4                           Allen, Mr. William Henry    male  35.0      0   \n",
              "5                                   Moran, Mr. James    male   NaN      0   \n",
              "6                            McCarthy, Mr. Timothy J    male  54.0      0   \n",
              "7                     Palsson, Master. Gosta Leonard    male   2.0      3   \n",
              "8  Johnson, Mrs. Oscar W (Elisabeth Vilhelmina Berg)  female  27.0      0   \n",
              "9                Nasser, Mrs. Nicholas (Adele Achem)  female  14.0      1   \n",
              "\n",
              "   Parch            Ticket     Fare Cabin Embarked  \n",
              "0      0         A/5 21171   7.2500   NaN        S  \n",
              "1      0          PC 17599  71.2833   C85        C  \n",
              "2      0  STON/O2. 3101282   7.9250   NaN        S  \n",
              "3      0            113803  53.1000  C123        S  \n",
              "4      0            373450   8.0500   NaN        S  \n",
              "5      0            330877   8.4583   NaN        Q  \n",
              "6      0             17463  51.8625   E46        S  \n",
              "7      1            349909  21.0750   NaN        S  \n",
              "8      2            347742  11.1333   NaN        S  \n",
              "9      0            237736  30.0708   NaN        C  "
            ],
            "text/html": [
              "\n",
              "  <div id=\"df-9bb849ff-b49a-44c0-bb28-fee0b55ba6a8\">\n",
              "    <div class=\"colab-df-container\">\n",
              "      <div>\n",
              "<style scoped>\n",
              "    .dataframe tbody tr th:only-of-type {\n",
              "        vertical-align: middle;\n",
              "    }\n",
              "\n",
              "    .dataframe tbody tr th {\n",
              "        vertical-align: top;\n",
              "    }\n",
              "\n",
              "    .dataframe thead th {\n",
              "        text-align: right;\n",
              "    }\n",
              "</style>\n",
              "<table border=\"1\" class=\"dataframe\">\n",
              "  <thead>\n",
              "    <tr style=\"text-align: right;\">\n",
              "      <th></th>\n",
              "      <th>PassengerId</th>\n",
              "      <th>Survived</th>\n",
              "      <th>Pclass</th>\n",
              "      <th>Name</th>\n",
              "      <th>Sex</th>\n",
              "      <th>Age</th>\n",
              "      <th>SibSp</th>\n",
              "      <th>Parch</th>\n",
              "      <th>Ticket</th>\n",
              "      <th>Fare</th>\n",
              "      <th>Cabin</th>\n",
              "      <th>Embarked</th>\n",
              "    </tr>\n",
              "  </thead>\n",
              "  <tbody>\n",
              "    <tr>\n",
              "      <th>0</th>\n",
              "      <td>1</td>\n",
              "      <td>0</td>\n",
              "      <td>3</td>\n",
              "      <td>Braund, Mr. Owen Harris</td>\n",
              "      <td>male</td>\n",
              "      <td>22.0</td>\n",
              "      <td>1</td>\n",
              "      <td>0</td>\n",
              "      <td>A/5 21171</td>\n",
              "      <td>7.2500</td>\n",
              "      <td>NaN</td>\n",
              "      <td>S</td>\n",
              "    </tr>\n",
              "    <tr>\n",
              "      <th>1</th>\n",
              "      <td>2</td>\n",
              "      <td>1</td>\n",
              "      <td>1</td>\n",
              "      <td>Cumings, Mrs. John Bradley (Florence Briggs Th...</td>\n",
              "      <td>female</td>\n",
              "      <td>38.0</td>\n",
              "      <td>1</td>\n",
              "      <td>0</td>\n",
              "      <td>PC 17599</td>\n",
              "      <td>71.2833</td>\n",
              "      <td>C85</td>\n",
              "      <td>C</td>\n",
              "    </tr>\n",
              "    <tr>\n",
              "      <th>2</th>\n",
              "      <td>3</td>\n",
              "      <td>1</td>\n",
              "      <td>3</td>\n",
              "      <td>Heikkinen, Miss. Laina</td>\n",
              "      <td>female</td>\n",
              "      <td>26.0</td>\n",
              "      <td>0</td>\n",
              "      <td>0</td>\n",
              "      <td>STON/O2. 3101282</td>\n",
              "      <td>7.9250</td>\n",
              "      <td>NaN</td>\n",
              "      <td>S</td>\n",
              "    </tr>\n",
              "    <tr>\n",
              "      <th>3</th>\n",
              "      <td>4</td>\n",
              "      <td>1</td>\n",
              "      <td>1</td>\n",
              "      <td>Futrelle, Mrs. Jacques Heath (Lily May Peel)</td>\n",
              "      <td>female</td>\n",
              "      <td>35.0</td>\n",
              "      <td>1</td>\n",
              "      <td>0</td>\n",
              "      <td>113803</td>\n",
              "      <td>53.1000</td>\n",
              "      <td>C123</td>\n",
              "      <td>S</td>\n",
              "    </tr>\n",
              "    <tr>\n",
              "      <th>4</th>\n",
              "      <td>5</td>\n",
              "      <td>0</td>\n",
              "      <td>3</td>\n",
              "      <td>Allen, Mr. William Henry</td>\n",
              "      <td>male</td>\n",
              "      <td>35.0</td>\n",
              "      <td>0</td>\n",
              "      <td>0</td>\n",
              "      <td>373450</td>\n",
              "      <td>8.0500</td>\n",
              "      <td>NaN</td>\n",
              "      <td>S</td>\n",
              "    </tr>\n",
              "    <tr>\n",
              "      <th>5</th>\n",
              "      <td>6</td>\n",
              "      <td>0</td>\n",
              "      <td>3</td>\n",
              "      <td>Moran, Mr. James</td>\n",
              "      <td>male</td>\n",
              "      <td>NaN</td>\n",
              "      <td>0</td>\n",
              "      <td>0</td>\n",
              "      <td>330877</td>\n",
              "      <td>8.4583</td>\n",
              "      <td>NaN</td>\n",
              "      <td>Q</td>\n",
              "    </tr>\n",
              "    <tr>\n",
              "      <th>6</th>\n",
              "      <td>7</td>\n",
              "      <td>0</td>\n",
              "      <td>1</td>\n",
              "      <td>McCarthy, Mr. Timothy J</td>\n",
              "      <td>male</td>\n",
              "      <td>54.0</td>\n",
              "      <td>0</td>\n",
              "      <td>0</td>\n",
              "      <td>17463</td>\n",
              "      <td>51.8625</td>\n",
              "      <td>E46</td>\n",
              "      <td>S</td>\n",
              "    </tr>\n",
              "    <tr>\n",
              "      <th>7</th>\n",
              "      <td>8</td>\n",
              "      <td>0</td>\n",
              "      <td>3</td>\n",
              "      <td>Palsson, Master. Gosta Leonard</td>\n",
              "      <td>male</td>\n",
              "      <td>2.0</td>\n",
              "      <td>3</td>\n",
              "      <td>1</td>\n",
              "      <td>349909</td>\n",
              "      <td>21.0750</td>\n",
              "      <td>NaN</td>\n",
              "      <td>S</td>\n",
              "    </tr>\n",
              "    <tr>\n",
              "      <th>8</th>\n",
              "      <td>9</td>\n",
              "      <td>1</td>\n",
              "      <td>3</td>\n",
              "      <td>Johnson, Mrs. Oscar W (Elisabeth Vilhelmina Berg)</td>\n",
              "      <td>female</td>\n",
              "      <td>27.0</td>\n",
              "      <td>0</td>\n",
              "      <td>2</td>\n",
              "      <td>347742</td>\n",
              "      <td>11.1333</td>\n",
              "      <td>NaN</td>\n",
              "      <td>S</td>\n",
              "    </tr>\n",
              "    <tr>\n",
              "      <th>9</th>\n",
              "      <td>10</td>\n",
              "      <td>1</td>\n",
              "      <td>2</td>\n",
              "      <td>Nasser, Mrs. Nicholas (Adele Achem)</td>\n",
              "      <td>female</td>\n",
              "      <td>14.0</td>\n",
              "      <td>1</td>\n",
              "      <td>0</td>\n",
              "      <td>237736</td>\n",
              "      <td>30.0708</td>\n",
              "      <td>NaN</td>\n",
              "      <td>C</td>\n",
              "    </tr>\n",
              "  </tbody>\n",
              "</table>\n",
              "</div>\n",
              "      <button class=\"colab-df-convert\" onclick=\"convertToInteractive('df-9bb849ff-b49a-44c0-bb28-fee0b55ba6a8')\"\n",
              "              title=\"Convert this dataframe to an interactive table.\"\n",
              "              style=\"display:none;\">\n",
              "        \n",
              "  <svg xmlns=\"http://www.w3.org/2000/svg\" height=\"24px\"viewBox=\"0 0 24 24\"\n",
              "       width=\"24px\">\n",
              "    <path d=\"M0 0h24v24H0V0z\" fill=\"none\"/>\n",
              "    <path d=\"M18.56 5.44l.94 2.06.94-2.06 2.06-.94-2.06-.94-.94-2.06-.94 2.06-2.06.94zm-11 1L8.5 8.5l.94-2.06 2.06-.94-2.06-.94L8.5 2.5l-.94 2.06-2.06.94zm10 10l.94 2.06.94-2.06 2.06-.94-2.06-.94-.94-2.06-.94 2.06-2.06.94z\"/><path d=\"M17.41 7.96l-1.37-1.37c-.4-.4-.92-.59-1.43-.59-.52 0-1.04.2-1.43.59L10.3 9.45l-7.72 7.72c-.78.78-.78 2.05 0 2.83L4 21.41c.39.39.9.59 1.41.59.51 0 1.02-.2 1.41-.59l7.78-7.78 2.81-2.81c.8-.78.8-2.07 0-2.86zM5.41 20L4 18.59l7.72-7.72 1.47 1.35L5.41 20z\"/>\n",
              "  </svg>\n",
              "      </button>\n",
              "      \n",
              "  <style>\n",
              "    .colab-df-container {\n",
              "      display:flex;\n",
              "      flex-wrap:wrap;\n",
              "      gap: 12px;\n",
              "    }\n",
              "\n",
              "    .colab-df-convert {\n",
              "      background-color: #E8F0FE;\n",
              "      border: none;\n",
              "      border-radius: 50%;\n",
              "      cursor: pointer;\n",
              "      display: none;\n",
              "      fill: #1967D2;\n",
              "      height: 32px;\n",
              "      padding: 0 0 0 0;\n",
              "      width: 32px;\n",
              "    }\n",
              "\n",
              "    .colab-df-convert:hover {\n",
              "      background-color: #E2EBFA;\n",
              "      box-shadow: 0px 1px 2px rgba(60, 64, 67, 0.3), 0px 1px 3px 1px rgba(60, 64, 67, 0.15);\n",
              "      fill: #174EA6;\n",
              "    }\n",
              "\n",
              "    [theme=dark] .colab-df-convert {\n",
              "      background-color: #3B4455;\n",
              "      fill: #D2E3FC;\n",
              "    }\n",
              "\n",
              "    [theme=dark] .colab-df-convert:hover {\n",
              "      background-color: #434B5C;\n",
              "      box-shadow: 0px 1px 3px 1px rgba(0, 0, 0, 0.15);\n",
              "      filter: drop-shadow(0px 1px 2px rgba(0, 0, 0, 0.3));\n",
              "      fill: #FFFFFF;\n",
              "    }\n",
              "  </style>\n",
              "\n",
              "      <script>\n",
              "        const buttonEl =\n",
              "          document.querySelector('#df-9bb849ff-b49a-44c0-bb28-fee0b55ba6a8 button.colab-df-convert');\n",
              "        buttonEl.style.display =\n",
              "          google.colab.kernel.accessAllowed ? 'block' : 'none';\n",
              "\n",
              "        async function convertToInteractive(key) {\n",
              "          const element = document.querySelector('#df-9bb849ff-b49a-44c0-bb28-fee0b55ba6a8');\n",
              "          const dataTable =\n",
              "            await google.colab.kernel.invokeFunction('convertToInteractive',\n",
              "                                                     [key], {});\n",
              "          if (!dataTable) return;\n",
              "\n",
              "          const docLinkHtml = 'Like what you see? Visit the ' +\n",
              "            '<a target=\"_blank\" href=https://colab.research.google.com/notebooks/data_table.ipynb>data table notebook</a>'\n",
              "            + ' to learn more about interactive tables.';\n",
              "          element.innerHTML = '';\n",
              "          dataTable['output_type'] = 'display_data';\n",
              "          await google.colab.output.renderOutput(dataTable, element);\n",
              "          const docLink = document.createElement('div');\n",
              "          docLink.innerHTML = docLinkHtml;\n",
              "          element.appendChild(docLink);\n",
              "        }\n",
              "      </script>\n",
              "    </div>\n",
              "  </div>\n",
              "  "
            ]
          },
          "metadata": {},
          "execution_count": 1198
        }
      ],
      "source": [
        "df.head(10)"
      ]
    },
    {
      "cell_type": "code",
      "execution_count": null,
      "metadata": {
        "colab": {
          "base_uri": "https://localhost:8080/"
        },
        "id": "TS2EmaIpJ5fO",
        "outputId": "767300ce-4511-45ac-efc3-df9673a6f623"
      },
      "outputs": [
        {
          "output_type": "execute_result",
          "data": {
            "text/plain": [
              "Index(['PassengerId', 'Survived', 'Pclass', 'Name', 'Sex', 'Age', 'SibSp',\n",
              "       'Parch', 'Ticket', 'Fare', 'Cabin', 'Embarked'],\n",
              "      dtype='object')"
            ]
          },
          "metadata": {},
          "execution_count": 1199
        }
      ],
      "source": [
        "df.columns"
      ]
    },
    {
      "cell_type": "code",
      "execution_count": null,
      "metadata": {
        "colab": {
          "base_uri": "https://localhost:8080/"
        },
        "id": "FBZ90i1EJ5fO",
        "outputId": "4b89ffd0-21ed-4d22-ac36-139d394883b2"
      },
      "outputs": [
        {
          "output_type": "execute_result",
          "data": {
            "text/plain": [
              "(891, 12)"
            ]
          },
          "metadata": {},
          "execution_count": 1200
        }
      ],
      "source": [
        "##Mostrar dimensiones del dataset\n",
        "df.shape\n",
        "#1309 reglones y 12 columnas"
      ]
    },
    {
      "cell_type": "markdown",
      "metadata": {
        "id": "cWqQ4fC6J5fO"
      },
      "source": [
        "## Tipos de Datos"
      ]
    },
    {
      "cell_type": "code",
      "execution_count": null,
      "metadata": {
        "colab": {
          "base_uri": "https://localhost:8080/"
        },
        "id": "CHGZKWYyJ5fO",
        "outputId": "8fa063d4-0550-4c85-9182-2d16fecd9c46"
      },
      "outputs": [
        {
          "output_type": "stream",
          "name": "stdout",
          "text": [
            "<class 'pandas.core.frame.DataFrame'>\n",
            "RangeIndex: 891 entries, 0 to 890\n",
            "Data columns (total 12 columns):\n",
            " #   Column       Non-Null Count  Dtype  \n",
            "---  ------       --------------  -----  \n",
            " 0   PassengerId  891 non-null    int64  \n",
            " 1   Survived     891 non-null    int64  \n",
            " 2   Pclass       891 non-null    int64  \n",
            " 3   Name         891 non-null    object \n",
            " 4   Sex          891 non-null    object \n",
            " 5   Age          714 non-null    float64\n",
            " 6   SibSp        891 non-null    int64  \n",
            " 7   Parch        891 non-null    int64  \n",
            " 8   Ticket       891 non-null    object \n",
            " 9   Fare         891 non-null    float64\n",
            " 10  Cabin        204 non-null    object \n",
            " 11  Embarked     889 non-null    object \n",
            "dtypes: float64(2), int64(5), object(5)\n",
            "memory usage: 83.7+ KB\n"
          ]
        }
      ],
      "source": [
        "##Resumen del dataframe\n",
        "df.info()"
      ]
    },
    {
      "cell_type": "code",
      "execution_count": null,
      "metadata": {
        "colab": {
          "base_uri": "https://localhost:8080/"
        },
        "id": "GdYXZlHJJ5fO",
        "outputId": "2ce06c4e-4338-4447-857e-07b8d298c801"
      },
      "outputs": [
        {
          "output_type": "execute_result",
          "data": {
            "text/plain": [
              "PassengerId      int64\n",
              "Survived         int64\n",
              "Pclass           int64\n",
              "Name            object\n",
              "Sex             object\n",
              "Age            float64\n",
              "SibSp            int64\n",
              "Parch            int64\n",
              "Ticket          object\n",
              "Fare           float64\n",
              "Cabin           object\n",
              "Embarked        object\n",
              "dtype: object"
            ]
          },
          "metadata": {},
          "execution_count": 1202
        }
      ],
      "source": [
        "##Ver el tipo de Datos\n",
        "df.dtypes"
      ]
    },
    {
      "cell_type": "markdown",
      "metadata": {
        "id": "sboiZOvYJ5fP"
      },
      "source": [
        "## Medidas Estadísticas de los datos"
      ]
    },
    {
      "cell_type": "code",
      "execution_count": null,
      "metadata": {
        "colab": {
          "base_uri": "https://localhost:8080/",
          "height": 300
        },
        "id": "Gm2fxGuaJ5fP",
        "outputId": "9cf9b88f-bd60-486a-d8f6-bdc89179f482"
      },
      "outputs": [
        {
          "output_type": "execute_result",
          "data": {
            "text/plain": [
              "       PassengerId    Survived      Pclass         Age       SibSp  \\\n",
              "count   891.000000  891.000000  891.000000  714.000000  891.000000   \n",
              "mean    446.000000    0.383838    2.308642   29.699118    0.523008   \n",
              "std     257.353842    0.486592    0.836071   14.526497    1.102743   \n",
              "min       1.000000    0.000000    1.000000    0.420000    0.000000   \n",
              "25%     223.500000    0.000000    2.000000   20.125000    0.000000   \n",
              "50%     446.000000    0.000000    3.000000   28.000000    0.000000   \n",
              "75%     668.500000    1.000000    3.000000   38.000000    1.000000   \n",
              "max     891.000000    1.000000    3.000000   80.000000    8.000000   \n",
              "\n",
              "            Parch        Fare  \n",
              "count  891.000000  891.000000  \n",
              "mean     0.381594   32.204208  \n",
              "std      0.806057   49.693429  \n",
              "min      0.000000    0.000000  \n",
              "25%      0.000000    7.910400  \n",
              "50%      0.000000   14.454200  \n",
              "75%      0.000000   31.000000  \n",
              "max      6.000000  512.329200  "
            ],
            "text/html": [
              "\n",
              "  <div id=\"df-a4abe808-f84b-48aa-9c5d-46c32ac9af1d\">\n",
              "    <div class=\"colab-df-container\">\n",
              "      <div>\n",
              "<style scoped>\n",
              "    .dataframe tbody tr th:only-of-type {\n",
              "        vertical-align: middle;\n",
              "    }\n",
              "\n",
              "    .dataframe tbody tr th {\n",
              "        vertical-align: top;\n",
              "    }\n",
              "\n",
              "    .dataframe thead th {\n",
              "        text-align: right;\n",
              "    }\n",
              "</style>\n",
              "<table border=\"1\" class=\"dataframe\">\n",
              "  <thead>\n",
              "    <tr style=\"text-align: right;\">\n",
              "      <th></th>\n",
              "      <th>PassengerId</th>\n",
              "      <th>Survived</th>\n",
              "      <th>Pclass</th>\n",
              "      <th>Age</th>\n",
              "      <th>SibSp</th>\n",
              "      <th>Parch</th>\n",
              "      <th>Fare</th>\n",
              "    </tr>\n",
              "  </thead>\n",
              "  <tbody>\n",
              "    <tr>\n",
              "      <th>count</th>\n",
              "      <td>891.000000</td>\n",
              "      <td>891.000000</td>\n",
              "      <td>891.000000</td>\n",
              "      <td>714.000000</td>\n",
              "      <td>891.000000</td>\n",
              "      <td>891.000000</td>\n",
              "      <td>891.000000</td>\n",
              "    </tr>\n",
              "    <tr>\n",
              "      <th>mean</th>\n",
              "      <td>446.000000</td>\n",
              "      <td>0.383838</td>\n",
              "      <td>2.308642</td>\n",
              "      <td>29.699118</td>\n",
              "      <td>0.523008</td>\n",
              "      <td>0.381594</td>\n",
              "      <td>32.204208</td>\n",
              "    </tr>\n",
              "    <tr>\n",
              "      <th>std</th>\n",
              "      <td>257.353842</td>\n",
              "      <td>0.486592</td>\n",
              "      <td>0.836071</td>\n",
              "      <td>14.526497</td>\n",
              "      <td>1.102743</td>\n",
              "      <td>0.806057</td>\n",
              "      <td>49.693429</td>\n",
              "    </tr>\n",
              "    <tr>\n",
              "      <th>min</th>\n",
              "      <td>1.000000</td>\n",
              "      <td>0.000000</td>\n",
              "      <td>1.000000</td>\n",
              "      <td>0.420000</td>\n",
              "      <td>0.000000</td>\n",
              "      <td>0.000000</td>\n",
              "      <td>0.000000</td>\n",
              "    </tr>\n",
              "    <tr>\n",
              "      <th>25%</th>\n",
              "      <td>223.500000</td>\n",
              "      <td>0.000000</td>\n",
              "      <td>2.000000</td>\n",
              "      <td>20.125000</td>\n",
              "      <td>0.000000</td>\n",
              "      <td>0.000000</td>\n",
              "      <td>7.910400</td>\n",
              "    </tr>\n",
              "    <tr>\n",
              "      <th>50%</th>\n",
              "      <td>446.000000</td>\n",
              "      <td>0.000000</td>\n",
              "      <td>3.000000</td>\n",
              "      <td>28.000000</td>\n",
              "      <td>0.000000</td>\n",
              "      <td>0.000000</td>\n",
              "      <td>14.454200</td>\n",
              "    </tr>\n",
              "    <tr>\n",
              "      <th>75%</th>\n",
              "      <td>668.500000</td>\n",
              "      <td>1.000000</td>\n",
              "      <td>3.000000</td>\n",
              "      <td>38.000000</td>\n",
              "      <td>1.000000</td>\n",
              "      <td>0.000000</td>\n",
              "      <td>31.000000</td>\n",
              "    </tr>\n",
              "    <tr>\n",
              "      <th>max</th>\n",
              "      <td>891.000000</td>\n",
              "      <td>1.000000</td>\n",
              "      <td>3.000000</td>\n",
              "      <td>80.000000</td>\n",
              "      <td>8.000000</td>\n",
              "      <td>6.000000</td>\n",
              "      <td>512.329200</td>\n",
              "    </tr>\n",
              "  </tbody>\n",
              "</table>\n",
              "</div>\n",
              "      <button class=\"colab-df-convert\" onclick=\"convertToInteractive('df-a4abe808-f84b-48aa-9c5d-46c32ac9af1d')\"\n",
              "              title=\"Convert this dataframe to an interactive table.\"\n",
              "              style=\"display:none;\">\n",
              "        \n",
              "  <svg xmlns=\"http://www.w3.org/2000/svg\" height=\"24px\"viewBox=\"0 0 24 24\"\n",
              "       width=\"24px\">\n",
              "    <path d=\"M0 0h24v24H0V0z\" fill=\"none\"/>\n",
              "    <path d=\"M18.56 5.44l.94 2.06.94-2.06 2.06-.94-2.06-.94-.94-2.06-.94 2.06-2.06.94zm-11 1L8.5 8.5l.94-2.06 2.06-.94-2.06-.94L8.5 2.5l-.94 2.06-2.06.94zm10 10l.94 2.06.94-2.06 2.06-.94-2.06-.94-.94-2.06-.94 2.06-2.06.94z\"/><path d=\"M17.41 7.96l-1.37-1.37c-.4-.4-.92-.59-1.43-.59-.52 0-1.04.2-1.43.59L10.3 9.45l-7.72 7.72c-.78.78-.78 2.05 0 2.83L4 21.41c.39.39.9.59 1.41.59.51 0 1.02-.2 1.41-.59l7.78-7.78 2.81-2.81c.8-.78.8-2.07 0-2.86zM5.41 20L4 18.59l7.72-7.72 1.47 1.35L5.41 20z\"/>\n",
              "  </svg>\n",
              "      </button>\n",
              "      \n",
              "  <style>\n",
              "    .colab-df-container {\n",
              "      display:flex;\n",
              "      flex-wrap:wrap;\n",
              "      gap: 12px;\n",
              "    }\n",
              "\n",
              "    .colab-df-convert {\n",
              "      background-color: #E8F0FE;\n",
              "      border: none;\n",
              "      border-radius: 50%;\n",
              "      cursor: pointer;\n",
              "      display: none;\n",
              "      fill: #1967D2;\n",
              "      height: 32px;\n",
              "      padding: 0 0 0 0;\n",
              "      width: 32px;\n",
              "    }\n",
              "\n",
              "    .colab-df-convert:hover {\n",
              "      background-color: #E2EBFA;\n",
              "      box-shadow: 0px 1px 2px rgba(60, 64, 67, 0.3), 0px 1px 3px 1px rgba(60, 64, 67, 0.15);\n",
              "      fill: #174EA6;\n",
              "    }\n",
              "\n",
              "    [theme=dark] .colab-df-convert {\n",
              "      background-color: #3B4455;\n",
              "      fill: #D2E3FC;\n",
              "    }\n",
              "\n",
              "    [theme=dark] .colab-df-convert:hover {\n",
              "      background-color: #434B5C;\n",
              "      box-shadow: 0px 1px 3px 1px rgba(0, 0, 0, 0.15);\n",
              "      filter: drop-shadow(0px 1px 2px rgba(0, 0, 0, 0.3));\n",
              "      fill: #FFFFFF;\n",
              "    }\n",
              "  </style>\n",
              "\n",
              "      <script>\n",
              "        const buttonEl =\n",
              "          document.querySelector('#df-a4abe808-f84b-48aa-9c5d-46c32ac9af1d button.colab-df-convert');\n",
              "        buttonEl.style.display =\n",
              "          google.colab.kernel.accessAllowed ? 'block' : 'none';\n",
              "\n",
              "        async function convertToInteractive(key) {\n",
              "          const element = document.querySelector('#df-a4abe808-f84b-48aa-9c5d-46c32ac9af1d');\n",
              "          const dataTable =\n",
              "            await google.colab.kernel.invokeFunction('convertToInteractive',\n",
              "                                                     [key], {});\n",
              "          if (!dataTable) return;\n",
              "\n",
              "          const docLinkHtml = 'Like what you see? Visit the ' +\n",
              "            '<a target=\"_blank\" href=https://colab.research.google.com/notebooks/data_table.ipynb>data table notebook</a>'\n",
              "            + ' to learn more about interactive tables.';\n",
              "          element.innerHTML = '';\n",
              "          dataTable['output_type'] = 'display_data';\n",
              "          await google.colab.output.renderOutput(dataTable, element);\n",
              "          const docLink = document.createElement('div');\n",
              "          docLink.innerHTML = docLinkHtml;\n",
              "          element.appendChild(docLink);\n",
              "        }\n",
              "      </script>\n",
              "    </div>\n",
              "  </div>\n",
              "  "
            ]
          },
          "metadata": {},
          "execution_count": 1203
        }
      ],
      "source": [
        "##Descripción de Variables Numéricas\n",
        "df.describe()"
      ]
    },
    {
      "cell_type": "code",
      "execution_count": null,
      "metadata": {
        "colab": {
          "base_uri": "https://localhost:8080/",
          "height": 175
        },
        "id": "8StMlPrEJ5fP",
        "outputId": "8da3216f-f2ed-41d8-e770-124682c8b2c7"
      },
      "outputs": [
        {
          "output_type": "execute_result",
          "data": {
            "text/plain": [
              "                           Name   Sex  Ticket    Cabin Embarked\n",
              "count                       891   891     891      204      889\n",
              "unique                      891     2     681      147        3\n",
              "top     Braund, Mr. Owen Harris  male  347082  B96 B98        S\n",
              "freq                          1   577       7        4      644"
            ],
            "text/html": [
              "\n",
              "  <div id=\"df-ee0b9797-0d54-4eb9-9865-c574fe0ee408\">\n",
              "    <div class=\"colab-df-container\">\n",
              "      <div>\n",
              "<style scoped>\n",
              "    .dataframe tbody tr th:only-of-type {\n",
              "        vertical-align: middle;\n",
              "    }\n",
              "\n",
              "    .dataframe tbody tr th {\n",
              "        vertical-align: top;\n",
              "    }\n",
              "\n",
              "    .dataframe thead th {\n",
              "        text-align: right;\n",
              "    }\n",
              "</style>\n",
              "<table border=\"1\" class=\"dataframe\">\n",
              "  <thead>\n",
              "    <tr style=\"text-align: right;\">\n",
              "      <th></th>\n",
              "      <th>Name</th>\n",
              "      <th>Sex</th>\n",
              "      <th>Ticket</th>\n",
              "      <th>Cabin</th>\n",
              "      <th>Embarked</th>\n",
              "    </tr>\n",
              "  </thead>\n",
              "  <tbody>\n",
              "    <tr>\n",
              "      <th>count</th>\n",
              "      <td>891</td>\n",
              "      <td>891</td>\n",
              "      <td>891</td>\n",
              "      <td>204</td>\n",
              "      <td>889</td>\n",
              "    </tr>\n",
              "    <tr>\n",
              "      <th>unique</th>\n",
              "      <td>891</td>\n",
              "      <td>2</td>\n",
              "      <td>681</td>\n",
              "      <td>147</td>\n",
              "      <td>3</td>\n",
              "    </tr>\n",
              "    <tr>\n",
              "      <th>top</th>\n",
              "      <td>Braund, Mr. Owen Harris</td>\n",
              "      <td>male</td>\n",
              "      <td>347082</td>\n",
              "      <td>B96 B98</td>\n",
              "      <td>S</td>\n",
              "    </tr>\n",
              "    <tr>\n",
              "      <th>freq</th>\n",
              "      <td>1</td>\n",
              "      <td>577</td>\n",
              "      <td>7</td>\n",
              "      <td>4</td>\n",
              "      <td>644</td>\n",
              "    </tr>\n",
              "  </tbody>\n",
              "</table>\n",
              "</div>\n",
              "      <button class=\"colab-df-convert\" onclick=\"convertToInteractive('df-ee0b9797-0d54-4eb9-9865-c574fe0ee408')\"\n",
              "              title=\"Convert this dataframe to an interactive table.\"\n",
              "              style=\"display:none;\">\n",
              "        \n",
              "  <svg xmlns=\"http://www.w3.org/2000/svg\" height=\"24px\"viewBox=\"0 0 24 24\"\n",
              "       width=\"24px\">\n",
              "    <path d=\"M0 0h24v24H0V0z\" fill=\"none\"/>\n",
              "    <path d=\"M18.56 5.44l.94 2.06.94-2.06 2.06-.94-2.06-.94-.94-2.06-.94 2.06-2.06.94zm-11 1L8.5 8.5l.94-2.06 2.06-.94-2.06-.94L8.5 2.5l-.94 2.06-2.06.94zm10 10l.94 2.06.94-2.06 2.06-.94-2.06-.94-.94-2.06-.94 2.06-2.06.94z\"/><path d=\"M17.41 7.96l-1.37-1.37c-.4-.4-.92-.59-1.43-.59-.52 0-1.04.2-1.43.59L10.3 9.45l-7.72 7.72c-.78.78-.78 2.05 0 2.83L4 21.41c.39.39.9.59 1.41.59.51 0 1.02-.2 1.41-.59l7.78-7.78 2.81-2.81c.8-.78.8-2.07 0-2.86zM5.41 20L4 18.59l7.72-7.72 1.47 1.35L5.41 20z\"/>\n",
              "  </svg>\n",
              "      </button>\n",
              "      \n",
              "  <style>\n",
              "    .colab-df-container {\n",
              "      display:flex;\n",
              "      flex-wrap:wrap;\n",
              "      gap: 12px;\n",
              "    }\n",
              "\n",
              "    .colab-df-convert {\n",
              "      background-color: #E8F0FE;\n",
              "      border: none;\n",
              "      border-radius: 50%;\n",
              "      cursor: pointer;\n",
              "      display: none;\n",
              "      fill: #1967D2;\n",
              "      height: 32px;\n",
              "      padding: 0 0 0 0;\n",
              "      width: 32px;\n",
              "    }\n",
              "\n",
              "    .colab-df-convert:hover {\n",
              "      background-color: #E2EBFA;\n",
              "      box-shadow: 0px 1px 2px rgba(60, 64, 67, 0.3), 0px 1px 3px 1px rgba(60, 64, 67, 0.15);\n",
              "      fill: #174EA6;\n",
              "    }\n",
              "\n",
              "    [theme=dark] .colab-df-convert {\n",
              "      background-color: #3B4455;\n",
              "      fill: #D2E3FC;\n",
              "    }\n",
              "\n",
              "    [theme=dark] .colab-df-convert:hover {\n",
              "      background-color: #434B5C;\n",
              "      box-shadow: 0px 1px 3px 1px rgba(0, 0, 0, 0.15);\n",
              "      filter: drop-shadow(0px 1px 2px rgba(0, 0, 0, 0.3));\n",
              "      fill: #FFFFFF;\n",
              "    }\n",
              "  </style>\n",
              "\n",
              "      <script>\n",
              "        const buttonEl =\n",
              "          document.querySelector('#df-ee0b9797-0d54-4eb9-9865-c574fe0ee408 button.colab-df-convert');\n",
              "        buttonEl.style.display =\n",
              "          google.colab.kernel.accessAllowed ? 'block' : 'none';\n",
              "\n",
              "        async function convertToInteractive(key) {\n",
              "          const element = document.querySelector('#df-ee0b9797-0d54-4eb9-9865-c574fe0ee408');\n",
              "          const dataTable =\n",
              "            await google.colab.kernel.invokeFunction('convertToInteractive',\n",
              "                                                     [key], {});\n",
              "          if (!dataTable) return;\n",
              "\n",
              "          const docLinkHtml = 'Like what you see? Visit the ' +\n",
              "            '<a target=\"_blank\" href=https://colab.research.google.com/notebooks/data_table.ipynb>data table notebook</a>'\n",
              "            + ' to learn more about interactive tables.';\n",
              "          element.innerHTML = '';\n",
              "          dataTable['output_type'] = 'display_data';\n",
              "          await google.colab.output.renderOutput(dataTable, element);\n",
              "          const docLink = document.createElement('div');\n",
              "          docLink.innerHTML = docLinkHtml;\n",
              "          element.appendChild(docLink);\n",
              "        }\n",
              "      </script>\n",
              "    </div>\n",
              "  </div>\n",
              "  "
            ]
          },
          "metadata": {},
          "execution_count": 1204
        }
      ],
      "source": [
        "##Descripción de variables Cualitativas\n",
        "df.describe(include='O')"
      ]
    },
    {
      "cell_type": "markdown",
      "metadata": {
        "id": "KyyueVz8J5fP"
      },
      "source": [
        "## Revisar inconsistencias"
      ]
    },
    {
      "cell_type": "code",
      "execution_count": null,
      "metadata": {
        "colab": {
          "base_uri": "https://localhost:8080/"
        },
        "id": "z3S0vODxJ5fQ",
        "outputId": "f0087829-bd3e-4e30-84ce-7e865ad4c140"
      },
      "outputs": [
        {
          "output_type": "execute_result",
          "data": {
            "text/plain": [
              "PassengerId    891\n",
              "Survived       891\n",
              "Pclass         891\n",
              "Name           891\n",
              "Sex            891\n",
              "Age            714\n",
              "SibSp          891\n",
              "Parch          891\n",
              "Ticket         891\n",
              "Fare           891\n",
              "Cabin          204\n",
              "Embarked       889\n",
              "dtype: int64"
            ]
          },
          "metadata": {},
          "execution_count": 1205
        }
      ],
      "source": [
        "##Checar valores no nulos\n",
        "df.notnull().sum()"
      ]
    },
    {
      "cell_type": "code",
      "execution_count": null,
      "metadata": {
        "colab": {
          "base_uri": "https://localhost:8080/"
        },
        "id": "eXgM2kWJJ5fQ",
        "outputId": "6e585196-3d7b-41c6-ce12-a5aa5a4c56c9"
      },
      "outputs": [
        {
          "output_type": "execute_result",
          "data": {
            "text/plain": [
              "PassengerId      0\n",
              "Survived         0\n",
              "Pclass           0\n",
              "Name             0\n",
              "Sex              0\n",
              "Age            177\n",
              "SibSp            0\n",
              "Parch            0\n",
              "Ticket           0\n",
              "Fare             0\n",
              "Cabin          687\n",
              "Embarked         2\n",
              "dtype: int64"
            ]
          },
          "metadata": {},
          "execution_count": 1206
        }
      ],
      "source": [
        "##Checar valores nulos\n",
        "df.isnull().sum()"
      ]
    },
    {
      "cell_type": "code",
      "execution_count": null,
      "metadata": {
        "colab": {
          "base_uri": "https://localhost:8080/"
        },
        "id": "E3krsMu0J5fQ",
        "outputId": "db61902c-758a-46b6-f4fc-d3cdea1606f7"
      },
      "outputs": [
        {
          "output_type": "execute_result",
          "data": {
            "text/plain": [
              "(891, 12)"
            ]
          },
          "metadata": {},
          "execution_count": 1207
        }
      ],
      "source": [
        "##Checar blancos\n",
        "df.isna().sum()\n",
        "df.shape"
      ]
    },
    {
      "cell_type": "markdown",
      "metadata": {
        "id": "QII09pjTJ5fR"
      },
      "source": [
        "# **Transformación de Datos**"
      ]
    },
    {
      "cell_type": "markdown",
      "metadata": {
        "id": "Xh26Pwx4J5fR"
      },
      "source": [
        "## **Eliminar Registros con valores nulos o Nan**"
      ]
    },
    {
      "cell_type": "code",
      "execution_count": null,
      "metadata": {
        "id": "q1uvoxoIJ5fR"
      },
      "outputs": [],
      "source": [
        "\n",
        "df = df.drop(columns=['Cabin','Embarked'])"
      ]
    },
    {
      "cell_type": "code",
      "source": [
        "df.dropna(axis=0,how='any',inplace=True)\n",
        "df.shape\n",
        "df.head()"
      ],
      "metadata": {
        "colab": {
          "base_uri": "https://localhost:8080/",
          "height": 206
        },
        "id": "KArzP-1dW0g_",
        "outputId": "9649bf02-d23d-46a9-bd63-ee48c5b31449"
      },
      "execution_count": null,
      "outputs": [
        {
          "output_type": "execute_result",
          "data": {
            "text/plain": [
              "   PassengerId  Survived  Pclass  \\\n",
              "0            1         0       3   \n",
              "1            2         1       1   \n",
              "2            3         1       3   \n",
              "3            4         1       1   \n",
              "4            5         0       3   \n",
              "\n",
              "                                                Name     Sex   Age  SibSp  \\\n",
              "0                            Braund, Mr. Owen Harris    male  22.0      1   \n",
              "1  Cumings, Mrs. John Bradley (Florence Briggs Th...  female  38.0      1   \n",
              "2                             Heikkinen, Miss. Laina  female  26.0      0   \n",
              "3       Futrelle, Mrs. Jacques Heath (Lily May Peel)  female  35.0      1   \n",
              "4                           Allen, Mr. William Henry    male  35.0      0   \n",
              "\n",
              "   Parch            Ticket     Fare  \n",
              "0      0         A/5 21171   7.2500  \n",
              "1      0          PC 17599  71.2833  \n",
              "2      0  STON/O2. 3101282   7.9250  \n",
              "3      0            113803  53.1000  \n",
              "4      0            373450   8.0500  "
            ],
            "text/html": [
              "\n",
              "  <div id=\"df-5ffd065b-df41-44de-a02b-9bfaa0b7dc78\">\n",
              "    <div class=\"colab-df-container\">\n",
              "      <div>\n",
              "<style scoped>\n",
              "    .dataframe tbody tr th:only-of-type {\n",
              "        vertical-align: middle;\n",
              "    }\n",
              "\n",
              "    .dataframe tbody tr th {\n",
              "        vertical-align: top;\n",
              "    }\n",
              "\n",
              "    .dataframe thead th {\n",
              "        text-align: right;\n",
              "    }\n",
              "</style>\n",
              "<table border=\"1\" class=\"dataframe\">\n",
              "  <thead>\n",
              "    <tr style=\"text-align: right;\">\n",
              "      <th></th>\n",
              "      <th>PassengerId</th>\n",
              "      <th>Survived</th>\n",
              "      <th>Pclass</th>\n",
              "      <th>Name</th>\n",
              "      <th>Sex</th>\n",
              "      <th>Age</th>\n",
              "      <th>SibSp</th>\n",
              "      <th>Parch</th>\n",
              "      <th>Ticket</th>\n",
              "      <th>Fare</th>\n",
              "    </tr>\n",
              "  </thead>\n",
              "  <tbody>\n",
              "    <tr>\n",
              "      <th>0</th>\n",
              "      <td>1</td>\n",
              "      <td>0</td>\n",
              "      <td>3</td>\n",
              "      <td>Braund, Mr. Owen Harris</td>\n",
              "      <td>male</td>\n",
              "      <td>22.0</td>\n",
              "      <td>1</td>\n",
              "      <td>0</td>\n",
              "      <td>A/5 21171</td>\n",
              "      <td>7.2500</td>\n",
              "    </tr>\n",
              "    <tr>\n",
              "      <th>1</th>\n",
              "      <td>2</td>\n",
              "      <td>1</td>\n",
              "      <td>1</td>\n",
              "      <td>Cumings, Mrs. John Bradley (Florence Briggs Th...</td>\n",
              "      <td>female</td>\n",
              "      <td>38.0</td>\n",
              "      <td>1</td>\n",
              "      <td>0</td>\n",
              "      <td>PC 17599</td>\n",
              "      <td>71.2833</td>\n",
              "    </tr>\n",
              "    <tr>\n",
              "      <th>2</th>\n",
              "      <td>3</td>\n",
              "      <td>1</td>\n",
              "      <td>3</td>\n",
              "      <td>Heikkinen, Miss. Laina</td>\n",
              "      <td>female</td>\n",
              "      <td>26.0</td>\n",
              "      <td>0</td>\n",
              "      <td>0</td>\n",
              "      <td>STON/O2. 3101282</td>\n",
              "      <td>7.9250</td>\n",
              "    </tr>\n",
              "    <tr>\n",
              "      <th>3</th>\n",
              "      <td>4</td>\n",
              "      <td>1</td>\n",
              "      <td>1</td>\n",
              "      <td>Futrelle, Mrs. Jacques Heath (Lily May Peel)</td>\n",
              "      <td>female</td>\n",
              "      <td>35.0</td>\n",
              "      <td>1</td>\n",
              "      <td>0</td>\n",
              "      <td>113803</td>\n",
              "      <td>53.1000</td>\n",
              "    </tr>\n",
              "    <tr>\n",
              "      <th>4</th>\n",
              "      <td>5</td>\n",
              "      <td>0</td>\n",
              "      <td>3</td>\n",
              "      <td>Allen, Mr. William Henry</td>\n",
              "      <td>male</td>\n",
              "      <td>35.0</td>\n",
              "      <td>0</td>\n",
              "      <td>0</td>\n",
              "      <td>373450</td>\n",
              "      <td>8.0500</td>\n",
              "    </tr>\n",
              "  </tbody>\n",
              "</table>\n",
              "</div>\n",
              "      <button class=\"colab-df-convert\" onclick=\"convertToInteractive('df-5ffd065b-df41-44de-a02b-9bfaa0b7dc78')\"\n",
              "              title=\"Convert this dataframe to an interactive table.\"\n",
              "              style=\"display:none;\">\n",
              "        \n",
              "  <svg xmlns=\"http://www.w3.org/2000/svg\" height=\"24px\"viewBox=\"0 0 24 24\"\n",
              "       width=\"24px\">\n",
              "    <path d=\"M0 0h24v24H0V0z\" fill=\"none\"/>\n",
              "    <path d=\"M18.56 5.44l.94 2.06.94-2.06 2.06-.94-2.06-.94-.94-2.06-.94 2.06-2.06.94zm-11 1L8.5 8.5l.94-2.06 2.06-.94-2.06-.94L8.5 2.5l-.94 2.06-2.06.94zm10 10l.94 2.06.94-2.06 2.06-.94-2.06-.94-.94-2.06-.94 2.06-2.06.94z\"/><path d=\"M17.41 7.96l-1.37-1.37c-.4-.4-.92-.59-1.43-.59-.52 0-1.04.2-1.43.59L10.3 9.45l-7.72 7.72c-.78.78-.78 2.05 0 2.83L4 21.41c.39.39.9.59 1.41.59.51 0 1.02-.2 1.41-.59l7.78-7.78 2.81-2.81c.8-.78.8-2.07 0-2.86zM5.41 20L4 18.59l7.72-7.72 1.47 1.35L5.41 20z\"/>\n",
              "  </svg>\n",
              "      </button>\n",
              "      \n",
              "  <style>\n",
              "    .colab-df-container {\n",
              "      display:flex;\n",
              "      flex-wrap:wrap;\n",
              "      gap: 12px;\n",
              "    }\n",
              "\n",
              "    .colab-df-convert {\n",
              "      background-color: #E8F0FE;\n",
              "      border: none;\n",
              "      border-radius: 50%;\n",
              "      cursor: pointer;\n",
              "      display: none;\n",
              "      fill: #1967D2;\n",
              "      height: 32px;\n",
              "      padding: 0 0 0 0;\n",
              "      width: 32px;\n",
              "    }\n",
              "\n",
              "    .colab-df-convert:hover {\n",
              "      background-color: #E2EBFA;\n",
              "      box-shadow: 0px 1px 2px rgba(60, 64, 67, 0.3), 0px 1px 3px 1px rgba(60, 64, 67, 0.15);\n",
              "      fill: #174EA6;\n",
              "    }\n",
              "\n",
              "    [theme=dark] .colab-df-convert {\n",
              "      background-color: #3B4455;\n",
              "      fill: #D2E3FC;\n",
              "    }\n",
              "\n",
              "    [theme=dark] .colab-df-convert:hover {\n",
              "      background-color: #434B5C;\n",
              "      box-shadow: 0px 1px 3px 1px rgba(0, 0, 0, 0.15);\n",
              "      filter: drop-shadow(0px 1px 2px rgba(0, 0, 0, 0.3));\n",
              "      fill: #FFFFFF;\n",
              "    }\n",
              "  </style>\n",
              "\n",
              "      <script>\n",
              "        const buttonEl =\n",
              "          document.querySelector('#df-5ffd065b-df41-44de-a02b-9bfaa0b7dc78 button.colab-df-convert');\n",
              "        buttonEl.style.display =\n",
              "          google.colab.kernel.accessAllowed ? 'block' : 'none';\n",
              "\n",
              "        async function convertToInteractive(key) {\n",
              "          const element = document.querySelector('#df-5ffd065b-df41-44de-a02b-9bfaa0b7dc78');\n",
              "          const dataTable =\n",
              "            await google.colab.kernel.invokeFunction('convertToInteractive',\n",
              "                                                     [key], {});\n",
              "          if (!dataTable) return;\n",
              "\n",
              "          const docLinkHtml = 'Like what you see? Visit the ' +\n",
              "            '<a target=\"_blank\" href=https://colab.research.google.com/notebooks/data_table.ipynb>data table notebook</a>'\n",
              "            + ' to learn more about interactive tables.';\n",
              "          element.innerHTML = '';\n",
              "          dataTable['output_type'] = 'display_data';\n",
              "          await google.colab.output.renderOutput(dataTable, element);\n",
              "          const docLink = document.createElement('div');\n",
              "          docLink.innerHTML = docLinkHtml;\n",
              "          element.appendChild(docLink);\n",
              "        }\n",
              "      </script>\n",
              "    </div>\n",
              "  </div>\n",
              "  "
            ]
          },
          "metadata": {},
          "execution_count": 1209
        }
      ]
    },
    {
      "cell_type": "code",
      "execution_count": null,
      "metadata": {
        "colab": {
          "base_uri": "https://localhost:8080/"
        },
        "id": "ghQT6QhrJ5fR",
        "outputId": "722fb04a-3248-497e-ec92-2011d0bf2691"
      },
      "outputs": [
        {
          "output_type": "execute_result",
          "data": {
            "text/plain": [
              "PassengerId    0\n",
              "Survived       0\n",
              "Pclass         0\n",
              "Name           0\n",
              "Sex            0\n",
              "Age            0\n",
              "SibSp          0\n",
              "Parch          0\n",
              "Ticket         0\n",
              "Fare           0\n",
              "dtype: int64"
            ]
          },
          "metadata": {},
          "execution_count": 1210
        }
      ],
      "source": [
        "##Verificar que no existan valores nulos\n",
        "df.isnull().sum()"
      ]
    },
    {
      "cell_type": "code",
      "source": [
        "newData = df \n",
        "newData[\"sex_num\"] = 0\n",
        "newData.loc[newData['Sex'] == 'female', 'sex_num'] = 1\n",
        "newData "
      ],
      "metadata": {
        "colab": {
          "base_uri": "https://localhost:8080/",
          "height": 424
        },
        "id": "oQ2hHUhSOKgU",
        "outputId": "f5dac653-c31b-43e6-a429-a6b193e7e158"
      },
      "execution_count": null,
      "outputs": [
        {
          "output_type": "execute_result",
          "data": {
            "text/plain": [
              "     PassengerId  Survived  Pclass  \\\n",
              "0              1         0       3   \n",
              "1              2         1       1   \n",
              "2              3         1       3   \n",
              "3              4         1       1   \n",
              "4              5         0       3   \n",
              "..           ...       ...     ...   \n",
              "885          886         0       3   \n",
              "886          887         0       2   \n",
              "887          888         1       1   \n",
              "889          890         1       1   \n",
              "890          891         0       3   \n",
              "\n",
              "                                                  Name     Sex   Age  SibSp  \\\n",
              "0                              Braund, Mr. Owen Harris    male  22.0      1   \n",
              "1    Cumings, Mrs. John Bradley (Florence Briggs Th...  female  38.0      1   \n",
              "2                               Heikkinen, Miss. Laina  female  26.0      0   \n",
              "3         Futrelle, Mrs. Jacques Heath (Lily May Peel)  female  35.0      1   \n",
              "4                             Allen, Mr. William Henry    male  35.0      0   \n",
              "..                                                 ...     ...   ...    ...   \n",
              "885               Rice, Mrs. William (Margaret Norton)  female  39.0      0   \n",
              "886                              Montvila, Rev. Juozas    male  27.0      0   \n",
              "887                       Graham, Miss. Margaret Edith  female  19.0      0   \n",
              "889                              Behr, Mr. Karl Howell    male  26.0      0   \n",
              "890                                Dooley, Mr. Patrick    male  32.0      0   \n",
              "\n",
              "     Parch            Ticket     Fare  sex_num  \n",
              "0        0         A/5 21171   7.2500        0  \n",
              "1        0          PC 17599  71.2833        1  \n",
              "2        0  STON/O2. 3101282   7.9250        1  \n",
              "3        0            113803  53.1000        1  \n",
              "4        0            373450   8.0500        0  \n",
              "..     ...               ...      ...      ...  \n",
              "885      5            382652  29.1250        1  \n",
              "886      0            211536  13.0000        0  \n",
              "887      0            112053  30.0000        1  \n",
              "889      0            111369  30.0000        0  \n",
              "890      0            370376   7.7500        0  \n",
              "\n",
              "[714 rows x 11 columns]"
            ],
            "text/html": [
              "\n",
              "  <div id=\"df-3758a403-be7f-4753-9a12-08501ad9fe41\">\n",
              "    <div class=\"colab-df-container\">\n",
              "      <div>\n",
              "<style scoped>\n",
              "    .dataframe tbody tr th:only-of-type {\n",
              "        vertical-align: middle;\n",
              "    }\n",
              "\n",
              "    .dataframe tbody tr th {\n",
              "        vertical-align: top;\n",
              "    }\n",
              "\n",
              "    .dataframe thead th {\n",
              "        text-align: right;\n",
              "    }\n",
              "</style>\n",
              "<table border=\"1\" class=\"dataframe\">\n",
              "  <thead>\n",
              "    <tr style=\"text-align: right;\">\n",
              "      <th></th>\n",
              "      <th>PassengerId</th>\n",
              "      <th>Survived</th>\n",
              "      <th>Pclass</th>\n",
              "      <th>Name</th>\n",
              "      <th>Sex</th>\n",
              "      <th>Age</th>\n",
              "      <th>SibSp</th>\n",
              "      <th>Parch</th>\n",
              "      <th>Ticket</th>\n",
              "      <th>Fare</th>\n",
              "      <th>sex_num</th>\n",
              "    </tr>\n",
              "  </thead>\n",
              "  <tbody>\n",
              "    <tr>\n",
              "      <th>0</th>\n",
              "      <td>1</td>\n",
              "      <td>0</td>\n",
              "      <td>3</td>\n",
              "      <td>Braund, Mr. Owen Harris</td>\n",
              "      <td>male</td>\n",
              "      <td>22.0</td>\n",
              "      <td>1</td>\n",
              "      <td>0</td>\n",
              "      <td>A/5 21171</td>\n",
              "      <td>7.2500</td>\n",
              "      <td>0</td>\n",
              "    </tr>\n",
              "    <tr>\n",
              "      <th>1</th>\n",
              "      <td>2</td>\n",
              "      <td>1</td>\n",
              "      <td>1</td>\n",
              "      <td>Cumings, Mrs. John Bradley (Florence Briggs Th...</td>\n",
              "      <td>female</td>\n",
              "      <td>38.0</td>\n",
              "      <td>1</td>\n",
              "      <td>0</td>\n",
              "      <td>PC 17599</td>\n",
              "      <td>71.2833</td>\n",
              "      <td>1</td>\n",
              "    </tr>\n",
              "    <tr>\n",
              "      <th>2</th>\n",
              "      <td>3</td>\n",
              "      <td>1</td>\n",
              "      <td>3</td>\n",
              "      <td>Heikkinen, Miss. Laina</td>\n",
              "      <td>female</td>\n",
              "      <td>26.0</td>\n",
              "      <td>0</td>\n",
              "      <td>0</td>\n",
              "      <td>STON/O2. 3101282</td>\n",
              "      <td>7.9250</td>\n",
              "      <td>1</td>\n",
              "    </tr>\n",
              "    <tr>\n",
              "      <th>3</th>\n",
              "      <td>4</td>\n",
              "      <td>1</td>\n",
              "      <td>1</td>\n",
              "      <td>Futrelle, Mrs. Jacques Heath (Lily May Peel)</td>\n",
              "      <td>female</td>\n",
              "      <td>35.0</td>\n",
              "      <td>1</td>\n",
              "      <td>0</td>\n",
              "      <td>113803</td>\n",
              "      <td>53.1000</td>\n",
              "      <td>1</td>\n",
              "    </tr>\n",
              "    <tr>\n",
              "      <th>4</th>\n",
              "      <td>5</td>\n",
              "      <td>0</td>\n",
              "      <td>3</td>\n",
              "      <td>Allen, Mr. William Henry</td>\n",
              "      <td>male</td>\n",
              "      <td>35.0</td>\n",
              "      <td>0</td>\n",
              "      <td>0</td>\n",
              "      <td>373450</td>\n",
              "      <td>8.0500</td>\n",
              "      <td>0</td>\n",
              "    </tr>\n",
              "    <tr>\n",
              "      <th>...</th>\n",
              "      <td>...</td>\n",
              "      <td>...</td>\n",
              "      <td>...</td>\n",
              "      <td>...</td>\n",
              "      <td>...</td>\n",
              "      <td>...</td>\n",
              "      <td>...</td>\n",
              "      <td>...</td>\n",
              "      <td>...</td>\n",
              "      <td>...</td>\n",
              "      <td>...</td>\n",
              "    </tr>\n",
              "    <tr>\n",
              "      <th>885</th>\n",
              "      <td>886</td>\n",
              "      <td>0</td>\n",
              "      <td>3</td>\n",
              "      <td>Rice, Mrs. William (Margaret Norton)</td>\n",
              "      <td>female</td>\n",
              "      <td>39.0</td>\n",
              "      <td>0</td>\n",
              "      <td>5</td>\n",
              "      <td>382652</td>\n",
              "      <td>29.1250</td>\n",
              "      <td>1</td>\n",
              "    </tr>\n",
              "    <tr>\n",
              "      <th>886</th>\n",
              "      <td>887</td>\n",
              "      <td>0</td>\n",
              "      <td>2</td>\n",
              "      <td>Montvila, Rev. Juozas</td>\n",
              "      <td>male</td>\n",
              "      <td>27.0</td>\n",
              "      <td>0</td>\n",
              "      <td>0</td>\n",
              "      <td>211536</td>\n",
              "      <td>13.0000</td>\n",
              "      <td>0</td>\n",
              "    </tr>\n",
              "    <tr>\n",
              "      <th>887</th>\n",
              "      <td>888</td>\n",
              "      <td>1</td>\n",
              "      <td>1</td>\n",
              "      <td>Graham, Miss. Margaret Edith</td>\n",
              "      <td>female</td>\n",
              "      <td>19.0</td>\n",
              "      <td>0</td>\n",
              "      <td>0</td>\n",
              "      <td>112053</td>\n",
              "      <td>30.0000</td>\n",
              "      <td>1</td>\n",
              "    </tr>\n",
              "    <tr>\n",
              "      <th>889</th>\n",
              "      <td>890</td>\n",
              "      <td>1</td>\n",
              "      <td>1</td>\n",
              "      <td>Behr, Mr. Karl Howell</td>\n",
              "      <td>male</td>\n",
              "      <td>26.0</td>\n",
              "      <td>0</td>\n",
              "      <td>0</td>\n",
              "      <td>111369</td>\n",
              "      <td>30.0000</td>\n",
              "      <td>0</td>\n",
              "    </tr>\n",
              "    <tr>\n",
              "      <th>890</th>\n",
              "      <td>891</td>\n",
              "      <td>0</td>\n",
              "      <td>3</td>\n",
              "      <td>Dooley, Mr. Patrick</td>\n",
              "      <td>male</td>\n",
              "      <td>32.0</td>\n",
              "      <td>0</td>\n",
              "      <td>0</td>\n",
              "      <td>370376</td>\n",
              "      <td>7.7500</td>\n",
              "      <td>0</td>\n",
              "    </tr>\n",
              "  </tbody>\n",
              "</table>\n",
              "<p>714 rows × 11 columns</p>\n",
              "</div>\n",
              "      <button class=\"colab-df-convert\" onclick=\"convertToInteractive('df-3758a403-be7f-4753-9a12-08501ad9fe41')\"\n",
              "              title=\"Convert this dataframe to an interactive table.\"\n",
              "              style=\"display:none;\">\n",
              "        \n",
              "  <svg xmlns=\"http://www.w3.org/2000/svg\" height=\"24px\"viewBox=\"0 0 24 24\"\n",
              "       width=\"24px\">\n",
              "    <path d=\"M0 0h24v24H0V0z\" fill=\"none\"/>\n",
              "    <path d=\"M18.56 5.44l.94 2.06.94-2.06 2.06-.94-2.06-.94-.94-2.06-.94 2.06-2.06.94zm-11 1L8.5 8.5l.94-2.06 2.06-.94-2.06-.94L8.5 2.5l-.94 2.06-2.06.94zm10 10l.94 2.06.94-2.06 2.06-.94-2.06-.94-.94-2.06-.94 2.06-2.06.94z\"/><path d=\"M17.41 7.96l-1.37-1.37c-.4-.4-.92-.59-1.43-.59-.52 0-1.04.2-1.43.59L10.3 9.45l-7.72 7.72c-.78.78-.78 2.05 0 2.83L4 21.41c.39.39.9.59 1.41.59.51 0 1.02-.2 1.41-.59l7.78-7.78 2.81-2.81c.8-.78.8-2.07 0-2.86zM5.41 20L4 18.59l7.72-7.72 1.47 1.35L5.41 20z\"/>\n",
              "  </svg>\n",
              "      </button>\n",
              "      \n",
              "  <style>\n",
              "    .colab-df-container {\n",
              "      display:flex;\n",
              "      flex-wrap:wrap;\n",
              "      gap: 12px;\n",
              "    }\n",
              "\n",
              "    .colab-df-convert {\n",
              "      background-color: #E8F0FE;\n",
              "      border: none;\n",
              "      border-radius: 50%;\n",
              "      cursor: pointer;\n",
              "      display: none;\n",
              "      fill: #1967D2;\n",
              "      height: 32px;\n",
              "      padding: 0 0 0 0;\n",
              "      width: 32px;\n",
              "    }\n",
              "\n",
              "    .colab-df-convert:hover {\n",
              "      background-color: #E2EBFA;\n",
              "      box-shadow: 0px 1px 2px rgba(60, 64, 67, 0.3), 0px 1px 3px 1px rgba(60, 64, 67, 0.15);\n",
              "      fill: #174EA6;\n",
              "    }\n",
              "\n",
              "    [theme=dark] .colab-df-convert {\n",
              "      background-color: #3B4455;\n",
              "      fill: #D2E3FC;\n",
              "    }\n",
              "\n",
              "    [theme=dark] .colab-df-convert:hover {\n",
              "      background-color: #434B5C;\n",
              "      box-shadow: 0px 1px 3px 1px rgba(0, 0, 0, 0.15);\n",
              "      filter: drop-shadow(0px 1px 2px rgba(0, 0, 0, 0.3));\n",
              "      fill: #FFFFFF;\n",
              "    }\n",
              "  </style>\n",
              "\n",
              "      <script>\n",
              "        const buttonEl =\n",
              "          document.querySelector('#df-3758a403-be7f-4753-9a12-08501ad9fe41 button.colab-df-convert');\n",
              "        buttonEl.style.display =\n",
              "          google.colab.kernel.accessAllowed ? 'block' : 'none';\n",
              "\n",
              "        async function convertToInteractive(key) {\n",
              "          const element = document.querySelector('#df-3758a403-be7f-4753-9a12-08501ad9fe41');\n",
              "          const dataTable =\n",
              "            await google.colab.kernel.invokeFunction('convertToInteractive',\n",
              "                                                     [key], {});\n",
              "          if (!dataTable) return;\n",
              "\n",
              "          const docLinkHtml = 'Like what you see? Visit the ' +\n",
              "            '<a target=\"_blank\" href=https://colab.research.google.com/notebooks/data_table.ipynb>data table notebook</a>'\n",
              "            + ' to learn more about interactive tables.';\n",
              "          element.innerHTML = '';\n",
              "          dataTable['output_type'] = 'display_data';\n",
              "          await google.colab.output.renderOutput(dataTable, element);\n",
              "          const docLink = document.createElement('div');\n",
              "          docLink.innerHTML = docLinkHtml;\n",
              "          element.appendChild(docLink);\n",
              "        }\n",
              "      </script>\n",
              "    </div>\n",
              "  </div>\n",
              "  "
            ]
          },
          "metadata": {},
          "execution_count": 1211
        }
      ]
    },
    {
      "cell_type": "markdown",
      "metadata": {
        "id": "WLJdpe1xJ5fR"
      },
      "source": [
        "# **Visualización de la Data**"
      ]
    },
    {
      "cell_type": "code",
      "execution_count": null,
      "metadata": {
        "colab": {
          "base_uri": "https://localhost:8080/",
          "height": 542
        },
        "id": "LcigfrncJ5fR",
        "outputId": "cff5f0d5-da9b-494e-f855-4a194f77861c"
      },
      "outputs": [
        {
          "output_type": "display_data",
          "data": {
            "text/html": [
              "<html>\n",
              "<head><meta charset=\"utf-8\" /></head>\n",
              "<body>\n",
              "    <div>            <script src=\"https://cdnjs.cloudflare.com/ajax/libs/mathjax/2.7.5/MathJax.js?config=TeX-AMS-MML_SVG\"></script><script type=\"text/javascript\">if (window.MathJax) {MathJax.Hub.Config({SVG: {font: \"STIX-Web\"}});}</script>                <script type=\"text/javascript\">window.PlotlyConfig = {MathJaxConfig: 'local'};</script>\n",
              "        <script src=\"https://cdn.plot.ly/plotly-2.8.3.min.js\"></script>                <div id=\"c74da5b4-c60d-48e8-a262-4fe2a82e41e4\" class=\"plotly-graph-div\" style=\"height:525px; width:100%;\"></div>            <script type=\"text/javascript\">                                    window.PLOTLYENV=window.PLOTLYENV || {};                                    if (document.getElementById(\"c74da5b4-c60d-48e8-a262-4fe2a82e41e4\")) {                    Plotly.newPlot(                        \"c74da5b4-c60d-48e8-a262-4fe2a82e41e4\",                        [{\"alignmentgroup\":\"True\",\"hovertemplate\":\"Pclass=%{x}<br>Survived=%{y}<extra></extra>\",\"legendgroup\":\"\",\"marker\":{\"color\":\"#636efa\",\"pattern\":{\"shape\":\"\"}},\"name\":\"\",\"offsetgroup\":\"\",\"orientation\":\"v\",\"showlegend\":false,\"textposition\":\"auto\",\"x\":[3,1,3,1,3,1,3,3,2,3,1,3,3,3,2,3,3,2,2,3,1,3,3,1,1,2,1,1,3,3,3,3,2,2,3,3,3,3,1,2,1,2,3,2,3,3,1,1,3,2,3,3,3,2,3,2,3,3,3,2,3,3,3,1,2,3,3,1,3,3,3,1,3,3,1,1,2,2,3,1,3,3,3,3,3,1,3,3,3,3,3,3,2,1,3,2,2,2,1,3,3,3,3,3,3,2,2,2,1,1,3,1,3,3,3,2,2,3,3,2,2,2,1,3,3,1,3,3,3,2,3,3,3,3,3,3,1,3,3,3,1,3,1,2,3,3,2,3,1,3,3,2,2,3,2,1,1,3,2,3,3,3,3,3,3,3,3,1,3,2,3,2,1,3,2,1,2,3,2,3,1,3,2,3,2,1,3,2,3,2,2,2,2,2,2,3,3,1,3,2,1,2,3,1,3,3,3,1,1,2,3,1,1,2,3,3,1,1,3,2,1,1,3,3,3,3,3,3,3,3,3,3,2,3,1,1,2,3,3,3,1,1,3,1,1,2,1,1,1,2,3,2,3,2,2,1,1,3,3,2,2,1,3,2,3,1,1,1,3,1,1,3,1,2,1,2,2,2,2,2,3,3,3,3,3,3,1,2,3,2,3,3,3,1,1,1,3,3,1,3,3,1,3,3,1,3,3,1,2,3,2,2,1,3,3,1,3,3,3,2,2,2,3,3,3,3,3,2,3,2,3,1,3,2,2,2,3,3,3,3,3,2,2,3,1,2,3,1,1,3,2,1,2,2,3,3,2,1,2,1,3,1,2,1,1,3,1,2,1,3,1,2,3,1,3,3,2,2,3,2,3,3,3,3,3,3,1,1,1,3,3,3,1,1,3,1,1,3,3,3,3,1,1,2,3,3,3,1,1,3,1,2,2,3,1,3,1,3,2,3,2,2,3,3,2,1,1,1,1,3,3,2,1,1,2,3,2,1,2,3,3,1,1,1,3,3,2,3,3,3,3,2,1,1,3,3,2,1,3,2,1,2,1,1,2,1,3,3,1,3,2,3,3,1,2,3,1,3,3,1,2,1,3,3,2,3,3,2,2,3,1,3,3,3,1,2,1,3,1,3,1,3,2,3,2,3,3,1,3,3,1,3,1,3,2,3,3,2,3,2,1,1,3,1,3,3,2,2,3,2,1,2,2,3,3,3,3,1,1,3,3,2,2,3,3,3,1,1,3,3,1,2,3,1,3,1,1,3,3,3,2,2,1,1,1,1,3,2,3,1,2,3,2,3,2,2,1,3,2,2,3,1,3,2,2,3,3,1,1,1,3,3,1,3,2,1,3,2,3,3,3,2,2,3,2,3,1,3,3,1,3,1,3,3,3,3,2,2,3,3,1,3,1,1,3,3,3,3,3,1,2,3,2,1,3,3,3,2,2,1,3,3,3,1,3,2,1,3,3,2,3,3,3,2,3,3,1,3,1,3,3,2,1,3,2,3,3,1,3,3,3,2,1,3,3,3,3,2,3,3,3,1,2,3,1,1,3,3,2,1,2,2,2,1,3,3,1,1,3,2,3,3,3,1,2,3,3,2,3,3,2,1,1,3],\"xaxis\":\"x\",\"y\":[0,1,1,1,0,0,0,1,1,1,1,0,0,0,1,0,0,0,1,1,1,0,1,0,0,0,0,0,0,0,1,0,0,1,1,0,0,0,1,1,0,1,0,1,0,0,1,0,0,1,0,1,0,0,0,0,0,1,0,1,1,0,1,0,1,1,0,1,0,0,0,0,0,0,0,1,1,0,0,0,0,0,0,1,0,0,0,0,0,0,0,0,0,0,0,0,0,1,0,1,1,0,0,0,0,1,0,0,1,0,0,0,1,1,0,0,0,1,0,0,0,0,1,0,0,0,1,0,0,1,0,0,0,1,0,0,0,0,1,0,0,0,0,0,0,0,1,1,1,0,0,1,0,1,1,1,1,0,0,0,0,0,1,0,0,1,1,1,0,1,0,0,1,1,0,1,0,1,0,0,1,0,1,0,0,1,0,0,1,0,0,1,0,0,0,0,0,0,0,1,1,0,0,0,0,0,1,1,1,1,1,0,0,0,0,1,1,1,1,1,0,1,0,0,1,0,0,0,1,0,1,0,1,1,1,1,0,0,0,0,0,1,0,1,1,0,1,1,1,0,0,0,1,1,0,1,1,0,0,1,1,1,0,1,1,1,0,0,0,0,1,1,0,1,1,0,0,0,1,1,1,0,0,0,0,0,1,0,0,0,0,0,0,1,1,1,0,0,0,0,1,0,0,0,1,1,0,1,0,0,1,1,1,1,0,1,1,0,0,0,0,1,1,0,0,0,0,0,0,1,0,1,1,1,1,0,0,0,0,0,0,1,1,1,1,1,0,0,1,0,1,0,0,1,0,0,1,1,1,1,1,1,0,0,1,1,0,1,1,0,0,0,0,0,1,0,1,1,0,0,0,0,1,0,0,1,1,1,0,0,1,0,0,0,0,1,0,0,0,0,0,1,0,1,0,1,1,1,1,0,0,1,1,0,1,0,1,0,1,0,0,1,0,0,1,0,1,1,1,0,0,1,0,0,1,0,1,1,0,1,1,0,1,1,1,0,0,0,0,0,1,1,1,1,0,0,1,1,1,1,1,0,0,1,0,1,0,0,1,0,0,0,0,1,1,0,1,0,0,1,1,1,0,0,1,0,0,1,0,0,1,1,0,0,0,0,1,0,1,0,1,0,1,0,0,0,0,1,0,1,1,0,1,1,1,0,0,0,0,0,0,1,0,0,0,1,0,0,0,1,0,0,1,0,0,1,0,1,1,0,0,0,0,0,0,0,1,1,1,0,0,0,0,0,0,1,1,0,0,0,0,1,1,1,1,1,0,0,0,1,1,0,1,0,0,0,1,0,1,0,0,1,0,0,0,0,0,1,0,1,0,1,0,0,1,0,0,1,1,0,0,1,1,0,0,0,1,0,1,1,0,1,0,0,0,0,0,1,0,1,1,1,1,0,0,0,1,0,1,0,0,0,0,1,1,0,0,0,1,1,1,1,0,0,0,0,1,0,0,0,0,0,0,0,0,0,1,1,0,1,0,1,1,1,1,0,0,1,0,1,0,0,1,0,0,0,0,0,0,0,0,1,0,1,1,1,1,0,0,1,0,1,1,0,1,0,1,0,0,1,1,0,0,1,1,0,0,0,0,0,0,1,1,0],\"yaxis\":\"y\",\"type\":\"bar\"}],                        {\"template\":{\"data\":{\"bar\":[{\"error_x\":{\"color\":\"#2a3f5f\"},\"error_y\":{\"color\":\"#2a3f5f\"},\"marker\":{\"line\":{\"color\":\"#E5ECF6\",\"width\":0.5},\"pattern\":{\"fillmode\":\"overlay\",\"size\":10,\"solidity\":0.2}},\"type\":\"bar\"}],\"barpolar\":[{\"marker\":{\"line\":{\"color\":\"#E5ECF6\",\"width\":0.5},\"pattern\":{\"fillmode\":\"overlay\",\"size\":10,\"solidity\":0.2}},\"type\":\"barpolar\"}],\"carpet\":[{\"aaxis\":{\"endlinecolor\":\"#2a3f5f\",\"gridcolor\":\"white\",\"linecolor\":\"white\",\"minorgridcolor\":\"white\",\"startlinecolor\":\"#2a3f5f\"},\"baxis\":{\"endlinecolor\":\"#2a3f5f\",\"gridcolor\":\"white\",\"linecolor\":\"white\",\"minorgridcolor\":\"white\",\"startlinecolor\":\"#2a3f5f\"},\"type\":\"carpet\"}],\"choropleth\":[{\"colorbar\":{\"outlinewidth\":0,\"ticks\":\"\"},\"type\":\"choropleth\"}],\"contour\":[{\"colorbar\":{\"outlinewidth\":0,\"ticks\":\"\"},\"colorscale\":[[0.0,\"#0d0887\"],[0.1111111111111111,\"#46039f\"],[0.2222222222222222,\"#7201a8\"],[0.3333333333333333,\"#9c179e\"],[0.4444444444444444,\"#bd3786\"],[0.5555555555555556,\"#d8576b\"],[0.6666666666666666,\"#ed7953\"],[0.7777777777777778,\"#fb9f3a\"],[0.8888888888888888,\"#fdca26\"],[1.0,\"#f0f921\"]],\"type\":\"contour\"}],\"contourcarpet\":[{\"colorbar\":{\"outlinewidth\":0,\"ticks\":\"\"},\"type\":\"contourcarpet\"}],\"heatmap\":[{\"colorbar\":{\"outlinewidth\":0,\"ticks\":\"\"},\"colorscale\":[[0.0,\"#0d0887\"],[0.1111111111111111,\"#46039f\"],[0.2222222222222222,\"#7201a8\"],[0.3333333333333333,\"#9c179e\"],[0.4444444444444444,\"#bd3786\"],[0.5555555555555556,\"#d8576b\"],[0.6666666666666666,\"#ed7953\"],[0.7777777777777778,\"#fb9f3a\"],[0.8888888888888888,\"#fdca26\"],[1.0,\"#f0f921\"]],\"type\":\"heatmap\"}],\"heatmapgl\":[{\"colorbar\":{\"outlinewidth\":0,\"ticks\":\"\"},\"colorscale\":[[0.0,\"#0d0887\"],[0.1111111111111111,\"#46039f\"],[0.2222222222222222,\"#7201a8\"],[0.3333333333333333,\"#9c179e\"],[0.4444444444444444,\"#bd3786\"],[0.5555555555555556,\"#d8576b\"],[0.6666666666666666,\"#ed7953\"],[0.7777777777777778,\"#fb9f3a\"],[0.8888888888888888,\"#fdca26\"],[1.0,\"#f0f921\"]],\"type\":\"heatmapgl\"}],\"histogram\":[{\"marker\":{\"pattern\":{\"fillmode\":\"overlay\",\"size\":10,\"solidity\":0.2}},\"type\":\"histogram\"}],\"histogram2d\":[{\"colorbar\":{\"outlinewidth\":0,\"ticks\":\"\"},\"colorscale\":[[0.0,\"#0d0887\"],[0.1111111111111111,\"#46039f\"],[0.2222222222222222,\"#7201a8\"],[0.3333333333333333,\"#9c179e\"],[0.4444444444444444,\"#bd3786\"],[0.5555555555555556,\"#d8576b\"],[0.6666666666666666,\"#ed7953\"],[0.7777777777777778,\"#fb9f3a\"],[0.8888888888888888,\"#fdca26\"],[1.0,\"#f0f921\"]],\"type\":\"histogram2d\"}],\"histogram2dcontour\":[{\"colorbar\":{\"outlinewidth\":0,\"ticks\":\"\"},\"colorscale\":[[0.0,\"#0d0887\"],[0.1111111111111111,\"#46039f\"],[0.2222222222222222,\"#7201a8\"],[0.3333333333333333,\"#9c179e\"],[0.4444444444444444,\"#bd3786\"],[0.5555555555555556,\"#d8576b\"],[0.6666666666666666,\"#ed7953\"],[0.7777777777777778,\"#fb9f3a\"],[0.8888888888888888,\"#fdca26\"],[1.0,\"#f0f921\"]],\"type\":\"histogram2dcontour\"}],\"mesh3d\":[{\"colorbar\":{\"outlinewidth\":0,\"ticks\":\"\"},\"type\":\"mesh3d\"}],\"parcoords\":[{\"line\":{\"colorbar\":{\"outlinewidth\":0,\"ticks\":\"\"}},\"type\":\"parcoords\"}],\"pie\":[{\"automargin\":true,\"type\":\"pie\"}],\"scatter\":[{\"marker\":{\"colorbar\":{\"outlinewidth\":0,\"ticks\":\"\"}},\"type\":\"scatter\"}],\"scatter3d\":[{\"line\":{\"colorbar\":{\"outlinewidth\":0,\"ticks\":\"\"}},\"marker\":{\"colorbar\":{\"outlinewidth\":0,\"ticks\":\"\"}},\"type\":\"scatter3d\"}],\"scattercarpet\":[{\"marker\":{\"colorbar\":{\"outlinewidth\":0,\"ticks\":\"\"}},\"type\":\"scattercarpet\"}],\"scattergeo\":[{\"marker\":{\"colorbar\":{\"outlinewidth\":0,\"ticks\":\"\"}},\"type\":\"scattergeo\"}],\"scattergl\":[{\"marker\":{\"colorbar\":{\"outlinewidth\":0,\"ticks\":\"\"}},\"type\":\"scattergl\"}],\"scattermapbox\":[{\"marker\":{\"colorbar\":{\"outlinewidth\":0,\"ticks\":\"\"}},\"type\":\"scattermapbox\"}],\"scatterpolar\":[{\"marker\":{\"colorbar\":{\"outlinewidth\":0,\"ticks\":\"\"}},\"type\":\"scatterpolar\"}],\"scatterpolargl\":[{\"marker\":{\"colorbar\":{\"outlinewidth\":0,\"ticks\":\"\"}},\"type\":\"scatterpolargl\"}],\"scatterternary\":[{\"marker\":{\"colorbar\":{\"outlinewidth\":0,\"ticks\":\"\"}},\"type\":\"scatterternary\"}],\"surface\":[{\"colorbar\":{\"outlinewidth\":0,\"ticks\":\"\"},\"colorscale\":[[0.0,\"#0d0887\"],[0.1111111111111111,\"#46039f\"],[0.2222222222222222,\"#7201a8\"],[0.3333333333333333,\"#9c179e\"],[0.4444444444444444,\"#bd3786\"],[0.5555555555555556,\"#d8576b\"],[0.6666666666666666,\"#ed7953\"],[0.7777777777777778,\"#fb9f3a\"],[0.8888888888888888,\"#fdca26\"],[1.0,\"#f0f921\"]],\"type\":\"surface\"}],\"table\":[{\"cells\":{\"fill\":{\"color\":\"#EBF0F8\"},\"line\":{\"color\":\"white\"}},\"header\":{\"fill\":{\"color\":\"#C8D4E3\"},\"line\":{\"color\":\"white\"}},\"type\":\"table\"}]},\"layout\":{\"annotationdefaults\":{\"arrowcolor\":\"#2a3f5f\",\"arrowhead\":0,\"arrowwidth\":1},\"autotypenumbers\":\"strict\",\"coloraxis\":{\"colorbar\":{\"outlinewidth\":0,\"ticks\":\"\"}},\"colorscale\":{\"diverging\":[[0,\"#8e0152\"],[0.1,\"#c51b7d\"],[0.2,\"#de77ae\"],[0.3,\"#f1b6da\"],[0.4,\"#fde0ef\"],[0.5,\"#f7f7f7\"],[0.6,\"#e6f5d0\"],[0.7,\"#b8e186\"],[0.8,\"#7fbc41\"],[0.9,\"#4d9221\"],[1,\"#276419\"]],\"sequential\":[[0.0,\"#0d0887\"],[0.1111111111111111,\"#46039f\"],[0.2222222222222222,\"#7201a8\"],[0.3333333333333333,\"#9c179e\"],[0.4444444444444444,\"#bd3786\"],[0.5555555555555556,\"#d8576b\"],[0.6666666666666666,\"#ed7953\"],[0.7777777777777778,\"#fb9f3a\"],[0.8888888888888888,\"#fdca26\"],[1.0,\"#f0f921\"]],\"sequentialminus\":[[0.0,\"#0d0887\"],[0.1111111111111111,\"#46039f\"],[0.2222222222222222,\"#7201a8\"],[0.3333333333333333,\"#9c179e\"],[0.4444444444444444,\"#bd3786\"],[0.5555555555555556,\"#d8576b\"],[0.6666666666666666,\"#ed7953\"],[0.7777777777777778,\"#fb9f3a\"],[0.8888888888888888,\"#fdca26\"],[1.0,\"#f0f921\"]]},\"colorway\":[\"#636efa\",\"#EF553B\",\"#00cc96\",\"#ab63fa\",\"#FFA15A\",\"#19d3f3\",\"#FF6692\",\"#B6E880\",\"#FF97FF\",\"#FECB52\"],\"font\":{\"color\":\"#2a3f5f\"},\"geo\":{\"bgcolor\":\"white\",\"lakecolor\":\"white\",\"landcolor\":\"#E5ECF6\",\"showlakes\":true,\"showland\":true,\"subunitcolor\":\"white\"},\"hoverlabel\":{\"align\":\"left\"},\"hovermode\":\"closest\",\"mapbox\":{\"style\":\"light\"},\"paper_bgcolor\":\"white\",\"plot_bgcolor\":\"#E5ECF6\",\"polar\":{\"angularaxis\":{\"gridcolor\":\"white\",\"linecolor\":\"white\",\"ticks\":\"\"},\"bgcolor\":\"#E5ECF6\",\"radialaxis\":{\"gridcolor\":\"white\",\"linecolor\":\"white\",\"ticks\":\"\"}},\"scene\":{\"xaxis\":{\"backgroundcolor\":\"#E5ECF6\",\"gridcolor\":\"white\",\"gridwidth\":2,\"linecolor\":\"white\",\"showbackground\":true,\"ticks\":\"\",\"zerolinecolor\":\"white\"},\"yaxis\":{\"backgroundcolor\":\"#E5ECF6\",\"gridcolor\":\"white\",\"gridwidth\":2,\"linecolor\":\"white\",\"showbackground\":true,\"ticks\":\"\",\"zerolinecolor\":\"white\"},\"zaxis\":{\"backgroundcolor\":\"#E5ECF6\",\"gridcolor\":\"white\",\"gridwidth\":2,\"linecolor\":\"white\",\"showbackground\":true,\"ticks\":\"\",\"zerolinecolor\":\"white\"}},\"shapedefaults\":{\"line\":{\"color\":\"#2a3f5f\"}},\"ternary\":{\"aaxis\":{\"gridcolor\":\"white\",\"linecolor\":\"white\",\"ticks\":\"\"},\"baxis\":{\"gridcolor\":\"white\",\"linecolor\":\"white\",\"ticks\":\"\"},\"bgcolor\":\"#E5ECF6\",\"caxis\":{\"gridcolor\":\"white\",\"linecolor\":\"white\",\"ticks\":\"\"}},\"title\":{\"x\":0.05},\"xaxis\":{\"automargin\":true,\"gridcolor\":\"white\",\"linecolor\":\"white\",\"ticks\":\"\",\"title\":{\"standoff\":15},\"zerolinecolor\":\"white\",\"zerolinewidth\":2},\"yaxis\":{\"automargin\":true,\"gridcolor\":\"white\",\"linecolor\":\"white\",\"ticks\":\"\",\"title\":{\"standoff\":15},\"zerolinecolor\":\"white\",\"zerolinewidth\":2}}},\"xaxis\":{\"anchor\":\"y\",\"domain\":[0.0,1.0],\"title\":{\"text\":\"Pclass\"}},\"yaxis\":{\"anchor\":\"x\",\"domain\":[0.0,1.0],\"title\":{\"text\":\"Survived\"}},\"legend\":{\"tracegroupgap\":0},\"margin\":{\"t\":60},\"barmode\":\"relative\"},                        {\"responsive\": true}                    ).then(function(){\n",
              "                            \n",
              "var gd = document.getElementById('c74da5b4-c60d-48e8-a262-4fe2a82e41e4');\n",
              "var x = new MutationObserver(function (mutations, observer) {{\n",
              "        var display = window.getComputedStyle(gd).display;\n",
              "        if (!display || display === 'none') {{\n",
              "            console.log([gd, 'removed!']);\n",
              "            Plotly.purge(gd);\n",
              "            observer.disconnect();\n",
              "        }}\n",
              "}});\n",
              "\n",
              "// Listen for the removal of the full notebook cells\n",
              "var notebookContainer = gd.closest('#notebook-container');\n",
              "if (notebookContainer) {{\n",
              "    x.observe(notebookContainer, {childList: true});\n",
              "}}\n",
              "\n",
              "// Listen for the clearing of the current output cell\n",
              "var outputEl = gd.closest('.output');\n",
              "if (outputEl) {{\n",
              "    x.observe(outputEl, {childList: true});\n",
              "}}\n",
              "\n",
              "                        })                };                            </script>        </div>\n",
              "</body>\n",
              "</html>"
            ]
          },
          "metadata": {}
        }
      ],
      "source": [
        "fig = px.bar(df, x='Pclass', y='Survived')\n",
        "fig.show()"
      ]
    },
    {
      "cell_type": "code",
      "execution_count": null,
      "metadata": {
        "id": "bTa-QpTKJ5fS"
      },
      "outputs": [],
      "source": [
        "# import plotly.express as px\n",
        "# df = px.data.gapminder()\n",
        "# fig = px.scatter(df.query(\"year==2007\"), x=\"gdpPercap\", y=\"lifeExp\", size=\"pop\", color=\"continent\",\n",
        "#            hover_name=\"country\", log_x=True, size_max=60)\n",
        "# df.head()"
      ]
    },
    {
      "cell_type": "code",
      "execution_count": null,
      "metadata": {
        "colab": {
          "base_uri": "https://localhost:8080/",
          "height": 542
        },
        "id": "xn-HYXkBJ5fS",
        "outputId": "c2667a7f-3200-4e9a-80a6-902309728442"
      },
      "outputs": [
        {
          "output_type": "display_data",
          "data": {
            "text/html": [
              "<html>\n",
              "<head><meta charset=\"utf-8\" /></head>\n",
              "<body>\n",
              "    <div>            <script src=\"https://cdnjs.cloudflare.com/ajax/libs/mathjax/2.7.5/MathJax.js?config=TeX-AMS-MML_SVG\"></script><script type=\"text/javascript\">if (window.MathJax) {MathJax.Hub.Config({SVG: {font: \"STIX-Web\"}});}</script>                <script type=\"text/javascript\">window.PlotlyConfig = {MathJaxConfig: 'local'};</script>\n",
              "        <script src=\"https://cdn.plot.ly/plotly-2.8.3.min.js\"></script>                <div id=\"4217e006-bbaf-4755-9a7d-7c99d9234198\" class=\"plotly-graph-div\" style=\"height:525px; width:100%;\"></div>            <script type=\"text/javascript\">                                    window.PLOTLYENV=window.PLOTLYENV || {};                                    if (document.getElementById(\"4217e006-bbaf-4755-9a7d-7c99d9234198\")) {                    Plotly.newPlot(                        \"4217e006-bbaf-4755-9a7d-7c99d9234198\",                        [{\"alignmentgroup\":\"True\",\"hovertemplate\":\"Sex=%{x}<br>Survived=%{y}<extra></extra>\",\"legendgroup\":\"\",\"marker\":{\"color\":\"#636efa\",\"pattern\":{\"shape\":\"\"}},\"name\":\"\",\"offsetgroup\":\"\",\"orientation\":\"v\",\"showlegend\":false,\"textposition\":\"auto\",\"x\":[\"male\",\"female\",\"female\",\"female\",\"male\",\"male\",\"male\",\"female\",\"female\",\"female\",\"female\",\"male\",\"male\",\"female\",\"female\",\"male\",\"female\",\"male\",\"male\",\"female\",\"male\",\"female\",\"female\",\"male\",\"male\",\"male\",\"male\",\"male\",\"male\",\"female\",\"female\",\"female\",\"female\",\"female\",\"female\",\"female\",\"male\",\"male\",\"female\",\"female\",\"male\",\"female\",\"male\",\"female\",\"male\",\"male\",\"female\",\"male\",\"male\",\"female\",\"male\",\"female\",\"male\",\"male\",\"female\",\"male\",\"male\",\"male\",\"male\",\"male\",\"female\",\"male\",\"male\",\"male\",\"female\",\"female\",\"male\",\"female\",\"male\",\"male\",\"male\",\"male\",\"male\",\"male\",\"male\",\"male\",\"female\",\"male\",\"female\",\"male\",\"male\",\"male\",\"male\",\"female\",\"male\",\"male\",\"female\",\"male\",\"female\",\"female\",\"male\",\"male\",\"male\",\"male\",\"female\",\"male\",\"male\",\"female\",\"male\",\"male\",\"male\",\"male\",\"male\",\"male\",\"female\",\"female\",\"male\",\"male\",\"female\",\"male\",\"male\",\"male\",\"female\",\"female\",\"male\",\"male\",\"male\",\"male\",\"female\",\"male\",\"male\",\"male\",\"female\",\"male\",\"male\",\"male\",\"female\",\"male\",\"male\",\"female\",\"male\",\"male\",\"male\",\"male\",\"female\",\"male\",\"male\",\"male\",\"female\",\"male\",\"male\",\"male\",\"female\",\"male\",\"male\",\"male\",\"male\",\"female\",\"male\",\"male\",\"male\",\"female\",\"male\",\"female\",\"male\",\"female\",\"female\",\"male\",\"female\",\"male\",\"male\",\"male\",\"male\",\"female\",\"male\",\"male\",\"female\",\"male\",\"male\",\"female\",\"male\",\"male\",\"female\",\"female\",\"male\",\"female\",\"male\",\"male\",\"male\",\"male\",\"male\",\"male\",\"male\",\"male\",\"male\",\"female\",\"male\",\"male\",\"female\",\"male\",\"male\",\"female\",\"male\",\"male\",\"male\",\"male\",\"male\",\"male\",\"female\",\"female\",\"male\",\"male\",\"female\",\"male\",\"male\",\"female\",\"female\",\"female\",\"female\",\"female\",\"male\",\"male\",\"male\",\"male\",\"male\",\"male\",\"female\",\"female\",\"male\",\"female\",\"male\",\"female\",\"female\",\"male\",\"female\",\"male\",\"male\",\"male\",\"male\",\"male\",\"male\",\"male\",\"male\",\"female\",\"female\",\"female\",\"male\",\"female\",\"male\",\"male\",\"female\",\"female\",\"male\",\"male\",\"female\",\"male\",\"female\",\"female\",\"female\",\"female\",\"male\",\"male\",\"female\",\"female\",\"male\",\"female\",\"female\",\"male\",\"male\",\"female\",\"female\",\"female\",\"male\",\"female\",\"female\",\"female\",\"male\",\"male\",\"male\",\"male\",\"female\",\"male\",\"male\",\"male\",\"female\",\"male\",\"male\",\"male\",\"female\",\"female\",\"male\",\"male\",\"male\",\"male\",\"male\",\"male\",\"female\",\"female\",\"male\",\"male\",\"female\",\"male\",\"male\",\"female\",\"female\",\"male\",\"male\",\"male\",\"male\",\"female\",\"female\",\"male\",\"male\",\"male\",\"female\",\"female\",\"male\",\"female\",\"male\",\"male\",\"female\",\"female\",\"male\",\"male\",\"male\",\"female\",\"female\",\"male\",\"female\",\"male\",\"male\",\"female\",\"male\",\"male\",\"female\",\"male\",\"female\",\"male\",\"male\",\"male\",\"male\",\"female\",\"male\",\"female\",\"female\",\"male\",\"female\",\"male\",\"male\",\"female\",\"male\",\"female\",\"female\",\"male\",\"male\",\"female\",\"male\",\"male\",\"female\",\"female\",\"female\",\"male\",\"male\",\"female\",\"male\",\"male\",\"female\",\"male\",\"female\",\"male\",\"female\",\"male\",\"male\",\"male\",\"male\",\"male\",\"male\",\"female\",\"male\",\"male\",\"male\",\"male\",\"male\",\"male\",\"female\",\"male\",\"female\",\"female\",\"female\",\"male\",\"male\",\"male\",\"female\",\"male\",\"male\",\"female\",\"male\",\"female\",\"male\",\"male\",\"male\",\"male\",\"male\",\"male\",\"male\",\"female\",\"female\",\"male\",\"male\",\"female\",\"female\",\"female\",\"male\",\"female\",\"male\",\"male\",\"male\",\"male\",\"female\",\"male\",\"male\",\"female\",\"female\",\"male\",\"female\",\"male\",\"female\",\"male\",\"female\",\"male\",\"male\",\"female\",\"male\",\"female\",\"female\",\"male\",\"female\",\"female\",\"female\",\"female\",\"female\",\"male\",\"male\",\"male\",\"female\",\"male\",\"male\",\"male\",\"male\",\"male\",\"female\",\"male\",\"female\",\"female\",\"female\",\"male\",\"male\",\"male\",\"male\",\"female\",\"male\",\"male\",\"female\",\"male\",\"male\",\"male\",\"female\",\"female\",\"male\",\"female\",\"female\",\"male\",\"male\",\"female\",\"male\",\"male\",\"male\",\"male\",\"female\",\"male\",\"male\",\"male\",\"male\",\"male\",\"female\",\"male\",\"male\",\"male\",\"male\",\"male\",\"female\",\"female\",\"female\",\"male\",\"female\",\"male\",\"female\",\"female\",\"male\",\"male\",\"male\",\"male\",\"male\",\"male\",\"male\",\"male\",\"female\",\"male\",\"male\",\"male\",\"male\",\"female\",\"female\",\"male\",\"male\",\"female\",\"male\",\"female\",\"female\",\"female\",\"male\",\"male\",\"male\",\"female\",\"female\",\"male\",\"female\",\"male\",\"female\",\"male\",\"male\",\"male\",\"male\",\"male\",\"male\",\"male\",\"male\",\"male\",\"male\",\"female\",\"male\",\"male\",\"male\",\"male\",\"male\",\"female\",\"female\",\"male\",\"male\",\"male\",\"male\",\"male\",\"male\",\"male\",\"male\",\"male\",\"female\",\"male\",\"female\",\"male\",\"male\",\"male\",\"male\",\"male\",\"male\",\"female\",\"male\",\"female\",\"male\",\"male\",\"male\",\"female\",\"male\",\"female\",\"female\",\"male\",\"male\",\"male\",\"male\",\"female\",\"female\",\"male\",\"female\",\"male\",\"male\",\"male\",\"male\",\"male\",\"female\",\"male\",\"female\",\"female\",\"male\",\"male\",\"male\",\"male\",\"female\",\"male\",\"male\",\"female\",\"male\",\"male\",\"male\",\"male\",\"female\",\"male\",\"male\",\"female\",\"male\",\"male\",\"male\",\"female\",\"male\",\"male\",\"male\",\"male\",\"female\",\"male\",\"male\",\"female\",\"male\",\"female\",\"female\",\"male\",\"male\",\"male\",\"female\",\"female\",\"male\",\"female\",\"female\",\"female\",\"female\",\"male\",\"male\",\"male\",\"female\",\"male\",\"male\",\"male\",\"male\",\"male\",\"male\",\"female\",\"female\",\"male\",\"female\",\"male\",\"female\",\"male\",\"male\",\"male\",\"male\",\"male\",\"female\",\"male\",\"female\",\"male\",\"male\",\"male\",\"female\",\"male\",\"female\",\"male\",\"male\",\"male\",\"female\",\"male\",\"male\",\"female\",\"male\",\"male\",\"female\",\"female\",\"male\",\"male\",\"male\",\"female\",\"male\",\"male\",\"male\",\"male\",\"female\",\"male\",\"male\",\"male\",\"male\",\"male\",\"male\",\"male\",\"female\",\"female\",\"female\",\"female\",\"female\",\"male\",\"female\",\"male\",\"male\",\"female\",\"male\",\"female\",\"female\",\"male\",\"male\",\"male\",\"female\",\"male\",\"male\",\"female\",\"female\",\"male\",\"male\",\"female\",\"female\",\"male\",\"female\",\"male\",\"male\",\"female\",\"male\",\"female\",\"male\",\"male\"],\"xaxis\":\"x\",\"y\":[0,1,1,1,0,0,0,1,1,1,1,0,0,0,1,0,0,0,1,1,1,0,1,0,0,0,0,0,0,0,1,0,0,1,1,0,0,0,1,1,0,1,0,1,0,0,1,0,0,1,0,1,0,0,0,0,0,1,0,1,1,0,1,0,1,1,0,1,0,0,0,0,0,0,0,1,1,0,0,0,0,0,0,1,0,0,0,0,0,0,0,0,0,0,0,0,0,1,0,1,1,0,0,0,0,1,0,0,1,0,0,0,1,1,0,0,0,1,0,0,0,0,1,0,0,0,1,0,0,1,0,0,0,1,0,0,0,0,1,0,0,0,0,0,0,0,1,1,1,0,0,1,0,1,1,1,1,0,0,0,0,0,1,0,0,1,1,1,0,1,0,0,1,1,0,1,0,1,0,0,1,0,1,0,0,1,0,0,1,0,0,1,0,0,0,0,0,0,0,1,1,0,0,0,0,0,1,1,1,1,1,0,0,0,0,1,1,1,1,1,0,1,0,0,1,0,0,0,1,0,1,0,1,1,1,1,0,0,0,0,0,1,0,1,1,0,1,1,1,0,0,0,1,1,0,1,1,0,0,1,1,1,0,1,1,1,0,0,0,0,1,1,0,1,1,0,0,0,1,1,1,0,0,0,0,0,1,0,0,0,0,0,0,1,1,1,0,0,0,0,1,0,0,0,1,1,0,1,0,0,1,1,1,1,0,1,1,0,0,0,0,1,1,0,0,0,0,0,0,1,0,1,1,1,1,0,0,0,0,0,0,1,1,1,1,1,0,0,1,0,1,0,0,1,0,0,1,1,1,1,1,1,0,0,1,1,0,1,1,0,0,0,0,0,1,0,1,1,0,0,0,0,1,0,0,1,1,1,0,0,1,0,0,0,0,1,0,0,0,0,0,1,0,1,0,1,1,1,1,0,0,1,1,0,1,0,1,0,1,0,0,1,0,0,1,0,1,1,1,0,0,1,0,0,1,0,1,1,0,1,1,0,1,1,1,0,0,0,0,0,1,1,1,1,0,0,1,1,1,1,1,0,0,1,0,1,0,0,1,0,0,0,0,1,1,0,1,0,0,1,1,1,0,0,1,0,0,1,0,0,1,1,0,0,0,0,1,0,1,0,1,0,1,0,0,0,0,1,0,1,1,0,1,1,1,0,0,0,0,0,0,1,0,0,0,1,0,0,0,1,0,0,1,0,0,1,0,1,1,0,0,0,0,0,0,0,1,1,1,0,0,0,0,0,0,1,1,0,0,0,0,1,1,1,1,1,0,0,0,1,1,0,1,0,0,0,1,0,1,0,0,1,0,0,0,0,0,1,0,1,0,1,0,0,1,0,0,1,1,0,0,1,1,0,0,0,1,0,1,1,0,1,0,0,0,0,0,1,0,1,1,1,1,0,0,0,1,0,1,0,0,0,0,1,1,0,0,0,1,1,1,1,0,0,0,0,1,0,0,0,0,0,0,0,0,0,1,1,0,1,0,1,1,1,1,0,0,1,0,1,0,0,1,0,0,0,0,0,0,0,0,1,0,1,1,1,1,0,0,1,0,1,1,0,1,0,1,0,0,1,1,0,0,1,1,0,0,0,0,0,0,1,1,0],\"yaxis\":\"y\",\"type\":\"bar\"}],                        {\"template\":{\"data\":{\"bar\":[{\"error_x\":{\"color\":\"#2a3f5f\"},\"error_y\":{\"color\":\"#2a3f5f\"},\"marker\":{\"line\":{\"color\":\"#E5ECF6\",\"width\":0.5},\"pattern\":{\"fillmode\":\"overlay\",\"size\":10,\"solidity\":0.2}},\"type\":\"bar\"}],\"barpolar\":[{\"marker\":{\"line\":{\"color\":\"#E5ECF6\",\"width\":0.5},\"pattern\":{\"fillmode\":\"overlay\",\"size\":10,\"solidity\":0.2}},\"type\":\"barpolar\"}],\"carpet\":[{\"aaxis\":{\"endlinecolor\":\"#2a3f5f\",\"gridcolor\":\"white\",\"linecolor\":\"white\",\"minorgridcolor\":\"white\",\"startlinecolor\":\"#2a3f5f\"},\"baxis\":{\"endlinecolor\":\"#2a3f5f\",\"gridcolor\":\"white\",\"linecolor\":\"white\",\"minorgridcolor\":\"white\",\"startlinecolor\":\"#2a3f5f\"},\"type\":\"carpet\"}],\"choropleth\":[{\"colorbar\":{\"outlinewidth\":0,\"ticks\":\"\"},\"type\":\"choropleth\"}],\"contour\":[{\"colorbar\":{\"outlinewidth\":0,\"ticks\":\"\"},\"colorscale\":[[0.0,\"#0d0887\"],[0.1111111111111111,\"#46039f\"],[0.2222222222222222,\"#7201a8\"],[0.3333333333333333,\"#9c179e\"],[0.4444444444444444,\"#bd3786\"],[0.5555555555555556,\"#d8576b\"],[0.6666666666666666,\"#ed7953\"],[0.7777777777777778,\"#fb9f3a\"],[0.8888888888888888,\"#fdca26\"],[1.0,\"#f0f921\"]],\"type\":\"contour\"}],\"contourcarpet\":[{\"colorbar\":{\"outlinewidth\":0,\"ticks\":\"\"},\"type\":\"contourcarpet\"}],\"heatmap\":[{\"colorbar\":{\"outlinewidth\":0,\"ticks\":\"\"},\"colorscale\":[[0.0,\"#0d0887\"],[0.1111111111111111,\"#46039f\"],[0.2222222222222222,\"#7201a8\"],[0.3333333333333333,\"#9c179e\"],[0.4444444444444444,\"#bd3786\"],[0.5555555555555556,\"#d8576b\"],[0.6666666666666666,\"#ed7953\"],[0.7777777777777778,\"#fb9f3a\"],[0.8888888888888888,\"#fdca26\"],[1.0,\"#f0f921\"]],\"type\":\"heatmap\"}],\"heatmapgl\":[{\"colorbar\":{\"outlinewidth\":0,\"ticks\":\"\"},\"colorscale\":[[0.0,\"#0d0887\"],[0.1111111111111111,\"#46039f\"],[0.2222222222222222,\"#7201a8\"],[0.3333333333333333,\"#9c179e\"],[0.4444444444444444,\"#bd3786\"],[0.5555555555555556,\"#d8576b\"],[0.6666666666666666,\"#ed7953\"],[0.7777777777777778,\"#fb9f3a\"],[0.8888888888888888,\"#fdca26\"],[1.0,\"#f0f921\"]],\"type\":\"heatmapgl\"}],\"histogram\":[{\"marker\":{\"pattern\":{\"fillmode\":\"overlay\",\"size\":10,\"solidity\":0.2}},\"type\":\"histogram\"}],\"histogram2d\":[{\"colorbar\":{\"outlinewidth\":0,\"ticks\":\"\"},\"colorscale\":[[0.0,\"#0d0887\"],[0.1111111111111111,\"#46039f\"],[0.2222222222222222,\"#7201a8\"],[0.3333333333333333,\"#9c179e\"],[0.4444444444444444,\"#bd3786\"],[0.5555555555555556,\"#d8576b\"],[0.6666666666666666,\"#ed7953\"],[0.7777777777777778,\"#fb9f3a\"],[0.8888888888888888,\"#fdca26\"],[1.0,\"#f0f921\"]],\"type\":\"histogram2d\"}],\"histogram2dcontour\":[{\"colorbar\":{\"outlinewidth\":0,\"ticks\":\"\"},\"colorscale\":[[0.0,\"#0d0887\"],[0.1111111111111111,\"#46039f\"],[0.2222222222222222,\"#7201a8\"],[0.3333333333333333,\"#9c179e\"],[0.4444444444444444,\"#bd3786\"],[0.5555555555555556,\"#d8576b\"],[0.6666666666666666,\"#ed7953\"],[0.7777777777777778,\"#fb9f3a\"],[0.8888888888888888,\"#fdca26\"],[1.0,\"#f0f921\"]],\"type\":\"histogram2dcontour\"}],\"mesh3d\":[{\"colorbar\":{\"outlinewidth\":0,\"ticks\":\"\"},\"type\":\"mesh3d\"}],\"parcoords\":[{\"line\":{\"colorbar\":{\"outlinewidth\":0,\"ticks\":\"\"}},\"type\":\"parcoords\"}],\"pie\":[{\"automargin\":true,\"type\":\"pie\"}],\"scatter\":[{\"marker\":{\"colorbar\":{\"outlinewidth\":0,\"ticks\":\"\"}},\"type\":\"scatter\"}],\"scatter3d\":[{\"line\":{\"colorbar\":{\"outlinewidth\":0,\"ticks\":\"\"}},\"marker\":{\"colorbar\":{\"outlinewidth\":0,\"ticks\":\"\"}},\"type\":\"scatter3d\"}],\"scattercarpet\":[{\"marker\":{\"colorbar\":{\"outlinewidth\":0,\"ticks\":\"\"}},\"type\":\"scattercarpet\"}],\"scattergeo\":[{\"marker\":{\"colorbar\":{\"outlinewidth\":0,\"ticks\":\"\"}},\"type\":\"scattergeo\"}],\"scattergl\":[{\"marker\":{\"colorbar\":{\"outlinewidth\":0,\"ticks\":\"\"}},\"type\":\"scattergl\"}],\"scattermapbox\":[{\"marker\":{\"colorbar\":{\"outlinewidth\":0,\"ticks\":\"\"}},\"type\":\"scattermapbox\"}],\"scatterpolar\":[{\"marker\":{\"colorbar\":{\"outlinewidth\":0,\"ticks\":\"\"}},\"type\":\"scatterpolar\"}],\"scatterpolargl\":[{\"marker\":{\"colorbar\":{\"outlinewidth\":0,\"ticks\":\"\"}},\"type\":\"scatterpolargl\"}],\"scatterternary\":[{\"marker\":{\"colorbar\":{\"outlinewidth\":0,\"ticks\":\"\"}},\"type\":\"scatterternary\"}],\"surface\":[{\"colorbar\":{\"outlinewidth\":0,\"ticks\":\"\"},\"colorscale\":[[0.0,\"#0d0887\"],[0.1111111111111111,\"#46039f\"],[0.2222222222222222,\"#7201a8\"],[0.3333333333333333,\"#9c179e\"],[0.4444444444444444,\"#bd3786\"],[0.5555555555555556,\"#d8576b\"],[0.6666666666666666,\"#ed7953\"],[0.7777777777777778,\"#fb9f3a\"],[0.8888888888888888,\"#fdca26\"],[1.0,\"#f0f921\"]],\"type\":\"surface\"}],\"table\":[{\"cells\":{\"fill\":{\"color\":\"#EBF0F8\"},\"line\":{\"color\":\"white\"}},\"header\":{\"fill\":{\"color\":\"#C8D4E3\"},\"line\":{\"color\":\"white\"}},\"type\":\"table\"}]},\"layout\":{\"annotationdefaults\":{\"arrowcolor\":\"#2a3f5f\",\"arrowhead\":0,\"arrowwidth\":1},\"autotypenumbers\":\"strict\",\"coloraxis\":{\"colorbar\":{\"outlinewidth\":0,\"ticks\":\"\"}},\"colorscale\":{\"diverging\":[[0,\"#8e0152\"],[0.1,\"#c51b7d\"],[0.2,\"#de77ae\"],[0.3,\"#f1b6da\"],[0.4,\"#fde0ef\"],[0.5,\"#f7f7f7\"],[0.6,\"#e6f5d0\"],[0.7,\"#b8e186\"],[0.8,\"#7fbc41\"],[0.9,\"#4d9221\"],[1,\"#276419\"]],\"sequential\":[[0.0,\"#0d0887\"],[0.1111111111111111,\"#46039f\"],[0.2222222222222222,\"#7201a8\"],[0.3333333333333333,\"#9c179e\"],[0.4444444444444444,\"#bd3786\"],[0.5555555555555556,\"#d8576b\"],[0.6666666666666666,\"#ed7953\"],[0.7777777777777778,\"#fb9f3a\"],[0.8888888888888888,\"#fdca26\"],[1.0,\"#f0f921\"]],\"sequentialminus\":[[0.0,\"#0d0887\"],[0.1111111111111111,\"#46039f\"],[0.2222222222222222,\"#7201a8\"],[0.3333333333333333,\"#9c179e\"],[0.4444444444444444,\"#bd3786\"],[0.5555555555555556,\"#d8576b\"],[0.6666666666666666,\"#ed7953\"],[0.7777777777777778,\"#fb9f3a\"],[0.8888888888888888,\"#fdca26\"],[1.0,\"#f0f921\"]]},\"colorway\":[\"#636efa\",\"#EF553B\",\"#00cc96\",\"#ab63fa\",\"#FFA15A\",\"#19d3f3\",\"#FF6692\",\"#B6E880\",\"#FF97FF\",\"#FECB52\"],\"font\":{\"color\":\"#2a3f5f\"},\"geo\":{\"bgcolor\":\"white\",\"lakecolor\":\"white\",\"landcolor\":\"#E5ECF6\",\"showlakes\":true,\"showland\":true,\"subunitcolor\":\"white\"},\"hoverlabel\":{\"align\":\"left\"},\"hovermode\":\"closest\",\"mapbox\":{\"style\":\"light\"},\"paper_bgcolor\":\"white\",\"plot_bgcolor\":\"#E5ECF6\",\"polar\":{\"angularaxis\":{\"gridcolor\":\"white\",\"linecolor\":\"white\",\"ticks\":\"\"},\"bgcolor\":\"#E5ECF6\",\"radialaxis\":{\"gridcolor\":\"white\",\"linecolor\":\"white\",\"ticks\":\"\"}},\"scene\":{\"xaxis\":{\"backgroundcolor\":\"#E5ECF6\",\"gridcolor\":\"white\",\"gridwidth\":2,\"linecolor\":\"white\",\"showbackground\":true,\"ticks\":\"\",\"zerolinecolor\":\"white\"},\"yaxis\":{\"backgroundcolor\":\"#E5ECF6\",\"gridcolor\":\"white\",\"gridwidth\":2,\"linecolor\":\"white\",\"showbackground\":true,\"ticks\":\"\",\"zerolinecolor\":\"white\"},\"zaxis\":{\"backgroundcolor\":\"#E5ECF6\",\"gridcolor\":\"white\",\"gridwidth\":2,\"linecolor\":\"white\",\"showbackground\":true,\"ticks\":\"\",\"zerolinecolor\":\"white\"}},\"shapedefaults\":{\"line\":{\"color\":\"#2a3f5f\"}},\"ternary\":{\"aaxis\":{\"gridcolor\":\"white\",\"linecolor\":\"white\",\"ticks\":\"\"},\"baxis\":{\"gridcolor\":\"white\",\"linecolor\":\"white\",\"ticks\":\"\"},\"bgcolor\":\"#E5ECF6\",\"caxis\":{\"gridcolor\":\"white\",\"linecolor\":\"white\",\"ticks\":\"\"}},\"title\":{\"x\":0.05},\"xaxis\":{\"automargin\":true,\"gridcolor\":\"white\",\"linecolor\":\"white\",\"ticks\":\"\",\"title\":{\"standoff\":15},\"zerolinecolor\":\"white\",\"zerolinewidth\":2},\"yaxis\":{\"automargin\":true,\"gridcolor\":\"white\",\"linecolor\":\"white\",\"ticks\":\"\",\"title\":{\"standoff\":15},\"zerolinecolor\":\"white\",\"zerolinewidth\":2}}},\"xaxis\":{\"anchor\":\"y\",\"domain\":[0.0,1.0],\"title\":{\"text\":\"Sex\"}},\"yaxis\":{\"anchor\":\"x\",\"domain\":[0.0,1.0],\"title\":{\"text\":\"Survived\"}},\"legend\":{\"tracegroupgap\":0},\"margin\":{\"t\":60},\"barmode\":\"relative\"},                        {\"responsive\": true}                    ).then(function(){\n",
              "                            \n",
              "var gd = document.getElementById('4217e006-bbaf-4755-9a7d-7c99d9234198');\n",
              "var x = new MutationObserver(function (mutations, observer) {{\n",
              "        var display = window.getComputedStyle(gd).display;\n",
              "        if (!display || display === 'none') {{\n",
              "            console.log([gd, 'removed!']);\n",
              "            Plotly.purge(gd);\n",
              "            observer.disconnect();\n",
              "        }}\n",
              "}});\n",
              "\n",
              "// Listen for the removal of the full notebook cells\n",
              "var notebookContainer = gd.closest('#notebook-container');\n",
              "if (notebookContainer) {{\n",
              "    x.observe(notebookContainer, {childList: true});\n",
              "}}\n",
              "\n",
              "// Listen for the clearing of the current output cell\n",
              "var outputEl = gd.closest('.output');\n",
              "if (outputEl) {{\n",
              "    x.observe(outputEl, {childList: true});\n",
              "}}\n",
              "\n",
              "                        })                };                            </script>        </div>\n",
              "</body>\n",
              "</html>"
            ]
          },
          "metadata": {}
        }
      ],
      "source": [
        "fig = px.bar(df, x='Sex', y='Survived')\n",
        "fig.show()"
      ]
    },
    {
      "cell_type": "code",
      "execution_count": null,
      "metadata": {
        "colab": {
          "base_uri": "https://localhost:8080/",
          "height": 542
        },
        "id": "_dOwzL9CJ5fS",
        "outputId": "5d7de55a-1d59-4054-a875-f2b4242ac105"
      },
      "outputs": [
        {
          "output_type": "display_data",
          "data": {
            "text/html": [
              "<html>\n",
              "<head><meta charset=\"utf-8\" /></head>\n",
              "<body>\n",
              "    <div>            <script src=\"https://cdnjs.cloudflare.com/ajax/libs/mathjax/2.7.5/MathJax.js?config=TeX-AMS-MML_SVG\"></script><script type=\"text/javascript\">if (window.MathJax) {MathJax.Hub.Config({SVG: {font: \"STIX-Web\"}});}</script>                <script type=\"text/javascript\">window.PlotlyConfig = {MathJaxConfig: 'local'};</script>\n",
              "        <script src=\"https://cdn.plot.ly/plotly-2.8.3.min.js\"></script>                <div id=\"c1f19617-29f0-4e82-a7d9-3f814f05ec62\" class=\"plotly-graph-div\" style=\"height:525px; width:100%;\"></div>            <script type=\"text/javascript\">                                    window.PLOTLYENV=window.PLOTLYENV || {};                                    if (document.getElementById(\"c1f19617-29f0-4e82-a7d9-3f814f05ec62\")) {                    Plotly.newPlot(                        \"c1f19617-29f0-4e82-a7d9-3f814f05ec62\",                        [{\"hovertemplate\":\"<b>%{hovertext}</b><br><br>Age=%{x}<br>Survived=%{y}<br>Pclass=%{marker.color}<extra></extra>\",\"hovertext\":[\"McCarthy, Mr. Timothy J\",\"Wheadon, Mr. Edward H\",\"Ostby, Mr. Engelhart Cornelius\",\"Coxon, Mr. Daniel\",\"Goldschmidt, Mr. George B\",\"Connors, Mr. Patrick\",\"White, Mr. Percival Wayland\",\"Bateman, Rev. Robert James\",\"Meo, Mr. Alfonzo\",\"Williams, Mr. Charles Duane\",\"Van der hoef, Mr. Wyckoff\",\"Smith, Mr. James Clinch\",\"Green, Mr. George Henry\",\"Sjostedt, Mr. Ernst Adolf\",\"Carter, Rev. Ernest Courtenay\",\"Stead, Mr. William Thomas\",\"Taussig, Mr. Emil\",\"Duane, Mr. Frank\",\"Moraweck, Dr. Ernest\",\"Nysveen, Mr. Johan Hansen\",\"Widegren, Mr. Carl/Charles Peter\",\"Silvey, Mr. William Baird\",\"Fortune, Mr. Mark\",\"Peuchen, Major. Arthur Godfrey\",\"Millet, Mr. Francis Davis\",\"Smart, Mr. John Montgomery\",\"Rouse, Mr. Richard Henry\",\"Kent, Mr. Edward Austin\",\"Molson, Mr. Harry Markland\",\"Artagaveytia, Mr. Ramon\",\"Douglas, Mr. Walter Donald\",\"Nicholson, Mr. Arthur Ernest\",\"Wright, Mr. George\",\"Harris, Mr. George\",\"Downton, Mr. William James\",\"Frolicher-Stehli, Mr. Maxmillian\",\"Sutton, Mr. Frederick\",\"Kirkland, Rev. Charles Leonard\",\"Barkworth, Mr. Algernon Henry Wilson\",\"Lundahl, Mr. Johan Svensson\",\"Simonius-Blumer, Col. Oberst Alfons\",\"Newell, Mr. Arthur Webster\",\"Frauenthal, Dr. Henry William\",\"Mitchell, Mr. Henry Michael\",\"Brown, Mr. Thomas William Solomon\",\"Weir, Col. John\",\"Chapman, Mr. Charles Henry\",\"Greenberg, Mr. Samuel\",\"Hodges, Mr. Henry Price\",\"Crosby, Capt. Edward Gifford\",\"Svensson, Mr. Johan\",\"Daly, Mr. Peter Denis \"],\"legendgroup\":\"\",\"marker\":{\"color\":[1,2,1,3,1,3,1,2,3,1,1,1,3,2,2,1,1,3,2,3,3,1,1,1,1,1,3,1,1,1,1,1,1,2,2,1,1,2,1,3,1,1,1,2,2,1,2,2,2,1,3,1],\"coloraxis\":\"coloraxis\",\"size\":[1,2,1,3,1,3,1,2,3,1,1,1,3,2,2,1,1,3,2,3,3,1,1,1,1,1,3,1,1,1,1,1,1,2,2,1,1,2,1,3,1,1,1,2,2,1,2,2,2,1,3,1],\"sizemode\":\"area\",\"sizeref\":0.0008333333333333334,\"symbol\":\"circle\"},\"mode\":\"markers\",\"name\":\"\",\"orientation\":\"v\",\"showlegend\":false,\"x\":[54.0,66.0,65.0,59.0,71.0,70.5,54.0,51.0,55.5,51.0,61.0,56.0,51.0,59.0,54.0,62.0,52.0,65.0,54.0,61.0,51.0,50.0,64.0,52.0,65.0,56.0,50.0,58.0,55.0,71.0,50.0,64.0,62.0,62.0,54.0,60.0,61.0,57.0,80.0,51.0,56.0,58.0,50.0,70.0,60.0,60.0,52.0,52.0,50.0,70.0,74.0,51.0],\"xaxis\":\"x\",\"y\":[0,0,0,0,0,0,0,0,0,0,0,0,0,0,0,0,0,0,0,0,0,0,0,1,0,0,0,0,0,0,0,0,0,1,0,1,0,0,1,0,1,0,1,0,0,0,0,0,0,0,0,1],\"yaxis\":\"y\",\"type\":\"scatter\"}],                        {\"template\":{\"data\":{\"bar\":[{\"error_x\":{\"color\":\"#2a3f5f\"},\"error_y\":{\"color\":\"#2a3f5f\"},\"marker\":{\"line\":{\"color\":\"#E5ECF6\",\"width\":0.5},\"pattern\":{\"fillmode\":\"overlay\",\"size\":10,\"solidity\":0.2}},\"type\":\"bar\"}],\"barpolar\":[{\"marker\":{\"line\":{\"color\":\"#E5ECF6\",\"width\":0.5},\"pattern\":{\"fillmode\":\"overlay\",\"size\":10,\"solidity\":0.2}},\"type\":\"barpolar\"}],\"carpet\":[{\"aaxis\":{\"endlinecolor\":\"#2a3f5f\",\"gridcolor\":\"white\",\"linecolor\":\"white\",\"minorgridcolor\":\"white\",\"startlinecolor\":\"#2a3f5f\"},\"baxis\":{\"endlinecolor\":\"#2a3f5f\",\"gridcolor\":\"white\",\"linecolor\":\"white\",\"minorgridcolor\":\"white\",\"startlinecolor\":\"#2a3f5f\"},\"type\":\"carpet\"}],\"choropleth\":[{\"colorbar\":{\"outlinewidth\":0,\"ticks\":\"\"},\"type\":\"choropleth\"}],\"contour\":[{\"colorbar\":{\"outlinewidth\":0,\"ticks\":\"\"},\"colorscale\":[[0.0,\"#0d0887\"],[0.1111111111111111,\"#46039f\"],[0.2222222222222222,\"#7201a8\"],[0.3333333333333333,\"#9c179e\"],[0.4444444444444444,\"#bd3786\"],[0.5555555555555556,\"#d8576b\"],[0.6666666666666666,\"#ed7953\"],[0.7777777777777778,\"#fb9f3a\"],[0.8888888888888888,\"#fdca26\"],[1.0,\"#f0f921\"]],\"type\":\"contour\"}],\"contourcarpet\":[{\"colorbar\":{\"outlinewidth\":0,\"ticks\":\"\"},\"type\":\"contourcarpet\"}],\"heatmap\":[{\"colorbar\":{\"outlinewidth\":0,\"ticks\":\"\"},\"colorscale\":[[0.0,\"#0d0887\"],[0.1111111111111111,\"#46039f\"],[0.2222222222222222,\"#7201a8\"],[0.3333333333333333,\"#9c179e\"],[0.4444444444444444,\"#bd3786\"],[0.5555555555555556,\"#d8576b\"],[0.6666666666666666,\"#ed7953\"],[0.7777777777777778,\"#fb9f3a\"],[0.8888888888888888,\"#fdca26\"],[1.0,\"#f0f921\"]],\"type\":\"heatmap\"}],\"heatmapgl\":[{\"colorbar\":{\"outlinewidth\":0,\"ticks\":\"\"},\"colorscale\":[[0.0,\"#0d0887\"],[0.1111111111111111,\"#46039f\"],[0.2222222222222222,\"#7201a8\"],[0.3333333333333333,\"#9c179e\"],[0.4444444444444444,\"#bd3786\"],[0.5555555555555556,\"#d8576b\"],[0.6666666666666666,\"#ed7953\"],[0.7777777777777778,\"#fb9f3a\"],[0.8888888888888888,\"#fdca26\"],[1.0,\"#f0f921\"]],\"type\":\"heatmapgl\"}],\"histogram\":[{\"marker\":{\"pattern\":{\"fillmode\":\"overlay\",\"size\":10,\"solidity\":0.2}},\"type\":\"histogram\"}],\"histogram2d\":[{\"colorbar\":{\"outlinewidth\":0,\"ticks\":\"\"},\"colorscale\":[[0.0,\"#0d0887\"],[0.1111111111111111,\"#46039f\"],[0.2222222222222222,\"#7201a8\"],[0.3333333333333333,\"#9c179e\"],[0.4444444444444444,\"#bd3786\"],[0.5555555555555556,\"#d8576b\"],[0.6666666666666666,\"#ed7953\"],[0.7777777777777778,\"#fb9f3a\"],[0.8888888888888888,\"#fdca26\"],[1.0,\"#f0f921\"]],\"type\":\"histogram2d\"}],\"histogram2dcontour\":[{\"colorbar\":{\"outlinewidth\":0,\"ticks\":\"\"},\"colorscale\":[[0.0,\"#0d0887\"],[0.1111111111111111,\"#46039f\"],[0.2222222222222222,\"#7201a8\"],[0.3333333333333333,\"#9c179e\"],[0.4444444444444444,\"#bd3786\"],[0.5555555555555556,\"#d8576b\"],[0.6666666666666666,\"#ed7953\"],[0.7777777777777778,\"#fb9f3a\"],[0.8888888888888888,\"#fdca26\"],[1.0,\"#f0f921\"]],\"type\":\"histogram2dcontour\"}],\"mesh3d\":[{\"colorbar\":{\"outlinewidth\":0,\"ticks\":\"\"},\"type\":\"mesh3d\"}],\"parcoords\":[{\"line\":{\"colorbar\":{\"outlinewidth\":0,\"ticks\":\"\"}},\"type\":\"parcoords\"}],\"pie\":[{\"automargin\":true,\"type\":\"pie\"}],\"scatter\":[{\"marker\":{\"colorbar\":{\"outlinewidth\":0,\"ticks\":\"\"}},\"type\":\"scatter\"}],\"scatter3d\":[{\"line\":{\"colorbar\":{\"outlinewidth\":0,\"ticks\":\"\"}},\"marker\":{\"colorbar\":{\"outlinewidth\":0,\"ticks\":\"\"}},\"type\":\"scatter3d\"}],\"scattercarpet\":[{\"marker\":{\"colorbar\":{\"outlinewidth\":0,\"ticks\":\"\"}},\"type\":\"scattercarpet\"}],\"scattergeo\":[{\"marker\":{\"colorbar\":{\"outlinewidth\":0,\"ticks\":\"\"}},\"type\":\"scattergeo\"}],\"scattergl\":[{\"marker\":{\"colorbar\":{\"outlinewidth\":0,\"ticks\":\"\"}},\"type\":\"scattergl\"}],\"scattermapbox\":[{\"marker\":{\"colorbar\":{\"outlinewidth\":0,\"ticks\":\"\"}},\"type\":\"scattermapbox\"}],\"scatterpolar\":[{\"marker\":{\"colorbar\":{\"outlinewidth\":0,\"ticks\":\"\"}},\"type\":\"scatterpolar\"}],\"scatterpolargl\":[{\"marker\":{\"colorbar\":{\"outlinewidth\":0,\"ticks\":\"\"}},\"type\":\"scatterpolargl\"}],\"scatterternary\":[{\"marker\":{\"colorbar\":{\"outlinewidth\":0,\"ticks\":\"\"}},\"type\":\"scatterternary\"}],\"surface\":[{\"colorbar\":{\"outlinewidth\":0,\"ticks\":\"\"},\"colorscale\":[[0.0,\"#0d0887\"],[0.1111111111111111,\"#46039f\"],[0.2222222222222222,\"#7201a8\"],[0.3333333333333333,\"#9c179e\"],[0.4444444444444444,\"#bd3786\"],[0.5555555555555556,\"#d8576b\"],[0.6666666666666666,\"#ed7953\"],[0.7777777777777778,\"#fb9f3a\"],[0.8888888888888888,\"#fdca26\"],[1.0,\"#f0f921\"]],\"type\":\"surface\"}],\"table\":[{\"cells\":{\"fill\":{\"color\":\"#EBF0F8\"},\"line\":{\"color\":\"white\"}},\"header\":{\"fill\":{\"color\":\"#C8D4E3\"},\"line\":{\"color\":\"white\"}},\"type\":\"table\"}]},\"layout\":{\"annotationdefaults\":{\"arrowcolor\":\"#2a3f5f\",\"arrowhead\":0,\"arrowwidth\":1},\"autotypenumbers\":\"strict\",\"coloraxis\":{\"colorbar\":{\"outlinewidth\":0,\"ticks\":\"\"}},\"colorscale\":{\"diverging\":[[0,\"#8e0152\"],[0.1,\"#c51b7d\"],[0.2,\"#de77ae\"],[0.3,\"#f1b6da\"],[0.4,\"#fde0ef\"],[0.5,\"#f7f7f7\"],[0.6,\"#e6f5d0\"],[0.7,\"#b8e186\"],[0.8,\"#7fbc41\"],[0.9,\"#4d9221\"],[1,\"#276419\"]],\"sequential\":[[0.0,\"#0d0887\"],[0.1111111111111111,\"#46039f\"],[0.2222222222222222,\"#7201a8\"],[0.3333333333333333,\"#9c179e\"],[0.4444444444444444,\"#bd3786\"],[0.5555555555555556,\"#d8576b\"],[0.6666666666666666,\"#ed7953\"],[0.7777777777777778,\"#fb9f3a\"],[0.8888888888888888,\"#fdca26\"],[1.0,\"#f0f921\"]],\"sequentialminus\":[[0.0,\"#0d0887\"],[0.1111111111111111,\"#46039f\"],[0.2222222222222222,\"#7201a8\"],[0.3333333333333333,\"#9c179e\"],[0.4444444444444444,\"#bd3786\"],[0.5555555555555556,\"#d8576b\"],[0.6666666666666666,\"#ed7953\"],[0.7777777777777778,\"#fb9f3a\"],[0.8888888888888888,\"#fdca26\"],[1.0,\"#f0f921\"]]},\"colorway\":[\"#636efa\",\"#EF553B\",\"#00cc96\",\"#ab63fa\",\"#FFA15A\",\"#19d3f3\",\"#FF6692\",\"#B6E880\",\"#FF97FF\",\"#FECB52\"],\"font\":{\"color\":\"#2a3f5f\"},\"geo\":{\"bgcolor\":\"white\",\"lakecolor\":\"white\",\"landcolor\":\"#E5ECF6\",\"showlakes\":true,\"showland\":true,\"subunitcolor\":\"white\"},\"hoverlabel\":{\"align\":\"left\"},\"hovermode\":\"closest\",\"mapbox\":{\"style\":\"light\"},\"paper_bgcolor\":\"white\",\"plot_bgcolor\":\"#E5ECF6\",\"polar\":{\"angularaxis\":{\"gridcolor\":\"white\",\"linecolor\":\"white\",\"ticks\":\"\"},\"bgcolor\":\"#E5ECF6\",\"radialaxis\":{\"gridcolor\":\"white\",\"linecolor\":\"white\",\"ticks\":\"\"}},\"scene\":{\"xaxis\":{\"backgroundcolor\":\"#E5ECF6\",\"gridcolor\":\"white\",\"gridwidth\":2,\"linecolor\":\"white\",\"showbackground\":true,\"ticks\":\"\",\"zerolinecolor\":\"white\"},\"yaxis\":{\"backgroundcolor\":\"#E5ECF6\",\"gridcolor\":\"white\",\"gridwidth\":2,\"linecolor\":\"white\",\"showbackground\":true,\"ticks\":\"\",\"zerolinecolor\":\"white\"},\"zaxis\":{\"backgroundcolor\":\"#E5ECF6\",\"gridcolor\":\"white\",\"gridwidth\":2,\"linecolor\":\"white\",\"showbackground\":true,\"ticks\":\"\",\"zerolinecolor\":\"white\"}},\"shapedefaults\":{\"line\":{\"color\":\"#2a3f5f\"}},\"ternary\":{\"aaxis\":{\"gridcolor\":\"white\",\"linecolor\":\"white\",\"ticks\":\"\"},\"baxis\":{\"gridcolor\":\"white\",\"linecolor\":\"white\",\"ticks\":\"\"},\"bgcolor\":\"#E5ECF6\",\"caxis\":{\"gridcolor\":\"white\",\"linecolor\":\"white\",\"ticks\":\"\"}},\"title\":{\"x\":0.05},\"xaxis\":{\"automargin\":true,\"gridcolor\":\"white\",\"linecolor\":\"white\",\"ticks\":\"\",\"title\":{\"standoff\":15},\"zerolinecolor\":\"white\",\"zerolinewidth\":2},\"yaxis\":{\"automargin\":true,\"gridcolor\":\"white\",\"linecolor\":\"white\",\"ticks\":\"\",\"title\":{\"standoff\":15},\"zerolinecolor\":\"white\",\"zerolinewidth\":2}}},\"xaxis\":{\"anchor\":\"y\",\"domain\":[0.0,1.0],\"title\":{\"text\":\"Age\"},\"type\":\"log\"},\"yaxis\":{\"anchor\":\"x\",\"domain\":[0.0,1.0],\"title\":{\"text\":\"Survived\"}},\"coloraxis\":{\"colorbar\":{\"title\":{\"text\":\"Pclass\"}},\"colorscale\":[[0.0,\"#0d0887\"],[0.1111111111111111,\"#46039f\"],[0.2222222222222222,\"#7201a8\"],[0.3333333333333333,\"#9c179e\"],[0.4444444444444444,\"#bd3786\"],[0.5555555555555556,\"#d8576b\"],[0.6666666666666666,\"#ed7953\"],[0.7777777777777778,\"#fb9f3a\"],[0.8888888888888888,\"#fdca26\"],[1.0,\"#f0f921\"]]},\"legend\":{\"tracegroupgap\":0,\"itemsizing\":\"constant\"},\"margin\":{\"t\":60}},                        {\"responsive\": true}                    ).then(function(){\n",
              "                            \n",
              "var gd = document.getElementById('c1f19617-29f0-4e82-a7d9-3f814f05ec62');\n",
              "var x = new MutationObserver(function (mutations, observer) {{\n",
              "        var display = window.getComputedStyle(gd).display;\n",
              "        if (!display || display === 'none') {{\n",
              "            console.log([gd, 'removed!']);\n",
              "            Plotly.purge(gd);\n",
              "            observer.disconnect();\n",
              "        }}\n",
              "}});\n",
              "\n",
              "// Listen for the removal of the full notebook cells\n",
              "var notebookContainer = gd.closest('#notebook-container');\n",
              "if (notebookContainer) {{\n",
              "    x.observe(notebookContainer, {childList: true});\n",
              "}}\n",
              "\n",
              "// Listen for the clearing of the current output cell\n",
              "var outputEl = gd.closest('.output');\n",
              "if (outputEl) {{\n",
              "    x.observe(outputEl, {childList: true});\n",
              "}}\n",
              "\n",
              "                        })                };                            </script>        </div>\n",
              "</body>\n",
              "</html>"
            ]
          },
          "metadata": {}
        }
      ],
      "source": [
        "fig = px.scatter(df.query(\"Age>=50 & Sex=='male'\" ) , x=\"Age\", y=\"Survived\", size=\"Pclass\", color=\"Pclass\",\n",
        "           hover_name=\"Name\", log_x=True, size_max=60)\n",
        "fig.show()"
      ]
    },
    {
      "cell_type": "markdown",
      "metadata": {
        "id": "ZhQ9YOlyJ5fS"
      },
      "source": [
        "A traves de la siguiente grafica podemos observar una Distribucion Acumulativa Empirica que demuestra la cantidad de hombres y mujeres que se encontraban dentro de la enbarcacion. Esta misma es capaz de demostrar la edad de los pasajeros y si estos sobrevivieron. A continuacion de esta misma grafica se mostrara la relacion que tuvieron las muertes respecto la edad especificada.\n"
      ]
    },
    {
      "cell_type": "code",
      "execution_count": null,
      "metadata": {
        "id": "q9NWwOslJ5fS"
      },
      "outputs": [],
      "source": [
        "# def hierarchy(condition):\n",
        "#     fig = px.ecdf(df.query(condition), x=\"Age\", color=\"Sex\",animation_frame=\"Survived\")\n",
        "#     fig.show()"
      ]
    },
    {
      "cell_type": "code",
      "execution_count": null,
      "metadata": {
        "colab": {
          "base_uri": "https://localhost:8080/",
          "height": 542
        },
        "id": "l9nqynraJ5fS",
        "outputId": "c04f6ebd-8a7d-4b21-a8f3-5f1a5152b190"
      },
      "outputs": [
        {
          "output_type": "display_data",
          "data": {
            "text/html": [
              "<html>\n",
              "<head><meta charset=\"utf-8\" /></head>\n",
              "<body>\n",
              "    <div>            <script src=\"https://cdnjs.cloudflare.com/ajax/libs/mathjax/2.7.5/MathJax.js?config=TeX-AMS-MML_SVG\"></script><script type=\"text/javascript\">if (window.MathJax) {MathJax.Hub.Config({SVG: {font: \"STIX-Web\"}});}</script>                <script type=\"text/javascript\">window.PlotlyConfig = {MathJaxConfig: 'local'};</script>\n",
              "        <script src=\"https://cdn.plot.ly/plotly-2.8.3.min.js\"></script>                <div id=\"ebd3ed0c-4716-4c67-8cbf-d436018099b8\" class=\"plotly-graph-div\" style=\"height:525px; width:100%;\"></div>            <script type=\"text/javascript\">                                    window.PLOTLYENV=window.PLOTLYENV || {};                                    if (document.getElementById(\"ebd3ed0c-4716-4c67-8cbf-d436018099b8\")) {                    Plotly.newPlot(                        \"ebd3ed0c-4716-4c67-8cbf-d436018099b8\",                        [{\"alignmentgroup\":\"True\",\"box\":{\"visible\":true},\"customdata\":[[2,1,\"Cumings, Mrs. John Bradley (Florence Briggs Thayer)\",\"female\",1,0,\"PC 17599\",71.2833,1],[3,3,\"Heikkinen, Miss. Laina\",\"female\",0,0,\"STON/O2. 3101282\",7.925,1],[4,1,\"Futrelle, Mrs. Jacques Heath (Lily May Peel)\",\"female\",1,0,\"113803\",53.1,1],[9,3,\"Johnson, Mrs. Oscar W (Elisabeth Vilhelmina Berg)\",\"female\",0,2,\"347742\",11.1333,1],[10,2,\"Nasser, Mrs. Nicholas (Adele Achem)\",\"female\",1,0,\"237736\",30.0708,1],[11,3,\"Sandstrom, Miss. Marguerite Rut\",\"female\",1,1,\"PP 9549\",16.7,1],[12,1,\"Bonnell, Miss. Elizabeth\",\"female\",0,0,\"113783\",26.55,1],[16,2,\"Hewlett, Mrs. (Mary D Kingcome) \",\"female\",0,0,\"248706\",16.0,1],[23,3,\"McGowan, Miss. Anna \\\"Annie\\\"\",\"female\",0,0,\"330923\",8.0292,1],[26,3,\"Asplund, Mrs. Carl Oscar (Selma Augusta Emilia Johansson)\",\"female\",1,5,\"347077\",31.3875,1],[40,3,\"Nicola-Yarred, Miss. Jamila\",\"female\",1,0,\"2651\",11.2417,1],[44,2,\"Laroche, Miss. Simonne Marie Anne Andree\",\"female\",1,2,\"SC/Paris 2123\",41.5792,1],[45,3,\"Devaney, Miss. Margaret Delia\",\"female\",0,0,\"330958\",7.8792,1],[53,1,\"Harper, Mrs. Henry Sleeper (Myna Haxtun)\",\"female\",1,0,\"PC 17572\",76.7292,1],[54,2,\"Faunthorpe, Mrs. Lizzie (Elizabeth Anne Wilkinson)\",\"female\",1,0,\"2926\",26.0,1],[57,2,\"Rugg, Miss. Emily\",\"female\",0,0,\"C.A. 31026\",10.5,1],[59,2,\"West, Miss. Constance Mirium\",\"female\",1,2,\"C.A. 34651\",27.75,1],[62,1,\"Icard, Miss. Amelie\",\"female\",0,0,\"113572\",80.0,1],[67,2,\"Nye, Mrs. (Elizabeth Ramell)\",\"female\",0,0,\"C.A. 29395\",10.5,1],[69,3,\"Andersson, Miss. Erna Alexandra\",\"female\",4,2,\"3101281\",7.925,1],[80,3,\"Dowdell, Miss. Elizabeth\",\"female\",0,0,\"364516\",12.475,1],[85,2,\"Ilett, Miss. Bertha\",\"female\",0,0,\"SO/C 14885\",10.5,1],[86,3,\"Backstrom, Mrs. Karl Alfred (Maria Mathilda Gustafsson)\",\"female\",3,0,\"3101278\",15.85,1],[89,1,\"Fortune, Miss. Mabel Helen\",\"female\",3,2,\"19950\",263.0,1],[99,2,\"Doling, Mrs. John T (Ada Julia Bone)\",\"female\",0,1,\"231919\",23.0,1],[107,3,\"Salkjelsvik, Miss. Anna Kristine\",\"female\",0,0,\"343120\",7.65,1],[124,2,\"Webber, Miss. Susan\",\"female\",0,0,\"27267\",13.0,1],[134,2,\"Weisz, Mrs. Leopold (Mathilde Francoise Pede)\",\"female\",1,0,\"228414\",26.0,1],[137,1,\"Newsom, Miss. Helen Monypeny\",\"female\",0,2,\"11752\",26.2833,1],[142,3,\"Nysten, Miss. Anna Sofia\",\"female\",0,0,\"347081\",7.75,1],[143,3,\"Hakkarainen, Mrs. Pekka Pietari (Elin Matilda Dolck)\",\"female\",1,0,\"STON/O2. 3101279\",15.85,1],[152,1,\"Pears, Mrs. Thomas (Edith Wearne)\",\"female\",1,0,\"113776\",66.6,1],[157,3,\"Gilnagh, Miss. Katherine \\\"Katie\\\"\",\"female\",0,0,\"35851\",7.7333,1],[162,2,\"Watt, Mrs. James (Elizabeth \\\"Bessie\\\" Inglis Milne)\",\"female\",0,0,\"C.A. 33595\",15.75,1],[173,3,\"Johnson, Miss. Eleanor Ileen\",\"female\",1,1,\"347742\",11.1333,1],[185,3,\"Kink-Heilmann, Miss. Luise Gretchen\",\"female\",0,2,\"315153\",22.025,1],[191,2,\"Pinsky, Mrs. (Rosa)\",\"female\",0,0,\"234604\",13.0,1],[193,3,\"Andersen-Jensen, Miss. Carla Christine Nielsine\",\"female\",1,0,\"350046\",7.8542,1],[195,1,\"Brown, Mrs. James Joseph (Margaret Tobin)\",\"female\",0,0,\"PC 17610\",27.7208,1],[196,1,\"Lurette, Miss. Elise\",\"female\",0,0,\"PC 17569\",146.5208,1],[209,3,\"Carr, Miss. Helen \\\"Ellen\\\"\",\"female\",0,0,\"367231\",7.75,1],[212,2,\"Cameron, Miss. Clear Annie\",\"female\",0,0,\"F.C.C. 13528\",21.0,1],[216,1,\"Newell, Miss. Madeleine\",\"female\",1,0,\"35273\",113.275,1],[217,3,\"Honkanen, Miss. Eliina\",\"female\",0,0,\"STON/O2. 3101283\",7.925,1],[219,1,\"Bazzani, Miss. Albina\",\"female\",0,0,\"11813\",76.2917,1],[231,1,\"Harris, Mrs. Henry Birkhardt (Irene Wallach)\",\"female\",1,0,\"36973\",83.475,1],[234,3,\"Asplund, Miss. Lillian Gertrud\",\"female\",4,2,\"347077\",31.3875,1],[238,2,\"Collyer, Miss. Marjorie \\\"Lottie\\\"\",\"female\",0,2,\"C.A. 31921\",26.25,1],[248,2,\"Hamalainen, Mrs. William (Anna)\",\"female\",0,2,\"250649\",14.5,1],[256,3,\"Touma, Mrs. Darwis (Hanne Youssef Razi)\",\"female\",0,2,\"2650\",15.2458,1],[258,1,\"Cherry, Miss. Gladys\",\"female\",0,0,\"110152\",86.5,1],[259,1,\"Ward, Miss. Anna\",\"female\",0,0,\"PC 17755\",512.3292,1],[260,2,\"Parrish, Mrs. (Lutie Davis)\",\"female\",0,1,\"230433\",26.0,1],[269,1,\"Graham, Mrs. William Thompson (Edith Junkins)\",\"female\",0,1,\"PC 17582\",153.4625,1],[270,1,\"Bissette, Miss. Amelia\",\"female\",0,0,\"PC 17760\",135.6333,1],[273,2,\"Mellinger, Mrs. (Elizabeth Anne Maidment)\",\"female\",0,1,\"250644\",19.5,1],[276,1,\"Andrews, Miss. Kornelia Theodosia\",\"female\",1,0,\"13502\",77.9583,1],[280,3,\"Abbott, Mrs. Stanton (Rosa Hunt)\",\"female\",1,1,\"C.A. 2673\",20.25,1],[290,3,\"Connolly, Miss. Kate\",\"female\",0,0,\"370373\",7.75,1],[291,1,\"Barber, Miss. Ellen \\\"Nellie\\\"\",\"female\",0,0,\"19877\",78.85,1],[292,1,\"Bishop, Mrs. Dickinson H (Helen Walton)\",\"female\",1,0,\"11967\",91.0792,1],[300,1,\"Baxter, Mrs. James (Helene DeLaudeniere Chaput)\",\"female\",0,1,\"PC 17558\",247.5208,1],[308,1,\"Penasco y Castellana, Mrs. Victor de Satode (Maria Josefa Perez de Soto y Vallejo)\",\"female\",1,0,\"PC 17758\",108.9,1],[310,1,\"Francatelli, Miss. Laura Mabel\",\"female\",0,0,\"PC 17485\",56.9292,1],[311,1,\"Hays, Miss. Margaret Bechstein\",\"female\",0,0,\"11767\",83.1583,1],[312,1,\"Ryerson, Miss. Emily Borie\",\"female\",2,2,\"PC 17608\",262.375,1],[316,3,\"Nilsson, Miss. Helmina Josefina\",\"female\",0,0,\"347470\",7.8542,1],[317,2,\"Kantor, Mrs. Sinai (Miriam Sternin)\",\"female\",1,0,\"244367\",26.0,1],[319,1,\"Wick, Miss. Mary Natalie\",\"female\",0,2,\"36928\",164.8667,1],[320,1,\"Spedden, Mrs. Frederic Oakley (Margaretta Corning Stone)\",\"female\",1,1,\"16966\",134.5,1],[323,2,\"Slayter, Miss. Hilda Mary\",\"female\",0,0,\"234818\",12.35,1],[324,2,\"Caldwell, Mrs. Albert Francis (Sylvia Mae Harbaugh)\",\"female\",1,1,\"248738\",29.0,1],[326,1,\"Young, Miss. Marie Grice\",\"female\",0,0,\"PC 17760\",135.6333,1],[328,2,\"Ball, Mrs. (Ada E Hall)\",\"female\",0,0,\"28551\",13.0,1],[329,3,\"Goldsmith, Mrs. Frank John (Emily Alice Brown)\",\"female\",1,1,\"363291\",20.525,1],[330,1,\"Hippach, Miss. Jean Gertrude\",\"female\",0,1,\"111361\",57.9792,1],[338,1,\"Burns, Miss. Elizabeth Margaret\",\"female\",0,0,\"16966\",134.5,1],[342,1,\"Fortune, Miss. Alice Elizabeth\",\"female\",3,2,\"19950\",263.0,1],[346,2,\"Brown, Miss. Amelia \\\"Mildred\\\"\",\"female\",0,0,\"248733\",13.0,1],[347,2,\"Smith, Miss. Marion Elsie\",\"female\",0,0,\"31418\",13.0,1],[357,1,\"Bowerman, Miss. Elsie Edith\",\"female\",0,1,\"113505\",55.0,1],[367,1,\"Warren, Mrs. Frank Manley (Anna Sophia Atkinson)\",\"female\",1,0,\"110813\",75.25,1],[370,1,\"Aubart, Mme. Leontine Pauline\",\"female\",0,0,\"PC 17477\",69.3,1],[377,3,\"Landergren, Miss. Aurora Adelia\",\"female\",0,0,\"C 7077\",7.25,1],[381,1,\"Bidois, Miss. Rosalie\",\"female\",0,0,\"PC 17757\",227.525,1],[382,3,\"Nakid, Miss. Maria (\\\"Mary\\\")\",\"female\",0,2,\"2653\",15.7417,1],[384,1,\"Holverson, Mrs. Alexander Oskar (Mary Aline Towner)\",\"female\",1,0,\"113789\",52.0,1],[388,2,\"Buss, Miss. Kate\",\"female\",0,0,\"27849\",13.0,1],[390,2,\"Lehmann, Miss. Bertha\",\"female\",0,0,\"SC 1748\",12.0,1],[394,1,\"Newell, Miss. Marjorie\",\"female\",1,0,\"35273\",113.275,1],[395,3,\"Sandstrom, Mrs. Hjalmar (Agnes Charlotta Bengtsson)\",\"female\",0,2,\"PP 9549\",16.7,1],[400,2,\"Trout, Mrs. William H (Jessie L)\",\"female\",0,0,\"240929\",12.65,1],[413,1,\"Minahan, Miss. Daisy E\",\"female\",1,0,\"19928\",90.0,1],[417,2,\"Drew, Mrs. James Vivian (Lulu Thorne Christian)\",\"female\",1,1,\"28220\",32.5,1],[418,2,\"Silven, Miss. Lyyli Karoliina\",\"female\",0,2,\"250652\",13.0,1],[427,2,\"Clarke, Mrs. Charles V (Ada Maria Winfield)\",\"female\",1,0,\"2003\",26.0,1],[428,2,\"Phillips, Miss. Kate Florence (\\\"Mrs Kate Louise Phillips Marshall\\\")\",\"female\",0,0,\"250655\",26.0,1],[433,2,\"Louch, Mrs. Charles Alexander (Alice Adelaide Slow)\",\"female\",1,0,\"SC/AH 3085\",26.0,1],[436,1,\"Carter, Miss. Lucile Polk\",\"female\",1,2,\"113760\",120.0,1],[438,2,\"Richards, Mrs. Sidney (Emily Hocking)\",\"female\",2,3,\"29106\",18.75,1],[441,2,\"Hart, Mrs. Benjamin (Esther Ada Bloomfield)\",\"female\",1,1,\"F.C.C. 13529\",26.25,1],[444,2,\"Reynaldo, Ms. Encarnacion\",\"female\",0,0,\"230434\",13.0,1],[447,2,\"Mellinger, Miss. Madeleine Violet\",\"female\",0,1,\"250644\",19.5,1],[449,3,\"Baclini, Miss. Marie Catherine\",\"female\",2,1,\"2666\",19.2583,1],[459,2,\"Toomey, Miss. Ellen\",\"female\",0,0,\"F.C.C. 13531\",10.5,1],[470,3,\"Baclini, Miss. Helene Barbara\",\"female\",2,1,\"2666\",19.2583,1],[473,2,\"West, Mrs. Edwy Arthur (Ada Mary Worth)\",\"female\",1,2,\"C.A. 34651\",27.75,1],[474,2,\"Jerwan, Mrs. Amin S (Marie Marthe Thuillard)\",\"female\",0,0,\"SC/AH Basle 541\",13.7917,1],[480,3,\"Hirvonen, Miss. Hildur E\",\"female\",0,1,\"3101298\",12.2875,1],[484,3,\"Turkula, Mrs. (Hedwig)\",\"female\",0,0,\"4134\",9.5875,1],[487,1,\"Hoyt, Mrs. Frederick Maxfield (Jane Anne Forby)\",\"female\",1,0,\"19943\",90.0,1],[497,1,\"Eustis, Miss. Elizabeth Mussey\",\"female\",1,0,\"36947\",78.2667,1],[505,1,\"Maioni, Miss. Roberta\",\"female\",0,0,\"110152\",86.5,1],[507,2,\"Quick, Mrs. Frederick Charles (Jane Richards)\",\"female\",0,2,\"26360\",26.0,1],[514,1,\"Rothschild, Mrs. Martin (Elizabeth L. Barrett)\",\"female\",1,0,\"PC 17603\",59.4,1],[517,2,\"Lemore, Mrs. (Amelia Milley)\",\"female\",0,0,\"C.A. 34260\",10.5,1],[519,2,\"Angle, Mrs. William A (Florence \\\"Mary\\\" Agnes Hughes)\",\"female\",1,0,\"226875\",26.0,1],[521,1,\"Perreault, Miss. Anne\",\"female\",0,0,\"12749\",93.5,1],[524,1,\"Hippach, Mrs. Louis Albert (Ida Sophia Fischer)\",\"female\",0,1,\"111361\",57.9792,1],[527,2,\"Ridsdale, Miss. Lucy\",\"female\",0,0,\"W./C. 14258\",10.5,1],[531,2,\"Quick, Miss. Phyllis May\",\"female\",1,1,\"26360\",26.0,1],[536,2,\"Hart, Miss. Eva Miriam\",\"female\",0,2,\"F.C.C. 13529\",26.25,1],[538,1,\"LeRoy, Miss. Bertha\",\"female\",0,0,\"PC 17761\",106.425,1],[540,1,\"Frolicher, Miss. Hedwig Margaritha\",\"female\",0,2,\"13568\",49.5,1],[541,1,\"Crosby, Miss. Harriet R\",\"female\",0,2,\"WE/P 5735\",71.0,1],[547,2,\"Beane, Mrs. Edward (Ethel Clarke)\",\"female\",1,0,\"2908\",26.0,1],[555,3,\"Ohman, Miss. Velin\",\"female\",0,0,\"347085\",7.775,1],[557,1,\"Duff Gordon, Lady. (Lucille Christiana Sutherland) (\\\"Mrs Morgan\\\")\",\"female\",1,0,\"11755\",39.6,1],[559,1,\"Taussig, Mrs. Emil (Tillie Mandelbaum)\",\"female\",1,1,\"110413\",79.65,1],[560,3,\"de Messemaeker, Mrs. Guillaume Joseph (Emma)\",\"female\",1,0,\"345572\",17.4,1],[572,1,\"Appleton, Mrs. Edward Dale (Charlotte Lamson)\",\"female\",2,0,\"11769\",51.4792,1],[577,2,\"Garside, Miss. Ethel\",\"female\",0,0,\"243880\",13.0,1],[578,1,\"Silvey, Mrs. William Baird (Alice Munger)\",\"female\",1,0,\"13507\",55.9,1],[581,2,\"Christy, Miss. Julie Rachel\",\"female\",1,1,\"237789\",30.0,1],[582,1,\"Thayer, Mrs. John Borland (Marian Longstreth Morris)\",\"female\",1,1,\"17421\",110.8833,1],[586,1,\"Taussig, Miss. Ruth\",\"female\",0,2,\"110413\",79.65,1],[592,1,\"Stephenson, Mrs. Walter Bertram (Martha Eustis)\",\"female\",1,0,\"36947\",78.2667,1],[601,2,\"Jacobsohn, Mrs. Sidney Samuel (Amy Frances Christy)\",\"female\",2,1,\"243847\",27.0,1],[609,2,\"Laroche, Mrs. Joseph (Juliette Marie Louise Lafargue)\",\"female\",1,2,\"SC/Paris 2123\",41.5792,1],[610,1,\"Shutes, Miss. Elizabeth W\",\"female\",0,0,\"PC 17582\",153.4625,1],[616,2,\"Herman, Miss. Alice\",\"female\",1,2,\"220845\",65.0,1],[619,2,\"Becker, Miss. Marion Louise\",\"female\",2,1,\"230136\",39.0,1],[628,1,\"Longley, Miss. Gretchen Fiske\",\"female\",0,0,\"13502\",77.9583,1],[636,2,\"Davis, Miss. Mary\",\"female\",0,0,\"237668\",13.0,1],[642,1,\"Sagesser, Mlle. Emma\",\"female\",0,0,\"PC 17477\",69.3,1],[645,3,\"Baclini, Miss. Eugenie\",\"female\",2,1,\"2666\",19.2583,1],[650,3,\"Stanley, Miss. Amy Zillah Elsie\",\"female\",0,0,\"CA. 2314\",7.55,1],[652,2,\"Doling, Miss. Elsie\",\"female\",0,1,\"231919\",23.0,1],[671,2,\"Brown, Mrs. Thomas William Solomon (Elizabeth Catherine Ford)\",\"female\",1,1,\"29750\",39.0,1],[678,3,\"Turja, Miss. Anna Sofia\",\"female\",0,0,\"4138\",9.8417,1],[690,1,\"Madill, Miss. Georgette Alexandra\",\"female\",0,1,\"24160\",211.3375,1],[692,3,\"Karun, Miss. Manca\",\"female\",0,1,\"349256\",13.4167,1],[701,1,\"Astor, Mrs. John Jacob (Madeleine Talmadge Force)\",\"female\",1,0,\"PC 17757\",227.525,1],[707,2,\"Kelly, Mrs. Florence \\\"Fannie\\\"\",\"female\",0,0,\"223596\",13.5,1],[709,1,\"Cleaver, Miss. Alice\",\"female\",0,0,\"113781\",151.55,1],[711,1,\"Mayne, Mlle. Berthe Antonine (\\\"Mrs de Villiers\\\")\",\"female\",0,0,\"PC 17482\",49.5042,1],[717,1,\"Endres, Miss. Caroline Louise\",\"female\",0,0,\"PC 17757\",227.525,1],[718,2,\"Troutt, Miss. Edwina Celia \\\"Winnie\\\"\",\"female\",0,0,\"34218\",10.5,1],[721,2,\"Harper, Miss. Annie Jessie \\\"Nina\\\"\",\"female\",0,1,\"248727\",33.0,1],[727,2,\"Renouf, Mrs. Peter Henry (Lillian Jefferys)\",\"female\",3,0,\"31027\",21.0,1],[731,1,\"Allen, Miss. Elisabeth Walton\",\"female\",0,0,\"24160\",211.3375,1],[743,1,\"Ryerson, Miss. Susan Parker \\\"Suzette\\\"\",\"female\",2,2,\"PC 17608\",262.375,1],[748,2,\"Sinkkonen, Miss. Anna\",\"female\",0,0,\"250648\",13.0,1],[751,2,\"Wells, Miss. Joan\",\"female\",1,1,\"29103\",23.0,1],[755,2,\"Herman, Mrs. Samuel (Jane Laver)\",\"female\",1,2,\"220845\",65.0,1],[760,1,\"Rothes, the Countess. of (Lucy Noel Martha Dyer-Edwards)\",\"female\",0,0,\"110152\",86.5,1],[764,1,\"Carter, Mrs. William Ernest (Lucile Polk)\",\"female\",1,2,\"113760\",120.0,1],[766,1,\"Hogeboom, Mrs. John C (Anna Andrews)\",\"female\",1,0,\"13502\",77.9583,1],[775,2,\"Hocking, Mrs. Elizabeth (Eliza Needs)\",\"female\",1,3,\"29105\",23.0,1],[778,3,\"Emanuel, Miss. Virginia Ethel\",\"female\",0,0,\"364516\",12.475,1],[780,1,\"Robert, Mrs. Edward Scott (Elisabeth Walton McMillan)\",\"female\",0,1,\"24160\",211.3375,1],[781,3,\"Ayoub, Miss. Banoura\",\"female\",0,0,\"2687\",7.2292,1],[782,1,\"Dick, Mrs. Albert Adrian (Vera Gillespie)\",\"female\",1,0,\"17474\",57.0,1],[787,3,\"Sjoblom, Miss. Anna Sofia\",\"female\",0,0,\"3101265\",7.4958,1],[797,1,\"Leader, Dr. Alice (Farnham)\",\"female\",0,0,\"17465\",25.9292,1],[798,3,\"Osman, Mrs. Mara\",\"female\",0,0,\"349244\",8.6833,1],[802,2,\"Collyer, Mrs. Harvey (Charlotte Annie Tate)\",\"female\",1,1,\"C.A. 31921\",26.25,1],[810,1,\"Chambers, Mrs. Norman Campbell (Bertha Griggs)\",\"female\",1,0,\"113806\",53.1,1],[821,1,\"Hays, Mrs. Charles Melville (Clara Jennings Gregg)\",\"female\",1,1,\"12749\",93.5,1],[824,3,\"Moor, Mrs. (Beila)\",\"female\",0,1,\"392096\",12.475,1],[830,1,\"Stone, Mrs. George Nelson (Martha Evelyn)\",\"female\",0,0,\"113572\",80.0,1],[831,3,\"Yasbeck, Mrs. Antoni (Selini Alexander)\",\"female\",1,0,\"2659\",14.4542,1],[836,1,\"Compton, Miss. Sara Rebecca\",\"female\",1,1,\"PC 17756\",83.1583,1],[843,1,\"Serepeca, Miss. Augusta\",\"female\",0,0,\"113798\",31.0,1],[854,1,\"Lines, Miss. Mary Conover\",\"female\",0,1,\"PC 17592\",39.4,1],[856,3,\"Aks, Mrs. Sam (Leah Rosen)\",\"female\",0,1,\"392091\",9.35,1],[857,1,\"Wick, Mrs. George Dennick (Mary Hitchcock)\",\"female\",1,1,\"36928\",164.8667,1],[859,3,\"Baclini, Mrs. Solomon (Latifa Qurban)\",\"female\",0,3,\"2666\",19.2583,1],[863,1,\"Swift, Mrs. Frederick Joel (Margaret Welles Barron)\",\"female\",0,0,\"17466\",25.9292,1],[866,2,\"Bystrom, Mrs. (Karolina)\",\"female\",0,0,\"236852\",13.0,1],[867,2,\"Duran y More, Miss. Asuncion\",\"female\",1,0,\"SC/PARIS 2149\",13.8583,1],[872,1,\"Beckwith, Mrs. Richard Leonard (Sallie Monypeny)\",\"female\",1,1,\"11751\",52.5542,1],[875,2,\"Abelson, Mrs. Samuel (Hannah Wizosky)\",\"female\",1,0,\"P/PP 3381\",24.0,1],[876,3,\"Najib, Miss. Adele Kiamie \\\"Jane\\\"\",\"female\",0,0,\"2667\",7.225,1],[880,1,\"Potter, Mrs. Thomas Jr (Lily Alexenia Wilson)\",\"female\",0,1,\"11767\",83.1583,1],[881,2,\"Shelley, Mrs. William (Imanita Parrish Hall)\",\"female\",0,1,\"230433\",26.0,1],[888,1,\"Graham, Miss. Margaret Edith\",\"female\",0,0,\"112053\",30.0,1]],\"hovertemplate\":\"Sex=%{customdata[3]}<br>Survived=%{x}<br>Age=%{y}<br>PassengerId=%{customdata[0]}<br>Pclass=%{customdata[1]}<br>Name=%{customdata[2]}<br>SibSp=%{customdata[4]}<br>Parch=%{customdata[5]}<br>Ticket=%{customdata[6]}<br>Fare=%{customdata[7]}<br>sex_num=%{customdata[8]}<extra></extra>\",\"legendgroup\":\"female\",\"marker\":{\"color\":\"#636efa\"},\"name\":\"female\",\"offsetgroup\":\"female\",\"orientation\":\"v\",\"points\":\"all\",\"scalegroup\":\"True\",\"showlegend\":true,\"x\":[1,1,1,1,1,1,1,1,1,1,1,1,1,1,1,1,1,1,1,1,1,1,1,1,1,1,1,1,1,1,1,1,1,1,1,1,1,1,1,1,1,1,1,1,1,1,1,1,1,1,1,1,1,1,1,1,1,1,1,1,1,1,1,1,1,1,1,1,1,1,1,1,1,1,1,1,1,1,1,1,1,1,1,1,1,1,1,1,1,1,1,1,1,1,1,1,1,1,1,1,1,1,1,1,1,1,1,1,1,1,1,1,1,1,1,1,1,1,1,1,1,1,1,1,1,1,1,1,1,1,1,1,1,1,1,1,1,1,1,1,1,1,1,1,1,1,1,1,1,1,1,1,1,1,1,1,1,1,1,1,1,1,1,1,1,1,1,1,1,1,1,1,1,1,1,1,1,1,1,1,1,1,1,1,1,1,1,1,1,1,1,1,1,1,1,1,1],\"x0\":\" \",\"xaxis\":\"x\",\"y\":[38.0,26.0,35.0,27.0,14.0,4.0,58.0,55.0,15.0,38.0,14.0,3.0,19.0,49.0,29.0,21.0,5.0,38.0,29.0,17.0,30.0,17.0,33.0,23.0,34.0,21.0,32.5,29.0,19.0,22.0,24.0,22.0,16.0,40.0,1.0,4.0,32.0,19.0,44.0,58.0,16.0,35.0,31.0,27.0,32.0,35.0,5.0,8.0,24.0,29.0,30.0,35.0,50.0,58.0,35.0,41.0,63.0,35.0,22.0,26.0,19.0,50.0,17.0,30.0,24.0,18.0,26.0,24.0,31.0,40.0,30.0,22.0,36.0,36.0,31.0,16.0,41.0,24.0,24.0,40.0,22.0,60.0,24.0,22.0,42.0,1.0,35.0,36.0,17.0,23.0,24.0,28.0,33.0,34.0,18.0,28.0,19.0,42.0,14.0,24.0,45.0,28.0,13.0,5.0,50.0,0.75,33.0,23.0,2.0,63.0,35.0,54.0,16.0,33.0,54.0,34.0,36.0,30.0,44.0,50.0,2.0,7.0,30.0,22.0,36.0,19.0,22.0,48.0,39.0,36.0,53.0,34.0,39.0,25.0,39.0,18.0,52.0,24.0,22.0,40.0,24.0,4.0,21.0,28.0,24.0,0.75,23.0,18.0,40.0,18.0,15.0,4.0,18.0,45.0,22.0,24.0,38.0,27.0,6.0,30.0,29.0,21.0,30.0,4.0,48.0,33.0,36.0,51.0,54.0,5.0,43.0,13.0,17.0,18.0,49.0,31.0,31.0,33.0,52.0,27.0,62.0,15.0,39.0,30.0,16.0,18.0,45.0,24.0,48.0,42.0,27.0,47.0,28.0,15.0,56.0,25.0,19.0],\"y0\":\" \",\"yaxis\":\"y\",\"type\":\"violin\"},{\"alignmentgroup\":\"True\",\"box\":{\"visible\":true},\"customdata\":[[22,2,\"Beesley, Mr. Lawrence\",\"male\",0,0,\"248698\",13.0,0],[24,1,\"Sloper, Mr. William Thompson\",\"male\",0,0,\"113788\",35.5,0],[75,3,\"Bing, Mr. Lee\",\"male\",0,0,\"1601\",56.4958,0],[79,2,\"Caldwell, Master. Alden Gates\",\"male\",0,2,\"248738\",29.0,0],[82,3,\"Sheerlinck, Mr. Jan Baptist\",\"male\",0,0,\"345779\",9.5,0],[98,1,\"Greenfield, Mr. William Bertram\",\"male\",0,1,\"PC 17759\",63.3583,0],[126,3,\"Nicola-Yarred, Master. Elias\",\"male\",1,0,\"2651\",11.2417,0],[128,3,\"Madsen, Mr. Fridtjof Arne\",\"male\",0,0,\"C 17369\",7.1417,0],[147,3,\"Andersson, Mr. August Edvard (\\\"Wennerstrom\\\")\",\"male\",0,0,\"350043\",7.7958,0],[166,3,\"Goldsmith, Master. Frank John William \\\"Frankie\\\"\",\"male\",0,2,\"363291\",20.525,0],[184,2,\"Becker, Master. Richard F\",\"male\",2,1,\"230136\",39.0,0],[188,1,\"Romaine, Mr. Charles Hallace (\\\"Mr C Rolmane\\\")\",\"male\",0,0,\"111428\",26.55,0],[194,2,\"Navratil, Master. Michel M\",\"male\",1,1,\"230080\",26.0,0],[205,3,\"Cohen, Mr. Gurshon \\\"Gus\\\"\",\"male\",0,0,\"A/5 3540\",8.05,0],[208,3,\"Albimona, Mr. Nassef Cassem\",\"male\",0,0,\"2699\",18.7875,0],[210,1,\"Blank, Mr. Henry\",\"male\",0,0,\"112277\",31.0,0],[221,3,\"Sunderland, Mr. Victor Francis\",\"male\",0,0,\"SOTON/OQ 392089\",8.05,0],[225,1,\"Hoyt, Mr. Frederick Maxfield\",\"male\",1,0,\"19943\",90.0,0],[227,2,\"Mellors, Mr. William John\",\"male\",0,0,\"SW/PP 751\",10.5,0],[249,1,\"Beckwith, Mr. Richard Leonard\",\"male\",1,1,\"11751\",52.5542,0],[262,3,\"Asplund, Master. Edvin Rojj Felix\",\"male\",4,2,\"347077\",31.3875,0],[268,3,\"Persson, Mr. Ernst Ulrik\",\"male\",1,0,\"347083\",7.775,0],[272,3,\"Tornquist, Mr. William Henry\",\"male\",0,0,\"LINE\",0.0,0],[284,3,\"Dorking, Mr. Edward Arthur\",\"male\",0,0,\"A/5. 10482\",8.05,0],[287,3,\"de Mulder, Mr. Theodore\",\"male\",0,0,\"345774\",9.5,0],[289,2,\"Hosono, Mr. Masabumi\",\"male\",0,0,\"237798\",13.0,0],[306,1,\"Allison, Master. Hudson Trevor\",\"male\",1,2,\"113781\",151.55,0],[339,3,\"Dahl, Mr. Karl Edwart\",\"male\",0,0,\"7598\",8.05,0],[341,2,\"Navratil, Master. Edmond Roger\",\"male\",1,1,\"230080\",26.0,0],[349,3,\"Coutts, Master. William Loch \\\"William\\\"\",\"male\",1,1,\"C.A. 37671\",15.9,0],[371,1,\"Harder, Mr. George Achilles\",\"male\",1,0,\"11765\",55.4417,0],[391,1,\"Carter, Mr. William Ernest\",\"male\",1,2,\"113760\",120.0,0],[392,3,\"Jansson, Mr. Carl Olof\",\"male\",0,0,\"350034\",7.7958,0],[401,3,\"Niskanen, Mr. Juha\",\"male\",0,0,\"STON/O 2. 3101289\",7.925,0],[408,2,\"Richards, Master. William Rowe\",\"male\",1,1,\"29106\",18.75,0],[415,3,\"Sundman, Mr. Johan Julian\",\"male\",0,0,\"STON/O 2. 3101269\",7.925,0],[430,3,\"Pickard, Mr. Berk (Berk Trembisky)\",\"male\",0,0,\"SOTON/O.Q. 392078\",8.05,0],[431,1,\"Bjornstrom-Steffansson, Mr. Mauritz Hakan\",\"male\",0,0,\"110564\",26.55,0],[446,1,\"Dodge, Master. Washington\",\"male\",0,2,\"33638\",81.8583,0],[448,1,\"Seward, Mr. Frederic Kimber\",\"male\",0,0,\"113794\",26.55,0],[450,1,\"Peuchen, Major. Arthur Godfrey\",\"male\",0,0,\"113786\",30.5,0],[454,1,\"Goldenberg, Mr. Samuel L\",\"male\",1,0,\"17453\",89.1042,0],[456,3,\"Jalsevac, Mr. Ivan\",\"male\",0,0,\"349240\",7.8958,0],[461,1,\"Anderson, Mr. Harry\",\"male\",0,0,\"19952\",26.55,0],[485,1,\"Bishop, Mr. Dickinson H\",\"male\",1,0,\"11967\",91.0792,0],[490,3,\"Coutts, Master. Eden Leslie \\\"Neville\\\"\",\"male\",1,1,\"C.A. 37671\",15.9,0],[510,3,\"Lang, Mr. Fang\",\"male\",0,0,\"1601\",56.4958,0],[511,3,\"Daly, Mr. Eugene Patrick\",\"male\",0,0,\"382651\",7.75,0],[513,1,\"McGough, Mr. James Robert\",\"male\",0,0,\"PC 17473\",26.2875,0],[544,2,\"Beane, Mr. Edward\",\"male\",1,0,\"2908\",26.0,0],[550,2,\"Davies, Master. John Morgan Jr\",\"male\",1,1,\"C.A. 33112\",36.75,0],[551,1,\"Thayer, Mr. John Borland Jr\",\"male\",0,2,\"17421\",110.8833,0],[554,3,\"Leeni, Mr. Fahim (\\\"Philip Zenni\\\")\",\"male\",0,0,\"2620\",7.225,0],[570,3,\"Jonsson, Mr. Carl\",\"male\",0,0,\"350417\",7.8542,0],[571,2,\"Harris, Mr. George\",\"male\",0,0,\"S.W./PP 752\",10.5,0],[573,1,\"Flynn, Mr. John Irwin (\\\"Irving\\\")\",\"male\",0,0,\"PC 17474\",26.3875,0],[580,3,\"Jussila, Mr. Eiriik\",\"male\",0,0,\"STON/O 2. 3101286\",7.925,0],[588,1,\"Frolicher-Stehli, Mr. Maxmillian\",\"male\",1,1,\"13567\",79.2,0],[600,1,\"Duff Gordon, Sir. Cosmo Edmund (\\\"Mr Morgan\\\")\",\"male\",1,0,\"PC 17485\",56.9292,0],[605,1,\"Homer, Mr. Harry (\\\"Mr E Haven\\\")\",\"male\",0,0,\"111426\",26.55,0],[608,1,\"Daniel, Mr. Robert Williams\",\"male\",0,0,\"113804\",30.5,0],[622,1,\"Kimball, Mr. Edwin Nelson Jr\",\"male\",1,0,\"11753\",52.5542,0],[623,3,\"Nakid, Mr. Sahid\",\"male\",1,1,\"2653\",15.7417,0],[631,1,\"Barkworth, Mr. Algernon Henry Wilson\",\"male\",0,0,\"27042\",30.0,0],[633,1,\"Stahelin-Maeglin, Dr. Max\",\"male\",0,0,\"13214\",30.5,0],[646,1,\"Harper, Mr. Henry Sleeper\",\"male\",1,0,\"PC 17572\",76.7292,0],[648,1,\"Simonius-Blumer, Col. Oberst Alfons\",\"male\",0,0,\"13213\",35.5,0],[661,1,\"Frauenthal, Dr. Henry William\",\"male\",2,0,\"PC 17611\",133.65,0],[665,3,\"Lindqvist, Mr. Eino William\",\"male\",1,0,\"STON/O 2. 3101285\",7.925,0],[674,2,\"Wilhelms, Mr. Charles\",\"male\",0,0,\"244270\",13.0,0],[680,1,\"Cardeza, Mr. Thomas Drake Martinez\",\"male\",0,1,\"PC 17755\",512.3292,0],[682,1,\"Hassab, Mr. Hammad\",\"male\",0,0,\"PC 17572\",76.7292,0],[691,1,\"Dick, Mr. Albert Adrian\",\"male\",1,0,\"17474\",57.0,0],[702,1,\"Silverthorne, Mr. Spencer Victor\",\"male\",0,0,\"PC 17475\",26.2875,0],[708,1,\"Calderhead, Mr. Edward Pennington\",\"male\",0,0,\"PC 17476\",26.2875,0],[713,1,\"Taylor, Mr. Elmer Zebley\",\"male\",1,0,\"19996\",52.0,0],[725,1,\"Chambers, Mr. Norman Campbell\",\"male\",1,0,\"113806\",53.1,0],[738,1,\"Lesurer, Mr. Gustave J\",\"male\",0,0,\"PC 17755\",512.3292,0],[745,3,\"Stranden, Mr. Juho\",\"male\",0,0,\"STON/O 2. 3101288\",7.925,0],[752,3,\"Moor, Master. Meier\",\"male\",0,1,\"392096\",12.475,0],[756,2,\"Hamalainen, Master. Viljo\",\"male\",1,1,\"250649\",14.5,0],[763,3,\"Barah, Mr. Hanna Assi\",\"male\",0,0,\"2663\",7.2292,0],[789,3,\"Dean, Master. Bertram Vere\",\"male\",1,2,\"C.A. 2315\",20.575,0],[803,1,\"Carter, Master. William Thornton II\",\"male\",1,2,\"113760\",120.0,0],[804,3,\"Thomas, Master. Assad Alexander\",\"male\",0,1,\"2625\",8.5167,0],[805,3,\"Hedman, Mr. Oskar Arvid\",\"male\",0,0,\"347089\",6.975,0],[822,3,\"Lulic, Mr. Nikola\",\"male\",0,0,\"315098\",8.6625,0],[828,2,\"Mallet, Master. Andre\",\"male\",0,2,\"S.C./PARIS 2079\",37.0042,0],[832,2,\"Richards, Master. George Sibley\",\"male\",1,1,\"29106\",18.75,0],[839,3,\"Chip, Mr. Chang\",\"male\",0,0,\"1601\",56.4958,0],[858,1,\"Daly, Mr. Peter Denis \",\"male\",0,0,\"113055\",26.55,0],[870,3,\"Johnson, Master. Harold Theodor\",\"male\",1,1,\"347742\",11.1333,0],[890,1,\"Behr, Mr. Karl Howell\",\"male\",0,0,\"111369\",30.0,0]],\"hovertemplate\":\"Sex=%{customdata[3]}<br>Survived=%{x}<br>Age=%{y}<br>PassengerId=%{customdata[0]}<br>Pclass=%{customdata[1]}<br>Name=%{customdata[2]}<br>SibSp=%{customdata[4]}<br>Parch=%{customdata[5]}<br>Ticket=%{customdata[6]}<br>Fare=%{customdata[7]}<br>sex_num=%{customdata[8]}<extra></extra>\",\"legendgroup\":\"male\",\"marker\":{\"color\":\"#EF553B\"},\"name\":\"male\",\"offsetgroup\":\"male\",\"orientation\":\"v\",\"points\":\"all\",\"scalegroup\":\"True\",\"showlegend\":true,\"x\":[1,1,1,1,1,1,1,1,1,1,1,1,1,1,1,1,1,1,1,1,1,1,1,1,1,1,1,1,1,1,1,1,1,1,1,1,1,1,1,1,1,1,1,1,1,1,1,1,1,1,1,1,1,1,1,1,1,1,1,1,1,1,1,1,1,1,1,1,1,1,1,1,1,1,1,1,1,1,1,1,1,1,1,1,1,1,1,1,1,1,1,1,1],\"x0\":\" \",\"xaxis\":\"x\",\"y\":[34.0,28.0,32.0,0.83,29.0,23.0,12.0,24.0,27.0,9.0,1.0,45.0,3.0,18.0,26.0,40.0,16.0,38.0,19.0,37.0,3.0,25.0,25.0,19.0,30.0,42.0,0.92,45.0,2.0,3.0,25.0,36.0,21.0,39.0,3.0,44.0,32.0,28.0,4.0,34.0,52.0,49.0,29.0,48.0,25.0,9.0,26.0,29.0,36.0,32.0,8.0,17.0,22.0,32.0,62.0,36.0,32.0,60.0,49.0,35.0,27.0,42.0,20.0,80.0,32.0,48.0,56.0,50.0,20.0,31.0,36.0,27.0,31.0,35.0,42.0,48.0,27.0,35.0,31.0,6.0,0.67,20.0,1.0,11.0,0.42,27.0,27.0,1.0,0.83,32.0,51.0,4.0,26.0],\"y0\":\" \",\"yaxis\":\"y\",\"type\":\"violin\"}],                        {\"template\":{\"data\":{\"bar\":[{\"error_x\":{\"color\":\"#2a3f5f\"},\"error_y\":{\"color\":\"#2a3f5f\"},\"marker\":{\"line\":{\"color\":\"#E5ECF6\",\"width\":0.5},\"pattern\":{\"fillmode\":\"overlay\",\"size\":10,\"solidity\":0.2}},\"type\":\"bar\"}],\"barpolar\":[{\"marker\":{\"line\":{\"color\":\"#E5ECF6\",\"width\":0.5},\"pattern\":{\"fillmode\":\"overlay\",\"size\":10,\"solidity\":0.2}},\"type\":\"barpolar\"}],\"carpet\":[{\"aaxis\":{\"endlinecolor\":\"#2a3f5f\",\"gridcolor\":\"white\",\"linecolor\":\"white\",\"minorgridcolor\":\"white\",\"startlinecolor\":\"#2a3f5f\"},\"baxis\":{\"endlinecolor\":\"#2a3f5f\",\"gridcolor\":\"white\",\"linecolor\":\"white\",\"minorgridcolor\":\"white\",\"startlinecolor\":\"#2a3f5f\"},\"type\":\"carpet\"}],\"choropleth\":[{\"colorbar\":{\"outlinewidth\":0,\"ticks\":\"\"},\"type\":\"choropleth\"}],\"contour\":[{\"colorbar\":{\"outlinewidth\":0,\"ticks\":\"\"},\"colorscale\":[[0.0,\"#0d0887\"],[0.1111111111111111,\"#46039f\"],[0.2222222222222222,\"#7201a8\"],[0.3333333333333333,\"#9c179e\"],[0.4444444444444444,\"#bd3786\"],[0.5555555555555556,\"#d8576b\"],[0.6666666666666666,\"#ed7953\"],[0.7777777777777778,\"#fb9f3a\"],[0.8888888888888888,\"#fdca26\"],[1.0,\"#f0f921\"]],\"type\":\"contour\"}],\"contourcarpet\":[{\"colorbar\":{\"outlinewidth\":0,\"ticks\":\"\"},\"type\":\"contourcarpet\"}],\"heatmap\":[{\"colorbar\":{\"outlinewidth\":0,\"ticks\":\"\"},\"colorscale\":[[0.0,\"#0d0887\"],[0.1111111111111111,\"#46039f\"],[0.2222222222222222,\"#7201a8\"],[0.3333333333333333,\"#9c179e\"],[0.4444444444444444,\"#bd3786\"],[0.5555555555555556,\"#d8576b\"],[0.6666666666666666,\"#ed7953\"],[0.7777777777777778,\"#fb9f3a\"],[0.8888888888888888,\"#fdca26\"],[1.0,\"#f0f921\"]],\"type\":\"heatmap\"}],\"heatmapgl\":[{\"colorbar\":{\"outlinewidth\":0,\"ticks\":\"\"},\"colorscale\":[[0.0,\"#0d0887\"],[0.1111111111111111,\"#46039f\"],[0.2222222222222222,\"#7201a8\"],[0.3333333333333333,\"#9c179e\"],[0.4444444444444444,\"#bd3786\"],[0.5555555555555556,\"#d8576b\"],[0.6666666666666666,\"#ed7953\"],[0.7777777777777778,\"#fb9f3a\"],[0.8888888888888888,\"#fdca26\"],[1.0,\"#f0f921\"]],\"type\":\"heatmapgl\"}],\"histogram\":[{\"marker\":{\"pattern\":{\"fillmode\":\"overlay\",\"size\":10,\"solidity\":0.2}},\"type\":\"histogram\"}],\"histogram2d\":[{\"colorbar\":{\"outlinewidth\":0,\"ticks\":\"\"},\"colorscale\":[[0.0,\"#0d0887\"],[0.1111111111111111,\"#46039f\"],[0.2222222222222222,\"#7201a8\"],[0.3333333333333333,\"#9c179e\"],[0.4444444444444444,\"#bd3786\"],[0.5555555555555556,\"#d8576b\"],[0.6666666666666666,\"#ed7953\"],[0.7777777777777778,\"#fb9f3a\"],[0.8888888888888888,\"#fdca26\"],[1.0,\"#f0f921\"]],\"type\":\"histogram2d\"}],\"histogram2dcontour\":[{\"colorbar\":{\"outlinewidth\":0,\"ticks\":\"\"},\"colorscale\":[[0.0,\"#0d0887\"],[0.1111111111111111,\"#46039f\"],[0.2222222222222222,\"#7201a8\"],[0.3333333333333333,\"#9c179e\"],[0.4444444444444444,\"#bd3786\"],[0.5555555555555556,\"#d8576b\"],[0.6666666666666666,\"#ed7953\"],[0.7777777777777778,\"#fb9f3a\"],[0.8888888888888888,\"#fdca26\"],[1.0,\"#f0f921\"]],\"type\":\"histogram2dcontour\"}],\"mesh3d\":[{\"colorbar\":{\"outlinewidth\":0,\"ticks\":\"\"},\"type\":\"mesh3d\"}],\"parcoords\":[{\"line\":{\"colorbar\":{\"outlinewidth\":0,\"ticks\":\"\"}},\"type\":\"parcoords\"}],\"pie\":[{\"automargin\":true,\"type\":\"pie\"}],\"scatter\":[{\"marker\":{\"colorbar\":{\"outlinewidth\":0,\"ticks\":\"\"}},\"type\":\"scatter\"}],\"scatter3d\":[{\"line\":{\"colorbar\":{\"outlinewidth\":0,\"ticks\":\"\"}},\"marker\":{\"colorbar\":{\"outlinewidth\":0,\"ticks\":\"\"}},\"type\":\"scatter3d\"}],\"scattercarpet\":[{\"marker\":{\"colorbar\":{\"outlinewidth\":0,\"ticks\":\"\"}},\"type\":\"scattercarpet\"}],\"scattergeo\":[{\"marker\":{\"colorbar\":{\"outlinewidth\":0,\"ticks\":\"\"}},\"type\":\"scattergeo\"}],\"scattergl\":[{\"marker\":{\"colorbar\":{\"outlinewidth\":0,\"ticks\":\"\"}},\"type\":\"scattergl\"}],\"scattermapbox\":[{\"marker\":{\"colorbar\":{\"outlinewidth\":0,\"ticks\":\"\"}},\"type\":\"scattermapbox\"}],\"scatterpolar\":[{\"marker\":{\"colorbar\":{\"outlinewidth\":0,\"ticks\":\"\"}},\"type\":\"scatterpolar\"}],\"scatterpolargl\":[{\"marker\":{\"colorbar\":{\"outlinewidth\":0,\"ticks\":\"\"}},\"type\":\"scatterpolargl\"}],\"scatterternary\":[{\"marker\":{\"colorbar\":{\"outlinewidth\":0,\"ticks\":\"\"}},\"type\":\"scatterternary\"}],\"surface\":[{\"colorbar\":{\"outlinewidth\":0,\"ticks\":\"\"},\"colorscale\":[[0.0,\"#0d0887\"],[0.1111111111111111,\"#46039f\"],[0.2222222222222222,\"#7201a8\"],[0.3333333333333333,\"#9c179e\"],[0.4444444444444444,\"#bd3786\"],[0.5555555555555556,\"#d8576b\"],[0.6666666666666666,\"#ed7953\"],[0.7777777777777778,\"#fb9f3a\"],[0.8888888888888888,\"#fdca26\"],[1.0,\"#f0f921\"]],\"type\":\"surface\"}],\"table\":[{\"cells\":{\"fill\":{\"color\":\"#EBF0F8\"},\"line\":{\"color\":\"white\"}},\"header\":{\"fill\":{\"color\":\"#C8D4E3\"},\"line\":{\"color\":\"white\"}},\"type\":\"table\"}]},\"layout\":{\"annotationdefaults\":{\"arrowcolor\":\"#2a3f5f\",\"arrowhead\":0,\"arrowwidth\":1},\"autotypenumbers\":\"strict\",\"coloraxis\":{\"colorbar\":{\"outlinewidth\":0,\"ticks\":\"\"}},\"colorscale\":{\"diverging\":[[0,\"#8e0152\"],[0.1,\"#c51b7d\"],[0.2,\"#de77ae\"],[0.3,\"#f1b6da\"],[0.4,\"#fde0ef\"],[0.5,\"#f7f7f7\"],[0.6,\"#e6f5d0\"],[0.7,\"#b8e186\"],[0.8,\"#7fbc41\"],[0.9,\"#4d9221\"],[1,\"#276419\"]],\"sequential\":[[0.0,\"#0d0887\"],[0.1111111111111111,\"#46039f\"],[0.2222222222222222,\"#7201a8\"],[0.3333333333333333,\"#9c179e\"],[0.4444444444444444,\"#bd3786\"],[0.5555555555555556,\"#d8576b\"],[0.6666666666666666,\"#ed7953\"],[0.7777777777777778,\"#fb9f3a\"],[0.8888888888888888,\"#fdca26\"],[1.0,\"#f0f921\"]],\"sequentialminus\":[[0.0,\"#0d0887\"],[0.1111111111111111,\"#46039f\"],[0.2222222222222222,\"#7201a8\"],[0.3333333333333333,\"#9c179e\"],[0.4444444444444444,\"#bd3786\"],[0.5555555555555556,\"#d8576b\"],[0.6666666666666666,\"#ed7953\"],[0.7777777777777778,\"#fb9f3a\"],[0.8888888888888888,\"#fdca26\"],[1.0,\"#f0f921\"]]},\"colorway\":[\"#636efa\",\"#EF553B\",\"#00cc96\",\"#ab63fa\",\"#FFA15A\",\"#19d3f3\",\"#FF6692\",\"#B6E880\",\"#FF97FF\",\"#FECB52\"],\"font\":{\"color\":\"#2a3f5f\"},\"geo\":{\"bgcolor\":\"white\",\"lakecolor\":\"white\",\"landcolor\":\"#E5ECF6\",\"showlakes\":true,\"showland\":true,\"subunitcolor\":\"white\"},\"hoverlabel\":{\"align\":\"left\"},\"hovermode\":\"closest\",\"mapbox\":{\"style\":\"light\"},\"paper_bgcolor\":\"white\",\"plot_bgcolor\":\"#E5ECF6\",\"polar\":{\"angularaxis\":{\"gridcolor\":\"white\",\"linecolor\":\"white\",\"ticks\":\"\"},\"bgcolor\":\"#E5ECF6\",\"radialaxis\":{\"gridcolor\":\"white\",\"linecolor\":\"white\",\"ticks\":\"\"}},\"scene\":{\"xaxis\":{\"backgroundcolor\":\"#E5ECF6\",\"gridcolor\":\"white\",\"gridwidth\":2,\"linecolor\":\"white\",\"showbackground\":true,\"ticks\":\"\",\"zerolinecolor\":\"white\"},\"yaxis\":{\"backgroundcolor\":\"#E5ECF6\",\"gridcolor\":\"white\",\"gridwidth\":2,\"linecolor\":\"white\",\"showbackground\":true,\"ticks\":\"\",\"zerolinecolor\":\"white\"},\"zaxis\":{\"backgroundcolor\":\"#E5ECF6\",\"gridcolor\":\"white\",\"gridwidth\":2,\"linecolor\":\"white\",\"showbackground\":true,\"ticks\":\"\",\"zerolinecolor\":\"white\"}},\"shapedefaults\":{\"line\":{\"color\":\"#2a3f5f\"}},\"ternary\":{\"aaxis\":{\"gridcolor\":\"white\",\"linecolor\":\"white\",\"ticks\":\"\"},\"baxis\":{\"gridcolor\":\"white\",\"linecolor\":\"white\",\"ticks\":\"\"},\"bgcolor\":\"#E5ECF6\",\"caxis\":{\"gridcolor\":\"white\",\"linecolor\":\"white\",\"ticks\":\"\"}},\"title\":{\"x\":0.05},\"xaxis\":{\"automargin\":true,\"gridcolor\":\"white\",\"linecolor\":\"white\",\"ticks\":\"\",\"title\":{\"standoff\":15},\"zerolinecolor\":\"white\",\"zerolinewidth\":2},\"yaxis\":{\"automargin\":true,\"gridcolor\":\"white\",\"linecolor\":\"white\",\"ticks\":\"\",\"title\":{\"standoff\":15},\"zerolinecolor\":\"white\",\"zerolinewidth\":2}}},\"xaxis\":{\"anchor\":\"y\",\"domain\":[0.0,1.0],\"title\":{\"text\":\"Survived\"}},\"yaxis\":{\"anchor\":\"x\",\"domain\":[0.0,1.0],\"title\":{\"text\":\"Age\"}},\"legend\":{\"title\":{\"text\":\"Sex\"},\"tracegroupgap\":0},\"margin\":{\"t\":60},\"violinmode\":\"group\"},                        {\"responsive\": true}                    ).then(function(){\n",
              "                            \n",
              "var gd = document.getElementById('ebd3ed0c-4716-4c67-8cbf-d436018099b8');\n",
              "var x = new MutationObserver(function (mutations, observer) {{\n",
              "        var display = window.getComputedStyle(gd).display;\n",
              "        if (!display || display === 'none') {{\n",
              "            console.log([gd, 'removed!']);\n",
              "            Plotly.purge(gd);\n",
              "            observer.disconnect();\n",
              "        }}\n",
              "}});\n",
              "\n",
              "// Listen for the removal of the full notebook cells\n",
              "var notebookContainer = gd.closest('#notebook-container');\n",
              "if (notebookContainer) {{\n",
              "    x.observe(notebookContainer, {childList: true});\n",
              "}}\n",
              "\n",
              "// Listen for the clearing of the current output cell\n",
              "var outputEl = gd.closest('.output');\n",
              "if (outputEl) {{\n",
              "    x.observe(outputEl, {childList: true});\n",
              "}}\n",
              "\n",
              "                        })                };                            </script>        </div>\n",
              "</body>\n",
              "</html>"
            ]
          },
          "metadata": {}
        }
      ],
      "source": [
        "# # Primera Infancia (0-5 años)\n",
        "# hierarchy(\"Age>=0 & Age<=5 \")\n",
        "# # Infancia (6 - 11 años)\n",
        "# hierarchy(\"Age>=6 & Age<=11 \")\n",
        "# # Adolescencia (12 - 18 años)\n",
        "# hierarchy(\"Age>=12 & Age<=18 \")\n",
        "# # Juventud (14 - 26 años)\n",
        "# hierarchy(\"Age>=14 & Age<=26 \")\n",
        "# # Adultez (27- 59 años)\n",
        "# hierarchy(\"Age>=27 & Age<=59 \")\n",
        "# # Persona Mayor (60 años o mas) envejecimiento y vejez\n",
        "# hierarchy(\"Age<=60\")\n",
        "\n",
        "fig = px.violin(df.query(\"Survived ==1\"), y=\"Age\", x=\"Survived\", color=\"Sex\", box=True, points=\"all\", hover_data=df.columns)\n",
        "fig.show()"
      ]
    },
    {
      "cell_type": "code",
      "execution_count": null,
      "metadata": {
        "colab": {
          "base_uri": "https://localhost:8080/",
          "height": 542
        },
        "id": "07xn_K6kJ5fT",
        "outputId": "05a37bcc-3e65-4816-fc97-8ba13be7a672"
      },
      "outputs": [
        {
          "output_type": "display_data",
          "data": {
            "text/html": [
              "<html>\n",
              "<head><meta charset=\"utf-8\" /></head>\n",
              "<body>\n",
              "    <div>            <script src=\"https://cdnjs.cloudflare.com/ajax/libs/mathjax/2.7.5/MathJax.js?config=TeX-AMS-MML_SVG\"></script><script type=\"text/javascript\">if (window.MathJax) {MathJax.Hub.Config({SVG: {font: \"STIX-Web\"}});}</script>                <script type=\"text/javascript\">window.PlotlyConfig = {MathJaxConfig: 'local'};</script>\n",
              "        <script src=\"https://cdn.plot.ly/plotly-2.8.3.min.js\"></script>                <div id=\"295e0559-f3ec-4ffd-be93-a90feeca60bd\" class=\"plotly-graph-div\" style=\"height:525px; width:100%;\"></div>            <script type=\"text/javascript\">                                    window.PLOTLYENV=window.PLOTLYENV || {};                                    if (document.getElementById(\"295e0559-f3ec-4ffd-be93-a90feeca60bd\")) {                    Plotly.newPlot(                        \"295e0559-f3ec-4ffd-be93-a90feeca60bd\",                        [{\"hovertemplate\":\"Sex=male<br>Survived=0<br>Age=%{x}<br>probability=%{y}<extra></extra>\",\"legendgroup\":\"male\",\"line\":{\"dash\":\"solid\",\"shape\":\"hv\"},\"marker\":{\"color\":\"#636efa\",\"symbol\":\"circle\"},\"mode\":\"lines\",\"name\":\"male\",\"orientation\":\"v\",\"showlegend\":true,\"x\":[1.0,1.0,2.0,2.0,2.0,4.0,4.0,4.0,7.0,7.0,8.0,9.0,9.0,10.0,11.0,11.0,14.0,14.0,15.0,16.0,16.0,16.0,16.0,16.0,16.0,16.0,16.0,16.0,16.0,17.0,17.0,17.0,17.0,17.0,17.0,18.0,18.0,18.0,18.0,18.0,18.0,18.0,18.0,18.0,18.0,18.0,18.0,19.0,19.0,19.0,19.0,19.0,19.0,19.0,19.0,19.0,19.0,19.0,19.0,19.0,19.0,19.0,19.0,20.0,20.0,20.0,20.0,20.0,20.0,20.0,20.0,20.0,20.0,20.5,21.0,21.0,21.0,21.0,21.0,21.0,21.0,21.0,21.0,21.0,21.0,21.0,21.0,21.0,21.0,21.0,22.0,22.0,22.0,22.0,22.0,22.0,22.0,22.0,22.0,22.0,22.0,22.0,22.0,22.0,23.0,23.0,23.0,23.0,23.0,23.0,23.0,23.0,23.0,23.5,24.0,24.0,24.0,24.0,24.0,24.0,24.0,24.0,24.0,24.0,24.0,24.0,24.0,24.5,25.0,25.0,25.0,25.0,25.0,25.0,25.0,25.0,25.0,25.0,25.0,25.0,25.0,25.0,26.0,26.0,26.0,26.0,26.0,26.0,26.0,26.0,26.0,26.0,27.0,27.0,27.0,27.0,27.0,27.0,28.0,28.0,28.0,28.0,28.0,28.0,28.0,28.0,28.0,28.0,28.0,28.0,28.0,28.0,28.0,28.0,28.5,28.5,29.0,29.0,29.0,29.0,29.0,29.0,29.0,29.0,29.0,29.0,30.0,30.0,30.0,30.0,30.0,30.0,30.0,30.0,30.0,30.0,30.0,30.0,30.0,30.5,31.0,31.0,31.0,31.0,31.0,31.0,31.0,32.0,32.0,32.0,32.0,32.0,32.0,32.0,32.0,32.5,33.0,33.0,33.0,33.0,33.0,33.0,33.0,33.0,33.0,34.0,34.0,34.0,34.0,34.0,34.0,34.0,34.0,34.0,34.5,35.0,35.0,35.0,35.0,35.0,35.0,35.0,36.0,36.0,36.0,36.0,36.0,36.0,36.0,36.0,36.0,36.0,36.0,36.5,37.0,37.0,37.0,37.0,38.0,38.0,38.0,38.0,38.0,39.0,39.0,39.0,39.0,39.0,39.0,39.0,40.0,40.0,40.0,40.0,40.0,40.0,40.5,40.5,41.0,41.0,42.0,42.0,42.0,42.0,42.0,42.0,42.0,43.0,43.0,43.0,44.0,44.0,44.0,44.0,44.0,45.0,45.0,45.0,45.0,45.5,45.5,46.0,46.0,46.0,47.0,47.0,47.0,47.0,47.0,47.0,47.0,48.0,48.0,49.0,49.0,50.0,50.0,50.0,50.0,51.0,51.0,51.0,51.0,51.0,52.0,52.0,52.0,54.0,54.0,54.0,54.0,54.0,55.0,55.5,56.0,56.0,57.0,58.0,58.0,59.0,59.0,60.0,60.0,61.0,61.0,61.0,62.0,62.0,64.0,64.0,65.0,65.0,65.0,66.0,70.0,70.0,70.5,71.0,71.0,74.0],\"xaxis\":\"x\",\"y\":[0.002777777777777778,0.005555555555555556,0.008333333333333333,0.011111111111111112,0.013888888888888888,0.016666666666666666,0.019444444444444445,0.022222222222222223,0.025,0.027777777777777776,0.030555555555555555,0.03333333333333333,0.03611111111111111,0.03888888888888889,0.041666666666666664,0.044444444444444446,0.04722222222222222,0.05,0.05277777777777778,0.05555555555555555,0.058333333333333334,0.06111111111111111,0.06388888888888888,0.06666666666666667,0.06944444444444445,0.07222222222222222,0.075,0.07777777777777778,0.08055555555555556,0.08333333333333333,0.08611111111111111,0.08888888888888889,0.09166666666666666,0.09444444444444444,0.09722222222222222,0.1,0.10277777777777777,0.10555555555555556,0.10833333333333334,0.1111111111111111,0.11388888888888889,0.11666666666666667,0.11944444444444445,0.12222222222222222,0.125,0.12777777777777777,0.13055555555555556,0.13333333333333333,0.1361111111111111,0.1388888888888889,0.14166666666666666,0.14444444444444443,0.14722222222222223,0.15,0.1527777777777778,0.15555555555555556,0.15833333333333333,0.16111111111111112,0.1638888888888889,0.16666666666666666,0.16944444444444445,0.17222222222222222,0.175,0.17777777777777778,0.18055555555555555,0.18333333333333332,0.18611111111111112,0.18888888888888888,0.19166666666666668,0.19444444444444445,0.19722222222222222,0.2,0.20277777777777778,0.20555555555555555,0.20833333333333334,0.2111111111111111,0.21388888888888888,0.21666666666666667,0.21944444444444444,0.2222222222222222,0.225,0.22777777777777777,0.23055555555555557,0.23333333333333334,0.2361111111111111,0.2388888888888889,0.24166666666666667,0.24444444444444444,0.24722222222222223,0.25,0.25277777777777777,0.25555555555555554,0.25833333333333336,0.2611111111111111,0.2638888888888889,0.26666666666666666,0.26944444444444443,0.2722222222222222,0.275,0.2777777777777778,0.28055555555555556,0.2833333333333333,0.2861111111111111,0.28888888888888886,0.2916666666666667,0.29444444444444445,0.2972222222222222,0.3,0.30277777777777776,0.3055555555555556,0.30833333333333335,0.3111111111111111,0.3138888888888889,0.31666666666666665,0.3194444444444444,0.32222222222222224,0.325,0.3277777777777778,0.33055555555555555,0.3333333333333333,0.33611111111111114,0.3388888888888889,0.3416666666666667,0.34444444444444444,0.3472222222222222,0.35,0.3527777777777778,0.35555555555555557,0.35833333333333334,0.3611111111111111,0.3638888888888889,0.36666666666666664,0.36944444444444446,0.37222222222222223,0.375,0.37777777777777777,0.38055555555555554,0.38333333333333336,0.3861111111111111,0.3888888888888889,0.39166666666666666,0.39444444444444443,0.3972222222222222,0.4,0.4027777777777778,0.40555555555555556,0.4083333333333333,0.4111111111111111,0.41388888888888886,0.4166666666666667,0.41944444444444445,0.4222222222222222,0.425,0.42777777777777776,0.4305555555555556,0.43333333333333335,0.4361111111111111,0.4388888888888889,0.44166666666666665,0.4444444444444444,0.44722222222222224,0.45,0.4527777777777778,0.45555555555555555,0.4583333333333333,0.46111111111111114,0.4638888888888889,0.4666666666666667,0.46944444444444444,0.4722222222222222,0.475,0.4777777777777778,0.48055555555555557,0.48333333333333334,0.4861111111111111,0.4888888888888889,0.49166666666666664,0.49444444444444446,0.49722222222222223,0.5,0.5027777777777778,0.5055555555555555,0.5083333333333333,0.5111111111111111,0.5138888888888888,0.5166666666666667,0.5194444444444445,0.5222222222222223,0.525,0.5277777777777778,0.5305555555555556,0.5333333333333333,0.5361111111111111,0.5388888888888889,0.5416666666666666,0.5444444444444444,0.5472222222222223,0.55,0.5527777777777778,0.5555555555555556,0.5583333333333333,0.5611111111111111,0.5638888888888889,0.5666666666666667,0.5694444444444444,0.5722222222222222,0.575,0.5777777777777777,0.5805555555555556,0.5833333333333334,0.5861111111111111,0.5888888888888889,0.5916666666666667,0.5944444444444444,0.5972222222222222,0.6,0.6027777777777777,0.6055555555555555,0.6083333333333333,0.6111111111111112,0.6138888888888889,0.6166666666666667,0.6194444444444445,0.6222222222222222,0.625,0.6277777777777778,0.6305555555555555,0.6333333333333333,0.6361111111111111,0.6388888888888888,0.6416666666666667,0.6444444444444445,0.6472222222222223,0.65,0.6527777777777778,0.6555555555555556,0.6583333333333333,0.6611111111111111,0.6638888888888889,0.6666666666666666,0.6694444444444444,0.6722222222222223,0.675,0.6777777777777778,0.6805555555555556,0.6833333333333333,0.6861111111111111,0.6888888888888889,0.6916666666666667,0.6944444444444444,0.6972222222222222,0.7,0.7027777777777777,0.7055555555555556,0.7083333333333334,0.7111111111111111,0.7138888888888889,0.7166666666666667,0.7194444444444444,0.7222222222222222,0.725,0.7277777777777777,0.7305555555555555,0.7333333333333333,0.7361111111111112,0.7388888888888889,0.7416666666666667,0.7444444444444445,0.7472222222222222,0.75,0.7527777777777778,0.7555555555555555,0.7583333333333333,0.7611111111111111,0.7638888888888888,0.7666666666666667,0.7694444444444445,0.7722222222222223,0.775,0.7777777777777778,0.7805555555555556,0.7833333333333333,0.7861111111111111,0.7888888888888889,0.7916666666666666,0.7944444444444444,0.7972222222222223,0.8,0.8027777777777778,0.8055555555555556,0.8083333333333333,0.8111111111111111,0.8138888888888889,0.8166666666666667,0.8194444444444444,0.8222222222222222,0.825,0.8277777777777777,0.8305555555555556,0.8333333333333334,0.8361111111111111,0.8388888888888889,0.8416666666666667,0.8444444444444444,0.8472222222222222,0.85,0.8527777777777777,0.8555555555555555,0.8583333333333333,0.8611111111111112,0.8638888888888889,0.8666666666666667,0.8694444444444445,0.8722222222222222,0.875,0.8777777777777778,0.8805555555555555,0.8833333333333333,0.8861111111111111,0.8888888888888888,0.8916666666666667,0.8944444444444445,0.8972222222222223,0.9,0.9027777777777778,0.9055555555555556,0.9083333333333333,0.9111111111111111,0.9138888888888889,0.9166666666666666,0.9194444444444444,0.9222222222222223,0.925,0.9277777777777778,0.9305555555555556,0.9333333333333333,0.9361111111111111,0.9388888888888889,0.9416666666666667,0.9444444444444444,0.9472222222222222,0.95,0.9527777777777777,0.9555555555555556,0.9583333333333334,0.9611111111111111,0.9638888888888889,0.9666666666666667,0.9694444444444444,0.9722222222222222,0.975,0.9777777777777777,0.9805555555555555,0.9833333333333333,0.9861111111111112,0.9888888888888889,0.9916666666666667,0.9944444444444445,0.9972222222222222,1.0],\"yaxis\":\"y\",\"type\":\"scatter\"},{\"hovertemplate\":\"Sex=female<br>Survived=0<br>Age=%{x}<br>probability=%{y}<extra></extra>\",\"legendgroup\":\"female\",\"line\":{\"dash\":\"solid\",\"shape\":\"hv\"},\"marker\":{\"color\":\"#EF553B\",\"symbol\":\"circle\"},\"mode\":\"lines\",\"name\":\"female\",\"orientation\":\"v\",\"showlegend\":true,\"x\":[2.0,2.0,2.0,2.0,3.0,6.0,8.0,9.0,9.0,9.0,9.0,10.0,11.0,14.0,14.5,16.0,17.0,18.0,18.0,18.0,18.0,18.0,20.0,20.0,21.0,21.0,21.0,22.0,22.0,23.0,24.0,24.0,25.0,25.0,25.0,26.0,26.0,27.0,28.0,28.0,29.0,29.0,30.0,30.0,30.5,31.0,31.0,32.0,37.0,38.0,39.0,39.0,40.0,41.0,41.0,43.0,44.0,45.0,45.0,45.0,47.0,48.0,50.0,57.0],\"xaxis\":\"x\",\"y\":[0.015625,0.03125,0.046875,0.0625,0.078125,0.09375,0.109375,0.125,0.140625,0.15625,0.171875,0.1875,0.203125,0.21875,0.234375,0.25,0.265625,0.28125,0.296875,0.3125,0.328125,0.34375,0.359375,0.375,0.390625,0.40625,0.421875,0.4375,0.453125,0.46875,0.484375,0.5,0.515625,0.53125,0.546875,0.5625,0.578125,0.59375,0.609375,0.625,0.640625,0.65625,0.671875,0.6875,0.703125,0.71875,0.734375,0.75,0.765625,0.78125,0.796875,0.8125,0.828125,0.84375,0.859375,0.875,0.890625,0.90625,0.921875,0.9375,0.953125,0.96875,0.984375,1.0],\"yaxis\":\"y\",\"type\":\"scatter\"}],                        {\"template\":{\"data\":{\"bar\":[{\"error_x\":{\"color\":\"#2a3f5f\"},\"error_y\":{\"color\":\"#2a3f5f\"},\"marker\":{\"line\":{\"color\":\"#E5ECF6\",\"width\":0.5},\"pattern\":{\"fillmode\":\"overlay\",\"size\":10,\"solidity\":0.2}},\"type\":\"bar\"}],\"barpolar\":[{\"marker\":{\"line\":{\"color\":\"#E5ECF6\",\"width\":0.5},\"pattern\":{\"fillmode\":\"overlay\",\"size\":10,\"solidity\":0.2}},\"type\":\"barpolar\"}],\"carpet\":[{\"aaxis\":{\"endlinecolor\":\"#2a3f5f\",\"gridcolor\":\"white\",\"linecolor\":\"white\",\"minorgridcolor\":\"white\",\"startlinecolor\":\"#2a3f5f\"},\"baxis\":{\"endlinecolor\":\"#2a3f5f\",\"gridcolor\":\"white\",\"linecolor\":\"white\",\"minorgridcolor\":\"white\",\"startlinecolor\":\"#2a3f5f\"},\"type\":\"carpet\"}],\"choropleth\":[{\"colorbar\":{\"outlinewidth\":0,\"ticks\":\"\"},\"type\":\"choropleth\"}],\"contour\":[{\"colorbar\":{\"outlinewidth\":0,\"ticks\":\"\"},\"colorscale\":[[0.0,\"#0d0887\"],[0.1111111111111111,\"#46039f\"],[0.2222222222222222,\"#7201a8\"],[0.3333333333333333,\"#9c179e\"],[0.4444444444444444,\"#bd3786\"],[0.5555555555555556,\"#d8576b\"],[0.6666666666666666,\"#ed7953\"],[0.7777777777777778,\"#fb9f3a\"],[0.8888888888888888,\"#fdca26\"],[1.0,\"#f0f921\"]],\"type\":\"contour\"}],\"contourcarpet\":[{\"colorbar\":{\"outlinewidth\":0,\"ticks\":\"\"},\"type\":\"contourcarpet\"}],\"heatmap\":[{\"colorbar\":{\"outlinewidth\":0,\"ticks\":\"\"},\"colorscale\":[[0.0,\"#0d0887\"],[0.1111111111111111,\"#46039f\"],[0.2222222222222222,\"#7201a8\"],[0.3333333333333333,\"#9c179e\"],[0.4444444444444444,\"#bd3786\"],[0.5555555555555556,\"#d8576b\"],[0.6666666666666666,\"#ed7953\"],[0.7777777777777778,\"#fb9f3a\"],[0.8888888888888888,\"#fdca26\"],[1.0,\"#f0f921\"]],\"type\":\"heatmap\"}],\"heatmapgl\":[{\"colorbar\":{\"outlinewidth\":0,\"ticks\":\"\"},\"colorscale\":[[0.0,\"#0d0887\"],[0.1111111111111111,\"#46039f\"],[0.2222222222222222,\"#7201a8\"],[0.3333333333333333,\"#9c179e\"],[0.4444444444444444,\"#bd3786\"],[0.5555555555555556,\"#d8576b\"],[0.6666666666666666,\"#ed7953\"],[0.7777777777777778,\"#fb9f3a\"],[0.8888888888888888,\"#fdca26\"],[1.0,\"#f0f921\"]],\"type\":\"heatmapgl\"}],\"histogram\":[{\"marker\":{\"pattern\":{\"fillmode\":\"overlay\",\"size\":10,\"solidity\":0.2}},\"type\":\"histogram\"}],\"histogram2d\":[{\"colorbar\":{\"outlinewidth\":0,\"ticks\":\"\"},\"colorscale\":[[0.0,\"#0d0887\"],[0.1111111111111111,\"#46039f\"],[0.2222222222222222,\"#7201a8\"],[0.3333333333333333,\"#9c179e\"],[0.4444444444444444,\"#bd3786\"],[0.5555555555555556,\"#d8576b\"],[0.6666666666666666,\"#ed7953\"],[0.7777777777777778,\"#fb9f3a\"],[0.8888888888888888,\"#fdca26\"],[1.0,\"#f0f921\"]],\"type\":\"histogram2d\"}],\"histogram2dcontour\":[{\"colorbar\":{\"outlinewidth\":0,\"ticks\":\"\"},\"colorscale\":[[0.0,\"#0d0887\"],[0.1111111111111111,\"#46039f\"],[0.2222222222222222,\"#7201a8\"],[0.3333333333333333,\"#9c179e\"],[0.4444444444444444,\"#bd3786\"],[0.5555555555555556,\"#d8576b\"],[0.6666666666666666,\"#ed7953\"],[0.7777777777777778,\"#fb9f3a\"],[0.8888888888888888,\"#fdca26\"],[1.0,\"#f0f921\"]],\"type\":\"histogram2dcontour\"}],\"mesh3d\":[{\"colorbar\":{\"outlinewidth\":0,\"ticks\":\"\"},\"type\":\"mesh3d\"}],\"parcoords\":[{\"line\":{\"colorbar\":{\"outlinewidth\":0,\"ticks\":\"\"}},\"type\":\"parcoords\"}],\"pie\":[{\"automargin\":true,\"type\":\"pie\"}],\"scatter\":[{\"marker\":{\"colorbar\":{\"outlinewidth\":0,\"ticks\":\"\"}},\"type\":\"scatter\"}],\"scatter3d\":[{\"line\":{\"colorbar\":{\"outlinewidth\":0,\"ticks\":\"\"}},\"marker\":{\"colorbar\":{\"outlinewidth\":0,\"ticks\":\"\"}},\"type\":\"scatter3d\"}],\"scattercarpet\":[{\"marker\":{\"colorbar\":{\"outlinewidth\":0,\"ticks\":\"\"}},\"type\":\"scattercarpet\"}],\"scattergeo\":[{\"marker\":{\"colorbar\":{\"outlinewidth\":0,\"ticks\":\"\"}},\"type\":\"scattergeo\"}],\"scattergl\":[{\"marker\":{\"colorbar\":{\"outlinewidth\":0,\"ticks\":\"\"}},\"type\":\"scattergl\"}],\"scattermapbox\":[{\"marker\":{\"colorbar\":{\"outlinewidth\":0,\"ticks\":\"\"}},\"type\":\"scattermapbox\"}],\"scatterpolar\":[{\"marker\":{\"colorbar\":{\"outlinewidth\":0,\"ticks\":\"\"}},\"type\":\"scatterpolar\"}],\"scatterpolargl\":[{\"marker\":{\"colorbar\":{\"outlinewidth\":0,\"ticks\":\"\"}},\"type\":\"scatterpolargl\"}],\"scatterternary\":[{\"marker\":{\"colorbar\":{\"outlinewidth\":0,\"ticks\":\"\"}},\"type\":\"scatterternary\"}],\"surface\":[{\"colorbar\":{\"outlinewidth\":0,\"ticks\":\"\"},\"colorscale\":[[0.0,\"#0d0887\"],[0.1111111111111111,\"#46039f\"],[0.2222222222222222,\"#7201a8\"],[0.3333333333333333,\"#9c179e\"],[0.4444444444444444,\"#bd3786\"],[0.5555555555555556,\"#d8576b\"],[0.6666666666666666,\"#ed7953\"],[0.7777777777777778,\"#fb9f3a\"],[0.8888888888888888,\"#fdca26\"],[1.0,\"#f0f921\"]],\"type\":\"surface\"}],\"table\":[{\"cells\":{\"fill\":{\"color\":\"#EBF0F8\"},\"line\":{\"color\":\"white\"}},\"header\":{\"fill\":{\"color\":\"#C8D4E3\"},\"line\":{\"color\":\"white\"}},\"type\":\"table\"}]},\"layout\":{\"annotationdefaults\":{\"arrowcolor\":\"#2a3f5f\",\"arrowhead\":0,\"arrowwidth\":1},\"autotypenumbers\":\"strict\",\"coloraxis\":{\"colorbar\":{\"outlinewidth\":0,\"ticks\":\"\"}},\"colorscale\":{\"diverging\":[[0,\"#8e0152\"],[0.1,\"#c51b7d\"],[0.2,\"#de77ae\"],[0.3,\"#f1b6da\"],[0.4,\"#fde0ef\"],[0.5,\"#f7f7f7\"],[0.6,\"#e6f5d0\"],[0.7,\"#b8e186\"],[0.8,\"#7fbc41\"],[0.9,\"#4d9221\"],[1,\"#276419\"]],\"sequential\":[[0.0,\"#0d0887\"],[0.1111111111111111,\"#46039f\"],[0.2222222222222222,\"#7201a8\"],[0.3333333333333333,\"#9c179e\"],[0.4444444444444444,\"#bd3786\"],[0.5555555555555556,\"#d8576b\"],[0.6666666666666666,\"#ed7953\"],[0.7777777777777778,\"#fb9f3a\"],[0.8888888888888888,\"#fdca26\"],[1.0,\"#f0f921\"]],\"sequentialminus\":[[0.0,\"#0d0887\"],[0.1111111111111111,\"#46039f\"],[0.2222222222222222,\"#7201a8\"],[0.3333333333333333,\"#9c179e\"],[0.4444444444444444,\"#bd3786\"],[0.5555555555555556,\"#d8576b\"],[0.6666666666666666,\"#ed7953\"],[0.7777777777777778,\"#fb9f3a\"],[0.8888888888888888,\"#fdca26\"],[1.0,\"#f0f921\"]]},\"colorway\":[\"#636efa\",\"#EF553B\",\"#00cc96\",\"#ab63fa\",\"#FFA15A\",\"#19d3f3\",\"#FF6692\",\"#B6E880\",\"#FF97FF\",\"#FECB52\"],\"font\":{\"color\":\"#2a3f5f\"},\"geo\":{\"bgcolor\":\"white\",\"lakecolor\":\"white\",\"landcolor\":\"#E5ECF6\",\"showlakes\":true,\"showland\":true,\"subunitcolor\":\"white\"},\"hoverlabel\":{\"align\":\"left\"},\"hovermode\":\"closest\",\"mapbox\":{\"style\":\"light\"},\"paper_bgcolor\":\"white\",\"plot_bgcolor\":\"#E5ECF6\",\"polar\":{\"angularaxis\":{\"gridcolor\":\"white\",\"linecolor\":\"white\",\"ticks\":\"\"},\"bgcolor\":\"#E5ECF6\",\"radialaxis\":{\"gridcolor\":\"white\",\"linecolor\":\"white\",\"ticks\":\"\"}},\"scene\":{\"xaxis\":{\"backgroundcolor\":\"#E5ECF6\",\"gridcolor\":\"white\",\"gridwidth\":2,\"linecolor\":\"white\",\"showbackground\":true,\"ticks\":\"\",\"zerolinecolor\":\"white\"},\"yaxis\":{\"backgroundcolor\":\"#E5ECF6\",\"gridcolor\":\"white\",\"gridwidth\":2,\"linecolor\":\"white\",\"showbackground\":true,\"ticks\":\"\",\"zerolinecolor\":\"white\"},\"zaxis\":{\"backgroundcolor\":\"#E5ECF6\",\"gridcolor\":\"white\",\"gridwidth\":2,\"linecolor\":\"white\",\"showbackground\":true,\"ticks\":\"\",\"zerolinecolor\":\"white\"}},\"shapedefaults\":{\"line\":{\"color\":\"#2a3f5f\"}},\"ternary\":{\"aaxis\":{\"gridcolor\":\"white\",\"linecolor\":\"white\",\"ticks\":\"\"},\"baxis\":{\"gridcolor\":\"white\",\"linecolor\":\"white\",\"ticks\":\"\"},\"bgcolor\":\"#E5ECF6\",\"caxis\":{\"gridcolor\":\"white\",\"linecolor\":\"white\",\"ticks\":\"\"}},\"title\":{\"x\":0.05},\"xaxis\":{\"automargin\":true,\"gridcolor\":\"white\",\"linecolor\":\"white\",\"ticks\":\"\",\"title\":{\"standoff\":15},\"zerolinecolor\":\"white\",\"zerolinewidth\":2},\"yaxis\":{\"automargin\":true,\"gridcolor\":\"white\",\"linecolor\":\"white\",\"ticks\":\"\",\"title\":{\"standoff\":15},\"zerolinecolor\":\"white\",\"zerolinewidth\":2}}},\"xaxis\":{\"anchor\":\"y\",\"domain\":[0.0,1.0],\"title\":{\"text\":\"Age\"}},\"yaxis\":{\"anchor\":\"x\",\"domain\":[0.0,1.0],\"title\":{\"text\":\"probability\"},\"rangemode\":\"tozero\"},\"legend\":{\"title\":{\"text\":\"Sex\"},\"tracegroupgap\":0},\"margin\":{\"t\":60},\"updatemenus\":[{\"buttons\":[{\"args\":[null,{\"frame\":{\"duration\":500,\"redraw\":false},\"mode\":\"immediate\",\"fromcurrent\":true,\"transition\":{\"duration\":500,\"easing\":\"linear\"}}],\"label\":\"&#9654;\",\"method\":\"animate\"},{\"args\":[[null],{\"frame\":{\"duration\":0,\"redraw\":false},\"mode\":\"immediate\",\"fromcurrent\":true,\"transition\":{\"duration\":0,\"easing\":\"linear\"}}],\"label\":\"&#9724;\",\"method\":\"animate\"}],\"direction\":\"left\",\"pad\":{\"r\":10,\"t\":70},\"showactive\":false,\"type\":\"buttons\",\"x\":0.1,\"xanchor\":\"right\",\"y\":0,\"yanchor\":\"top\"}],\"sliders\":[{\"active\":0,\"currentvalue\":{\"prefix\":\"Survived=\"},\"len\":0.9,\"pad\":{\"b\":10,\"t\":60},\"steps\":[{\"args\":[[\"0\"],{\"frame\":{\"duration\":0,\"redraw\":false},\"mode\":\"immediate\",\"fromcurrent\":true,\"transition\":{\"duration\":0,\"easing\":\"linear\"}}],\"label\":\"0\",\"method\":\"animate\"},{\"args\":[[\"1\"],{\"frame\":{\"duration\":0,\"redraw\":false},\"mode\":\"immediate\",\"fromcurrent\":true,\"transition\":{\"duration\":0,\"easing\":\"linear\"}}],\"label\":\"1\",\"method\":\"animate\"}],\"x\":0.1,\"xanchor\":\"left\",\"y\":0,\"yanchor\":\"top\"}]},                        {\"responsive\": true}                    ).then(function(){\n",
              "                            Plotly.addFrames('295e0559-f3ec-4ffd-be93-a90feeca60bd', [{\"data\":[{\"hovertemplate\":\"Sex=male<br>Survived=0<br>Age=%{x}<br>probability=%{y}<extra></extra>\",\"legendgroup\":\"male\",\"line\":{\"dash\":\"solid\",\"shape\":\"hv\"},\"marker\":{\"color\":\"#636efa\",\"symbol\":\"circle\"},\"mode\":\"lines\",\"name\":\"male\",\"orientation\":\"v\",\"showlegend\":true,\"x\":[1.0,1.0,2.0,2.0,2.0,4.0,4.0,4.0,7.0,7.0,8.0,9.0,9.0,10.0,11.0,11.0,14.0,14.0,15.0,16.0,16.0,16.0,16.0,16.0,16.0,16.0,16.0,16.0,16.0,17.0,17.0,17.0,17.0,17.0,17.0,18.0,18.0,18.0,18.0,18.0,18.0,18.0,18.0,18.0,18.0,18.0,18.0,19.0,19.0,19.0,19.0,19.0,19.0,19.0,19.0,19.0,19.0,19.0,19.0,19.0,19.0,19.0,19.0,20.0,20.0,20.0,20.0,20.0,20.0,20.0,20.0,20.0,20.0,20.5,21.0,21.0,21.0,21.0,21.0,21.0,21.0,21.0,21.0,21.0,21.0,21.0,21.0,21.0,21.0,21.0,22.0,22.0,22.0,22.0,22.0,22.0,22.0,22.0,22.0,22.0,22.0,22.0,22.0,22.0,23.0,23.0,23.0,23.0,23.0,23.0,23.0,23.0,23.0,23.5,24.0,24.0,24.0,24.0,24.0,24.0,24.0,24.0,24.0,24.0,24.0,24.0,24.0,24.5,25.0,25.0,25.0,25.0,25.0,25.0,25.0,25.0,25.0,25.0,25.0,25.0,25.0,25.0,26.0,26.0,26.0,26.0,26.0,26.0,26.0,26.0,26.0,26.0,27.0,27.0,27.0,27.0,27.0,27.0,28.0,28.0,28.0,28.0,28.0,28.0,28.0,28.0,28.0,28.0,28.0,28.0,28.0,28.0,28.0,28.0,28.5,28.5,29.0,29.0,29.0,29.0,29.0,29.0,29.0,29.0,29.0,29.0,30.0,30.0,30.0,30.0,30.0,30.0,30.0,30.0,30.0,30.0,30.0,30.0,30.0,30.5,31.0,31.0,31.0,31.0,31.0,31.0,31.0,32.0,32.0,32.0,32.0,32.0,32.0,32.0,32.0,32.5,33.0,33.0,33.0,33.0,33.0,33.0,33.0,33.0,33.0,34.0,34.0,34.0,34.0,34.0,34.0,34.0,34.0,34.0,34.5,35.0,35.0,35.0,35.0,35.0,35.0,35.0,36.0,36.0,36.0,36.0,36.0,36.0,36.0,36.0,36.0,36.0,36.0,36.5,37.0,37.0,37.0,37.0,38.0,38.0,38.0,38.0,38.0,39.0,39.0,39.0,39.0,39.0,39.0,39.0,40.0,40.0,40.0,40.0,40.0,40.0,40.5,40.5,41.0,41.0,42.0,42.0,42.0,42.0,42.0,42.0,42.0,43.0,43.0,43.0,44.0,44.0,44.0,44.0,44.0,45.0,45.0,45.0,45.0,45.5,45.5,46.0,46.0,46.0,47.0,47.0,47.0,47.0,47.0,47.0,47.0,48.0,48.0,49.0,49.0,50.0,50.0,50.0,50.0,51.0,51.0,51.0,51.0,51.0,52.0,52.0,52.0,54.0,54.0,54.0,54.0,54.0,55.0,55.5,56.0,56.0,57.0,58.0,58.0,59.0,59.0,60.0,60.0,61.0,61.0,61.0,62.0,62.0,64.0,64.0,65.0,65.0,65.0,66.0,70.0,70.0,70.5,71.0,71.0,74.0],\"xaxis\":\"x\",\"y\":[0.002777777777777778,0.005555555555555556,0.008333333333333333,0.011111111111111112,0.013888888888888888,0.016666666666666666,0.019444444444444445,0.022222222222222223,0.025,0.027777777777777776,0.030555555555555555,0.03333333333333333,0.03611111111111111,0.03888888888888889,0.041666666666666664,0.044444444444444446,0.04722222222222222,0.05,0.05277777777777778,0.05555555555555555,0.058333333333333334,0.06111111111111111,0.06388888888888888,0.06666666666666667,0.06944444444444445,0.07222222222222222,0.075,0.07777777777777778,0.08055555555555556,0.08333333333333333,0.08611111111111111,0.08888888888888889,0.09166666666666666,0.09444444444444444,0.09722222222222222,0.1,0.10277777777777777,0.10555555555555556,0.10833333333333334,0.1111111111111111,0.11388888888888889,0.11666666666666667,0.11944444444444445,0.12222222222222222,0.125,0.12777777777777777,0.13055555555555556,0.13333333333333333,0.1361111111111111,0.1388888888888889,0.14166666666666666,0.14444444444444443,0.14722222222222223,0.15,0.1527777777777778,0.15555555555555556,0.15833333333333333,0.16111111111111112,0.1638888888888889,0.16666666666666666,0.16944444444444445,0.17222222222222222,0.175,0.17777777777777778,0.18055555555555555,0.18333333333333332,0.18611111111111112,0.18888888888888888,0.19166666666666668,0.19444444444444445,0.19722222222222222,0.2,0.20277777777777778,0.20555555555555555,0.20833333333333334,0.2111111111111111,0.21388888888888888,0.21666666666666667,0.21944444444444444,0.2222222222222222,0.225,0.22777777777777777,0.23055555555555557,0.23333333333333334,0.2361111111111111,0.2388888888888889,0.24166666666666667,0.24444444444444444,0.24722222222222223,0.25,0.25277777777777777,0.25555555555555554,0.25833333333333336,0.2611111111111111,0.2638888888888889,0.26666666666666666,0.26944444444444443,0.2722222222222222,0.275,0.2777777777777778,0.28055555555555556,0.2833333333333333,0.2861111111111111,0.28888888888888886,0.2916666666666667,0.29444444444444445,0.2972222222222222,0.3,0.30277777777777776,0.3055555555555556,0.30833333333333335,0.3111111111111111,0.3138888888888889,0.31666666666666665,0.3194444444444444,0.32222222222222224,0.325,0.3277777777777778,0.33055555555555555,0.3333333333333333,0.33611111111111114,0.3388888888888889,0.3416666666666667,0.34444444444444444,0.3472222222222222,0.35,0.3527777777777778,0.35555555555555557,0.35833333333333334,0.3611111111111111,0.3638888888888889,0.36666666666666664,0.36944444444444446,0.37222222222222223,0.375,0.37777777777777777,0.38055555555555554,0.38333333333333336,0.3861111111111111,0.3888888888888889,0.39166666666666666,0.39444444444444443,0.3972222222222222,0.4,0.4027777777777778,0.40555555555555556,0.4083333333333333,0.4111111111111111,0.41388888888888886,0.4166666666666667,0.41944444444444445,0.4222222222222222,0.425,0.42777777777777776,0.4305555555555556,0.43333333333333335,0.4361111111111111,0.4388888888888889,0.44166666666666665,0.4444444444444444,0.44722222222222224,0.45,0.4527777777777778,0.45555555555555555,0.4583333333333333,0.46111111111111114,0.4638888888888889,0.4666666666666667,0.46944444444444444,0.4722222222222222,0.475,0.4777777777777778,0.48055555555555557,0.48333333333333334,0.4861111111111111,0.4888888888888889,0.49166666666666664,0.49444444444444446,0.49722222222222223,0.5,0.5027777777777778,0.5055555555555555,0.5083333333333333,0.5111111111111111,0.5138888888888888,0.5166666666666667,0.5194444444444445,0.5222222222222223,0.525,0.5277777777777778,0.5305555555555556,0.5333333333333333,0.5361111111111111,0.5388888888888889,0.5416666666666666,0.5444444444444444,0.5472222222222223,0.55,0.5527777777777778,0.5555555555555556,0.5583333333333333,0.5611111111111111,0.5638888888888889,0.5666666666666667,0.5694444444444444,0.5722222222222222,0.575,0.5777777777777777,0.5805555555555556,0.5833333333333334,0.5861111111111111,0.5888888888888889,0.5916666666666667,0.5944444444444444,0.5972222222222222,0.6,0.6027777777777777,0.6055555555555555,0.6083333333333333,0.6111111111111112,0.6138888888888889,0.6166666666666667,0.6194444444444445,0.6222222222222222,0.625,0.6277777777777778,0.6305555555555555,0.6333333333333333,0.6361111111111111,0.6388888888888888,0.6416666666666667,0.6444444444444445,0.6472222222222223,0.65,0.6527777777777778,0.6555555555555556,0.6583333333333333,0.6611111111111111,0.6638888888888889,0.6666666666666666,0.6694444444444444,0.6722222222222223,0.675,0.6777777777777778,0.6805555555555556,0.6833333333333333,0.6861111111111111,0.6888888888888889,0.6916666666666667,0.6944444444444444,0.6972222222222222,0.7,0.7027777777777777,0.7055555555555556,0.7083333333333334,0.7111111111111111,0.7138888888888889,0.7166666666666667,0.7194444444444444,0.7222222222222222,0.725,0.7277777777777777,0.7305555555555555,0.7333333333333333,0.7361111111111112,0.7388888888888889,0.7416666666666667,0.7444444444444445,0.7472222222222222,0.75,0.7527777777777778,0.7555555555555555,0.7583333333333333,0.7611111111111111,0.7638888888888888,0.7666666666666667,0.7694444444444445,0.7722222222222223,0.775,0.7777777777777778,0.7805555555555556,0.7833333333333333,0.7861111111111111,0.7888888888888889,0.7916666666666666,0.7944444444444444,0.7972222222222223,0.8,0.8027777777777778,0.8055555555555556,0.8083333333333333,0.8111111111111111,0.8138888888888889,0.8166666666666667,0.8194444444444444,0.8222222222222222,0.825,0.8277777777777777,0.8305555555555556,0.8333333333333334,0.8361111111111111,0.8388888888888889,0.8416666666666667,0.8444444444444444,0.8472222222222222,0.85,0.8527777777777777,0.8555555555555555,0.8583333333333333,0.8611111111111112,0.8638888888888889,0.8666666666666667,0.8694444444444445,0.8722222222222222,0.875,0.8777777777777778,0.8805555555555555,0.8833333333333333,0.8861111111111111,0.8888888888888888,0.8916666666666667,0.8944444444444445,0.8972222222222223,0.9,0.9027777777777778,0.9055555555555556,0.9083333333333333,0.9111111111111111,0.9138888888888889,0.9166666666666666,0.9194444444444444,0.9222222222222223,0.925,0.9277777777777778,0.9305555555555556,0.9333333333333333,0.9361111111111111,0.9388888888888889,0.9416666666666667,0.9444444444444444,0.9472222222222222,0.95,0.9527777777777777,0.9555555555555556,0.9583333333333334,0.9611111111111111,0.9638888888888889,0.9666666666666667,0.9694444444444444,0.9722222222222222,0.975,0.9777777777777777,0.9805555555555555,0.9833333333333333,0.9861111111111112,0.9888888888888889,0.9916666666666667,0.9944444444444445,0.9972222222222222,1.0],\"yaxis\":\"y\",\"type\":\"scatter\"},{\"hovertemplate\":\"Sex=female<br>Survived=0<br>Age=%{x}<br>probability=%{y}<extra></extra>\",\"legendgroup\":\"female\",\"line\":{\"dash\":\"solid\",\"shape\":\"hv\"},\"marker\":{\"color\":\"#EF553B\",\"symbol\":\"circle\"},\"mode\":\"lines\",\"name\":\"female\",\"orientation\":\"v\",\"showlegend\":true,\"x\":[2.0,2.0,2.0,2.0,3.0,6.0,8.0,9.0,9.0,9.0,9.0,10.0,11.0,14.0,14.5,16.0,17.0,18.0,18.0,18.0,18.0,18.0,20.0,20.0,21.0,21.0,21.0,22.0,22.0,23.0,24.0,24.0,25.0,25.0,25.0,26.0,26.0,27.0,28.0,28.0,29.0,29.0,30.0,30.0,30.5,31.0,31.0,32.0,37.0,38.0,39.0,39.0,40.0,41.0,41.0,43.0,44.0,45.0,45.0,45.0,47.0,48.0,50.0,57.0],\"xaxis\":\"x\",\"y\":[0.015625,0.03125,0.046875,0.0625,0.078125,0.09375,0.109375,0.125,0.140625,0.15625,0.171875,0.1875,0.203125,0.21875,0.234375,0.25,0.265625,0.28125,0.296875,0.3125,0.328125,0.34375,0.359375,0.375,0.390625,0.40625,0.421875,0.4375,0.453125,0.46875,0.484375,0.5,0.515625,0.53125,0.546875,0.5625,0.578125,0.59375,0.609375,0.625,0.640625,0.65625,0.671875,0.6875,0.703125,0.71875,0.734375,0.75,0.765625,0.78125,0.796875,0.8125,0.828125,0.84375,0.859375,0.875,0.890625,0.90625,0.921875,0.9375,0.953125,0.96875,0.984375,1.0],\"yaxis\":\"y\",\"type\":\"scatter\"}],\"name\":\"0\"},{\"data\":[{\"hovertemplate\":\"Sex=male<br>Survived=1<br>Age=%{x}<br>probability=%{y}<extra></extra>\",\"legendgroup\":\"male\",\"line\":{\"dash\":\"solid\",\"shape\":\"hv\"},\"marker\":{\"color\":\"#636efa\",\"symbol\":\"circle\"},\"mode\":\"lines\",\"name\":\"male\",\"orientation\":\"v\",\"showlegend\":true,\"x\":[0.42,0.67,0.83,0.83,0.92,1.0,1.0,1.0,2.0,3.0,3.0,3.0,3.0,4.0,4.0,6.0,8.0,9.0,9.0,11.0,12.0,16.0,17.0,18.0,19.0,19.0,20.0,20.0,20.0,21.0,22.0,23.0,24.0,25.0,25.0,25.0,25.0,26.0,26.0,26.0,27.0,27.0,27.0,27.0,27.0,27.0,28.0,28.0,29.0,29.0,29.0,30.0,31.0,31.0,31.0,32.0,32.0,32.0,32.0,32.0,32.0,32.0,34.0,34.0,35.0,35.0,35.0,36.0,36.0,36.0,36.0,37.0,38.0,39.0,40.0,42.0,42.0,42.0,44.0,45.0,45.0,48.0,48.0,48.0,49.0,49.0,50.0,51.0,52.0,56.0,60.0,62.0,80.0],\"xaxis\":\"x\",\"y\":[0.010752688172043012,0.021505376344086023,0.03225806451612903,0.043010752688172046,0.053763440860215055,0.06451612903225806,0.07526881720430108,0.08602150537634409,0.0967741935483871,0.10752688172043011,0.11827956989247312,0.12903225806451613,0.13978494623655913,0.15053763440860216,0.16129032258064516,0.17204301075268819,0.1827956989247312,0.1935483870967742,0.20430107526881722,0.21505376344086022,0.22580645161290322,0.23655913978494625,0.24731182795698925,0.25806451612903225,0.26881720430107525,0.27956989247311825,0.2903225806451613,0.3010752688172043,0.3118279569892473,0.3225806451612903,0.3333333333333333,0.34408602150537637,0.3548387096774194,0.3655913978494624,0.3763440860215054,0.3870967741935484,0.3978494623655914,0.40860215053763443,0.41935483870967744,0.43010752688172044,0.44086021505376344,0.45161290322580644,0.46236559139784944,0.4731182795698925,0.4838709677419355,0.4946236559139785,0.5053763440860215,0.5161290322580645,0.5268817204301075,0.5376344086021505,0.5483870967741935,0.5591397849462365,0.5698924731182796,0.5806451612903226,0.5913978494623656,0.6021505376344086,0.6129032258064516,0.6236559139784946,0.6344086021505376,0.6451612903225806,0.6559139784946236,0.6666666666666666,0.6774193548387096,0.6881720430107527,0.6989247311827957,0.7096774193548387,0.7204301075268817,0.7311827956989247,0.7419354838709677,0.7526881720430108,0.7634408602150538,0.7741935483870968,0.7849462365591398,0.7956989247311828,0.8064516129032258,0.8172043010752689,0.8279569892473119,0.8387096774193549,0.8494623655913979,0.8602150537634409,0.8709677419354839,0.8817204301075269,0.8924731182795699,0.9032258064516129,0.9139784946236559,0.9247311827956989,0.9354838709677419,0.946236559139785,0.956989247311828,0.967741935483871,0.978494623655914,0.989247311827957,1.0],\"yaxis\":\"y\",\"type\":\"scatter\"},{\"hovertemplate\":\"Sex=female<br>Survived=1<br>Age=%{x}<br>probability=%{y}<extra></extra>\",\"legendgroup\":\"female\",\"line\":{\"dash\":\"solid\",\"shape\":\"hv\"},\"marker\":{\"color\":\"#EF553B\",\"symbol\":\"circle\"},\"mode\":\"lines\",\"name\":\"female\",\"orientation\":\"v\",\"showlegend\":true,\"x\":[0.75,0.75,1.0,1.0,2.0,2.0,3.0,4.0,4.0,4.0,4.0,4.0,5.0,5.0,5.0,5.0,6.0,7.0,8.0,13.0,13.0,14.0,14.0,14.0,15.0,15.0,15.0,15.0,16.0,16.0,16.0,16.0,16.0,17.0,17.0,17.0,17.0,17.0,18.0,18.0,18.0,18.0,18.0,18.0,18.0,18.0,19.0,19.0,19.0,19.0,19.0,19.0,19.0,21.0,21.0,21.0,21.0,22.0,22.0,22.0,22.0,22.0,22.0,22.0,22.0,22.0,22.0,23.0,23.0,23.0,23.0,24.0,24.0,24.0,24.0,24.0,24.0,24.0,24.0,24.0,24.0,24.0,24.0,24.0,24.0,25.0,25.0,26.0,26.0,26.0,27.0,27.0,27.0,27.0,27.0,28.0,28.0,28.0,28.0,28.0,29.0,29.0,29.0,29.0,29.0,30.0,30.0,30.0,30.0,30.0,30.0,30.0,30.0,30.0,31.0,31.0,31.0,31.0,31.0,32.0,32.0,32.5,33.0,33.0,33.0,33.0,33.0,33.0,34.0,34.0,34.0,34.0,35.0,35.0,35.0,35.0,35.0,35.0,35.0,35.0,36.0,36.0,36.0,36.0,36.0,36.0,36.0,38.0,38.0,38.0,38.0,39.0,39.0,39.0,39.0,40.0,40.0,40.0,40.0,40.0,41.0,41.0,42.0,42.0,42.0,43.0,44.0,44.0,45.0,45.0,45.0,47.0,48.0,48.0,48.0,49.0,49.0,50.0,50.0,50.0,50.0,51.0,52.0,52.0,53.0,54.0,54.0,54.0,55.0,56.0,58.0,58.0,58.0,60.0,62.0,63.0,63.0],\"xaxis\":\"x\",\"y\":[0.005076142131979695,0.01015228426395939,0.015228426395939087,0.02030456852791878,0.025380710659898477,0.030456852791878174,0.03553299492385787,0.04060913705583756,0.04568527918781726,0.050761421319796954,0.05583756345177665,0.06091370558375635,0.06598984771573604,0.07106598984771574,0.07614213197969544,0.08121827411167512,0.08629441624365482,0.09137055837563451,0.09644670050761421,0.10152284263959391,0.1065989847715736,0.1116751269035533,0.116751269035533,0.1218274111675127,0.12690355329949238,0.1319796954314721,0.13705583756345177,0.14213197969543148,0.14720812182741116,0.15228426395939088,0.15736040609137056,0.16243654822335024,0.16751269035532995,0.17258883248730963,0.17766497461928935,0.18274111675126903,0.18781725888324874,0.19289340101522842,0.19796954314720813,0.20304568527918782,0.20812182741116753,0.2131979695431472,0.2182741116751269,0.2233502538071066,0.22842639593908629,0.233502538071066,0.23857868020304568,0.2436548223350254,0.24873096446700507,0.25380710659898476,0.25888324873096447,0.2639593908629442,0.26903553299492383,0.27411167512690354,0.27918781725888325,0.28426395939086296,0.2893401015228426,0.29441624365482233,0.29949238578680204,0.30456852791878175,0.3096446700507614,0.3147208121827411,0.3197969543147208,0.3248730964467005,0.3299492385786802,0.3350253807106599,0.3401015228426396,0.34517766497461927,0.350253807106599,0.3553299492385787,0.3604060913705584,0.36548223350253806,0.37055837563451777,0.3756345177664975,0.38071065989847713,0.38578680203045684,0.39086294416243655,0.39593908629441626,0.4010152284263959,0.40609137055837563,0.41116751269035534,0.41624365482233505,0.4213197969543147,0.4263959390862944,0.43147208121827413,0.4365482233502538,0.4416243654822335,0.4467005076142132,0.4517766497461929,0.45685279187817257,0.4619289340101523,0.467005076142132,0.4720812182741117,0.47715736040609136,0.48223350253807107,0.4873096446700508,0.49238578680203043,0.49746192893401014,0.5025380710659898,0.5076142131979695,0.5126903553299492,0.5177664974619289,0.5228426395939086,0.5279187817258884,0.5329949238578681,0.5380710659898477,0.5431472081218274,0.5482233502538071,0.5532994923857868,0.5583756345177665,0.5634517766497462,0.5685279187817259,0.5736040609137056,0.5786802030456852,0.583756345177665,0.5888324873096447,0.5939086294416244,0.5989847715736041,0.6040609137055838,0.6091370558375635,0.6142131979695431,0.6192893401015228,0.6243654822335025,0.6294416243654822,0.6345177664974619,0.6395939086294417,0.6446700507614214,0.649746192893401,0.6548223350253807,0.6598984771573604,0.6649746192893401,0.6700507614213198,0.6751269035532995,0.6802030456852792,0.6852791878172588,0.6903553299492385,0.6954314720812182,0.700507614213198,0.7055837563451777,0.7106598984771574,0.7157360406091371,0.7208121827411168,0.7258883248730964,0.7309644670050761,0.7360406091370558,0.7411167512690355,0.7461928934010152,0.751269035532995,0.7563451776649747,0.7614213197969543,0.766497461928934,0.7715736040609137,0.7766497461928934,0.7817258883248731,0.7868020304568528,0.7918781725888325,0.7969543147208121,0.8020304568527918,0.8071065989847716,0.8121827411167513,0.817258883248731,0.8223350253807107,0.8274111675126904,0.8324873096446701,0.8375634517766497,0.8426395939086294,0.8477157360406091,0.8527918781725888,0.8578680203045685,0.8629441624365483,0.868020304568528,0.8730964467005076,0.8781725888324873,0.883248730964467,0.8883248730964467,0.8934010152284264,0.8984771573604061,0.9035532994923858,0.9086294416243654,0.9137055837563451,0.9187817258883249,0.9238578680203046,0.9289340101522843,0.934010152284264,0.9390862944162437,0.9441624365482234,0.949238578680203,0.9543147208121827,0.9593908629441624,0.9644670050761421,0.9695431472081218,0.9746192893401016,0.9796954314720813,0.9847715736040609,0.9898477157360406,0.9949238578680203,1.0],\"yaxis\":\"y\",\"type\":\"scatter\"}],\"name\":\"1\"}]);\n",
              "                        }).then(function(){\n",
              "                            \n",
              "var gd = document.getElementById('295e0559-f3ec-4ffd-be93-a90feeca60bd');\n",
              "var x = new MutationObserver(function (mutations, observer) {{\n",
              "        var display = window.getComputedStyle(gd).display;\n",
              "        if (!display || display === 'none') {{\n",
              "            console.log([gd, 'removed!']);\n",
              "            Plotly.purge(gd);\n",
              "            observer.disconnect();\n",
              "        }}\n",
              "}});\n",
              "\n",
              "// Listen for the removal of the full notebook cells\n",
              "var notebookContainer = gd.closest('#notebook-container');\n",
              "if (notebookContainer) {{\n",
              "    x.observe(notebookContainer, {childList: true});\n",
              "}}\n",
              "\n",
              "// Listen for the clearing of the current output cell\n",
              "var outputEl = gd.closest('.output');\n",
              "if (outputEl) {{\n",
              "    x.observe(outputEl, {childList: true});\n",
              "}}\n",
              "\n",
              "                        })                };                            </script>        </div>\n",
              "</body>\n",
              "</html>"
            ]
          },
          "metadata": {}
        }
      ],
      "source": [
        "fig = px.ecdf(df, x=\"Age\", color=\"Sex\",animation_frame=\"Survived\")\n",
        "fig.show()"
      ]
    },
    {
      "cell_type": "code",
      "execution_count": null,
      "metadata": {
        "id": "cJV1sx47J5fT"
      },
      "outputs": [],
      "source": [
        "def hierarchy(cond):\n",
        "    inf = df.query(\"(Age>=0 & Age<=12) &\" + cond)\n",
        "    ado = df.query(\"(Age>=12 & Age<=18) &\" + cond)\n",
        "    juv = df.query(\"(Age>=18 & Age<=30) &\"+ cond)\n",
        "    adul = df.query(\"(Age>=30 & Age<=59) &\"+ cond)\n",
        "    may = df.query(\"Age>=60 & \"+ cond)\n",
        "\n",
        "    return [len(inf), len(ado), len(juv), len(adul),len(may)] "
      ]
    },
    {
      "cell_type": "code",
      "execution_count": null,
      "metadata": {
        "colab": {
          "base_uri": "https://localhost:8080/",
          "height": 542
        },
        "id": "h5glX3GlJ5fT",
        "outputId": "35b4b5b0-e110-4704-ed05-e2dbf9851da7"
      },
      "outputs": [
        {
          "output_type": "display_data",
          "data": {
            "text/html": [
              "<html>\n",
              "<head><meta charset=\"utf-8\" /></head>\n",
              "<body>\n",
              "    <div>            <script src=\"https://cdnjs.cloudflare.com/ajax/libs/mathjax/2.7.5/MathJax.js?config=TeX-AMS-MML_SVG\"></script><script type=\"text/javascript\">if (window.MathJax) {MathJax.Hub.Config({SVG: {font: \"STIX-Web\"}});}</script>                <script type=\"text/javascript\">window.PlotlyConfig = {MathJaxConfig: 'local'};</script>\n",
              "        <script src=\"https://cdn.plot.ly/plotly-2.8.3.min.js\"></script>                <div id=\"dccf75a1-1f3d-4ecf-a219-37163c544c57\" class=\"plotly-graph-div\" style=\"height:525px; width:100%;\"></div>            <script type=\"text/javascript\">                                    window.PLOTLYENV=window.PLOTLYENV || {};                                    if (document.getElementById(\"dccf75a1-1f3d-4ecf-a219-37163c544c57\")) {                    Plotly.newPlot(                        \"dccf75a1-1f3d-4ecf-a219-37163c544c57\",                        [{\"hovertemplate\":\"Sex=male<br>number=%{x}<br>stage=%{y}<extra></extra>\",\"legendgroup\":\"male\",\"marker\":{\"color\":\"#636efa\"},\"name\":\"male\",\"orientation\":\"h\",\"showlegend\":true,\"x\":[21,4,29,39,3],\"xaxis\":\"x\",\"y\":[\"Infancia\",\"Adolecencia\",\"Juventud\",\"Adultez\",\"Persona Mayor\"],\"yaxis\":\"y\",\"type\":\"funnel\"},{\"hovertemplate\":\"Sex=female<br>number=%{x}<br>stage=%{y}<extra></extra>\",\"legendgroup\":\"female\",\"marker\":{\"color\":\"#EF553B\"},\"name\":\"female\",\"orientation\":\"h\",\"showlegend\":true,\"x\":[19,27,76,88,4],\"xaxis\":\"x\",\"y\":[\"Infancia\",\"Adolecencia\",\"Juventud\",\"Adultez\",\"Persona Mayor\"],\"yaxis\":\"y\",\"type\":\"funnel\"}],                        {\"template\":{\"data\":{\"bar\":[{\"error_x\":{\"color\":\"#2a3f5f\"},\"error_y\":{\"color\":\"#2a3f5f\"},\"marker\":{\"line\":{\"color\":\"#E5ECF6\",\"width\":0.5},\"pattern\":{\"fillmode\":\"overlay\",\"size\":10,\"solidity\":0.2}},\"type\":\"bar\"}],\"barpolar\":[{\"marker\":{\"line\":{\"color\":\"#E5ECF6\",\"width\":0.5},\"pattern\":{\"fillmode\":\"overlay\",\"size\":10,\"solidity\":0.2}},\"type\":\"barpolar\"}],\"carpet\":[{\"aaxis\":{\"endlinecolor\":\"#2a3f5f\",\"gridcolor\":\"white\",\"linecolor\":\"white\",\"minorgridcolor\":\"white\",\"startlinecolor\":\"#2a3f5f\"},\"baxis\":{\"endlinecolor\":\"#2a3f5f\",\"gridcolor\":\"white\",\"linecolor\":\"white\",\"minorgridcolor\":\"white\",\"startlinecolor\":\"#2a3f5f\"},\"type\":\"carpet\"}],\"choropleth\":[{\"colorbar\":{\"outlinewidth\":0,\"ticks\":\"\"},\"type\":\"choropleth\"}],\"contour\":[{\"colorbar\":{\"outlinewidth\":0,\"ticks\":\"\"},\"colorscale\":[[0.0,\"#0d0887\"],[0.1111111111111111,\"#46039f\"],[0.2222222222222222,\"#7201a8\"],[0.3333333333333333,\"#9c179e\"],[0.4444444444444444,\"#bd3786\"],[0.5555555555555556,\"#d8576b\"],[0.6666666666666666,\"#ed7953\"],[0.7777777777777778,\"#fb9f3a\"],[0.8888888888888888,\"#fdca26\"],[1.0,\"#f0f921\"]],\"type\":\"contour\"}],\"contourcarpet\":[{\"colorbar\":{\"outlinewidth\":0,\"ticks\":\"\"},\"type\":\"contourcarpet\"}],\"heatmap\":[{\"colorbar\":{\"outlinewidth\":0,\"ticks\":\"\"},\"colorscale\":[[0.0,\"#0d0887\"],[0.1111111111111111,\"#46039f\"],[0.2222222222222222,\"#7201a8\"],[0.3333333333333333,\"#9c179e\"],[0.4444444444444444,\"#bd3786\"],[0.5555555555555556,\"#d8576b\"],[0.6666666666666666,\"#ed7953\"],[0.7777777777777778,\"#fb9f3a\"],[0.8888888888888888,\"#fdca26\"],[1.0,\"#f0f921\"]],\"type\":\"heatmap\"}],\"heatmapgl\":[{\"colorbar\":{\"outlinewidth\":0,\"ticks\":\"\"},\"colorscale\":[[0.0,\"#0d0887\"],[0.1111111111111111,\"#46039f\"],[0.2222222222222222,\"#7201a8\"],[0.3333333333333333,\"#9c179e\"],[0.4444444444444444,\"#bd3786\"],[0.5555555555555556,\"#d8576b\"],[0.6666666666666666,\"#ed7953\"],[0.7777777777777778,\"#fb9f3a\"],[0.8888888888888888,\"#fdca26\"],[1.0,\"#f0f921\"]],\"type\":\"heatmapgl\"}],\"histogram\":[{\"marker\":{\"pattern\":{\"fillmode\":\"overlay\",\"size\":10,\"solidity\":0.2}},\"type\":\"histogram\"}],\"histogram2d\":[{\"colorbar\":{\"outlinewidth\":0,\"ticks\":\"\"},\"colorscale\":[[0.0,\"#0d0887\"],[0.1111111111111111,\"#46039f\"],[0.2222222222222222,\"#7201a8\"],[0.3333333333333333,\"#9c179e\"],[0.4444444444444444,\"#bd3786\"],[0.5555555555555556,\"#d8576b\"],[0.6666666666666666,\"#ed7953\"],[0.7777777777777778,\"#fb9f3a\"],[0.8888888888888888,\"#fdca26\"],[1.0,\"#f0f921\"]],\"type\":\"histogram2d\"}],\"histogram2dcontour\":[{\"colorbar\":{\"outlinewidth\":0,\"ticks\":\"\"},\"colorscale\":[[0.0,\"#0d0887\"],[0.1111111111111111,\"#46039f\"],[0.2222222222222222,\"#7201a8\"],[0.3333333333333333,\"#9c179e\"],[0.4444444444444444,\"#bd3786\"],[0.5555555555555556,\"#d8576b\"],[0.6666666666666666,\"#ed7953\"],[0.7777777777777778,\"#fb9f3a\"],[0.8888888888888888,\"#fdca26\"],[1.0,\"#f0f921\"]],\"type\":\"histogram2dcontour\"}],\"mesh3d\":[{\"colorbar\":{\"outlinewidth\":0,\"ticks\":\"\"},\"type\":\"mesh3d\"}],\"parcoords\":[{\"line\":{\"colorbar\":{\"outlinewidth\":0,\"ticks\":\"\"}},\"type\":\"parcoords\"}],\"pie\":[{\"automargin\":true,\"type\":\"pie\"}],\"scatter\":[{\"marker\":{\"colorbar\":{\"outlinewidth\":0,\"ticks\":\"\"}},\"type\":\"scatter\"}],\"scatter3d\":[{\"line\":{\"colorbar\":{\"outlinewidth\":0,\"ticks\":\"\"}},\"marker\":{\"colorbar\":{\"outlinewidth\":0,\"ticks\":\"\"}},\"type\":\"scatter3d\"}],\"scattercarpet\":[{\"marker\":{\"colorbar\":{\"outlinewidth\":0,\"ticks\":\"\"}},\"type\":\"scattercarpet\"}],\"scattergeo\":[{\"marker\":{\"colorbar\":{\"outlinewidth\":0,\"ticks\":\"\"}},\"type\":\"scattergeo\"}],\"scattergl\":[{\"marker\":{\"colorbar\":{\"outlinewidth\":0,\"ticks\":\"\"}},\"type\":\"scattergl\"}],\"scattermapbox\":[{\"marker\":{\"colorbar\":{\"outlinewidth\":0,\"ticks\":\"\"}},\"type\":\"scattermapbox\"}],\"scatterpolar\":[{\"marker\":{\"colorbar\":{\"outlinewidth\":0,\"ticks\":\"\"}},\"type\":\"scatterpolar\"}],\"scatterpolargl\":[{\"marker\":{\"colorbar\":{\"outlinewidth\":0,\"ticks\":\"\"}},\"type\":\"scatterpolargl\"}],\"scatterternary\":[{\"marker\":{\"colorbar\":{\"outlinewidth\":0,\"ticks\":\"\"}},\"type\":\"scatterternary\"}],\"surface\":[{\"colorbar\":{\"outlinewidth\":0,\"ticks\":\"\"},\"colorscale\":[[0.0,\"#0d0887\"],[0.1111111111111111,\"#46039f\"],[0.2222222222222222,\"#7201a8\"],[0.3333333333333333,\"#9c179e\"],[0.4444444444444444,\"#bd3786\"],[0.5555555555555556,\"#d8576b\"],[0.6666666666666666,\"#ed7953\"],[0.7777777777777778,\"#fb9f3a\"],[0.8888888888888888,\"#fdca26\"],[1.0,\"#f0f921\"]],\"type\":\"surface\"}],\"table\":[{\"cells\":{\"fill\":{\"color\":\"#EBF0F8\"},\"line\":{\"color\":\"white\"}},\"header\":{\"fill\":{\"color\":\"#C8D4E3\"},\"line\":{\"color\":\"white\"}},\"type\":\"table\"}]},\"layout\":{\"annotationdefaults\":{\"arrowcolor\":\"#2a3f5f\",\"arrowhead\":0,\"arrowwidth\":1},\"autotypenumbers\":\"strict\",\"coloraxis\":{\"colorbar\":{\"outlinewidth\":0,\"ticks\":\"\"}},\"colorscale\":{\"diverging\":[[0,\"#8e0152\"],[0.1,\"#c51b7d\"],[0.2,\"#de77ae\"],[0.3,\"#f1b6da\"],[0.4,\"#fde0ef\"],[0.5,\"#f7f7f7\"],[0.6,\"#e6f5d0\"],[0.7,\"#b8e186\"],[0.8,\"#7fbc41\"],[0.9,\"#4d9221\"],[1,\"#276419\"]],\"sequential\":[[0.0,\"#0d0887\"],[0.1111111111111111,\"#46039f\"],[0.2222222222222222,\"#7201a8\"],[0.3333333333333333,\"#9c179e\"],[0.4444444444444444,\"#bd3786\"],[0.5555555555555556,\"#d8576b\"],[0.6666666666666666,\"#ed7953\"],[0.7777777777777778,\"#fb9f3a\"],[0.8888888888888888,\"#fdca26\"],[1.0,\"#f0f921\"]],\"sequentialminus\":[[0.0,\"#0d0887\"],[0.1111111111111111,\"#46039f\"],[0.2222222222222222,\"#7201a8\"],[0.3333333333333333,\"#9c179e\"],[0.4444444444444444,\"#bd3786\"],[0.5555555555555556,\"#d8576b\"],[0.6666666666666666,\"#ed7953\"],[0.7777777777777778,\"#fb9f3a\"],[0.8888888888888888,\"#fdca26\"],[1.0,\"#f0f921\"]]},\"colorway\":[\"#636efa\",\"#EF553B\",\"#00cc96\",\"#ab63fa\",\"#FFA15A\",\"#19d3f3\",\"#FF6692\",\"#B6E880\",\"#FF97FF\",\"#FECB52\"],\"font\":{\"color\":\"#2a3f5f\"},\"geo\":{\"bgcolor\":\"white\",\"lakecolor\":\"white\",\"landcolor\":\"#E5ECF6\",\"showlakes\":true,\"showland\":true,\"subunitcolor\":\"white\"},\"hoverlabel\":{\"align\":\"left\"},\"hovermode\":\"closest\",\"mapbox\":{\"style\":\"light\"},\"paper_bgcolor\":\"white\",\"plot_bgcolor\":\"#E5ECF6\",\"polar\":{\"angularaxis\":{\"gridcolor\":\"white\",\"linecolor\":\"white\",\"ticks\":\"\"},\"bgcolor\":\"#E5ECF6\",\"radialaxis\":{\"gridcolor\":\"white\",\"linecolor\":\"white\",\"ticks\":\"\"}},\"scene\":{\"xaxis\":{\"backgroundcolor\":\"#E5ECF6\",\"gridcolor\":\"white\",\"gridwidth\":2,\"linecolor\":\"white\",\"showbackground\":true,\"ticks\":\"\",\"zerolinecolor\":\"white\"},\"yaxis\":{\"backgroundcolor\":\"#E5ECF6\",\"gridcolor\":\"white\",\"gridwidth\":2,\"linecolor\":\"white\",\"showbackground\":true,\"ticks\":\"\",\"zerolinecolor\":\"white\"},\"zaxis\":{\"backgroundcolor\":\"#E5ECF6\",\"gridcolor\":\"white\",\"gridwidth\":2,\"linecolor\":\"white\",\"showbackground\":true,\"ticks\":\"\",\"zerolinecolor\":\"white\"}},\"shapedefaults\":{\"line\":{\"color\":\"#2a3f5f\"}},\"ternary\":{\"aaxis\":{\"gridcolor\":\"white\",\"linecolor\":\"white\",\"ticks\":\"\"},\"baxis\":{\"gridcolor\":\"white\",\"linecolor\":\"white\",\"ticks\":\"\"},\"bgcolor\":\"#E5ECF6\",\"caxis\":{\"gridcolor\":\"white\",\"linecolor\":\"white\",\"ticks\":\"\"}},\"title\":{\"x\":0.05},\"xaxis\":{\"automargin\":true,\"gridcolor\":\"white\",\"linecolor\":\"white\",\"ticks\":\"\",\"title\":{\"standoff\":15},\"zerolinecolor\":\"white\",\"zerolinewidth\":2},\"yaxis\":{\"automargin\":true,\"gridcolor\":\"white\",\"linecolor\":\"white\",\"ticks\":\"\",\"title\":{\"standoff\":15},\"zerolinecolor\":\"white\",\"zerolinewidth\":2}}},\"xaxis\":{\"anchor\":\"y\",\"domain\":[0.0,1.0],\"title\":{\"text\":\"number\"}},\"yaxis\":{\"anchor\":\"x\",\"domain\":[0.0,1.0],\"title\":{\"text\":\"stage\"}},\"legend\":{\"title\":{\"text\":\"Sex\"},\"tracegroupgap\":0},\"title\":{\"text\":\"Supervivencia por Fases y Genero\"}},                        {\"responsive\": true}                    ).then(function(){\n",
              "                            \n",
              "var gd = document.getElementById('dccf75a1-1f3d-4ecf-a219-37163c544c57');\n",
              "var x = new MutationObserver(function (mutations, observer) {{\n",
              "        var display = window.getComputedStyle(gd).display;\n",
              "        if (!display || display === 'none') {{\n",
              "            console.log([gd, 'removed!']);\n",
              "            Plotly.purge(gd);\n",
              "            observer.disconnect();\n",
              "        }}\n",
              "}});\n",
              "\n",
              "// Listen for the removal of the full notebook cells\n",
              "var notebookContainer = gd.closest('#notebook-container');\n",
              "if (notebookContainer) {{\n",
              "    x.observe(notebookContainer, {childList: true});\n",
              "}}\n",
              "\n",
              "// Listen for the clearing of the current output cell\n",
              "var outputEl = gd.closest('.output');\n",
              "if (outputEl) {{\n",
              "    x.observe(outputEl, {childList: true});\n",
              "}}\n",
              "\n",
              "                        })                };                            </script>        </div>\n",
              "</body>\n",
              "</html>"
            ]
          },
          "metadata": {}
        }
      ],
      "source": [
        "stages = [\"Infancia\", \"Adolecencia\", \"Juventud\", \"Adultez\",\"Persona Mayor\"]\n",
        "df_mtl = pd.DataFrame(dict(number=hierarchy(\"Survived == 1 & Sex=='male'\"), stage=stages))\n",
        "df_mtl['Sex'] = 'male'\n",
        "df_toronto = pd.DataFrame(dict(number=hierarchy(\"Survived == 1 & Sex=='female'\"), stage=stages))\n",
        "df_toronto['Sex'] = 'female'\n",
        "df = pd.concat([df_mtl, df_toronto], axis=0)\n",
        "fig = px.funnel(df, x='number', y='stage', color='Sex', title=\"Supervivencia por Fases y Genero\")\n",
        "fig.show()"
      ]
    },
    {
      "cell_type": "code",
      "source": [
        "df.tail(5)"
      ],
      "metadata": {
        "colab": {
          "base_uri": "https://localhost:8080/",
          "height": 206
        },
        "id": "BJcJzEjCKvFa",
        "outputId": "fa562ffa-f43f-4b9b-93b2-1dcee183a7cf"
      },
      "execution_count": null,
      "outputs": [
        {
          "output_type": "execute_result",
          "data": {
            "text/plain": [
              "   number          stage     Sex\n",
              "0      19       Infancia  female\n",
              "1      27    Adolecencia  female\n",
              "2      76       Juventud  female\n",
              "3      88        Adultez  female\n",
              "4       4  Persona Mayor  female"
            ],
            "text/html": [
              "\n",
              "  <div id=\"df-37cb23d3-afbb-4999-a0dc-9a4d85368920\">\n",
              "    <div class=\"colab-df-container\">\n",
              "      <div>\n",
              "<style scoped>\n",
              "    .dataframe tbody tr th:only-of-type {\n",
              "        vertical-align: middle;\n",
              "    }\n",
              "\n",
              "    .dataframe tbody tr th {\n",
              "        vertical-align: top;\n",
              "    }\n",
              "\n",
              "    .dataframe thead th {\n",
              "        text-align: right;\n",
              "    }\n",
              "</style>\n",
              "<table border=\"1\" class=\"dataframe\">\n",
              "  <thead>\n",
              "    <tr style=\"text-align: right;\">\n",
              "      <th></th>\n",
              "      <th>number</th>\n",
              "      <th>stage</th>\n",
              "      <th>Sex</th>\n",
              "    </tr>\n",
              "  </thead>\n",
              "  <tbody>\n",
              "    <tr>\n",
              "      <th>0</th>\n",
              "      <td>19</td>\n",
              "      <td>Infancia</td>\n",
              "      <td>female</td>\n",
              "    </tr>\n",
              "    <tr>\n",
              "      <th>1</th>\n",
              "      <td>27</td>\n",
              "      <td>Adolecencia</td>\n",
              "      <td>female</td>\n",
              "    </tr>\n",
              "    <tr>\n",
              "      <th>2</th>\n",
              "      <td>76</td>\n",
              "      <td>Juventud</td>\n",
              "      <td>female</td>\n",
              "    </tr>\n",
              "    <tr>\n",
              "      <th>3</th>\n",
              "      <td>88</td>\n",
              "      <td>Adultez</td>\n",
              "      <td>female</td>\n",
              "    </tr>\n",
              "    <tr>\n",
              "      <th>4</th>\n",
              "      <td>4</td>\n",
              "      <td>Persona Mayor</td>\n",
              "      <td>female</td>\n",
              "    </tr>\n",
              "  </tbody>\n",
              "</table>\n",
              "</div>\n",
              "      <button class=\"colab-df-convert\" onclick=\"convertToInteractive('df-37cb23d3-afbb-4999-a0dc-9a4d85368920')\"\n",
              "              title=\"Convert this dataframe to an interactive table.\"\n",
              "              style=\"display:none;\">\n",
              "        \n",
              "  <svg xmlns=\"http://www.w3.org/2000/svg\" height=\"24px\"viewBox=\"0 0 24 24\"\n",
              "       width=\"24px\">\n",
              "    <path d=\"M0 0h24v24H0V0z\" fill=\"none\"/>\n",
              "    <path d=\"M18.56 5.44l.94 2.06.94-2.06 2.06-.94-2.06-.94-.94-2.06-.94 2.06-2.06.94zm-11 1L8.5 8.5l.94-2.06 2.06-.94-2.06-.94L8.5 2.5l-.94 2.06-2.06.94zm10 10l.94 2.06.94-2.06 2.06-.94-2.06-.94-.94-2.06-.94 2.06-2.06.94z\"/><path d=\"M17.41 7.96l-1.37-1.37c-.4-.4-.92-.59-1.43-.59-.52 0-1.04.2-1.43.59L10.3 9.45l-7.72 7.72c-.78.78-.78 2.05 0 2.83L4 21.41c.39.39.9.59 1.41.59.51 0 1.02-.2 1.41-.59l7.78-7.78 2.81-2.81c.8-.78.8-2.07 0-2.86zM5.41 20L4 18.59l7.72-7.72 1.47 1.35L5.41 20z\"/>\n",
              "  </svg>\n",
              "      </button>\n",
              "      \n",
              "  <style>\n",
              "    .colab-df-container {\n",
              "      display:flex;\n",
              "      flex-wrap:wrap;\n",
              "      gap: 12px;\n",
              "    }\n",
              "\n",
              "    .colab-df-convert {\n",
              "      background-color: #E8F0FE;\n",
              "      border: none;\n",
              "      border-radius: 50%;\n",
              "      cursor: pointer;\n",
              "      display: none;\n",
              "      fill: #1967D2;\n",
              "      height: 32px;\n",
              "      padding: 0 0 0 0;\n",
              "      width: 32px;\n",
              "    }\n",
              "\n",
              "    .colab-df-convert:hover {\n",
              "      background-color: #E2EBFA;\n",
              "      box-shadow: 0px 1px 2px rgba(60, 64, 67, 0.3), 0px 1px 3px 1px rgba(60, 64, 67, 0.15);\n",
              "      fill: #174EA6;\n",
              "    }\n",
              "\n",
              "    [theme=dark] .colab-df-convert {\n",
              "      background-color: #3B4455;\n",
              "      fill: #D2E3FC;\n",
              "    }\n",
              "\n",
              "    [theme=dark] .colab-df-convert:hover {\n",
              "      background-color: #434B5C;\n",
              "      box-shadow: 0px 1px 3px 1px rgba(0, 0, 0, 0.15);\n",
              "      filter: drop-shadow(0px 1px 2px rgba(0, 0, 0, 0.3));\n",
              "      fill: #FFFFFF;\n",
              "    }\n",
              "  </style>\n",
              "\n",
              "      <script>\n",
              "        const buttonEl =\n",
              "          document.querySelector('#df-37cb23d3-afbb-4999-a0dc-9a4d85368920 button.colab-df-convert');\n",
              "        buttonEl.style.display =\n",
              "          google.colab.kernel.accessAllowed ? 'block' : 'none';\n",
              "\n",
              "        async function convertToInteractive(key) {\n",
              "          const element = document.querySelector('#df-37cb23d3-afbb-4999-a0dc-9a4d85368920');\n",
              "          const dataTable =\n",
              "            await google.colab.kernel.invokeFunction('convertToInteractive',\n",
              "                                                     [key], {});\n",
              "          if (!dataTable) return;\n",
              "\n",
              "          const docLinkHtml = 'Like what you see? Visit the ' +\n",
              "            '<a target=\"_blank\" href=https://colab.research.google.com/notebooks/data_table.ipynb>data table notebook</a>'\n",
              "            + ' to learn more about interactive tables.';\n",
              "          element.innerHTML = '';\n",
              "          dataTable['output_type'] = 'display_data';\n",
              "          await google.colab.output.renderOutput(dataTable, element);\n",
              "          const docLink = document.createElement('div');\n",
              "          docLink.innerHTML = docLinkHtml;\n",
              "          element.appendChild(docLink);\n",
              "        }\n",
              "      </script>\n",
              "    </div>\n",
              "  </div>\n",
              "  "
            ]
          },
          "metadata": {},
          "execution_count": 1221
        }
      ]
    },
    {
      "cell_type": "markdown",
      "metadata": {
        "id": "ZN4A38PXJ5fT"
      },
      "source": [
        "# **Aplicación de Modelos de Clasificación**"
      ]
    },
    {
      "cell_type": "markdown",
      "metadata": {
        "id": "GXGblQmxJ5fU"
      },
      "source": [
        "## *Definir las variables que se van a predecir*"
      ]
    },
    {
      "cell_type": "code",
      "execution_count": null,
      "metadata": {
        "colab": {
          "base_uri": "https://localhost:8080/"
        },
        "id": "n37WVFDdJ5fU",
        "outputId": "5b4095a0-40bd-429b-89ce-fca9785a8f6f"
      },
      "outputs": [
        {
          "output_type": "stream",
          "name": "stdout",
          "text": [
            "<class 'pandas.core.frame.DataFrame'>\n",
            "Int64Index: 714 entries, 0 to 890\n",
            "Data columns (total 11 columns):\n",
            " #   Column       Non-Null Count  Dtype  \n",
            "---  ------       --------------  -----  \n",
            " 0   PassengerId  714 non-null    int64  \n",
            " 1   Survived     714 non-null    int64  \n",
            " 2   Pclass       714 non-null    int64  \n",
            " 3   Name         714 non-null    object \n",
            " 4   Sex          714 non-null    object \n",
            " 5   Age          714 non-null    float64\n",
            " 6   SibSp        714 non-null    int64  \n",
            " 7   Parch        714 non-null    int64  \n",
            " 8   Ticket       714 non-null    object \n",
            " 9   Fare         714 non-null    float64\n",
            " 10  sex_num      714 non-null    int64  \n",
            "dtypes: float64(2), int64(6), object(3)\n",
            "memory usage: 66.9+ KB\n"
          ]
        }
      ],
      "source": [
        "# variables independientes , 'Sex', 'Pclass', 'Embarked'\n",
        "df = newData\n",
        "X = df[['Age', 'sex_num', 'Pclass']].values\n",
        "y = df['Survived'].values  # variable dependiente\n",
        "df.info()"
      ]
    },
    {
      "cell_type": "markdown",
      "metadata": {
        "id": "ULTdYmc7J5fU"
      },
      "source": [
        "## Importar librerías"
      ]
    },
    {
      "cell_type": "code",
      "execution_count": null,
      "metadata": {
        "id": "EzcPTTsHJ5fU"
      },
      "outputs": [],
      "source": [
        "from sklearn.neighbors import KNeighborsClassifier\n",
        "from sklearn.svm import SVC\n",
        "from sklearn.linear_model import LogisticRegression\n",
        "from sklearn.tree import DecisionTreeClassifier\n",
        "from sklearn.naive_bayes import GaussianNB\n",
        "from sklearn.ensemble import RandomForestClassifier\n",
        "from sklearn.ensemble import GradientBoostingClassifier\n",
        "from sklearn.neural_network import MLPClassifier"
      ]
    },
    {
      "cell_type": "markdown",
      "metadata": {
        "id": "W_Jtf13BJ5fU"
      },
      "source": [
        "### Librerías para Evaluación y Validación de Modelos"
      ]
    },
    {
      "cell_type": "code",
      "execution_count": null,
      "metadata": {
        "id": "2yePonsBJ5fU"
      },
      "outputs": [],
      "source": [
        "from sklearn import metrics\n",
        "from sklearn.metrics import classification_report,confusion_matrix\n",
        "from sklearn.model_selection import train_test_split\n",
        "from sklearn.model_selection import cross_val_score\n",
        "from sklearn.metrics import accuracy_score"
      ]
    },
    {
      "cell_type": "markdown",
      "metadata": {
        "id": "800bhiA7J5fU"
      },
      "source": [
        "## Selección de Modelos a Utilizar"
      ]
    },
    {
      "cell_type": "code",
      "execution_count": null,
      "metadata": {
        "id": "E5Ere2HuJ5fV"
      },
      "outputs": [],
      "source": [
        "models = []\n",
        "models.append(('K-Neighbors', KNeighborsClassifier()))\n",
        "models.append(('Bayes', GaussianNB()))\n",
        "models.append(('SVC', SVC()))\n",
        "models.append(('Regresion Logistica', LogisticRegression()))\n",
        "models.append(('Arboles Desicion', DecisionTreeClassifier()))\n",
        "models.append(('Redes Neuronales', MLPClassifier()))\n",
        "models.append(('Bosques Aleatorios', RandomForestClassifier()))\n"
      ]
    },
    {
      "cell_type": "markdown",
      "metadata": {
        "id": "a758vY0HJ5fV"
      },
      "source": [
        "## Dividir los datos en entrenamiento y testing"
      ]
    },
    {
      "cell_type": "code",
      "execution_count": null,
      "metadata": {
        "id": "pDoIF5vfJ5fV"
      },
      "outputs": [],
      "source": [
        "# split X and y into training and testing sets\n",
        "from sklearn.model_selection import train_test_split\n",
        "X_train, X_test, y_train, y_test = train_test_split(X, y, random_state=0)"
      ]
    },
    {
      "cell_type": "markdown",
      "metadata": {
        "id": "mYEQKYt1J5fV"
      },
      "source": [
        "## Entrenamiento de Modelos de Clasificación"
      ]
    },
    {
      "cell_type": "markdown",
      "metadata": {
        "id": "oCrfvXZDJ5fV"
      },
      "source": [
        "### Entrenamiento general de Modelos"
      ]
    },
    {
      "cell_type": "code",
      "execution_count": null,
      "metadata": {
        "colab": {
          "base_uri": "https://localhost:8080/"
        },
        "id": "ScgcMY9uJ5fV",
        "outputId": "e5c0e52c-712d-4178-fa55-dcaaf682f38a"
      },
      "outputs": [
        {
          "output_type": "stream",
          "name": "stderr",
          "text": [
            "/usr/local/lib/python3.7/dist-packages/sklearn/neural_network/_multilayer_perceptron.py:696: ConvergenceWarning:\n",
            "\n",
            "Stochastic Optimizer: Maximum iterations (200) reached and the optimization hasn't converged yet.\n",
            "\n"
          ]
        },
        {
          "output_type": "stream",
          "name": "stdout",
          "text": [
            "                  Name     Score\n",
            "0          K-Neighbors  0.726257\n",
            "1                Bayes  0.782123\n",
            "2                  SVC  0.592179\n",
            "3  Regresion Logistica  0.821229\n",
            "4     Arboles Desicion  0.793296\n",
            "5     Redes Neuronales  0.776536\n",
            "6   Bosques Aleatorios  0.770950\n"
          ]
        }
      ],
      "source": [
        "names = [] #Arreglo Vacío de Nombres\n",
        "accu_scores = [] #Arreglo Vacío de Accuracys\n",
        "accuracies = []\n",
        "\n",
        "for name, model in models:\n",
        "    model.fit(X_train, y_train)\n",
        "    y_pred = model.predict(X_test)\n",
        "    accu_scores.append(accuracy_score(y_test, y_pred))\n",
        "    names.append(name)\n",
        "tr_split = pd.DataFrame({'Name': names, 'Score': accu_scores})\n",
        "print(tr_split)"
      ]
    },
    {
      "cell_type": "markdown",
      "metadata": {
        "id": "M44w-DSLJ5fV"
      },
      "source": [
        "### K-neighbors"
      ]
    },
    {
      "cell_type": "code",
      "execution_count": null,
      "metadata": {
        "id": "TUtFZ-3EJ5fV"
      },
      "outputs": [],
      "source": [
        "algoritmo_kNN = KNeighborsClassifier(n_neighbors= 5, metric = 'minkowski', p = 2)\n",
        "algoritmo_kNN.fit(X_train, y_train)\n",
        "y_pred_kNN = algoritmo_kNN.predict(X_test)\n",
        "#p=1: Distancia euclideana\n",
        "#p=2: Distancia Manhattan"
      ]
    },
    {
      "cell_type": "code",
      "execution_count": null,
      "metadata": {
        "colab": {
          "base_uri": "https://localhost:8080/"
        },
        "id": "ch_4G4t0J5fW",
        "outputId": "ce98f29f-44b1-40f7-8a1d-f3de401d1367"
      },
      "outputs": [
        {
          "output_type": "stream",
          "name": "stdout",
          "text": [
            "La exactitud del modelo K-NN es:\n",
            "73.0 %\n"
          ]
        }
      ],
      "source": [
        "#Se utiliza el método accuracy para calcular la exactitud del modelo. Checa cuantos si coinciden. \n",
        "accuracy_kNN = metrics.accuracy_score(y_test, y_pred_kNN)\n",
        "accuracy_kNN = round(accuracy_kNN, 2) * 100\n",
        "\n",
        "accuracies.append(accuracy_kNN)\n",
        "\n",
        "print(\"La exactitud del modelo K-NN es:\")\n",
        "print(accuracy_kNN, \"%\")"
      ]
    },
    {
      "cell_type": "markdown",
      "metadata": {
        "id": "BOjavgsPJ5fW"
      },
      "source": [
        "### *Bayes (Clasificación)*\n"
      ]
    },
    {
      "cell_type": "code",
      "execution_count": null,
      "metadata": {
        "id": "GFgNOOGKJ5fW"
      },
      "outputs": [],
      "source": [
        "algoritmo_BAY = GaussianNB()\n",
        "algoritmo_BAY.fit(X_train, y_train)\n",
        "y_pred_BAY = algoritmo_BAY.predict(X_test)"
      ]
    },
    {
      "cell_type": "code",
      "execution_count": null,
      "metadata": {
        "colab": {
          "base_uri": "https://localhost:8080/"
        },
        "id": "tIqffncjJ5fW",
        "outputId": "5283e812-9812-434d-fe03-153338a3ab00"
      },
      "outputs": [
        {
          "output_type": "stream",
          "name": "stdout",
          "text": [
            "Exactitud del modelo Naive Bayes: \n",
            "78.0 %\n"
          ]
        }
      ],
      "source": [
        "accuracy_BAY = metrics.accuracy_score(y_test, y_pred_BAY)\n",
        "accuracy_BAY = round(accuracy_BAY, 2) * 100\n",
        "\n",
        "accuracies.append(accuracy_BAY)\n",
        "\n",
        "print(\"Exactitud del modelo Naive Bayes: \")\n",
        "print(accuracy_BAY, \"%\")\n",
        "\n"
      ]
    },
    {
      "cell_type": "markdown",
      "metadata": {
        "id": "Xmcb5nLFJ5fW"
      },
      "source": [
        "### *SVC Support Vector Machine (Clasificación)*"
      ]
    },
    {
      "cell_type": "code",
      "execution_count": null,
      "metadata": {
        "id": "aLvAgKmsJ5fW"
      },
      "outputs": [],
      "source": [
        "algoritmo_SVC = SVC(kernel = \"linear\")\n",
        "algoritmo_SVC.fit(X_train, y_train)\n",
        "y_pred_SVC = algoritmo_SVC.predict(X_test)"
      ]
    },
    {
      "cell_type": "code",
      "execution_count": null,
      "metadata": {
        "colab": {
          "base_uri": "https://localhost:8080/"
        },
        "id": "s0O3l0hgJ5fW",
        "outputId": "5932ce79-f6fe-4e8c-8819-22ffa8a24b9b"
      },
      "outputs": [
        {
          "output_type": "stream",
          "name": "stdout",
          "text": [
            "Exactitud del modelo SVC:\n",
            "78.0 %\n"
          ]
        }
      ],
      "source": [
        "accuracy_SVC = metrics.accuracy_score(y_test, y_pred_SVC)\n",
        "accuracy_SVC = round(accuracy_SVC, 2) * 100\n",
        "\n",
        "accuracies.append(accuracy_SVC)\n",
        "\n",
        "print(\"Exactitud del modelo SVC:\")\n",
        "print(accuracy_SVC, \"%\")"
      ]
    },
    {
      "cell_type": "markdown",
      "metadata": {
        "id": "w70rvLJ5J5fX"
      },
      "source": [
        "### *Regresión Logística (Clasificación)*"
      ]
    },
    {
      "cell_type": "code",
      "execution_count": null,
      "metadata": {
        "id": "QOqy5VP7J5fX"
      },
      "outputs": [],
      "source": [
        "algoritmo_LOG = LogisticRegression(max_iter=10000) #es necesario poner el número de iteraciones\n",
        "algoritmo_LOG.fit(X_train, y_train)\n",
        "y_pred_LOG = algoritmo_LOG.predict(X_test)"
      ]
    },
    {
      "cell_type": "code",
      "execution_count": null,
      "metadata": {
        "colab": {
          "base_uri": "https://localhost:8080/"
        },
        "id": "XHmUt-VGJ5fX",
        "outputId": "72052eb2-1199-49f4-bfff-1f5be651bf97"
      },
      "outputs": [
        {
          "output_type": "stream",
          "name": "stdout",
          "text": [
            "Exactitud del modelo Regresión Logística:\n",
            "82.0 %\n"
          ]
        }
      ],
      "source": [
        "accuracy_LOG = metrics.accuracy_score(y_test, y_pred_LOG)\n",
        "accuracy_LOG = round(accuracy_LOG, 2) * 100\n",
        "\n",
        "accuracies.append(accuracy_LOG)\n",
        "\n",
        "print(\"Exactitud del modelo Regresión Logística:\")\n",
        "print(accuracy_LOG, \"%\")"
      ]
    },
    {
      "cell_type": "markdown",
      "metadata": {
        "id": "0rvt9lQLJ5fX"
      },
      "source": [
        "### *Árboles de Desición (Clasificación)*"
      ]
    },
    {
      "cell_type": "code",
      "execution_count": null,
      "metadata": {
        "id": "rSqKAGumJ5fX"
      },
      "outputs": [],
      "source": [
        "algoritmo_TREE = DecisionTreeClassifier(criterion = \"gini\", random_state=1234, max_depth=3)\n",
        "algoritmo_TREE.fit(X_train, y_train)\n",
        "y_pred_TREE = algoritmo_TREE.predict(X_test)"
      ]
    },
    {
      "cell_type": "code",
      "execution_count": null,
      "metadata": {
        "colab": {
          "base_uri": "https://localhost:8080/"
        },
        "id": "9anDdbbkJ5fX",
        "outputId": "6bbb4f6b-c85c-4396-9fa4-0023d2f752a7"
      },
      "outputs": [
        {
          "output_type": "stream",
          "name": "stdout",
          "text": [
            "Exactitud del modelo Árboles de Desición:\n",
            "78.0 %\n"
          ]
        }
      ],
      "source": [
        "accuracy_TREE = metrics.accuracy_score(y_test, y_pred_TREE)\n",
        "accuracy_TREE = round(accuracy_TREE, 2) * 100\n",
        "\n",
        "accuracies.append(accuracy_TREE)\n",
        "\n",
        "print(\"Exactitud del modelo Árboles de Desición:\")\n",
        "print(accuracy_TREE, \"%\")"
      ]
    },
    {
      "cell_type": "markdown",
      "metadata": {
        "id": "GoYSjc9LJ5fX"
      },
      "source": [
        "### *Redes Neuronales*"
      ]
    },
    {
      "cell_type": "code",
      "execution_count": null,
      "metadata": {
        "id": "pFTL_k68J5fX"
      },
      "outputs": [],
      "source": [
        "algoritmo_MLP = MLPClassifier(hidden_layer_sizes=(8,8,8), activation='relu', solver='adam', max_iter=500)\n",
        "algoritmo_MLP.fit(X_train,y_train)\n",
        "\n",
        "y_pred_MLP = algoritmo_MLP.predict(X_test)\n",
        "\n",
        "#Extras para la matriz de confusión\n",
        "predict_train = algoritmo_MLP.predict(X_train)\n",
        "predict_test = algoritmo_MLP.predict(X_test)"
      ]
    },
    {
      "cell_type": "code",
      "execution_count": null,
      "metadata": {
        "colab": {
          "base_uri": "https://localhost:8080/"
        },
        "id": "HkVaEWisJ5fY",
        "outputId": "c6935f2f-286e-4c46-c38c-efd92c70495a"
      },
      "outputs": [
        {
          "output_type": "stream",
          "name": "stdout",
          "text": [
            "Exactitud del modelo Redes Neuronales:\n",
            "78.0 %\n"
          ]
        }
      ],
      "source": [
        "accuracy_MLP = metrics.accuracy_score(y_test, y_pred_MLP)\n",
        "accuracy_MLP = round(accuracy_MLP, 2) * 100\n",
        "\n",
        "accuracies.append(accuracy_MLP)\n",
        "\n",
        "print(\"Exactitud del modelo Redes Neuronales:\")\n",
        "print(accuracy_TREE, \"%\")"
      ]
    },
    {
      "cell_type": "markdown",
      "metadata": {
        "id": "SwntrVo1J5fY"
      },
      "source": [
        "### *Random Forrest*"
      ]
    },
    {
      "cell_type": "code",
      "execution_count": null,
      "metadata": {
        "id": "pYnwTOU0J5fY"
      },
      "outputs": [],
      "source": [
        "algoritmo_RF = RandomForestClassifier(n_estimators = 100, criterion = \"entropy\")\n",
        "algoritmo_RF.fit(X_train, y_train)\n",
        "y_pred_RF = algoritmo_RF.predict(X_test)"
      ]
    },
    {
      "cell_type": "code",
      "execution_count": null,
      "metadata": {
        "colab": {
          "base_uri": "https://localhost:8080/"
        },
        "id": "QDfUuBmiJ5fY",
        "outputId": "80bbfa3e-70bb-4aee-872d-a3ee867fc992"
      },
      "outputs": [
        {
          "output_type": "stream",
          "name": "stdout",
          "text": [
            "Exactitud del modelo Bosques Aleatorios:\n",
            "77.0 %\n"
          ]
        }
      ],
      "source": [
        "accuracy_RF = metrics.accuracy_score(y_test, y_pred_RF)\n",
        "accuracy_RF = round(accuracy_RF, 2) * 100\n",
        "\n",
        "accuracies.append(accuracy_RF)\n",
        "\n",
        "print(\"Exactitud del modelo Bosques Aleatorios:\")\n",
        "print(accuracy_RF, \"%\")"
      ]
    },
    {
      "cell_type": "markdown",
      "metadata": {
        "id": "S8R68RgXJ5fY"
      },
      "source": [
        "# **Evaluación de los Modelos**"
      ]
    },
    {
      "cell_type": "markdown",
      "metadata": {
        "id": "XRvDoJfCJ5fY"
      },
      "source": [
        "## *Matriz de Confusión*"
      ]
    },
    {
      "cell_type": "code",
      "execution_count": null,
      "metadata": {
        "colab": {
          "base_uri": "https://localhost:8080/"
        },
        "id": "LlgI1gZhJ5fY",
        "outputId": "379a967a-b533-4590-d293-004a9936a7ac"
      },
      "outputs": [
        {
          "output_type": "stream",
          "name": "stdout",
          "text": [
            "Matriz de Confusión para  K-Neighbors [[82 21]\n",
            " [28 48]]\n",
            "Reporte de Clasificación para  K-Neighbors               precision    recall  f1-score   support\n",
            "\n",
            "           0       0.75      0.80      0.77       103\n",
            "           1       0.70      0.63      0.66        76\n",
            "\n",
            "    accuracy                           0.73       179\n",
            "   macro avg       0.72      0.71      0.72       179\n",
            "weighted avg       0.72      0.73      0.72       179\n",
            "\n",
            "Matriz de Confusión para  Bayes [[87 16]\n",
            " [23 53]]\n",
            "Reporte de Clasificación para  Bayes               precision    recall  f1-score   support\n",
            "\n",
            "           0       0.79      0.84      0.82       103\n",
            "           1       0.77      0.70      0.73        76\n",
            "\n",
            "    accuracy                           0.78       179\n",
            "   macro avg       0.78      0.77      0.77       179\n",
            "weighted avg       0.78      0.78      0.78       179\n",
            "\n",
            "Matriz de Confusión para  SVC [[97  6]\n",
            " [67  9]]\n",
            "Reporte de Clasificación para  SVC               precision    recall  f1-score   support\n",
            "\n",
            "           0       0.59      0.94      0.73       103\n",
            "           1       0.60      0.12      0.20        76\n",
            "\n",
            "    accuracy                           0.59       179\n",
            "   macro avg       0.60      0.53      0.46       179\n",
            "weighted avg       0.60      0.59      0.50       179\n",
            "\n",
            "Matriz de Confusión para  Regresion Logistica [[88 15]\n",
            " [17 59]]\n",
            "Reporte de Clasificación para  Regresion Logistica               precision    recall  f1-score   support\n",
            "\n",
            "           0       0.84      0.85      0.85       103\n",
            "           1       0.80      0.78      0.79        76\n",
            "\n",
            "    accuracy                           0.82       179\n",
            "   macro avg       0.82      0.82      0.82       179\n",
            "weighted avg       0.82      0.82      0.82       179\n",
            "\n",
            "Matriz de Confusión para  Arboles Desicion [[87 16]\n",
            " [21 55]]\n",
            "Reporte de Clasificación para  Arboles Desicion               precision    recall  f1-score   support\n",
            "\n",
            "           0       0.81      0.84      0.82       103\n",
            "           1       0.77      0.72      0.75        76\n",
            "\n",
            "    accuracy                           0.79       179\n",
            "   macro avg       0.79      0.78      0.79       179\n",
            "weighted avg       0.79      0.79      0.79       179\n",
            "\n"
          ]
        },
        {
          "output_type": "stream",
          "name": "stderr",
          "text": [
            "/usr/local/lib/python3.7/dist-packages/sklearn/neural_network/_multilayer_perceptron.py:696: ConvergenceWarning:\n",
            "\n",
            "Stochastic Optimizer: Maximum iterations (200) reached and the optimization hasn't converged yet.\n",
            "\n"
          ]
        },
        {
          "output_type": "stream",
          "name": "stdout",
          "text": [
            "Matriz de Confusión para  Redes Neuronales [[86 17]\n",
            " [22 54]]\n",
            "Reporte de Clasificación para  Redes Neuronales               precision    recall  f1-score   support\n",
            "\n",
            "           0       0.80      0.83      0.82       103\n",
            "           1       0.76      0.71      0.73        76\n",
            "\n",
            "    accuracy                           0.78       179\n",
            "   macro avg       0.78      0.77      0.77       179\n",
            "weighted avg       0.78      0.78      0.78       179\n",
            "\n",
            "Matriz de Confusión para  Bosques Aleatorios [[84 19]\n",
            " [21 55]]\n",
            "Reporte de Clasificación para  Bosques Aleatorios               precision    recall  f1-score   support\n",
            "\n",
            "           0       0.80      0.82      0.81       103\n",
            "           1       0.74      0.72      0.73        76\n",
            "\n",
            "    accuracy                           0.78       179\n",
            "   macro avg       0.77      0.77      0.77       179\n",
            "weighted avg       0.78      0.78      0.78       179\n",
            "\n"
          ]
        }
      ],
      "source": [
        "#Imprimir las matrices de confusión para todos los modelos\n",
        "for name, model in models:\n",
        "    model.fit(X_train, y_train)\n",
        "    y_pred = model.predict(X_test)\n",
        "    print(\"Matriz de Confusión para \", name, confusion_matrix(y_test,y_pred))\n",
        "    print(\"Reporte de Clasificación para \", name, classification_report(y_test,y_pred))"
      ]
    },
    {
      "cell_type": "markdown",
      "metadata": {
        "id": "9yZSWqszJ5fY"
      },
      "source": [
        "## *Método de Train/Test Split*"
      ]
    },
    {
      "cell_type": "markdown",
      "metadata": {
        "id": "X1DZNYAuJ5fY"
      },
      "source": [
        "### *Validación*"
      ]
    },
    {
      "cell_type": "code",
      "execution_count": null,
      "metadata": {
        "colab": {
          "base_uri": "https://localhost:8080/"
        },
        "id": "Rfcb_W_bJ5fZ",
        "outputId": "634e9e9a-4008-49b3-cd28-4be9187da19e"
      },
      "outputs": [
        {
          "output_type": "stream",
          "name": "stderr",
          "text": [
            "/usr/local/lib/python3.7/dist-packages/sklearn/neural_network/_multilayer_perceptron.py:696: ConvergenceWarning:\n",
            "\n",
            "Stochastic Optimizer: Maximum iterations (200) reached and the optimization hasn't converged yet.\n",
            "\n"
          ]
        },
        {
          "output_type": "stream",
          "name": "stdout",
          "text": [
            "                  Name   Score_a   Score_p   Score_r  Score_f1\n",
            "0          K-Neighbors  0.743017  0.714286  0.616438  0.661765\n",
            "1                Bayes  0.821229  0.847458  0.684932  0.757576\n",
            "2                  SVC  0.603352  0.600000  0.082192  0.144578\n",
            "3  Regresion Logistica  0.826816  0.850000  0.698630  0.766917\n",
            "4     Arboles Desicion  0.776536  0.800000  0.602740  0.687500\n",
            "5     Redes Neuronales  0.832402  0.864407  0.698630  0.772727\n",
            "6   Bosques Aleatorios  0.793296  0.790323  0.671233  0.725926\n"
          ]
        }
      ],
      "source": [
        "X_train, X_test, y_train, y_test = train_test_split(X, y, stratify = df.Survived, random_state=0)\n",
        "\n",
        "#Definir arreglos vacíos para cada score\n",
        "model_names = []\n",
        "scores_tr_split_a = []\n",
        "scores_tr_split_p = []\n",
        "scores_tr_split_r = []\n",
        "scores_tr_split_f1 = []\n",
        "\n",
        "#Obtener las métricas de Evaluación para cada modelo\n",
        "for name, model in models:\n",
        "    model.fit(X_train, y_train)\n",
        "    y_pred = model.predict(X_test)\n",
        "    scores_tr_split_a.append(accuracy_score(y_test, y_pred))\n",
        "    scores_tr_split_p.append(metrics.precision_score(y_test, y_pred))\n",
        "    scores_tr_split_r.append(metrics.recall_score(y_test, y_pred))\n",
        "    scores_tr_split_f1.append(metrics.f1_score(y_test, y_pred))\n",
        "    model_names.append(name)\n",
        "    \n",
        "#Generar DataFrame con las métricas de evaluación para cada modelo\n",
        "tr_split = pd.DataFrame({'Name': model_names, 'Score_a': scores_tr_split_a, 'Score_p': scores_tr_split_p, 'Score_r':scores_tr_split_r, 'Score_f1':scores_tr_split_f1})\n",
        "\n",
        "#Imprimir el dataframe con métricas\n",
        "print(tr_split)"
      ]
    },
    {
      "cell_type": "markdown",
      "metadata": {
        "id": "dFCaxTrHJ5fZ"
      },
      "source": [
        "#### *Exactitud*"
      ]
    },
    {
      "cell_type": "code",
      "execution_count": null,
      "metadata": {
        "colab": {
          "base_uri": "https://localhost:8080/",
          "height": 279
        },
        "id": "GEmTOjbhJ5fZ",
        "outputId": "63670c21-3be3-480f-9c21-dcbc92d31b06"
      },
      "outputs": [
        {
          "output_type": "display_data",
          "data": {
            "text/plain": [
              "<Figure size 432x288 with 1 Axes>"
            ],
            "image/png": "[encoded data removed]"
          },
          "metadata": {
            "needs_background": "light"
          }
        }
      ],
      "source": [
        "axis = sns.barplot(x = tr_split['Name'], y = tr_split['Score_a'], data = tr_split)\n",
        "axis.set(xlabel='Classifier', ylabel='Accuracy')\n",
        "for p in axis.patches:\n",
        "    height = p.get_height()\n",
        "    axis.text(p.get_x() + p.get_width()/2, height + 0.005, '{:1.4f}'.format(height), ha=\"center\") \n",
        "    \n",
        "plt.show()"
      ]
    },
    {
      "cell_type": "markdown",
      "metadata": {
        "id": "SDmIG1T-J5fZ"
      },
      "source": [
        "#### *Precisión*"
      ]
    },
    {
      "cell_type": "code",
      "execution_count": null,
      "metadata": {
        "colab": {
          "base_uri": "https://localhost:8080/",
          "height": 279
        },
        "id": "LZIsp9zOJ5fZ",
        "outputId": "2eaf78b1-bf36-4a77-f184-a1c4cc30d859"
      },
      "outputs": [
        {
          "output_type": "display_data",
          "data": {
            "text/plain": [
              "<Figure size 432x288 with 1 Axes>"
            ],
            "image/png": "[encoded data removed]"
          },
          "metadata": {
            "needs_background": "light"
          }
        }
      ],
      "source": [
        "axis = sns.barplot(x = tr_split['Name'], y = tr_split['Score_p'], data = tr_split)\n",
        "axis.set(xlabel='Classifier', ylabel='Precision')\n",
        "for p in axis.patches:\n",
        "    height = p.get_height()\n",
        "    axis.text(p.get_x() + p.get_width()/2, height + 0.005, '{:1.4f}'.format(height), ha=\"center\") \n",
        "    \n",
        "plt.show()"
      ]
    },
    {
      "cell_type": "markdown",
      "metadata": {
        "id": "tbkfWEY_J5fZ"
      },
      "source": [
        "#### *Especificidad*"
      ]
    },
    {
      "cell_type": "code",
      "execution_count": null,
      "metadata": {
        "colab": {
          "base_uri": "https://localhost:8080/",
          "height": 279
        },
        "id": "UKb_qeYoJ5fZ",
        "outputId": "3b2ff534-209f-4d5e-af78-4cac150c397e"
      },
      "outputs": [
        {
          "output_type": "display_data",
          "data": {
            "text/plain": [
              "<Figure size 432x288 with 1 Axes>"
            ],
            "image/png": "[encoded data removed]"
          },
          "metadata": {
            "needs_background": "light"
          }
        }
      ],
      "source": [
        "axis = sns.barplot(x = tr_split['Name'], y = tr_split['Score_r'], data = tr_split)\n",
        "axis.set(xlabel='Classifier', ylabel='Recall')\n",
        "for p in axis.patches:\n",
        "    height = p.get_height()\n",
        "    axis.text(p.get_x() + p.get_width()/2, height + 0.005, '{:1.4f}'.format(height), ha=\"center\") \n",
        "    \n",
        "plt.show()"
      ]
    },
    {
      "cell_type": "markdown",
      "metadata": {
        "id": "3gvTNFi8J5fa"
      },
      "source": [
        "#### *F1 Score*"
      ]
    },
    {
      "cell_type": "code",
      "execution_count": null,
      "metadata": {
        "colab": {
          "base_uri": "https://localhost:8080/",
          "height": 280
        },
        "id": "RQqCf0DoJ5fa",
        "outputId": "1e2201d3-f313-4e5c-9f63-9a6d3d01cd8b"
      },
      "outputs": [
        {
          "output_type": "display_data",
          "data": {
            "text/plain": [
              "<Figure size 432x288 with 1 Axes>"
            ],
            "image/png": "[encoded data removed]"
          },
          "metadata": {
            "needs_background": "light"
          }
        }
      ],
      "source": [
        "axis = sns.barplot(x = tr_split['Name'], y = tr_split['Score_f1'], data = tr_split)\n",
        "axis.set(xlabel='Classifier', ylabel='F1')\n",
        "for p in axis.patches:\n",
        "    height = p.get_height()\n",
        "    axis.text(p.get_x() + p.get_width()/2, height + 0.005, '{:1.4f}'.format(height), ha=\"center\") \n",
        "    \n",
        "plt.show()"
      ]
    },
    {
      "cell_type": "markdown",
      "metadata": {
        "id": "Sxk3-uMfJ5fa"
      },
      "source": [
        "## *Método de Validación K-Fold Cross*"
      ]
    },
    {
      "cell_type": "markdown",
      "metadata": {
        "id": "lI78AmHOJ5fa"
      },
      "source": [
        "### *Importar Librerías para Validación K-Fold Cross*"
      ]
    },
    {
      "cell_type": "code",
      "execution_count": null,
      "metadata": {
        "id": "xiwuoHWRJ5fa"
      },
      "outputs": [],
      "source": [
        "from sklearn.model_selection import KFold\n",
        "from sklearn.metrics import make_scorer\n",
        "from sklearn.model_selection import cross_validate"
      ]
    },
    {
      "cell_type": "markdown",
      "metadata": {
        "id": "BEJgDRdmJ5fa"
      },
      "source": [
        "### *Validación*"
      ]
    },
    {
      "cell_type": "code",
      "execution_count": null,
      "metadata": {
        "colab": {
          "base_uri": "https://localhost:8080/"
        },
        "id": "fXtUoPgbJ5fa",
        "outputId": "75d456aa-fd11-4c7d-9398-a1a2d9ccdc36"
      },
      "outputs": [
        {
          "output_type": "stream",
          "name": "stderr",
          "text": [
            "/usr/local/lib/python3.7/dist-packages/sklearn/neural_network/_multilayer_perceptron.py:696: ConvergenceWarning:\n",
            "\n",
            "Stochastic Optimizer: Maximum iterations (200) reached and the optimization hasn't converged yet.\n",
            "\n",
            "/usr/local/lib/python3.7/dist-packages/sklearn/neural_network/_multilayer_perceptron.py:696: ConvergenceWarning:\n",
            "\n",
            "Stochastic Optimizer: Maximum iterations (200) reached and the optimization hasn't converged yet.\n",
            "\n",
            "/usr/local/lib/python3.7/dist-packages/sklearn/neural_network/_multilayer_perceptron.py:696: ConvergenceWarning:\n",
            "\n",
            "Stochastic Optimizer: Maximum iterations (200) reached and the optimization hasn't converged yet.\n",
            "\n",
            "/usr/local/lib/python3.7/dist-packages/sklearn/neural_network/_multilayer_perceptron.py:696: ConvergenceWarning:\n",
            "\n",
            "Stochastic Optimizer: Maximum iterations (200) reached and the optimization hasn't converged yet.\n",
            "\n",
            "/usr/local/lib/python3.7/dist-packages/sklearn/neural_network/_multilayer_perceptron.py:696: ConvergenceWarning:\n",
            "\n",
            "Stochastic Optimizer: Maximum iterations (200) reached and the optimization hasn't converged yet.\n",
            "\n",
            "/usr/local/lib/python3.7/dist-packages/sklearn/neural_network/_multilayer_perceptron.py:696: ConvergenceWarning:\n",
            "\n",
            "Stochastic Optimizer: Maximum iterations (200) reached and the optimization hasn't converged yet.\n",
            "\n",
            "/usr/local/lib/python3.7/dist-packages/sklearn/neural_network/_multilayer_perceptron.py:696: ConvergenceWarning:\n",
            "\n",
            "Stochastic Optimizer: Maximum iterations (200) reached and the optimization hasn't converged yet.\n",
            "\n"
          ]
        },
        {
          "output_type": "stream",
          "name": "stdout",
          "text": [
            "                  Name   Score_a   Score_p   Score_r  Score_f1\n",
            "0          K-Neighbors  0.772946  0.755000  0.644659  0.692607\n",
            "1                Bayes  0.780164  0.747386  0.681896  0.712862\n",
            "2                  SVC  0.616373  0.691111  0.120776  0.200090\n",
            "3  Regresion Logistica  0.791315  0.760520  0.707199  0.731722\n",
            "4     Arboles Desicion  0.820638  0.827404  0.701365  0.757184\n",
            "5     Redes Neuronales  0.791315  0.762288  0.707336  0.730325\n",
            "6   Bosques Aleatorios  0.817821  0.800319  0.732954  0.762832\n"
          ]
        }
      ],
      "source": [
        "#Definir arreglos vacíos para cada score\n",
        "model_names = []\n",
        "scores_kf_a = []\n",
        "scores_kf_p = []\n",
        "scores_kf_r = []\n",
        "scores_kf_f1 = []\n",
        "\n",
        "#Obtener las métricas de Evaluación para cada modelo\n",
        "for name, model in models: \n",
        "    kfold = KFold(n_splits=10, random_state=10, shuffle=True) \n",
        "    scoring = ['accuracy', 'precision','recall','f1']\n",
        "    results = cross_validate(model, X, y, cv=kfold, scoring=scoring)\n",
        "    model_names.append(name)\n",
        "    scores_kf_a.append(np.mean(results['test_accuracy']))\n",
        "    scores_kf_p.append(np.mean(results['test_precision']))\n",
        "    scores_kf_r.append(np.mean(results['test_recall']))\n",
        "    scores_kf_f1.append(np.mean(results['test_f1']))\n",
        "\n",
        "#Generar DataFrame con las métricas de evaluación para cada modelo\n",
        "kf_cross_val = pd.DataFrame({'Name': names, 'Score_a': scores_kf_a, 'Score_p':scores_kf_p, 'Score_r':scores_kf_r, 'Score_f1':scores_kf_f1})\n",
        "\n",
        "#Imprimir el dataframe con métricas\n",
        "print(kf_cross_val)"
      ]
    },
    {
      "cell_type": "markdown",
      "metadata": {
        "id": "ZXsv9XcUJ5fa"
      },
      "source": [
        "#### *Exactitud*"
      ]
    },
    {
      "cell_type": "code",
      "execution_count": null,
      "metadata": {
        "colab": {
          "base_uri": "https://localhost:8080/",
          "height": 279
        },
        "id": "asOedVjnJ5fb",
        "outputId": "e6e023cf-c101-42f1-f417-2b6e38dfca12"
      },
      "outputs": [
        {
          "output_type": "display_data",
          "data": {
            "text/plain": [
              "<Figure size 432x288 with 1 Axes>"
            ],
            "image/png": "[encoded data removed]"
          },
          "metadata": {
            "needs_background": "light"
          }
        }
      ],
      "source": [
        "#We can plot the accuracy scores using seaborn\n",
        "axis = sns.barplot(x = kf_cross_val['Name'], y = kf_cross_val['Score_a'], data = kf_cross_val)\n",
        "axis.set(xlabel='Classifier', ylabel='Accuracy')\n",
        "for p in axis.patches:\n",
        "    height = p.get_height()\n",
        "    axis.text(p.get_x() + p.get_width()/2, height + 0.005, '{:1.4f}'.format(height), ha=\"center\") \n",
        "    \n",
        "plt.show()"
      ]
    },
    {
      "cell_type": "markdown",
      "metadata": {
        "id": "NA7e_xsaJ5fb"
      },
      "source": [
        "#### *Precisión*"
      ]
    },
    {
      "cell_type": "code",
      "execution_count": null,
      "metadata": {
        "colab": {
          "base_uri": "https://localhost:8080/",
          "height": 279
        },
        "id": "Ta51nGH4J5fb",
        "outputId": "ab0e6608-ac50-4a7e-ac82-aa1cf295aa22"
      },
      "outputs": [
        {
          "output_type": "display_data",
          "data": {
            "text/plain": [
              "<Figure size 432x288 with 1 Axes>"
            ],
            "image/png": "[encoded data removed]"
          },
          "metadata": {
            "needs_background": "light"
          }
        }
      ],
      "source": [
        "#We can plot the accuracy scores using seaborn\n",
        "axis = sns.barplot(x = kf_cross_val['Name'], y = kf_cross_val['Score_p'], data = kf_cross_val)\n",
        "axis.set(xlabel='Classifier', ylabel='Precision')\n",
        "for p in axis.patches:\n",
        "    height = p.get_height()\n",
        "    axis.text(p.get_x() + p.get_width()/2, height + 0.005, '{:1.4f}'.format(height), ha=\"center\") \n",
        "    \n",
        "plt.show()"
      ]
    },
    {
      "cell_type": "markdown",
      "metadata": {
        "id": "bTYu2_arJ5fb"
      },
      "source": [
        "#### *Especificidad*"
      ]
    },
    {
      "cell_type": "code",
      "execution_count": null,
      "metadata": {
        "colab": {
          "base_uri": "https://localhost:8080/",
          "height": 279
        },
        "id": "pLQIcAsDJ5fb",
        "outputId": "c67bdbc3-012e-45a4-9f68-2a02f724d841"
      },
      "outputs": [
        {
          "output_type": "display_data",
          "data": {
            "text/plain": [
              "<Figure size 432x288 with 1 Axes>"
            ],
            "image/png": "[encoded data removed]"
          },
          "metadata": {
            "needs_background": "light"
          }
        }
      ],
      "source": [
        "#We can plot the accuracy scores using seaborn\n",
        "axis = sns.barplot(x = kf_cross_val['Name'], y = kf_cross_val['Score_r'], data = kf_cross_val)\n",
        "axis.set(xlabel='Classifier', ylabel='Recall')\n",
        "for p in axis.patches:\n",
        "    height = p.get_height()\n",
        "    axis.text(p.get_x() + p.get_width()/2, height + 0.005, '{:1.4f}'.format(height), ha=\"center\") \n",
        "    \n",
        "plt.show()"
      ]
    },
    {
      "cell_type": "markdown",
      "metadata": {
        "id": "PLtLfKslJ5fb"
      },
      "source": [
        "#### *F1 Score*"
      ]
    },
    {
      "cell_type": "code",
      "execution_count": null,
      "metadata": {
        "colab": {
          "base_uri": "https://localhost:8080/",
          "height": 283
        },
        "id": "eKlDvktAJ5fb",
        "outputId": "f90818e8-0037-46c5-d966-6cc1ac994206"
      },
      "outputs": [
        {
          "output_type": "display_data",
          "data": {
            "text/plain": [
              "<Figure size 432x288 with 1 Axes>"
            ],
            "image/png": "[encoded data removed]"
          },
          "metadata": {
            "needs_background": "light"
          }
        }
      ],
      "source": [
        "#We can plot the accuracy scores using seaborn\n",
        "axis = sns.barplot(x = kf_cross_val['Name'], y = kf_cross_val['Score_f1'], data = kf_cross_val)\n",
        "axis.set(xlabel='Classifier', ylabel='F1')\n",
        "for p in axis.patches:\n",
        "    height = p.get_height()\n",
        "    axis.text(p.get_x() + p.get_width()/2, height + 0.005, '{:1.4f}'.format(height), ha=\"center\") \n",
        "    \n",
        "plt.show()"
      ]
    },
    {
      "cell_type": "markdown",
      "metadata": {
        "id": "pIKyIb5gJ5fb"
      },
      "source": [
        "# **Conclusiones y Resultados**"
      ]
    },
    {
      "cell_type": "markdown",
      "source": [
        "A traves del estudio realizado anteriormente podemos extrapolar "
      ],
      "metadata": {
        "id": "fhyawk_xR_QU"
      }
    }
  ],
  "metadata": {
    "kernelspec": {
      "display_name": "Python 3.9.1 64-bit",
      "language": "python",
      "name": "python3"
    },
    "language_info": {
      "codemirror_mode": {
        "name": "ipython",
        "version": 3
      },
      "file_extension": ".py",
      "mimetype": "text/x-python",
      "name": "python",
      "nbconvert_exporter": "python",
      "pygments_lexer": "ipython3",
      "version": "3.9.1"
    },
    "orig_nbformat": 4,
    "vscode": {
      "interpreter": {
        "hash": "d25a2816f453f9b36e05d3a03dffa0258d28ce967e951c20beda1940d6b3017d"
      }
    },
    "colab": {
      "provenance": [],
      "toc_visible": true
    }
  },
  "nbformat": 4,
  "nbformat_minor": 0
}