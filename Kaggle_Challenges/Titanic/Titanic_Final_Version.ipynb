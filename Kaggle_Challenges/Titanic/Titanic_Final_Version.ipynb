{
  "cells": [
    {
      "cell_type": "markdown",
      "metadata": {
        "id": "UZX8oh0LJ5fJ"
      },
      "source": [
        "                                                # Titanic Machine Learning From Disaster\n",
        "Por: \n",
        "\n",
        "Emilia Victoria Jácome Iñiguez - A00828347\n",
        "\n",
        "Gilberto Ramos Salinas - A01734128\n",
        "\n",
        "Aylin Camacho - A01379272\n",
        "\n",
        "Luis Daniel Cano - A00827178\n",
        "\n",
        "Maximiliano Martínez Márquez - A0"
      ]
    },
    {
      "cell_type": "markdown",
      "metadata": {
        "id": "lF8PyyxjJ5fK"
      },
      "source": [
        "# **Preliminares**"
      ]
    },
    {
      "cell_type": "markdown",
      "metadata": {
        "id": "y_iJGcvRJ5fL"
      },
      "source": [
        "## Importar Librerías Generales"
      ]
    },
    {
      "cell_type": "code",
      "execution_count": null,
      "metadata": {
        "id": "x8QfL4aRJ5fL",
        "outputId": "9eb2ea11-71eb-41d5-91e0-b4ad7914afba"
      },
      "outputs": [
        {
          "ename": "ModuleNotFoundError",
          "evalue": "No module named 'plotly'",
          "output_type": "error",
          "traceback": [
            "\u001b[1;31m---------------------------------------------------------------------------\u001b[0m",
            "\u001b[1;31mModuleNotFoundError\u001b[0m                       Traceback (most recent call last)",
            "\u001b[1;32mc:\\Users\\SR118\\Documents\\GitHub\\InteligenciaArtificial_NDG\\ReallyRealMachine.ipynb Cell 5\u001b[0m in \u001b[0;36m<cell line: 3>\u001b[1;34m()\u001b[0m\n\u001b[0;32m      <a href='vscode-notebook-cell:/c%3A/Users/SR118/Documents/GitHub/InteligenciaArtificial_NDG/ReallyRealMachine.ipynb#W4sZmlsZQ%3D%3D?line=0'>1</a>\u001b[0m \u001b[39mimport\u001b[39;00m \u001b[39mnumpy\u001b[39;00m \u001b[39mas\u001b[39;00m \u001b[39mnp\u001b[39;00m\n\u001b[0;32m      <a href='vscode-notebook-cell:/c%3A/Users/SR118/Documents/GitHub/InteligenciaArtificial_NDG/ReallyRealMachine.ipynb#W4sZmlsZQ%3D%3D?line=1'>2</a>\u001b[0m \u001b[39mimport\u001b[39;00m \u001b[39mpandas\u001b[39;00m \u001b[39mas\u001b[39;00m \u001b[39mpd\u001b[39;00m\n\u001b[1;32m----> <a href='vscode-notebook-cell:/c%3A/Users/SR118/Documents/GitHub/InteligenciaArtificial_NDG/ReallyRealMachine.ipynb#W4sZmlsZQ%3D%3D?line=2'>3</a>\u001b[0m \u001b[39mimport\u001b[39;00m \u001b[39mplotly\u001b[39;00m\u001b[39m.\u001b[39;00m\u001b[39mexpress\u001b[39;00m \u001b[39mas\u001b[39;00m \u001b[39mpx\u001b[39;00m\n\u001b[0;32m      <a href='vscode-notebook-cell:/c%3A/Users/SR118/Documents/GitHub/InteligenciaArtificial_NDG/ReallyRealMachine.ipynb#W4sZmlsZQ%3D%3D?line=3'>4</a>\u001b[0m \u001b[39mimport\u001b[39;00m \u001b[39msklearn\u001b[39;00m \u001b[39mas\u001b[39;00m \u001b[39msk\u001b[39;00m\n\u001b[0;32m      <a href='vscode-notebook-cell:/c%3A/Users/SR118/Documents/GitHub/InteligenciaArtificial_NDG/ReallyRealMachine.ipynb#W4sZmlsZQ%3D%3D?line=4'>5</a>\u001b[0m \u001b[39mimport\u001b[39;00m \u001b[39mmatplotlib\u001b[39;00m\u001b[39m.\u001b[39;00m\u001b[39mpyplot\u001b[39;00m \u001b[39mas\u001b[39;00m \u001b[39mplt\u001b[39;00m\n",
            "\u001b[1;31mModuleNotFoundError\u001b[0m: No module named 'plotly'"
          ]
        }
      ],
      "source": [
        "import numpy as np\n",
        "import pandas as pd\n",
        "import plotly.express as px\n",
        "import sklearn as sk\n",
        "import matplotlib.pyplot as plt\n",
        "import seaborn as sns"
      ]
    },
    {
      "cell_type": "markdown",
      "metadata": {
        "id": "cVg_ZdMKJ5fM"
      },
      "source": [
        "## Definir los dataframes"
      ]
    },
    {
      "cell_type": "code",
      "execution_count": null,
      "metadata": {
        "id": "5wqLML97J5fN"
      },
      "outputs": [],
      "source": [
        "df_train = pd.read_csv('train.csv') #generar el dataframe con los datos del titanic\n",
        "df_test = pd.read_csv('test.csv') #generar el dataframe con los datos del titanic\n",
        "df_gs = pd.read_csv('gender_submission.csv') #generar el dataframe con los datos del titanic"
      ]
    },
    {
      "cell_type": "code",
      "execution_count": null,
      "metadata": {
        "id": "Y0DMg5uUJ5fN"
      },
      "outputs": [],
      "source": [
        "df = df_train\n"
      ]
    },
    {
      "cell_type": "markdown",
      "metadata": {
        "id": "Dixt3_SCJ5fN"
      },
      "source": [
        "# **Exploración de Datos**"
      ]
    },
    {
      "cell_type": "code",
      "execution_count": null,
      "metadata": {
        "colab": {
          "base_uri": "https://localhost:8080/",
          "height": 685
        },
        "id": "6o2V03spJ5fN",
        "outputId": "ad570ddd-86b5-488f-f7ae-8d51378676a9"
      },
      "outputs": [
        {
          "data": {
            "text/html": [
              "\n",
              "  <div id=\"df-c6af0724-43e6-43a5-8617-37117229d786\">\n",
              "    <div class=\"colab-df-container\">\n",
              "      <div>\n",
              "<style scoped>\n",
              "    .dataframe tbody tr th:only-of-type {\n",
              "        vertical-align: middle;\n",
              "    }\n",
              "\n",
              "    .dataframe tbody tr th {\n",
              "        vertical-align: top;\n",
              "    }\n",
              "\n",
              "    .dataframe thead th {\n",
              "        text-align: right;\n",
              "    }\n",
              "</style>\n",
              "<table border=\"1\" class=\"dataframe\">\n",
              "  <thead>\n",
              "    <tr style=\"text-align: right;\">\n",
              "      <th></th>\n",
              "      <th>PassengerId</th>\n",
              "      <th>Survived</th>\n",
              "      <th>Pclass</th>\n",
              "      <th>Name</th>\n",
              "      <th>Sex</th>\n",
              "      <th>Age</th>\n",
              "      <th>SibSp</th>\n",
              "      <th>Parch</th>\n",
              "      <th>Ticket</th>\n",
              "      <th>Fare</th>\n",
              "      <th>Cabin</th>\n",
              "      <th>Embarked</th>\n",
              "    </tr>\n",
              "  </thead>\n",
              "  <tbody>\n",
              "    <tr>\n",
              "      <th>0</th>\n",
              "      <td>1</td>\n",
              "      <td>0</td>\n",
              "      <td>3</td>\n",
              "      <td>Braund, Mr. Owen Harris</td>\n",
              "      <td>male</td>\n",
              "      <td>22.0</td>\n",
              "      <td>1</td>\n",
              "      <td>0</td>\n",
              "      <td>A/5 21171</td>\n",
              "      <td>7.2500</td>\n",
              "      <td>NaN</td>\n",
              "      <td>S</td>\n",
              "    </tr>\n",
              "    <tr>\n",
              "      <th>1</th>\n",
              "      <td>2</td>\n",
              "      <td>1</td>\n",
              "      <td>1</td>\n",
              "      <td>Cumings, Mrs. John Bradley (Florence Briggs Th...</td>\n",
              "      <td>female</td>\n",
              "      <td>38.0</td>\n",
              "      <td>1</td>\n",
              "      <td>0</td>\n",
              "      <td>PC 17599</td>\n",
              "      <td>71.2833</td>\n",
              "      <td>C85</td>\n",
              "      <td>C</td>\n",
              "    </tr>\n",
              "    <tr>\n",
              "      <th>2</th>\n",
              "      <td>3</td>\n",
              "      <td>1</td>\n",
              "      <td>3</td>\n",
              "      <td>Heikkinen, Miss. Laina</td>\n",
              "      <td>female</td>\n",
              "      <td>26.0</td>\n",
              "      <td>0</td>\n",
              "      <td>0</td>\n",
              "      <td>STON/O2. 3101282</td>\n",
              "      <td>7.9250</td>\n",
              "      <td>NaN</td>\n",
              "      <td>S</td>\n",
              "    </tr>\n",
              "    <tr>\n",
              "      <th>3</th>\n",
              "      <td>4</td>\n",
              "      <td>1</td>\n",
              "      <td>1</td>\n",
              "      <td>Futrelle, Mrs. Jacques Heath (Lily May Peel)</td>\n",
              "      <td>female</td>\n",
              "      <td>35.0</td>\n",
              "      <td>1</td>\n",
              "      <td>0</td>\n",
              "      <td>113803</td>\n",
              "      <td>53.1000</td>\n",
              "      <td>C123</td>\n",
              "      <td>S</td>\n",
              "    </tr>\n",
              "    <tr>\n",
              "      <th>4</th>\n",
              "      <td>5</td>\n",
              "      <td>0</td>\n",
              "      <td>3</td>\n",
              "      <td>Allen, Mr. William Henry</td>\n",
              "      <td>male</td>\n",
              "      <td>35.0</td>\n",
              "      <td>0</td>\n",
              "      <td>0</td>\n",
              "      <td>373450</td>\n",
              "      <td>8.0500</td>\n",
              "      <td>NaN</td>\n",
              "      <td>S</td>\n",
              "    </tr>\n",
              "    <tr>\n",
              "      <th>5</th>\n",
              "      <td>6</td>\n",
              "      <td>0</td>\n",
              "      <td>3</td>\n",
              "      <td>Moran, Mr. James</td>\n",
              "      <td>male</td>\n",
              "      <td>NaN</td>\n",
              "      <td>0</td>\n",
              "      <td>0</td>\n",
              "      <td>330877</td>\n",
              "      <td>8.4583</td>\n",
              "      <td>NaN</td>\n",
              "      <td>Q</td>\n",
              "    </tr>\n",
              "    <tr>\n",
              "      <th>6</th>\n",
              "      <td>7</td>\n",
              "      <td>0</td>\n",
              "      <td>1</td>\n",
              "      <td>McCarthy, Mr. Timothy J</td>\n",
              "      <td>male</td>\n",
              "      <td>54.0</td>\n",
              "      <td>0</td>\n",
              "      <td>0</td>\n",
              "      <td>17463</td>\n",
              "      <td>51.8625</td>\n",
              "      <td>E46</td>\n",
              "      <td>S</td>\n",
              "    </tr>\n",
              "    <tr>\n",
              "      <th>7</th>\n",
              "      <td>8</td>\n",
              "      <td>0</td>\n",
              "      <td>3</td>\n",
              "      <td>Palsson, Master. Gosta Leonard</td>\n",
              "      <td>male</td>\n",
              "      <td>2.0</td>\n",
              "      <td>3</td>\n",
              "      <td>1</td>\n",
              "      <td>349909</td>\n",
              "      <td>21.0750</td>\n",
              "      <td>NaN</td>\n",
              "      <td>S</td>\n",
              "    </tr>\n",
              "    <tr>\n",
              "      <th>8</th>\n",
              "      <td>9</td>\n",
              "      <td>1</td>\n",
              "      <td>3</td>\n",
              "      <td>Johnson, Mrs. Oscar W (Elisabeth Vilhelmina Berg)</td>\n",
              "      <td>female</td>\n",
              "      <td>27.0</td>\n",
              "      <td>0</td>\n",
              "      <td>2</td>\n",
              "      <td>347742</td>\n",
              "      <td>11.1333</td>\n",
              "      <td>NaN</td>\n",
              "      <td>S</td>\n",
              "    </tr>\n",
              "    <tr>\n",
              "      <th>9</th>\n",
              "      <td>10</td>\n",
              "      <td>1</td>\n",
              "      <td>2</td>\n",
              "      <td>Nasser, Mrs. Nicholas (Adele Achem)</td>\n",
              "      <td>female</td>\n",
              "      <td>14.0</td>\n",
              "      <td>1</td>\n",
              "      <td>0</td>\n",
              "      <td>237736</td>\n",
              "      <td>30.0708</td>\n",
              "      <td>NaN</td>\n",
              "      <td>C</td>\n",
              "    </tr>\n",
              "  </tbody>\n",
              "</table>\n",
              "</div>\n",
              "      <button class=\"colab-df-convert\" onclick=\"convertToInteractive('df-c6af0724-43e6-43a5-8617-37117229d786')\"\n",
              "              title=\"Convert this dataframe to an interactive table.\"\n",
              "              style=\"display:none;\">\n",
              "        \n",
              "  <svg xmlns=\"http://www.w3.org/2000/svg\" height=\"24px\"viewBox=\"0 0 24 24\"\n",
              "       width=\"24px\">\n",
              "    <path d=\"M0 0h24v24H0V0z\" fill=\"none\"/>\n",
              "    <path d=\"M18.56 5.44l.94 2.06.94-2.06 2.06-.94-2.06-.94-.94-2.06-.94 2.06-2.06.94zm-11 1L8.5 8.5l.94-2.06 2.06-.94-2.06-.94L8.5 2.5l-.94 2.06-2.06.94zm10 10l.94 2.06.94-2.06 2.06-.94-2.06-.94-.94-2.06-.94 2.06-2.06.94z\"/><path d=\"M17.41 7.96l-1.37-1.37c-.4-.4-.92-.59-1.43-.59-.52 0-1.04.2-1.43.59L10.3 9.45l-7.72 7.72c-.78.78-.78 2.05 0 2.83L4 21.41c.39.39.9.59 1.41.59.51 0 1.02-.2 1.41-.59l7.78-7.78 2.81-2.81c.8-.78.8-2.07 0-2.86zM5.41 20L4 18.59l7.72-7.72 1.47 1.35L5.41 20z\"/>\n",
              "  </svg>\n",
              "      </button>\n",
              "      \n",
              "  <style>\n",
              "    .colab-df-container {\n",
              "      display:flex;\n",
              "      flex-wrap:wrap;\n",
              "      gap: 12px;\n",
              "    }\n",
              "\n",
              "    .colab-df-convert {\n",
              "      background-color: #E8F0FE;\n",
              "      border: none;\n",
              "      border-radius: 50%;\n",
              "      cursor: pointer;\n",
              "      display: none;\n",
              "      fill: #1967D2;\n",
              "      height: 32px;\n",
              "      padding: 0 0 0 0;\n",
              "      width: 32px;\n",
              "    }\n",
              "\n",
              "    .colab-df-convert:hover {\n",
              "      background-color: #E2EBFA;\n",
              "      box-shadow: 0px 1px 2px rgba(60, 64, 67, 0.3), 0px 1px 3px 1px rgba(60, 64, 67, 0.15);\n",
              "      fill: #174EA6;\n",
              "    }\n",
              "\n",
              "    [theme=dark] .colab-df-convert {\n",
              "      background-color: #3B4455;\n",
              "      fill: #D2E3FC;\n",
              "    }\n",
              "\n",
              "    [theme=dark] .colab-df-convert:hover {\n",
              "      background-color: #434B5C;\n",
              "      box-shadow: 0px 1px 3px 1px rgba(0, 0, 0, 0.15);\n",
              "      filter: drop-shadow(0px 1px 2px rgba(0, 0, 0, 0.3));\n",
              "      fill: #FFFFFF;\n",
              "    }\n",
              "  </style>\n",
              "\n",
              "      <script>\n",
              "        const buttonEl =\n",
              "          document.querySelector('#df-c6af0724-43e6-43a5-8617-37117229d786 button.colab-df-convert');\n",
              "        buttonEl.style.display =\n",
              "          google.colab.kernel.accessAllowed ? 'block' : 'none';\n",
              "\n",
              "        async function convertToInteractive(key) {\n",
              "          const element = document.querySelector('#df-c6af0724-43e6-43a5-8617-37117229d786');\n",
              "          const dataTable =\n",
              "            await google.colab.kernel.invokeFunction('convertToInteractive',\n",
              "                                                     [key], {});\n",
              "          if (!dataTable) return;\n",
              "\n",
              "          const docLinkHtml = 'Like what you see? Visit the ' +\n",
              "            '<a target=\"_blank\" href=https://colab.research.google.com/notebooks/data_table.ipynb>data table notebook</a>'\n",
              "            + ' to learn more about interactive tables.';\n",
              "          element.innerHTML = '';\n",
              "          dataTable['output_type'] = 'display_data';\n",
              "          await google.colab.output.renderOutput(dataTable, element);\n",
              "          const docLink = document.createElement('div');\n",
              "          docLink.innerHTML = docLinkHtml;\n",
              "          element.appendChild(docLink);\n",
              "        }\n",
              "      </script>\n",
              "    </div>\n",
              "  </div>\n",
              "  "
            ],
            "text/plain": [
              "   PassengerId  Survived  Pclass  \\\n",
              "0            1         0       3   \n",
              "1            2         1       1   \n",
              "2            3         1       3   \n",
              "3            4         1       1   \n",
              "4            5         0       3   \n",
              "5            6         0       3   \n",
              "6            7         0       1   \n",
              "7            8         0       3   \n",
              "8            9         1       3   \n",
              "9           10         1       2   \n",
              "\n",
              "                                                Name     Sex   Age  SibSp  \\\n",
              "0                            Braund, Mr. Owen Harris    male  22.0      1   \n",
              "1  Cumings, Mrs. John Bradley (Florence Briggs Th...  female  38.0      1   \n",
              "2                             Heikkinen, Miss. Laina  female  26.0      0   \n",
              "3       Futrelle, Mrs. Jacques Heath (Lily May Peel)  female  35.0      1   \n",
              "4                           Allen, Mr. William Henry    male  35.0      0   \n",
              "5                                   Moran, Mr. James    male   NaN      0   \n",
              "6                            McCarthy, Mr. Timothy J    male  54.0      0   \n",
              "7                     Palsson, Master. Gosta Leonard    male   2.0      3   \n",
              "8  Johnson, Mrs. Oscar W (Elisabeth Vilhelmina Berg)  female  27.0      0   \n",
              "9                Nasser, Mrs. Nicholas (Adele Achem)  female  14.0      1   \n",
              "\n",
              "   Parch            Ticket     Fare Cabin Embarked  \n",
              "0      0         A/5 21171   7.2500   NaN        S  \n",
              "1      0          PC 17599  71.2833   C85        C  \n",
              "2      0  STON/O2. 3101282   7.9250   NaN        S  \n",
              "3      0            113803  53.1000  C123        S  \n",
              "4      0            373450   8.0500   NaN        S  \n",
              "5      0            330877   8.4583   NaN        Q  \n",
              "6      0             17463  51.8625   E46        S  \n",
              "7      1            349909  21.0750   NaN        S  \n",
              "8      2            347742  11.1333   NaN        S  \n",
              "9      0            237736  30.0708   NaN        C  "
            ]
          },
          "execution_count": 451,
          "metadata": {},
          "output_type": "execute_result"
        }
      ],
      "source": [
        "df.head(10)"
      ]
    },
    {
      "cell_type": "code",
      "execution_count": null,
      "metadata": {
        "colab": {
          "base_uri": "https://localhost:8080/"
        },
        "id": "TS2EmaIpJ5fO",
        "outputId": "ad5d4db2-6e95-49eb-f35a-40d03bf0a825"
      },
      "outputs": [
        {
          "data": {
            "text/plain": [
              "Index(['PassengerId', 'Survived', 'Pclass', 'Name', 'Sex', 'Age', 'SibSp',\n",
              "       'Parch', 'Ticket', 'Fare', 'Cabin', 'Embarked'],\n",
              "      dtype='object')"
            ]
          },
          "execution_count": 452,
          "metadata": {},
          "output_type": "execute_result"
        }
      ],
      "source": [
        "df.columns"
      ]
    },
    {
      "cell_type": "code",
      "execution_count": null,
      "metadata": {
        "colab": {
          "base_uri": "https://localhost:8080/"
        },
        "id": "FBZ90i1EJ5fO",
        "outputId": "cf11e10a-021a-42c6-bfdc-8deea056c589"
      },
      "outputs": [
        {
          "data": {
            "text/plain": [
              "(891, 12)"
            ]
          },
          "execution_count": 453,
          "metadata": {},
          "output_type": "execute_result"
        }
      ],
      "source": [
        "##Mostrar dimensiones del dataset\n",
        "df.shape\n",
        "#1309 reglones y 12 columnas"
      ]
    },
    {
      "cell_type": "markdown",
      "metadata": {
        "id": "cWqQ4fC6J5fO"
      },
      "source": [
        "## Tipos de Datos"
      ]
    },
    {
      "cell_type": "code",
      "execution_count": null,
      "metadata": {
        "colab": {
          "base_uri": "https://localhost:8080/"
        },
        "id": "CHGZKWYyJ5fO",
        "outputId": "c3900472-1e17-49b2-98bf-038236280d79"
      },
      "outputs": [
        {
          "name": "stdout",
          "output_type": "stream",
          "text": [
            "<class 'pandas.core.frame.DataFrame'>\n",
            "RangeIndex: 891 entries, 0 to 890\n",
            "Data columns (total 12 columns):\n",
            " #   Column       Non-Null Count  Dtype  \n",
            "---  ------       --------------  -----  \n",
            " 0   PassengerId  891 non-null    int64  \n",
            " 1   Survived     891 non-null    int64  \n",
            " 2   Pclass       891 non-null    int64  \n",
            " 3   Name         891 non-null    object \n",
            " 4   Sex          891 non-null    object \n",
            " 5   Age          714 non-null    float64\n",
            " 6   SibSp        891 non-null    int64  \n",
            " 7   Parch        891 non-null    int64  \n",
            " 8   Ticket       891 non-null    object \n",
            " 9   Fare         891 non-null    float64\n",
            " 10  Cabin        204 non-null    object \n",
            " 11  Embarked     889 non-null    object \n",
            "dtypes: float64(2), int64(5), object(5)\n",
            "memory usage: 83.7+ KB\n"
          ]
        }
      ],
      "source": [
        "##Resumen del dataframe\n",
        "df.info()"
      ]
    },
    {
      "cell_type": "code",
      "execution_count": null,
      "metadata": {
        "colab": {
          "base_uri": "https://localhost:8080/"
        },
        "id": "GdYXZlHJJ5fO",
        "outputId": "947de023-78a0-4fd0-cd28-720916765913"
      },
      "outputs": [
        {
          "data": {
            "text/plain": [
              "PassengerId      int64\n",
              "Survived         int64\n",
              "Pclass           int64\n",
              "Name            object\n",
              "Sex             object\n",
              "Age            float64\n",
              "SibSp            int64\n",
              "Parch            int64\n",
              "Ticket          object\n",
              "Fare           float64\n",
              "Cabin           object\n",
              "Embarked        object\n",
              "dtype: object"
            ]
          },
          "execution_count": 455,
          "metadata": {},
          "output_type": "execute_result"
        }
      ],
      "source": [
        "##Ver el tipo de Datos\n",
        "df.dtypes"
      ]
    },
    {
      "cell_type": "markdown",
      "metadata": {
        "id": "sboiZOvYJ5fP"
      },
      "source": [
        "## Medidas Estadísticas de los datos"
      ]
    },
    {
      "cell_type": "code",
      "execution_count": null,
      "metadata": {
        "colab": {
          "base_uri": "https://localhost:8080/",
          "height": 300
        },
        "id": "Gm2fxGuaJ5fP",
        "outputId": "5aecbc43-4012-4001-e1ec-86d2ee0dbd17"
      },
      "outputs": [
        {
          "data": {
            "text/html": [
              "\n",
              "  <div id=\"df-1c0317d7-4d20-4ca4-87d2-90ce1d2710ea\">\n",
              "    <div class=\"colab-df-container\">\n",
              "      <div>\n",
              "<style scoped>\n",
              "    .dataframe tbody tr th:only-of-type {\n",
              "        vertical-align: middle;\n",
              "    }\n",
              "\n",
              "    .dataframe tbody tr th {\n",
              "        vertical-align: top;\n",
              "    }\n",
              "\n",
              "    .dataframe thead th {\n",
              "        text-align: right;\n",
              "    }\n",
              "</style>\n",
              "<table border=\"1\" class=\"dataframe\">\n",
              "  <thead>\n",
              "    <tr style=\"text-align: right;\">\n",
              "      <th></th>\n",
              "      <th>PassengerId</th>\n",
              "      <th>Survived</th>\n",
              "      <th>Pclass</th>\n",
              "      <th>Age</th>\n",
              "      <th>SibSp</th>\n",
              "      <th>Parch</th>\n",
              "      <th>Fare</th>\n",
              "    </tr>\n",
              "  </thead>\n",
              "  <tbody>\n",
              "    <tr>\n",
              "      <th>count</th>\n",
              "      <td>891.000000</td>\n",
              "      <td>891.000000</td>\n",
              "      <td>891.000000</td>\n",
              "      <td>714.000000</td>\n",
              "      <td>891.000000</td>\n",
              "      <td>891.000000</td>\n",
              "      <td>891.000000</td>\n",
              "    </tr>\n",
              "    <tr>\n",
              "      <th>mean</th>\n",
              "      <td>446.000000</td>\n",
              "      <td>0.383838</td>\n",
              "      <td>2.308642</td>\n",
              "      <td>29.699118</td>\n",
              "      <td>0.523008</td>\n",
              "      <td>0.381594</td>\n",
              "      <td>32.204208</td>\n",
              "    </tr>\n",
              "    <tr>\n",
              "      <th>std</th>\n",
              "      <td>257.353842</td>\n",
              "      <td>0.486592</td>\n",
              "      <td>0.836071</td>\n",
              "      <td>14.526497</td>\n",
              "      <td>1.102743</td>\n",
              "      <td>0.806057</td>\n",
              "      <td>49.693429</td>\n",
              "    </tr>\n",
              "    <tr>\n",
              "      <th>min</th>\n",
              "      <td>1.000000</td>\n",
              "      <td>0.000000</td>\n",
              "      <td>1.000000</td>\n",
              "      <td>0.420000</td>\n",
              "      <td>0.000000</td>\n",
              "      <td>0.000000</td>\n",
              "      <td>0.000000</td>\n",
              "    </tr>\n",
              "    <tr>\n",
              "      <th>25%</th>\n",
              "      <td>223.500000</td>\n",
              "      <td>0.000000</td>\n",
              "      <td>2.000000</td>\n",
              "      <td>20.125000</td>\n",
              "      <td>0.000000</td>\n",
              "      <td>0.000000</td>\n",
              "      <td>7.910400</td>\n",
              "    </tr>\n",
              "    <tr>\n",
              "      <th>50%</th>\n",
              "      <td>446.000000</td>\n",
              "      <td>0.000000</td>\n",
              "      <td>3.000000</td>\n",
              "      <td>28.000000</td>\n",
              "      <td>0.000000</td>\n",
              "      <td>0.000000</td>\n",
              "      <td>14.454200</td>\n",
              "    </tr>\n",
              "    <tr>\n",
              "      <th>75%</th>\n",
              "      <td>668.500000</td>\n",
              "      <td>1.000000</td>\n",
              "      <td>3.000000</td>\n",
              "      <td>38.000000</td>\n",
              "      <td>1.000000</td>\n",
              "      <td>0.000000</td>\n",
              "      <td>31.000000</td>\n",
              "    </tr>\n",
              "    <tr>\n",
              "      <th>max</th>\n",
              "      <td>891.000000</td>\n",
              "      <td>1.000000</td>\n",
              "      <td>3.000000</td>\n",
              "      <td>80.000000</td>\n",
              "      <td>8.000000</td>\n",
              "      <td>6.000000</td>\n",
              "      <td>512.329200</td>\n",
              "    </tr>\n",
              "  </tbody>\n",
              "</table>\n",
              "</div>\n",
              "      <button class=\"colab-df-convert\" onclick=\"convertToInteractive('df-1c0317d7-4d20-4ca4-87d2-90ce1d2710ea')\"\n",
              "              title=\"Convert this dataframe to an interactive table.\"\n",
              "              style=\"display:none;\">\n",
              "        \n",
              "  <svg xmlns=\"http://www.w3.org/2000/svg\" height=\"24px\"viewBox=\"0 0 24 24\"\n",
              "       width=\"24px\">\n",
              "    <path d=\"M0 0h24v24H0V0z\" fill=\"none\"/>\n",
              "    <path d=\"M18.56 5.44l.94 2.06.94-2.06 2.06-.94-2.06-.94-.94-2.06-.94 2.06-2.06.94zm-11 1L8.5 8.5l.94-2.06 2.06-.94-2.06-.94L8.5 2.5l-.94 2.06-2.06.94zm10 10l.94 2.06.94-2.06 2.06-.94-2.06-.94-.94-2.06-.94 2.06-2.06.94z\"/><path d=\"M17.41 7.96l-1.37-1.37c-.4-.4-.92-.59-1.43-.59-.52 0-1.04.2-1.43.59L10.3 9.45l-7.72 7.72c-.78.78-.78 2.05 0 2.83L4 21.41c.39.39.9.59 1.41.59.51 0 1.02-.2 1.41-.59l7.78-7.78 2.81-2.81c.8-.78.8-2.07 0-2.86zM5.41 20L4 18.59l7.72-7.72 1.47 1.35L5.41 20z\"/>\n",
              "  </svg>\n",
              "      </button>\n",
              "      \n",
              "  <style>\n",
              "    .colab-df-container {\n",
              "      display:flex;\n",
              "      flex-wrap:wrap;\n",
              "      gap: 12px;\n",
              "    }\n",
              "\n",
              "    .colab-df-convert {\n",
              "      background-color: #E8F0FE;\n",
              "      border: none;\n",
              "      border-radius: 50%;\n",
              "      cursor: pointer;\n",
              "      display: none;\n",
              "      fill: #1967D2;\n",
              "      height: 32px;\n",
              "      padding: 0 0 0 0;\n",
              "      width: 32px;\n",
              "    }\n",
              "\n",
              "    .colab-df-convert:hover {\n",
              "      background-color: #E2EBFA;\n",
              "      box-shadow: 0px 1px 2px rgba(60, 64, 67, 0.3), 0px 1px 3px 1px rgba(60, 64, 67, 0.15);\n",
              "      fill: #174EA6;\n",
              "    }\n",
              "\n",
              "    [theme=dark] .colab-df-convert {\n",
              "      background-color: #3B4455;\n",
              "      fill: #D2E3FC;\n",
              "    }\n",
              "\n",
              "    [theme=dark] .colab-df-convert:hover {\n",
              "      background-color: #434B5C;\n",
              "      box-shadow: 0px 1px 3px 1px rgba(0, 0, 0, 0.15);\n",
              "      filter: drop-shadow(0px 1px 2px rgba(0, 0, 0, 0.3));\n",
              "      fill: #FFFFFF;\n",
              "    }\n",
              "  </style>\n",
              "\n",
              "      <script>\n",
              "        const buttonEl =\n",
              "          document.querySelector('#df-1c0317d7-4d20-4ca4-87d2-90ce1d2710ea button.colab-df-convert');\n",
              "        buttonEl.style.display =\n",
              "          google.colab.kernel.accessAllowed ? 'block' : 'none';\n",
              "\n",
              "        async function convertToInteractive(key) {\n",
              "          const element = document.querySelector('#df-1c0317d7-4d20-4ca4-87d2-90ce1d2710ea');\n",
              "          const dataTable =\n",
              "            await google.colab.kernel.invokeFunction('convertToInteractive',\n",
              "                                                     [key], {});\n",
              "          if (!dataTable) return;\n",
              "\n",
              "          const docLinkHtml = 'Like what you see? Visit the ' +\n",
              "            '<a target=\"_blank\" href=https://colab.research.google.com/notebooks/data_table.ipynb>data table notebook</a>'\n",
              "            + ' to learn more about interactive tables.';\n",
              "          element.innerHTML = '';\n",
              "          dataTable['output_type'] = 'display_data';\n",
              "          await google.colab.output.renderOutput(dataTable, element);\n",
              "          const docLink = document.createElement('div');\n",
              "          docLink.innerHTML = docLinkHtml;\n",
              "          element.appendChild(docLink);\n",
              "        }\n",
              "      </script>\n",
              "    </div>\n",
              "  </div>\n",
              "  "
            ],
            "text/plain": [
              "       PassengerId    Survived      Pclass         Age       SibSp  \\\n",
              "count   891.000000  891.000000  891.000000  714.000000  891.000000   \n",
              "mean    446.000000    0.383838    2.308642   29.699118    0.523008   \n",
              "std     257.353842    0.486592    0.836071   14.526497    1.102743   \n",
              "min       1.000000    0.000000    1.000000    0.420000    0.000000   \n",
              "25%     223.500000    0.000000    2.000000   20.125000    0.000000   \n",
              "50%     446.000000    0.000000    3.000000   28.000000    0.000000   \n",
              "75%     668.500000    1.000000    3.000000   38.000000    1.000000   \n",
              "max     891.000000    1.000000    3.000000   80.000000    8.000000   \n",
              "\n",
              "            Parch        Fare  \n",
              "count  891.000000  891.000000  \n",
              "mean     0.381594   32.204208  \n",
              "std      0.806057   49.693429  \n",
              "min      0.000000    0.000000  \n",
              "25%      0.000000    7.910400  \n",
              "50%      0.000000   14.454200  \n",
              "75%      0.000000   31.000000  \n",
              "max      6.000000  512.329200  "
            ]
          },
          "execution_count": 456,
          "metadata": {},
          "output_type": "execute_result"
        }
      ],
      "source": [
        "##Descripción de Variables Numéricas\n",
        "df.describe()"
      ]
    },
    {
      "cell_type": "code",
      "execution_count": null,
      "metadata": {
        "colab": {
          "base_uri": "https://localhost:8080/",
          "height": 175
        },
        "id": "8StMlPrEJ5fP",
        "outputId": "71bcd5f3-6691-4a9e-908a-4c10d70561db"
      },
      "outputs": [
        {
          "data": {
            "text/html": [
              "\n",
              "  <div id=\"df-f20a7e89-4de9-4745-bdae-f7090b00e2ea\">\n",
              "    <div class=\"colab-df-container\">\n",
              "      <div>\n",
              "<style scoped>\n",
              "    .dataframe tbody tr th:only-of-type {\n",
              "        vertical-align: middle;\n",
              "    }\n",
              "\n",
              "    .dataframe tbody tr th {\n",
              "        vertical-align: top;\n",
              "    }\n",
              "\n",
              "    .dataframe thead th {\n",
              "        text-align: right;\n",
              "    }\n",
              "</style>\n",
              "<table border=\"1\" class=\"dataframe\">\n",
              "  <thead>\n",
              "    <tr style=\"text-align: right;\">\n",
              "      <th></th>\n",
              "      <th>Name</th>\n",
              "      <th>Sex</th>\n",
              "      <th>Ticket</th>\n",
              "      <th>Cabin</th>\n",
              "      <th>Embarked</th>\n",
              "    </tr>\n",
              "  </thead>\n",
              "  <tbody>\n",
              "    <tr>\n",
              "      <th>count</th>\n",
              "      <td>891</td>\n",
              "      <td>891</td>\n",
              "      <td>891</td>\n",
              "      <td>204</td>\n",
              "      <td>889</td>\n",
              "    </tr>\n",
              "    <tr>\n",
              "      <th>unique</th>\n",
              "      <td>891</td>\n",
              "      <td>2</td>\n",
              "      <td>681</td>\n",
              "      <td>147</td>\n",
              "      <td>3</td>\n",
              "    </tr>\n",
              "    <tr>\n",
              "      <th>top</th>\n",
              "      <td>Braund, Mr. Owen Harris</td>\n",
              "      <td>male</td>\n",
              "      <td>347082</td>\n",
              "      <td>B96 B98</td>\n",
              "      <td>S</td>\n",
              "    </tr>\n",
              "    <tr>\n",
              "      <th>freq</th>\n",
              "      <td>1</td>\n",
              "      <td>577</td>\n",
              "      <td>7</td>\n",
              "      <td>4</td>\n",
              "      <td>644</td>\n",
              "    </tr>\n",
              "  </tbody>\n",
              "</table>\n",
              "</div>\n",
              "      <button class=\"colab-df-convert\" onclick=\"convertToInteractive('df-f20a7e89-4de9-4745-bdae-f7090b00e2ea')\"\n",
              "              title=\"Convert this dataframe to an interactive table.\"\n",
              "              style=\"display:none;\">\n",
              "        \n",
              "  <svg xmlns=\"http://www.w3.org/2000/svg\" height=\"24px\"viewBox=\"0 0 24 24\"\n",
              "       width=\"24px\">\n",
              "    <path d=\"M0 0h24v24H0V0z\" fill=\"none\"/>\n",
              "    <path d=\"M18.56 5.44l.94 2.06.94-2.06 2.06-.94-2.06-.94-.94-2.06-.94 2.06-2.06.94zm-11 1L8.5 8.5l.94-2.06 2.06-.94-2.06-.94L8.5 2.5l-.94 2.06-2.06.94zm10 10l.94 2.06.94-2.06 2.06-.94-2.06-.94-.94-2.06-.94 2.06-2.06.94z\"/><path d=\"M17.41 7.96l-1.37-1.37c-.4-.4-.92-.59-1.43-.59-.52 0-1.04.2-1.43.59L10.3 9.45l-7.72 7.72c-.78.78-.78 2.05 0 2.83L4 21.41c.39.39.9.59 1.41.59.51 0 1.02-.2 1.41-.59l7.78-7.78 2.81-2.81c.8-.78.8-2.07 0-2.86zM5.41 20L4 18.59l7.72-7.72 1.47 1.35L5.41 20z\"/>\n",
              "  </svg>\n",
              "      </button>\n",
              "      \n",
              "  <style>\n",
              "    .colab-df-container {\n",
              "      display:flex;\n",
              "      flex-wrap:wrap;\n",
              "      gap: 12px;\n",
              "    }\n",
              "\n",
              "    .colab-df-convert {\n",
              "      background-color: #E8F0FE;\n",
              "      border: none;\n",
              "      border-radius: 50%;\n",
              "      cursor: pointer;\n",
              "      display: none;\n",
              "      fill: #1967D2;\n",
              "      height: 32px;\n",
              "      padding: 0 0 0 0;\n",
              "      width: 32px;\n",
              "    }\n",
              "\n",
              "    .colab-df-convert:hover {\n",
              "      background-color: #E2EBFA;\n",
              "      box-shadow: 0px 1px 2px rgba(60, 64, 67, 0.3), 0px 1px 3px 1px rgba(60, 64, 67, 0.15);\n",
              "      fill: #174EA6;\n",
              "    }\n",
              "\n",
              "    [theme=dark] .colab-df-convert {\n",
              "      background-color: #3B4455;\n",
              "      fill: #D2E3FC;\n",
              "    }\n",
              "\n",
              "    [theme=dark] .colab-df-convert:hover {\n",
              "      background-color: #434B5C;\n",
              "      box-shadow: 0px 1px 3px 1px rgba(0, 0, 0, 0.15);\n",
              "      filter: drop-shadow(0px 1px 2px rgba(0, 0, 0, 0.3));\n",
              "      fill: #FFFFFF;\n",
              "    }\n",
              "  </style>\n",
              "\n",
              "      <script>\n",
              "        const buttonEl =\n",
              "          document.querySelector('#df-f20a7e89-4de9-4745-bdae-f7090b00e2ea button.colab-df-convert');\n",
              "        buttonEl.style.display =\n",
              "          google.colab.kernel.accessAllowed ? 'block' : 'none';\n",
              "\n",
              "        async function convertToInteractive(key) {\n",
              "          const element = document.querySelector('#df-f20a7e89-4de9-4745-bdae-f7090b00e2ea');\n",
              "          const dataTable =\n",
              "            await google.colab.kernel.invokeFunction('convertToInteractive',\n",
              "                                                     [key], {});\n",
              "          if (!dataTable) return;\n",
              "\n",
              "          const docLinkHtml = 'Like what you see? Visit the ' +\n",
              "            '<a target=\"_blank\" href=https://colab.research.google.com/notebooks/data_table.ipynb>data table notebook</a>'\n",
              "            + ' to learn more about interactive tables.';\n",
              "          element.innerHTML = '';\n",
              "          dataTable['output_type'] = 'display_data';\n",
              "          await google.colab.output.renderOutput(dataTable, element);\n",
              "          const docLink = document.createElement('div');\n",
              "          docLink.innerHTML = docLinkHtml;\n",
              "          element.appendChild(docLink);\n",
              "        }\n",
              "      </script>\n",
              "    </div>\n",
              "  </div>\n",
              "  "
            ],
            "text/plain": [
              "                           Name   Sex  Ticket    Cabin Embarked\n",
              "count                       891   891     891      204      889\n",
              "unique                      891     2     681      147        3\n",
              "top     Braund, Mr. Owen Harris  male  347082  B96 B98        S\n",
              "freq                          1   577       7        4      644"
            ]
          },
          "execution_count": 457,
          "metadata": {},
          "output_type": "execute_result"
        }
      ],
      "source": [
        "##Descripción de variables Cualitativas\n",
        "df.describe(include='O')"
      ]
    },
    {
      "cell_type": "markdown",
      "metadata": {
        "id": "KyyueVz8J5fP"
      },
      "source": [
        "## Revisar inconsistencias"
      ]
    },
    {
      "cell_type": "code",
      "execution_count": null,
      "metadata": {
        "colab": {
          "base_uri": "https://localhost:8080/"
        },
        "id": "z3S0vODxJ5fQ",
        "outputId": "a30337f7-b8f8-4ef9-a0ca-6e7ba00e79ff"
      },
      "outputs": [
        {
          "data": {
            "text/plain": [
              "PassengerId    891\n",
              "Survived       891\n",
              "Pclass         891\n",
              "Name           891\n",
              "Sex            891\n",
              "Age            714\n",
              "SibSp          891\n",
              "Parch          891\n",
              "Ticket         891\n",
              "Fare           891\n",
              "Cabin          204\n",
              "Embarked       889\n",
              "dtype: int64"
            ]
          },
          "execution_count": 458,
          "metadata": {},
          "output_type": "execute_result"
        }
      ],
      "source": [
        "##Checar valores no nulos\n",
        "df.notnull().sum()"
      ]
    },
    {
      "cell_type": "code",
      "execution_count": null,
      "metadata": {
        "colab": {
          "base_uri": "https://localhost:8080/"
        },
        "id": "eXgM2kWJJ5fQ",
        "outputId": "07a8c6b8-8f02-403e-b7a7-ffafb4fd0123"
      },
      "outputs": [
        {
          "data": {
            "text/plain": [
              "PassengerId      0\n",
              "Survived         0\n",
              "Pclass           0\n",
              "Name             0\n",
              "Sex              0\n",
              "Age            177\n",
              "SibSp            0\n",
              "Parch            0\n",
              "Ticket           0\n",
              "Fare             0\n",
              "Cabin          687\n",
              "Embarked         2\n",
              "dtype: int64"
            ]
          },
          "execution_count": 459,
          "metadata": {},
          "output_type": "execute_result"
        }
      ],
      "source": [
        "##Checar valores nulos\n",
        "df.isnull().sum()"
      ]
    },
    {
      "cell_type": "code",
      "execution_count": null,
      "metadata": {
        "colab": {
          "base_uri": "https://localhost:8080/"
        },
        "id": "E3krsMu0J5fQ",
        "outputId": "15af8f90-ffbf-4a86-9a40-054ee3e51adb"
      },
      "outputs": [
        {
          "data": {
            "text/plain": [
              "PassengerId      0\n",
              "Survived         0\n",
              "Pclass           0\n",
              "Name             0\n",
              "Sex              0\n",
              "Age            177\n",
              "SibSp            0\n",
              "Parch            0\n",
              "Ticket           0\n",
              "Fare             0\n",
              "Cabin          687\n",
              "Embarked         2\n",
              "dtype: int64"
            ]
          },
          "execution_count": 460,
          "metadata": {},
          "output_type": "execute_result"
        }
      ],
      "source": [
        "##Checar blancos\n",
        "df.isna().sum()"
      ]
    },
    {
      "cell_type": "markdown",
      "metadata": {
        "id": "QII09pjTJ5fR"
      },
      "source": [
        "# **Transformación de Datos**"
      ]
    },
    {
      "cell_type": "markdown",
      "metadata": {
        "id": "rJt5Uxh0kGSV"
      },
      "source": [
        "##**Cambiar valores Nulos**"
      ]
    },
    {
      "cell_type": "markdown",
      "metadata": {
        "id": "Jc1AlenJnIVF"
      },
      "source": [
        "Age y Embarked cuentan con 177 y 2 valores nulos respectivamente. No queremos eliminar dichos registros así que reemplazamos los valores nulos de la siguiente manera:"
      ]
    },
    {
      "cell_type": "code",
      "execution_count": null,
      "metadata": {
        "colab": {
          "base_uri": "https://localhost:8080/"
        },
        "id": "kUd2uIzNkc-S",
        "outputId": "9fd2cc73-a61c-4bca-ad5f-3c48900d3754"
      },
      "outputs": [
        {
          "name": "stdout",
          "output_type": "stream",
          "text": [
            "29.69911764705882\n",
            "['S']\n"
          ]
        }
      ],
      "source": [
        "age_mean = df['Age'].mean()\n",
        "embarked_mode = df['Embarked'].mode()\n",
        "print(age_mean)\n",
        "print(embarked_mode.values)"
      ]
    },
    {
      "cell_type": "code",
      "execution_count": null,
      "metadata": {
        "id": "gewcGeaQkaC4"
      },
      "outputs": [],
      "source": [
        "df['Age'].fillna(value=age_mean, inplace=True)\n",
        "df['Embarked'].fillna(value=embarked_mode.values[0], inplace=True)"
      ]
    },
    {
      "cell_type": "code",
      "execution_count": null,
      "metadata": {
        "colab": {
          "base_uri": "https://localhost:8080/"
        },
        "id": "mcsW7bQ_lb3h",
        "outputId": "ecf3cf8d-6935-467b-e17d-02440a0e9744"
      },
      "outputs": [
        {
          "data": {
            "text/plain": [
              "PassengerId      0\n",
              "Survived         0\n",
              "Pclass           0\n",
              "Name             0\n",
              "Sex              0\n",
              "Age              0\n",
              "SibSp            0\n",
              "Parch            0\n",
              "Ticket           0\n",
              "Fare             0\n",
              "Cabin          687\n",
              "Embarked         0\n",
              "dtype: int64"
            ]
          },
          "execution_count": 463,
          "metadata": {},
          "output_type": "execute_result"
        }
      ],
      "source": [
        "df.isnull().sum()"
      ]
    },
    {
      "cell_type": "markdown",
      "metadata": {
        "id": "Xh26Pwx4J5fR"
      },
      "source": [
        "## **Eliminar Registros con valores nulos o Nan**"
      ]
    },
    {
      "cell_type": "markdown",
      "metadata": {
        "id": "j5598gSPllpR"
      },
      "source": [
        "La columna de Cabin no es relevante para el entrenamiento del modelo, y cuenta con mayoría de valores Nan, así que la eliminaremos"
      ]
    },
    {
      "cell_type": "code",
      "execution_count": null,
      "metadata": {
        "id": "q1uvoxoIJ5fR"
      },
      "outputs": [],
      "source": [
        "df = df.drop(columns=['Cabin'])"
      ]
    },
    {
      "cell_type": "code",
      "execution_count": null,
      "metadata": {
        "colab": {
          "base_uri": "https://localhost:8080/"
        },
        "id": "KArzP-1dW0g_",
        "outputId": "44787c80-8398-47a5-df5a-11402f864dd7"
      },
      "outputs": [
        {
          "data": {
            "text/plain": [
              "(891, 11)"
            ]
          },
          "execution_count": 465,
          "metadata": {},
          "output_type": "execute_result"
        }
      ],
      "source": [
        "df.dropna(axis=0,how='any',inplace=True)\n",
        "df.shape"
      ]
    },
    {
      "cell_type": "code",
      "execution_count": null,
      "metadata": {
        "colab": {
          "base_uri": "https://localhost:8080/"
        },
        "id": "ghQT6QhrJ5fR",
        "outputId": "b4c9d063-ffb4-49da-b56e-98a1d0e8c243"
      },
      "outputs": [
        {
          "data": {
            "text/plain": [
              "PassengerId    0\n",
              "Survived       0\n",
              "Pclass         0\n",
              "Name           0\n",
              "Sex            0\n",
              "Age            0\n",
              "SibSp          0\n",
              "Parch          0\n",
              "Ticket         0\n",
              "Fare           0\n",
              "Embarked       0\n",
              "dtype: int64"
            ]
          },
          "execution_count": 466,
          "metadata": {},
          "output_type": "execute_result"
        }
      ],
      "source": [
        "##Verificar que no existan valores nulos\n",
        "df.isnull().sum()"
      ]
    },
    {
      "cell_type": "code",
      "execution_count": null,
      "metadata": {
        "colab": {
          "base_uri": "https://localhost:8080/",
          "height": 991
        },
        "id": "oQ2hHUhSOKgU",
        "outputId": "23bd1c51-4f09-44d6-8ab7-f39a648e0884"
      },
      "outputs": [
        {
          "data": {
            "text/html": [
              "\n",
              "  <div id=\"df-41b1883a-9fcf-44d2-9443-cb8652ccd5c5\">\n",
              "    <div class=\"colab-df-container\">\n",
              "      <div>\n",
              "<style scoped>\n",
              "    .dataframe tbody tr th:only-of-type {\n",
              "        vertical-align: middle;\n",
              "    }\n",
              "\n",
              "    .dataframe tbody tr th {\n",
              "        vertical-align: top;\n",
              "    }\n",
              "\n",
              "    .dataframe thead th {\n",
              "        text-align: right;\n",
              "    }\n",
              "</style>\n",
              "<table border=\"1\" class=\"dataframe\">\n",
              "  <thead>\n",
              "    <tr style=\"text-align: right;\">\n",
              "      <th></th>\n",
              "      <th>PassengerId</th>\n",
              "      <th>Survived</th>\n",
              "      <th>Pclass</th>\n",
              "      <th>Name</th>\n",
              "      <th>Sex</th>\n",
              "      <th>Age</th>\n",
              "      <th>SibSp</th>\n",
              "      <th>Parch</th>\n",
              "      <th>Ticket</th>\n",
              "      <th>Fare</th>\n",
              "      <th>Embarked</th>\n",
              "      <th>sex_num</th>\n",
              "    </tr>\n",
              "  </thead>\n",
              "  <tbody>\n",
              "    <tr>\n",
              "      <th>0</th>\n",
              "      <td>1</td>\n",
              "      <td>0</td>\n",
              "      <td>3</td>\n",
              "      <td>Braund, Mr. Owen Harris</td>\n",
              "      <td>male</td>\n",
              "      <td>22.000000</td>\n",
              "      <td>1</td>\n",
              "      <td>0</td>\n",
              "      <td>A/5 21171</td>\n",
              "      <td>7.2500</td>\n",
              "      <td>1</td>\n",
              "      <td>2</td>\n",
              "    </tr>\n",
              "    <tr>\n",
              "      <th>1</th>\n",
              "      <td>2</td>\n",
              "      <td>1</td>\n",
              "      <td>1</td>\n",
              "      <td>Cumings, Mrs. John Bradley (Florence Briggs Th...</td>\n",
              "      <td>female</td>\n",
              "      <td>38.000000</td>\n",
              "      <td>1</td>\n",
              "      <td>0</td>\n",
              "      <td>PC 17599</td>\n",
              "      <td>71.2833</td>\n",
              "      <td>2</td>\n",
              "      <td>1</td>\n",
              "    </tr>\n",
              "    <tr>\n",
              "      <th>2</th>\n",
              "      <td>3</td>\n",
              "      <td>1</td>\n",
              "      <td>3</td>\n",
              "      <td>Heikkinen, Miss. Laina</td>\n",
              "      <td>female</td>\n",
              "      <td>26.000000</td>\n",
              "      <td>0</td>\n",
              "      <td>0</td>\n",
              "      <td>STON/O2. 3101282</td>\n",
              "      <td>7.9250</td>\n",
              "      <td>1</td>\n",
              "      <td>1</td>\n",
              "    </tr>\n",
              "    <tr>\n",
              "      <th>3</th>\n",
              "      <td>4</td>\n",
              "      <td>1</td>\n",
              "      <td>1</td>\n",
              "      <td>Futrelle, Mrs. Jacques Heath (Lily May Peel)</td>\n",
              "      <td>female</td>\n",
              "      <td>35.000000</td>\n",
              "      <td>1</td>\n",
              "      <td>0</td>\n",
              "      <td>113803</td>\n",
              "      <td>53.1000</td>\n",
              "      <td>1</td>\n",
              "      <td>1</td>\n",
              "    </tr>\n",
              "    <tr>\n",
              "      <th>4</th>\n",
              "      <td>5</td>\n",
              "      <td>0</td>\n",
              "      <td>3</td>\n",
              "      <td>Allen, Mr. William Henry</td>\n",
              "      <td>male</td>\n",
              "      <td>35.000000</td>\n",
              "      <td>0</td>\n",
              "      <td>0</td>\n",
              "      <td>373450</td>\n",
              "      <td>8.0500</td>\n",
              "      <td>1</td>\n",
              "      <td>2</td>\n",
              "    </tr>\n",
              "    <tr>\n",
              "      <th>...</th>\n",
              "      <td>...</td>\n",
              "      <td>...</td>\n",
              "      <td>...</td>\n",
              "      <td>...</td>\n",
              "      <td>...</td>\n",
              "      <td>...</td>\n",
              "      <td>...</td>\n",
              "      <td>...</td>\n",
              "      <td>...</td>\n",
              "      <td>...</td>\n",
              "      <td>...</td>\n",
              "      <td>...</td>\n",
              "    </tr>\n",
              "    <tr>\n",
              "      <th>886</th>\n",
              "      <td>887</td>\n",
              "      <td>0</td>\n",
              "      <td>2</td>\n",
              "      <td>Montvila, Rev. Juozas</td>\n",
              "      <td>male</td>\n",
              "      <td>27.000000</td>\n",
              "      <td>0</td>\n",
              "      <td>0</td>\n",
              "      <td>211536</td>\n",
              "      <td>13.0000</td>\n",
              "      <td>1</td>\n",
              "      <td>2</td>\n",
              "    </tr>\n",
              "    <tr>\n",
              "      <th>887</th>\n",
              "      <td>888</td>\n",
              "      <td>1</td>\n",
              "      <td>1</td>\n",
              "      <td>Graham, Miss. Margaret Edith</td>\n",
              "      <td>female</td>\n",
              "      <td>19.000000</td>\n",
              "      <td>0</td>\n",
              "      <td>0</td>\n",
              "      <td>112053</td>\n",
              "      <td>30.0000</td>\n",
              "      <td>1</td>\n",
              "      <td>1</td>\n",
              "    </tr>\n",
              "    <tr>\n",
              "      <th>888</th>\n",
              "      <td>889</td>\n",
              "      <td>0</td>\n",
              "      <td>3</td>\n",
              "      <td>Johnston, Miss. Catherine Helen \"Carrie\"</td>\n",
              "      <td>female</td>\n",
              "      <td>29.699118</td>\n",
              "      <td>1</td>\n",
              "      <td>2</td>\n",
              "      <td>W./C. 6607</td>\n",
              "      <td>23.4500</td>\n",
              "      <td>1</td>\n",
              "      <td>1</td>\n",
              "    </tr>\n",
              "    <tr>\n",
              "      <th>889</th>\n",
              "      <td>890</td>\n",
              "      <td>1</td>\n",
              "      <td>1</td>\n",
              "      <td>Behr, Mr. Karl Howell</td>\n",
              "      <td>male</td>\n",
              "      <td>26.000000</td>\n",
              "      <td>0</td>\n",
              "      <td>0</td>\n",
              "      <td>111369</td>\n",
              "      <td>30.0000</td>\n",
              "      <td>2</td>\n",
              "      <td>2</td>\n",
              "    </tr>\n",
              "    <tr>\n",
              "      <th>890</th>\n",
              "      <td>891</td>\n",
              "      <td>0</td>\n",
              "      <td>3</td>\n",
              "      <td>Dooley, Mr. Patrick</td>\n",
              "      <td>male</td>\n",
              "      <td>32.000000</td>\n",
              "      <td>0</td>\n",
              "      <td>0</td>\n",
              "      <td>370376</td>\n",
              "      <td>7.7500</td>\n",
              "      <td>3</td>\n",
              "      <td>2</td>\n",
              "    </tr>\n",
              "  </tbody>\n",
              "</table>\n",
              "<p>891 rows × 12 columns</p>\n",
              "</div>\n",
              "      <button class=\"colab-df-convert\" onclick=\"convertToInteractive('df-41b1883a-9fcf-44d2-9443-cb8652ccd5c5')\"\n",
              "              title=\"Convert this dataframe to an interactive table.\"\n",
              "              style=\"display:none;\">\n",
              "        \n",
              "  <svg xmlns=\"http://www.w3.org/2000/svg\" height=\"24px\"viewBox=\"0 0 24 24\"\n",
              "       width=\"24px\">\n",
              "    <path d=\"M0 0h24v24H0V0z\" fill=\"none\"/>\n",
              "    <path d=\"M18.56 5.44l.94 2.06.94-2.06 2.06-.94-2.06-.94-.94-2.06-.94 2.06-2.06.94zm-11 1L8.5 8.5l.94-2.06 2.06-.94-2.06-.94L8.5 2.5l-.94 2.06-2.06.94zm10 10l.94 2.06.94-2.06 2.06-.94-2.06-.94-.94-2.06-.94 2.06-2.06.94z\"/><path d=\"M17.41 7.96l-1.37-1.37c-.4-.4-.92-.59-1.43-.59-.52 0-1.04.2-1.43.59L10.3 9.45l-7.72 7.72c-.78.78-.78 2.05 0 2.83L4 21.41c.39.39.9.59 1.41.59.51 0 1.02-.2 1.41-.59l7.78-7.78 2.81-2.81c.8-.78.8-2.07 0-2.86zM5.41 20L4 18.59l7.72-7.72 1.47 1.35L5.41 20z\"/>\n",
              "  </svg>\n",
              "      </button>\n",
              "      \n",
              "  <style>\n",
              "    .colab-df-container {\n",
              "      display:flex;\n",
              "      flex-wrap:wrap;\n",
              "      gap: 12px;\n",
              "    }\n",
              "\n",
              "    .colab-df-convert {\n",
              "      background-color: #E8F0FE;\n",
              "      border: none;\n",
              "      border-radius: 50%;\n",
              "      cursor: pointer;\n",
              "      display: none;\n",
              "      fill: #1967D2;\n",
              "      height: 32px;\n",
              "      padding: 0 0 0 0;\n",
              "      width: 32px;\n",
              "    }\n",
              "\n",
              "    .colab-df-convert:hover {\n",
              "      background-color: #E2EBFA;\n",
              "      box-shadow: 0px 1px 2px rgba(60, 64, 67, 0.3), 0px 1px 3px 1px rgba(60, 64, 67, 0.15);\n",
              "      fill: #174EA6;\n",
              "    }\n",
              "\n",
              "    [theme=dark] .colab-df-convert {\n",
              "      background-color: #3B4455;\n",
              "      fill: #D2E3FC;\n",
              "    }\n",
              "\n",
              "    [theme=dark] .colab-df-convert:hover {\n",
              "      background-color: #434B5C;\n",
              "      box-shadow: 0px 1px 3px 1px rgba(0, 0, 0, 0.15);\n",
              "      filter: drop-shadow(0px 1px 2px rgba(0, 0, 0, 0.3));\n",
              "      fill: #FFFFFF;\n",
              "    }\n",
              "  </style>\n",
              "\n",
              "      <script>\n",
              "        const buttonEl =\n",
              "          document.querySelector('#df-41b1883a-9fcf-44d2-9443-cb8652ccd5c5 button.colab-df-convert');\n",
              "        buttonEl.style.display =\n",
              "          google.colab.kernel.accessAllowed ? 'block' : 'none';\n",
              "\n",
              "        async function convertToInteractive(key) {\n",
              "          const element = document.querySelector('#df-41b1883a-9fcf-44d2-9443-cb8652ccd5c5');\n",
              "          const dataTable =\n",
              "            await google.colab.kernel.invokeFunction('convertToInteractive',\n",
              "                                                     [key], {});\n",
              "          if (!dataTable) return;\n",
              "\n",
              "          const docLinkHtml = 'Like what you see? Visit the ' +\n",
              "            '<a target=\"_blank\" href=https://colab.research.google.com/notebooks/data_table.ipynb>data table notebook</a>'\n",
              "            + ' to learn more about interactive tables.';\n",
              "          element.innerHTML = '';\n",
              "          dataTable['output_type'] = 'display_data';\n",
              "          await google.colab.output.renderOutput(dataTable, element);\n",
              "          const docLink = document.createElement('div');\n",
              "          docLink.innerHTML = docLinkHtml;\n",
              "          element.appendChild(docLink);\n",
              "        }\n",
              "      </script>\n",
              "    </div>\n",
              "  </div>\n",
              "  "
            ],
            "text/plain": [
              "     PassengerId  Survived  Pclass  \\\n",
              "0              1         0       3   \n",
              "1              2         1       1   \n",
              "2              3         1       3   \n",
              "3              4         1       1   \n",
              "4              5         0       3   \n",
              "..           ...       ...     ...   \n",
              "886          887         0       2   \n",
              "887          888         1       1   \n",
              "888          889         0       3   \n",
              "889          890         1       1   \n",
              "890          891         0       3   \n",
              "\n",
              "                                                  Name     Sex        Age  \\\n",
              "0                              Braund, Mr. Owen Harris    male  22.000000   \n",
              "1    Cumings, Mrs. John Bradley (Florence Briggs Th...  female  38.000000   \n",
              "2                               Heikkinen, Miss. Laina  female  26.000000   \n",
              "3         Futrelle, Mrs. Jacques Heath (Lily May Peel)  female  35.000000   \n",
              "4                             Allen, Mr. William Henry    male  35.000000   \n",
              "..                                                 ...     ...        ...   \n",
              "886                              Montvila, Rev. Juozas    male  27.000000   \n",
              "887                       Graham, Miss. Margaret Edith  female  19.000000   \n",
              "888           Johnston, Miss. Catherine Helen \"Carrie\"  female  29.699118   \n",
              "889                              Behr, Mr. Karl Howell    male  26.000000   \n",
              "890                                Dooley, Mr. Patrick    male  32.000000   \n",
              "\n",
              "     SibSp  Parch            Ticket     Fare Embarked  sex_num  \n",
              "0        1      0         A/5 21171   7.2500        1        2  \n",
              "1        1      0          PC 17599  71.2833        2        1  \n",
              "2        0      0  STON/O2. 3101282   7.9250        1        1  \n",
              "3        1      0            113803  53.1000        1        1  \n",
              "4        0      0            373450   8.0500        1        2  \n",
              "..     ...    ...               ...      ...      ...      ...  \n",
              "886      0      0            211536  13.0000        1        2  \n",
              "887      0      0            112053  30.0000        1        1  \n",
              "888      1      2        W./C. 6607  23.4500        1        1  \n",
              "889      0      0            111369  30.0000        2        2  \n",
              "890      0      0            370376   7.7500        3        2  \n",
              "\n",
              "[891 rows x 12 columns]"
            ]
          },
          "execution_count": 467,
          "metadata": {},
          "output_type": "execute_result"
        }
      ],
      "source": [
        "newData = df \n",
        "newData[\"sex_num\"] = 2\n",
        "newData.loc[newData['Sex'] == 'female', 'sex_num'] = 1\n",
        "newData.loc[newData['Embarked'] == 'S', 'Embarked'] = 1\n",
        "newData.loc[newData['Embarked'] == 'C', 'Embarked'] = 2\n",
        "newData.loc[newData['Embarked'] == 'Q', 'Embarked'] = 3\n",
        "newData "
      ]
    },
    {
      "cell_type": "markdown",
      "metadata": {
        "id": "WLJdpe1xJ5fR"
      },
      "source": [
        "# **Visualización de la Data**"
      ]
    },
    {
      "cell_type": "code",
      "execution_count": null,
      "metadata": {
        "colab": {
          "base_uri": "https://localhost:8080/",
          "height": 542
        },
        "id": "LcigfrncJ5fR",
        "outputId": "efc3cccc-c8f5-4cc9-ad16-c0e9c049e2ab"
      },
      "outputs": [
        {
          "data": {
            "text/html": [
              "<html>\n",
              "<head><meta charset=\"utf-8\" /></head>\n",
              "<body>\n",
              "    <div>            <script src=\"https://cdnjs.cloudflare.com/ajax/libs/mathjax/2.7.5/MathJax.js?config=TeX-AMS-MML_SVG\"></script><script type=\"text/javascript\">if (window.MathJax) {MathJax.Hub.Config({SVG: {font: \"STIX-Web\"}});}</script>                <script type=\"text/javascript\">window.PlotlyConfig = {MathJaxConfig: 'local'};</script>\n",
              "        <script src=\"https://cdn.plot.ly/plotly-2.8.3.min.js\"></script>                <div id=\"0905607c-11fe-4b39-968e-1d5314caf3ef\" class=\"plotly-graph-div\" style=\"height:525px; width:100%;\"></div>            <script type=\"text/javascript\">                                    window.PLOTLYENV=window.PLOTLYENV || {};                                    if (document.getElementById(\"0905607c-11fe-4b39-968e-1d5314caf3ef\")) {                    Plotly.newPlot(                        \"0905607c-11fe-4b39-968e-1d5314caf3ef\",                        [{\"alignmentgroup\":\"True\",\"hovertemplate\":\"Pclass=%{x}<br>Survived=%{y}<extra></extra>\",\"legendgroup\":\"\",\"marker\":{\"color\":\"#636efa\",\"pattern\":{\"shape\":\"\"}},\"name\":\"\",\"offsetgroup\":\"\",\"orientation\":\"v\",\"showlegend\":false,\"textposition\":\"auto\",\"x\":[3,1,3,1,3,3,1,3,3,2,3,1,3,3,3,2,3,2,3,3,2,2,3,1,3,3,3,1,3,3,1,1,3,2,1,1,3,3,3,3,3,2,3,2,3,3,3,3,3,3,3,3,1,2,1,1,2,3,2,3,3,1,1,3,1,3,2,3,3,3,2,3,2,3,3,3,3,3,2,3,3,3,3,1,2,3,3,3,1,3,3,3,1,3,3,3,1,1,2,2,3,3,1,3,3,3,3,3,3,3,1,3,3,3,3,3,3,2,1,3,2,3,2,2,1,3,3,3,3,3,3,3,3,2,2,2,1,1,3,1,3,3,3,3,2,2,3,3,2,2,2,1,3,3,3,1,3,3,3,3,3,2,3,3,3,3,1,3,1,3,1,3,3,3,1,3,3,1,2,3,3,2,3,2,3,1,3,1,3,3,2,2,3,2,1,1,3,3,3,2,3,3,3,3,3,3,3,3,3,1,3,2,3,2,3,1,3,2,1,2,3,2,3,3,1,3,2,3,2,3,1,3,2,3,2,3,2,2,2,2,3,3,2,3,3,1,3,2,1,2,3,3,1,3,3,3,1,1,1,2,3,3,1,1,3,2,3,3,1,1,1,3,2,1,3,1,3,2,3,3,3,3,3,3,1,3,3,3,2,3,1,1,2,3,3,1,3,1,1,1,3,3,3,2,3,1,1,1,2,1,1,1,2,3,2,3,2,2,1,1,3,3,2,2,3,1,3,2,3,1,3,1,1,3,1,3,1,1,3,1,2,1,2,2,2,2,2,3,3,3,3,1,3,3,3,3,1,2,3,3,3,2,3,3,3,3,1,3,3,1,1,3,3,1,3,1,3,1,3,3,1,3,3,1,3,2,3,2,3,2,1,3,3,1,3,3,3,2,2,2,3,3,3,3,3,2,3,2,3,3,3,3,1,2,3,3,2,2,2,3,3,3,3,3,3,3,2,2,3,3,1,3,2,3,1,1,3,2,1,2,2,3,3,2,3,1,2,1,3,1,2,3,1,1,3,3,1,1,2,3,1,3,1,2,3,3,2,1,3,3,3,3,2,2,3,1,2,3,3,3,3,2,3,3,1,3,1,1,3,3,3,3,1,1,3,3,1,3,1,3,3,3,3,3,1,1,2,1,3,3,3,3,1,1,3,1,2,3,2,3,1,3,3,1,3,3,2,1,3,2,2,3,3,3,3,2,1,1,3,1,1,3,3,2,1,1,2,2,3,2,1,2,3,3,3,1,1,1,1,3,3,3,2,3,3,3,3,3,3,3,2,1,1,3,3,3,2,1,3,3,2,1,2,1,3,1,2,1,3,3,3,1,3,3,2,3,2,3,3,1,2,3,1,3,1,3,3,1,2,1,3,3,3,3,3,2,3,3,2,2,3,1,3,3,3,1,2,1,3,3,1,3,1,1,3,2,3,2,3,3,3,1,3,3,3,1,3,1,3,3,3,2,3,3,3,2,3,3,2,1,1,3,1,3,3,2,2,3,3,1,2,1,2,2,2,3,3,3,3,1,3,1,3,3,2,2,3,3,3,1,1,3,3,3,1,2,3,3,1,3,1,1,3,3,3,2,2,1,1,3,1,1,1,3,2,3,1,2,3,3,2,3,2,2,1,3,2,3,2,3,1,3,2,2,2,3,3,1,3,3,1,1,1,3,3,1,3,2,1,3,2,3,3,3,2,2,3,2,3,1,3,3,3,1,3,1,1,3,3,3,3,3,2,3,2,3,3,3,3,1,3,1,1,3,3,3,3,3,3,1,3,2,3,1,3,2,1,3,3,3,2,2,1,3,3,3,1,3,2,1,3,3,2,3,3,1,3,2,3,3,1,3,1,3,3,3,3,2,3,1,3,2,3,3,3,1,3,3,3,1,3,2,1,3,3,3,3,3,2,1,3,3,3,1,2,3,1,1,3,3,3,2,1,3,2,2,2,1,3,3,3,1,1,3,2,3,3,3,3,1,2,3,3,2,3,3,2,1,3,1,3],\"xaxis\":\"x\",\"y\":[0,1,1,1,0,0,0,0,1,1,1,1,0,0,0,1,0,1,0,1,0,1,1,1,0,1,0,0,1,0,0,1,1,0,0,0,1,0,0,1,0,0,0,1,1,0,0,1,0,0,0,0,1,1,0,1,1,0,1,0,0,1,0,0,0,1,1,0,1,0,0,0,0,0,1,0,0,0,1,1,0,1,1,0,1,1,0,0,1,0,0,0,0,0,0,0,0,1,1,0,0,0,0,0,0,0,1,1,0,1,0,0,0,0,0,0,0,0,0,0,0,0,0,1,0,1,0,1,1,0,0,0,0,1,0,0,1,0,0,0,0,1,1,0,0,0,1,0,0,0,0,1,0,0,0,0,1,0,0,0,0,1,0,0,0,1,1,0,0,0,0,0,1,0,0,0,0,0,0,0,0,0,0,1,1,0,1,1,0,0,1,0,1,1,1,1,0,0,1,0,0,0,0,0,1,0,0,1,1,1,0,1,0,0,0,1,1,0,1,0,1,0,0,0,1,0,1,0,0,0,1,0,0,1,0,0,0,1,0,0,0,1,0,0,0,0,0,1,1,0,0,0,0,0,0,1,1,1,1,1,0,1,0,0,0,0,0,1,1,1,0,1,1,0,1,1,0,0,0,1,0,0,0,1,0,0,1,0,1,1,1,1,0,0,0,0,0,0,1,1,1,1,0,1,0,1,1,1,0,1,1,1,0,0,0,1,1,0,1,1,0,0,1,1,0,1,0,1,1,1,1,0,0,0,1,0,0,1,1,0,1,1,0,0,0,1,1,1,1,0,0,0,0,0,0,0,1,0,1,1,0,0,0,0,0,0,1,1,1,1,1,0,0,0,0,1,1,0,0,0,1,1,0,1,0,0,0,1,0,1,1,1,0,1,1,0,0,0,0,1,1,0,0,0,0,0,0,1,0,0,0,0,1,0,1,0,1,1,0,0,0,0,0,0,0,0,1,1,0,1,1,1,1,0,0,1,0,1,0,0,1,0,0,1,1,1,1,1,1,1,0,0,0,1,0,1,0,1,1,0,1,0,0,0,0,0,0,0,0,1,0,0,1,1,0,0,0,0,0,1,0,0,0,1,1,0,1,0,0,1,0,0,0,0,0,0,1,0,0,0,0,0,0,0,1,0,1,1,0,1,1,0,1,1,0,0,1,0,1,0,1,0,0,1,0,0,1,0,0,0,1,0,0,1,0,1,0,1,0,1,1,0,0,1,0,0,1,1,0,1,1,0,0,1,1,0,1,0,1,1,0,0,0,0,0,0,0,0,0,1,1,1,1,1,0,0,1,1,0,1,1,1,0,0,0,1,0,1,0,0,0,1,0,0,0,0,1,0,0,1,1,0,0,0,1,0,0,1,1,1,0,0,1,0,0,1,0,0,1,0,0,1,1,0,0,0,0,1,0,0,1,0,1,0,0,1,0,0,0,0,0,1,0,1,1,1,0,1,0,1,0,1,0,1,0,0,0,0,0,0,1,0,0,0,1,0,0,0,0,1,1,0,0,1,0,0,0,1,0,1,0,1,0,0,0,0,0,0,0,1,1,1,1,0,0,0,0,1,0,0,1,1,0,0,0,0,1,1,1,1,1,0,1,0,0,0,1,1,0,0,1,0,0,0,1,0,1,1,0,0,1,0,0,0,0,0,0,1,0,0,1,0,1,0,1,0,0,1,0,0,1,1,0,0,1,1,0,0,0,1,0,0,1,1,0,1,0,0,0,0,0,0,0,0,1,0,0,1,0,1,1,1,0,0,0,0,1,0,1,0,0,0,0,0,0,0,1,1,0,0,0,1,1,1,1,0,0,0,0,1,0,0,0,0,0,0,0,0,0,0,1,1,0,1,0,0,0,1,1,1,1,1,0,0,0,1,0,0,1,1,0,0,1,0,0,0,0,0,0,1,0,0,0,1,0,1,1,1,1,0,0,0,1,0,0,1,1,0,0,1,0,1,0,0,1,1,0,0,0,1,1,0,0,0,0,0,0,1,0,1,0],\"yaxis\":\"y\",\"type\":\"bar\"}],                        {\"template\":{\"data\":{\"bar\":[{\"error_x\":{\"color\":\"#2a3f5f\"},\"error_y\":{\"color\":\"#2a3f5f\"},\"marker\":{\"line\":{\"color\":\"#E5ECF6\",\"width\":0.5},\"pattern\":{\"fillmode\":\"overlay\",\"size\":10,\"solidity\":0.2}},\"type\":\"bar\"}],\"barpolar\":[{\"marker\":{\"line\":{\"color\":\"#E5ECF6\",\"width\":0.5},\"pattern\":{\"fillmode\":\"overlay\",\"size\":10,\"solidity\":0.2}},\"type\":\"barpolar\"}],\"carpet\":[{\"aaxis\":{\"endlinecolor\":\"#2a3f5f\",\"gridcolor\":\"white\",\"linecolor\":\"white\",\"minorgridcolor\":\"white\",\"startlinecolor\":\"#2a3f5f\"},\"baxis\":{\"endlinecolor\":\"#2a3f5f\",\"gridcolor\":\"white\",\"linecolor\":\"white\",\"minorgridcolor\":\"white\",\"startlinecolor\":\"#2a3f5f\"},\"type\":\"carpet\"}],\"choropleth\":[{\"colorbar\":{\"outlinewidth\":0,\"ticks\":\"\"},\"type\":\"choropleth\"}],\"contour\":[{\"colorbar\":{\"outlinewidth\":0,\"ticks\":\"\"},\"colorscale\":[[0.0,\"#0d0887\"],[0.1111111111111111,\"#46039f\"],[0.2222222222222222,\"#7201a8\"],[0.3333333333333333,\"#9c179e\"],[0.4444444444444444,\"#bd3786\"],[0.5555555555555556,\"#d8576b\"],[0.6666666666666666,\"#ed7953\"],[0.7777777777777778,\"#fb9f3a\"],[0.8888888888888888,\"#fdca26\"],[1.0,\"#f0f921\"]],\"type\":\"contour\"}],\"contourcarpet\":[{\"colorbar\":{\"outlinewidth\":0,\"ticks\":\"\"},\"type\":\"contourcarpet\"}],\"heatmap\":[{\"colorbar\":{\"outlinewidth\":0,\"ticks\":\"\"},\"colorscale\":[[0.0,\"#0d0887\"],[0.1111111111111111,\"#46039f\"],[0.2222222222222222,\"#7201a8\"],[0.3333333333333333,\"#9c179e\"],[0.4444444444444444,\"#bd3786\"],[0.5555555555555556,\"#d8576b\"],[0.6666666666666666,\"#ed7953\"],[0.7777777777777778,\"#fb9f3a\"],[0.8888888888888888,\"#fdca26\"],[1.0,\"#f0f921\"]],\"type\":\"heatmap\"}],\"heatmapgl\":[{\"colorbar\":{\"outlinewidth\":0,\"ticks\":\"\"},\"colorscale\":[[0.0,\"#0d0887\"],[0.1111111111111111,\"#46039f\"],[0.2222222222222222,\"#7201a8\"],[0.3333333333333333,\"#9c179e\"],[0.4444444444444444,\"#bd3786\"],[0.5555555555555556,\"#d8576b\"],[0.6666666666666666,\"#ed7953\"],[0.7777777777777778,\"#fb9f3a\"],[0.8888888888888888,\"#fdca26\"],[1.0,\"#f0f921\"]],\"type\":\"heatmapgl\"}],\"histogram\":[{\"marker\":{\"pattern\":{\"fillmode\":\"overlay\",\"size\":10,\"solidity\":0.2}},\"type\":\"histogram\"}],\"histogram2d\":[{\"colorbar\":{\"outlinewidth\":0,\"ticks\":\"\"},\"colorscale\":[[0.0,\"#0d0887\"],[0.1111111111111111,\"#46039f\"],[0.2222222222222222,\"#7201a8\"],[0.3333333333333333,\"#9c179e\"],[0.4444444444444444,\"#bd3786\"],[0.5555555555555556,\"#d8576b\"],[0.6666666666666666,\"#ed7953\"],[0.7777777777777778,\"#fb9f3a\"],[0.8888888888888888,\"#fdca26\"],[1.0,\"#f0f921\"]],\"type\":\"histogram2d\"}],\"histogram2dcontour\":[{\"colorbar\":{\"outlinewidth\":0,\"ticks\":\"\"},\"colorscale\":[[0.0,\"#0d0887\"],[0.1111111111111111,\"#46039f\"],[0.2222222222222222,\"#7201a8\"],[0.3333333333333333,\"#9c179e\"],[0.4444444444444444,\"#bd3786\"],[0.5555555555555556,\"#d8576b\"],[0.6666666666666666,\"#ed7953\"],[0.7777777777777778,\"#fb9f3a\"],[0.8888888888888888,\"#fdca26\"],[1.0,\"#f0f921\"]],\"type\":\"histogram2dcontour\"}],\"mesh3d\":[{\"colorbar\":{\"outlinewidth\":0,\"ticks\":\"\"},\"type\":\"mesh3d\"}],\"parcoords\":[{\"line\":{\"colorbar\":{\"outlinewidth\":0,\"ticks\":\"\"}},\"type\":\"parcoords\"}],\"pie\":[{\"automargin\":true,\"type\":\"pie\"}],\"scatter\":[{\"marker\":{\"colorbar\":{\"outlinewidth\":0,\"ticks\":\"\"}},\"type\":\"scatter\"}],\"scatter3d\":[{\"line\":{\"colorbar\":{\"outlinewidth\":0,\"ticks\":\"\"}},\"marker\":{\"colorbar\":{\"outlinewidth\":0,\"ticks\":\"\"}},\"type\":\"scatter3d\"}],\"scattercarpet\":[{\"marker\":{\"colorbar\":{\"outlinewidth\":0,\"ticks\":\"\"}},\"type\":\"scattercarpet\"}],\"scattergeo\":[{\"marker\":{\"colorbar\":{\"outlinewidth\":0,\"ticks\":\"\"}},\"type\":\"scattergeo\"}],\"scattergl\":[{\"marker\":{\"colorbar\":{\"outlinewidth\":0,\"ticks\":\"\"}},\"type\":\"scattergl\"}],\"scattermapbox\":[{\"marker\":{\"colorbar\":{\"outlinewidth\":0,\"ticks\":\"\"}},\"type\":\"scattermapbox\"}],\"scatterpolar\":[{\"marker\":{\"colorbar\":{\"outlinewidth\":0,\"ticks\":\"\"}},\"type\":\"scatterpolar\"}],\"scatterpolargl\":[{\"marker\":{\"colorbar\":{\"outlinewidth\":0,\"ticks\":\"\"}},\"type\":\"scatterpolargl\"}],\"scatterternary\":[{\"marker\":{\"colorbar\":{\"outlinewidth\":0,\"ticks\":\"\"}},\"type\":\"scatterternary\"}],\"surface\":[{\"colorbar\":{\"outlinewidth\":0,\"ticks\":\"\"},\"colorscale\":[[0.0,\"#0d0887\"],[0.1111111111111111,\"#46039f\"],[0.2222222222222222,\"#7201a8\"],[0.3333333333333333,\"#9c179e\"],[0.4444444444444444,\"#bd3786\"],[0.5555555555555556,\"#d8576b\"],[0.6666666666666666,\"#ed7953\"],[0.7777777777777778,\"#fb9f3a\"],[0.8888888888888888,\"#fdca26\"],[1.0,\"#f0f921\"]],\"type\":\"surface\"}],\"table\":[{\"cells\":{\"fill\":{\"color\":\"#EBF0F8\"},\"line\":{\"color\":\"white\"}},\"header\":{\"fill\":{\"color\":\"#C8D4E3\"},\"line\":{\"color\":\"white\"}},\"type\":\"table\"}]},\"layout\":{\"annotationdefaults\":{\"arrowcolor\":\"#2a3f5f\",\"arrowhead\":0,\"arrowwidth\":1},\"autotypenumbers\":\"strict\",\"coloraxis\":{\"colorbar\":{\"outlinewidth\":0,\"ticks\":\"\"}},\"colorscale\":{\"diverging\":[[0,\"#8e0152\"],[0.1,\"#c51b7d\"],[0.2,\"#de77ae\"],[0.3,\"#f1b6da\"],[0.4,\"#fde0ef\"],[0.5,\"#f7f7f7\"],[0.6,\"#e6f5d0\"],[0.7,\"#b8e186\"],[0.8,\"#7fbc41\"],[0.9,\"#4d9221\"],[1,\"#276419\"]],\"sequential\":[[0.0,\"#0d0887\"],[0.1111111111111111,\"#46039f\"],[0.2222222222222222,\"#7201a8\"],[0.3333333333333333,\"#9c179e\"],[0.4444444444444444,\"#bd3786\"],[0.5555555555555556,\"#d8576b\"],[0.6666666666666666,\"#ed7953\"],[0.7777777777777778,\"#fb9f3a\"],[0.8888888888888888,\"#fdca26\"],[1.0,\"#f0f921\"]],\"sequentialminus\":[[0.0,\"#0d0887\"],[0.1111111111111111,\"#46039f\"],[0.2222222222222222,\"#7201a8\"],[0.3333333333333333,\"#9c179e\"],[0.4444444444444444,\"#bd3786\"],[0.5555555555555556,\"#d8576b\"],[0.6666666666666666,\"#ed7953\"],[0.7777777777777778,\"#fb9f3a\"],[0.8888888888888888,\"#fdca26\"],[1.0,\"#f0f921\"]]},\"colorway\":[\"#636efa\",\"#EF553B\",\"#00cc96\",\"#ab63fa\",\"#FFA15A\",\"#19d3f3\",\"#FF6692\",\"#B6E880\",\"#FF97FF\",\"#FECB52\"],\"font\":{\"color\":\"#2a3f5f\"},\"geo\":{\"bgcolor\":\"white\",\"lakecolor\":\"white\",\"landcolor\":\"#E5ECF6\",\"showlakes\":true,\"showland\":true,\"subunitcolor\":\"white\"},\"hoverlabel\":{\"align\":\"left\"},\"hovermode\":\"closest\",\"mapbox\":{\"style\":\"light\"},\"paper_bgcolor\":\"white\",\"plot_bgcolor\":\"#E5ECF6\",\"polar\":{\"angularaxis\":{\"gridcolor\":\"white\",\"linecolor\":\"white\",\"ticks\":\"\"},\"bgcolor\":\"#E5ECF6\",\"radialaxis\":{\"gridcolor\":\"white\",\"linecolor\":\"white\",\"ticks\":\"\"}},\"scene\":{\"xaxis\":{\"backgroundcolor\":\"#E5ECF6\",\"gridcolor\":\"white\",\"gridwidth\":2,\"linecolor\":\"white\",\"showbackground\":true,\"ticks\":\"\",\"zerolinecolor\":\"white\"},\"yaxis\":{\"backgroundcolor\":\"#E5ECF6\",\"gridcolor\":\"white\",\"gridwidth\":2,\"linecolor\":\"white\",\"showbackground\":true,\"ticks\":\"\",\"zerolinecolor\":\"white\"},\"zaxis\":{\"backgroundcolor\":\"#E5ECF6\",\"gridcolor\":\"white\",\"gridwidth\":2,\"linecolor\":\"white\",\"showbackground\":true,\"ticks\":\"\",\"zerolinecolor\":\"white\"}},\"shapedefaults\":{\"line\":{\"color\":\"#2a3f5f\"}},\"ternary\":{\"aaxis\":{\"gridcolor\":\"white\",\"linecolor\":\"white\",\"ticks\":\"\"},\"baxis\":{\"gridcolor\":\"white\",\"linecolor\":\"white\",\"ticks\":\"\"},\"bgcolor\":\"#E5ECF6\",\"caxis\":{\"gridcolor\":\"white\",\"linecolor\":\"white\",\"ticks\":\"\"}},\"title\":{\"x\":0.05},\"xaxis\":{\"automargin\":true,\"gridcolor\":\"white\",\"linecolor\":\"white\",\"ticks\":\"\",\"title\":{\"standoff\":15},\"zerolinecolor\":\"white\",\"zerolinewidth\":2},\"yaxis\":{\"automargin\":true,\"gridcolor\":\"white\",\"linecolor\":\"white\",\"ticks\":\"\",\"title\":{\"standoff\":15},\"zerolinecolor\":\"white\",\"zerolinewidth\":2}}},\"xaxis\":{\"anchor\":\"y\",\"domain\":[0.0,1.0],\"title\":{\"text\":\"Pclass\"}},\"yaxis\":{\"anchor\":\"x\",\"domain\":[0.0,1.0],\"title\":{\"text\":\"Survived\"}},\"legend\":{\"tracegroupgap\":0},\"margin\":{\"t\":60},\"barmode\":\"relative\"},                        {\"responsive\": true}                    ).then(function(){\n",
              "                            \n",
              "var gd = document.getElementById('0905607c-11fe-4b39-968e-1d5314caf3ef');\n",
              "var x = new MutationObserver(function (mutations, observer) {{\n",
              "        var display = window.getComputedStyle(gd).display;\n",
              "        if (!display || display === 'none') {{\n",
              "            console.log([gd, 'removed!']);\n",
              "            Plotly.purge(gd);\n",
              "            observer.disconnect();\n",
              "        }}\n",
              "}});\n",
              "\n",
              "// Listen for the removal of the full notebook cells\n",
              "var notebookContainer = gd.closest('#notebook-container');\n",
              "if (notebookContainer) {{\n",
              "    x.observe(notebookContainer, {childList: true});\n",
              "}}\n",
              "\n",
              "// Listen for the clearing of the current output cell\n",
              "var outputEl = gd.closest('.output');\n",
              "if (outputEl) {{\n",
              "    x.observe(outputEl, {childList: true});\n",
              "}}\n",
              "\n",
              "                        })                };                            </script>        </div>\n",
              "</body>\n",
              "</html>"
            ]
          },
          "metadata": {},
          "output_type": "display_data"
        }
      ],
      "source": [
        "fig = px.bar(df, x='Pclass', y='Survived')\n",
        "fig.show()"
      ]
    },
    {
      "cell_type": "code",
      "execution_count": null,
      "metadata": {
        "id": "bTa-QpTKJ5fS"
      },
      "outputs": [],
      "source": [
        "# import plotly.express as px\n",
        "# df = px.data.gapminder()\n",
        "# fig = px.scatter(df.query(\"year==2007\"), x=\"gdpPercap\", y=\"lifeExp\", size=\"pop\", color=\"continent\",\n",
        "#            hover_name=\"country\", log_x=True, size_max=60)\n",
        "# df.head()"
      ]
    },
    {
      "cell_type": "code",
      "execution_count": null,
      "metadata": {
        "colab": {
          "base_uri": "https://localhost:8080/",
          "height": 542
        },
        "id": "xn-HYXkBJ5fS",
        "outputId": "42c3ca8d-8336-4dad-9fe7-d1562a7b3db2"
      },
      "outputs": [
        {
          "data": {
            "text/html": [
              "<html>\n",
              "<head><meta charset=\"utf-8\" /></head>\n",
              "<body>\n",
              "    <div>            <script src=\"https://cdnjs.cloudflare.com/ajax/libs/mathjax/2.7.5/MathJax.js?config=TeX-AMS-MML_SVG\"></script><script type=\"text/javascript\">if (window.MathJax) {MathJax.Hub.Config({SVG: {font: \"STIX-Web\"}});}</script>                <script type=\"text/javascript\">window.PlotlyConfig = {MathJaxConfig: 'local'};</script>\n",
              "        <script src=\"https://cdn.plot.ly/plotly-2.8.3.min.js\"></script>                <div id=\"37ad26dd-a744-42a7-844e-47f5556118e6\" class=\"plotly-graph-div\" style=\"height:525px; width:100%;\"></div>            <script type=\"text/javascript\">                                    window.PLOTLYENV=window.PLOTLYENV || {};                                    if (document.getElementById(\"37ad26dd-a744-42a7-844e-47f5556118e6\")) {                    Plotly.newPlot(                        \"37ad26dd-a744-42a7-844e-47f5556118e6\",                        [{\"alignmentgroup\":\"True\",\"hovertemplate\":\"Sex=%{x}<br>Survived=%{y}<extra></extra>\",\"legendgroup\":\"\",\"marker\":{\"color\":\"#636efa\",\"pattern\":{\"shape\":\"\"}},\"name\":\"\",\"offsetgroup\":\"\",\"orientation\":\"v\",\"showlegend\":false,\"textposition\":\"auto\",\"x\":[\"male\",\"female\",\"female\",\"female\",\"male\",\"male\",\"male\",\"male\",\"female\",\"female\",\"female\",\"female\",\"male\",\"male\",\"female\",\"female\",\"male\",\"male\",\"female\",\"female\",\"male\",\"male\",\"female\",\"male\",\"female\",\"female\",\"male\",\"male\",\"female\",\"male\",\"male\",\"female\",\"female\",\"male\",\"male\",\"male\",\"male\",\"male\",\"female\",\"female\",\"female\",\"female\",\"male\",\"female\",\"female\",\"male\",\"male\",\"female\",\"male\",\"female\",\"male\",\"male\",\"female\",\"female\",\"male\",\"male\",\"female\",\"male\",\"female\",\"male\",\"male\",\"female\",\"male\",\"male\",\"male\",\"male\",\"female\",\"male\",\"female\",\"male\",\"male\",\"female\",\"male\",\"male\",\"male\",\"male\",\"male\",\"male\",\"male\",\"female\",\"male\",\"male\",\"female\",\"male\",\"female\",\"female\",\"male\",\"male\",\"female\",\"male\",\"male\",\"male\",\"male\",\"male\",\"male\",\"male\",\"male\",\"male\",\"female\",\"male\",\"female\",\"male\",\"male\",\"male\",\"male\",\"male\",\"female\",\"male\",\"male\",\"female\",\"male\",\"female\",\"male\",\"female\",\"female\",\"male\",\"male\",\"male\",\"male\",\"female\",\"male\",\"male\",\"male\",\"female\",\"male\",\"male\",\"male\",\"male\",\"female\",\"male\",\"male\",\"male\",\"female\",\"female\",\"male\",\"male\",\"female\",\"male\",\"male\",\"male\",\"female\",\"female\",\"female\",\"male\",\"male\",\"male\",\"male\",\"female\",\"male\",\"male\",\"male\",\"female\",\"male\",\"male\",\"male\",\"male\",\"female\",\"male\",\"male\",\"male\",\"male\",\"female\",\"male\",\"male\",\"male\",\"male\",\"female\",\"female\",\"male\",\"male\",\"male\",\"male\",\"female\",\"male\",\"male\",\"male\",\"male\",\"female\",\"male\",\"male\",\"female\",\"male\",\"male\",\"male\",\"female\",\"male\",\"female\",\"male\",\"male\",\"male\",\"female\",\"male\",\"female\",\"male\",\"female\",\"female\",\"male\",\"male\",\"female\",\"female\",\"male\",\"male\",\"male\",\"male\",\"male\",\"female\",\"male\",\"male\",\"female\",\"male\",\"male\",\"female\",\"male\",\"male\",\"male\",\"female\",\"female\",\"male\",\"female\",\"male\",\"male\",\"male\",\"male\",\"male\",\"male\",\"male\",\"male\",\"male\",\"male\",\"female\",\"female\",\"male\",\"male\",\"female\",\"male\",\"female\",\"male\",\"female\",\"male\",\"male\",\"female\",\"female\",\"male\",\"male\",\"male\",\"male\",\"female\",\"female\",\"male\",\"male\",\"male\",\"female\",\"male\",\"male\",\"female\",\"female\",\"female\",\"female\",\"female\",\"female\",\"male\",\"male\",\"male\",\"male\",\"female\",\"male\",\"male\",\"male\",\"female\",\"female\",\"male\",\"male\",\"female\",\"male\",\"female\",\"female\",\"female\",\"male\",\"male\",\"female\",\"male\",\"male\",\"male\",\"male\",\"male\",\"male\",\"male\",\"male\",\"male\",\"female\",\"female\",\"female\",\"male\",\"female\",\"male\",\"male\",\"male\",\"female\",\"male\",\"female\",\"female\",\"male\",\"male\",\"female\",\"male\",\"male\",\"female\",\"female\",\"male\",\"female\",\"female\",\"female\",\"female\",\"male\",\"male\",\"female\",\"female\",\"male\",\"female\",\"female\",\"male\",\"male\",\"female\",\"female\",\"male\",\"female\",\"male\",\"female\",\"female\",\"female\",\"female\",\"male\",\"male\",\"male\",\"female\",\"male\",\"male\",\"female\",\"male\",\"male\",\"male\",\"female\",\"male\",\"male\",\"male\",\"female\",\"female\",\"female\",\"male\",\"male\",\"male\",\"male\",\"male\",\"male\",\"male\",\"male\",\"female\",\"female\",\"female\",\"female\",\"male\",\"male\",\"female\",\"male\",\"male\",\"male\",\"female\",\"female\",\"female\",\"female\",\"male\",\"male\",\"male\",\"male\",\"female\",\"female\",\"female\",\"male\",\"male\",\"male\",\"female\",\"female\",\"male\",\"female\",\"male\",\"male\",\"male\",\"female\",\"male\",\"female\",\"male\",\"male\",\"male\",\"female\",\"female\",\"male\",\"female\",\"male\",\"male\",\"female\",\"male\",\"male\",\"female\",\"male\",\"female\",\"male\",\"male\",\"male\",\"male\",\"female\",\"male\",\"male\",\"female\",\"male\",\"male\",\"female\",\"female\",\"female\",\"male\",\"female\",\"male\",\"male\",\"male\",\"female\",\"male\",\"male\",\"female\",\"female\",\"male\",\"male\",\"male\",\"female\",\"female\",\"male\",\"male\",\"female\",\"female\",\"female\",\"male\",\"male\",\"female\",\"male\",\"male\",\"female\",\"male\",\"male\",\"female\",\"male\",\"female\",\"male\",\"male\",\"male\",\"male\",\"male\",\"male\",\"male\",\"male\",\"female\",\"female\",\"male\",\"male\",\"male\",\"male\",\"male\",\"male\",\"male\",\"male\",\"male\",\"male\",\"female\",\"male\",\"male\",\"female\",\"female\",\"female\",\"male\",\"male\",\"male\",\"male\",\"female\",\"male\",\"male\",\"male\",\"female\",\"male\",\"female\",\"female\",\"male\",\"male\",\"male\",\"male\",\"male\",\"male\",\"male\",\"male\",\"male\",\"female\",\"male\",\"female\",\"male\",\"male\",\"female\",\"female\",\"female\",\"female\",\"male\",\"female\",\"male\",\"male\",\"male\",\"male\",\"male\",\"male\",\"female\",\"male\",\"male\",\"female\",\"male\",\"female\",\"male\",\"female\",\"male\",\"male\",\"female\",\"male\",\"male\",\"female\",\"male\",\"male\",\"male\",\"female\",\"male\",\"male\",\"female\",\"female\",\"female\",\"male\",\"female\",\"male\",\"female\",\"female\",\"female\",\"female\",\"male\",\"male\",\"male\",\"female\",\"male\",\"male\",\"male\",\"male\",\"male\",\"male\",\"male\",\"female\",\"male\",\"female\",\"male\",\"female\",\"female\",\"male\",\"male\",\"male\",\"male\",\"female\",\"male\",\"male\",\"female\",\"male\",\"male\",\"male\",\"female\",\"male\",\"female\",\"male\",\"male\",\"female\",\"female\",\"female\",\"male\",\"female\",\"female\",\"male\",\"male\",\"male\",\"female\",\"male\",\"male\",\"male\",\"male\",\"male\",\"female\",\"male\",\"female\",\"male\",\"male\",\"female\",\"male\",\"male\",\"male\",\"female\",\"male\",\"male\",\"male\",\"male\",\"male\",\"male\",\"male\",\"female\",\"female\",\"female\",\"male\",\"female\",\"male\",\"male\",\"female\",\"male\",\"female\",\"female\",\"male\",\"male\",\"male\",\"male\",\"male\",\"male\",\"male\",\"male\",\"female\",\"male\",\"male\",\"male\",\"male\",\"male\",\"male\",\"female\",\"female\",\"male\",\"male\",\"female\",\"male\",\"male\",\"female\",\"female\",\"male\",\"female\",\"male\",\"male\",\"male\",\"male\",\"female\",\"male\",\"female\",\"male\",\"female\",\"female\",\"male\",\"male\",\"female\",\"male\",\"male\",\"male\",\"male\",\"male\",\"male\",\"male\",\"male\",\"male\",\"male\",\"male\",\"female\",\"female\",\"male\",\"male\",\"male\",\"male\",\"male\",\"male\",\"female\",\"female\",\"male\",\"female\",\"male\",\"male\",\"male\",\"male\",\"male\",\"male\",\"male\",\"male\",\"female\",\"male\",\"female\",\"male\",\"male\",\"male\",\"male\",\"male\",\"female\",\"male\",\"male\",\"female\",\"male\",\"female\",\"male\",\"male\",\"male\",\"female\",\"male\",\"female\",\"male\",\"female\",\"male\",\"male\",\"male\",\"male\",\"male\",\"female\",\"female\",\"male\",\"male\",\"female\",\"male\",\"male\",\"male\",\"male\",\"male\",\"female\",\"female\",\"male\",\"female\",\"female\",\"male\",\"male\",\"male\",\"male\",\"male\",\"female\",\"male\",\"male\",\"male\",\"male\",\"male\",\"female\",\"male\",\"male\",\"male\",\"male\",\"female\",\"male\",\"male\",\"female\",\"male\",\"male\",\"male\",\"female\",\"male\",\"male\",\"male\",\"male\",\"female\",\"male\",\"male\",\"male\",\"female\",\"male\",\"female\",\"male\",\"female\",\"male\",\"male\",\"male\",\"male\",\"female\",\"male\",\"female\",\"male\",\"male\",\"female\",\"male\",\"female\",\"female\",\"female\",\"male\",\"male\",\"male\",\"male\",\"female\",\"male\",\"male\",\"male\",\"male\",\"male\",\"female\",\"male\",\"male\",\"male\",\"female\",\"female\",\"male\",\"female\",\"male\",\"female\",\"male\",\"male\",\"male\",\"male\",\"male\",\"female\",\"male\",\"female\",\"male\",\"male\",\"male\",\"female\",\"male\",\"male\",\"female\",\"male\",\"male\",\"male\",\"female\",\"male\",\"male\",\"female\",\"male\",\"male\",\"male\",\"male\",\"male\",\"female\",\"female\",\"male\",\"male\",\"male\",\"male\",\"female\",\"male\",\"male\",\"male\",\"male\",\"male\",\"male\",\"female\",\"male\",\"male\",\"male\",\"male\",\"male\",\"male\",\"female\",\"male\",\"male\",\"female\",\"female\",\"female\",\"female\",\"female\",\"male\",\"female\",\"male\",\"male\",\"male\",\"female\",\"female\",\"male\",\"female\",\"female\",\"male\",\"male\",\"male\",\"male\",\"female\",\"male\",\"male\",\"female\",\"female\",\"male\",\"male\",\"male\",\"female\",\"female\",\"male\",\"female\",\"male\",\"male\",\"female\",\"male\",\"female\",\"female\",\"male\",\"male\"],\"xaxis\":\"x\",\"y\":[0,1,1,1,0,0,0,0,1,1,1,1,0,0,0,1,0,1,0,1,0,1,1,1,0,1,0,0,1,0,0,1,1,0,0,0,1,0,0,1,0,0,0,1,1,0,0,1,0,0,0,0,1,1,0,1,1,0,1,0,0,1,0,0,0,1,1,0,1,0,0,0,0,0,1,0,0,0,1,1,0,1,1,0,1,1,0,0,1,0,0,0,0,0,0,0,0,1,1,0,0,0,0,0,0,0,1,1,0,1,0,0,0,0,0,0,0,0,0,0,0,0,0,1,0,1,0,1,1,0,0,0,0,1,0,0,1,0,0,0,0,1,1,0,0,0,1,0,0,0,0,1,0,0,0,0,1,0,0,0,0,1,0,0,0,1,1,0,0,0,0,0,1,0,0,0,0,0,0,0,0,0,0,1,1,0,1,1,0,0,1,0,1,1,1,1,0,0,1,0,0,0,0,0,1,0,0,1,1,1,0,1,0,0,0,1,1,0,1,0,1,0,0,0,1,0,1,0,0,0,1,0,0,1,0,0,0,1,0,0,0,1,0,0,0,0,0,1,1,0,0,0,0,0,0,1,1,1,1,1,0,1,0,0,0,0,0,1,1,1,0,1,1,0,1,1,0,0,0,1,0,0,0,1,0,0,1,0,1,1,1,1,0,0,0,0,0,0,1,1,1,1,0,1,0,1,1,1,0,1,1,1,0,0,0,1,1,0,1,1,0,0,1,1,0,1,0,1,1,1,1,0,0,0,1,0,0,1,1,0,1,1,0,0,0,1,1,1,1,0,0,0,0,0,0,0,1,0,1,1,0,0,0,0,0,0,1,1,1,1,1,0,0,0,0,1,1,0,0,0,1,1,0,1,0,0,0,1,0,1,1,1,0,1,1,0,0,0,0,1,1,0,0,0,0,0,0,1,0,0,0,0,1,0,1,0,1,1,0,0,0,0,0,0,0,0,1,1,0,1,1,1,1,0,0,1,0,1,0,0,1,0,0,1,1,1,1,1,1,1,0,0,0,1,0,1,0,1,1,0,1,0,0,0,0,0,0,0,0,1,0,0,1,1,0,0,0,0,0,1,0,0,0,1,1,0,1,0,0,1,0,0,0,0,0,0,1,0,0,0,0,0,0,0,1,0,1,1,0,1,1,0,1,1,0,0,1,0,1,0,1,0,0,1,0,0,1,0,0,0,1,0,0,1,0,1,0,1,0,1,1,0,0,1,0,0,1,1,0,1,1,0,0,1,1,0,1,0,1,1,0,0,0,0,0,0,0,0,0,1,1,1,1,1,0,0,1,1,0,1,1,1,0,0,0,1,0,1,0,0,0,1,0,0,0,0,1,0,0,1,1,0,0,0,1,0,0,1,1,1,0,0,1,0,0,1,0,0,1,0,0,1,1,0,0,0,0,1,0,0,1,0,1,0,0,1,0,0,0,0,0,1,0,1,1,1,0,1,0,1,0,1,0,1,0,0,0,0,0,0,1,0,0,0,1,0,0,0,0,1,1,0,0,1,0,0,0,1,0,1,0,1,0,0,0,0,0,0,0,1,1,1,1,0,0,0,0,1,0,0,1,1,0,0,0,0,1,1,1,1,1,0,1,0,0,0,1,1,0,0,1,0,0,0,1,0,1,1,0,0,1,0,0,0,0,0,0,1,0,0,1,0,1,0,1,0,0,1,0,0,1,1,0,0,1,1,0,0,0,1,0,0,1,1,0,1,0,0,0,0,0,0,0,0,1,0,0,1,0,1,1,1,0,0,0,0,1,0,1,0,0,0,0,0,0,0,1,1,0,0,0,1,1,1,1,0,0,0,0,1,0,0,0,0,0,0,0,0,0,0,1,1,0,1,0,0,0,1,1,1,1,1,0,0,0,1,0,0,1,1,0,0,1,0,0,0,0,0,0,1,0,0,0,1,0,1,1,1,1,0,0,0,1,0,0,1,1,0,0,1,0,1,0,0,1,1,0,0,0,1,1,0,0,0,0,0,0,1,0,1,0],\"yaxis\":\"y\",\"type\":\"bar\"}],                        {\"template\":{\"data\":{\"bar\":[{\"error_x\":{\"color\":\"#2a3f5f\"},\"error_y\":{\"color\":\"#2a3f5f\"},\"marker\":{\"line\":{\"color\":\"#E5ECF6\",\"width\":0.5},\"pattern\":{\"fillmode\":\"overlay\",\"size\":10,\"solidity\":0.2}},\"type\":\"bar\"}],\"barpolar\":[{\"marker\":{\"line\":{\"color\":\"#E5ECF6\",\"width\":0.5},\"pattern\":{\"fillmode\":\"overlay\",\"size\":10,\"solidity\":0.2}},\"type\":\"barpolar\"}],\"carpet\":[{\"aaxis\":{\"endlinecolor\":\"#2a3f5f\",\"gridcolor\":\"white\",\"linecolor\":\"white\",\"minorgridcolor\":\"white\",\"startlinecolor\":\"#2a3f5f\"},\"baxis\":{\"endlinecolor\":\"#2a3f5f\",\"gridcolor\":\"white\",\"linecolor\":\"white\",\"minorgridcolor\":\"white\",\"startlinecolor\":\"#2a3f5f\"},\"type\":\"carpet\"}],\"choropleth\":[{\"colorbar\":{\"outlinewidth\":0,\"ticks\":\"\"},\"type\":\"choropleth\"}],\"contour\":[{\"colorbar\":{\"outlinewidth\":0,\"ticks\":\"\"},\"colorscale\":[[0.0,\"#0d0887\"],[0.1111111111111111,\"#46039f\"],[0.2222222222222222,\"#7201a8\"],[0.3333333333333333,\"#9c179e\"],[0.4444444444444444,\"#bd3786\"],[0.5555555555555556,\"#d8576b\"],[0.6666666666666666,\"#ed7953\"],[0.7777777777777778,\"#fb9f3a\"],[0.8888888888888888,\"#fdca26\"],[1.0,\"#f0f921\"]],\"type\":\"contour\"}],\"contourcarpet\":[{\"colorbar\":{\"outlinewidth\":0,\"ticks\":\"\"},\"type\":\"contourcarpet\"}],\"heatmap\":[{\"colorbar\":{\"outlinewidth\":0,\"ticks\":\"\"},\"colorscale\":[[0.0,\"#0d0887\"],[0.1111111111111111,\"#46039f\"],[0.2222222222222222,\"#7201a8\"],[0.3333333333333333,\"#9c179e\"],[0.4444444444444444,\"#bd3786\"],[0.5555555555555556,\"#d8576b\"],[0.6666666666666666,\"#ed7953\"],[0.7777777777777778,\"#fb9f3a\"],[0.8888888888888888,\"#fdca26\"],[1.0,\"#f0f921\"]],\"type\":\"heatmap\"}],\"heatmapgl\":[{\"colorbar\":{\"outlinewidth\":0,\"ticks\":\"\"},\"colorscale\":[[0.0,\"#0d0887\"],[0.1111111111111111,\"#46039f\"],[0.2222222222222222,\"#7201a8\"],[0.3333333333333333,\"#9c179e\"],[0.4444444444444444,\"#bd3786\"],[0.5555555555555556,\"#d8576b\"],[0.6666666666666666,\"#ed7953\"],[0.7777777777777778,\"#fb9f3a\"],[0.8888888888888888,\"#fdca26\"],[1.0,\"#f0f921\"]],\"type\":\"heatmapgl\"}],\"histogram\":[{\"marker\":{\"pattern\":{\"fillmode\":\"overlay\",\"size\":10,\"solidity\":0.2}},\"type\":\"histogram\"}],\"histogram2d\":[{\"colorbar\":{\"outlinewidth\":0,\"ticks\":\"\"},\"colorscale\":[[0.0,\"#0d0887\"],[0.1111111111111111,\"#46039f\"],[0.2222222222222222,\"#7201a8\"],[0.3333333333333333,\"#9c179e\"],[0.4444444444444444,\"#bd3786\"],[0.5555555555555556,\"#d8576b\"],[0.6666666666666666,\"#ed7953\"],[0.7777777777777778,\"#fb9f3a\"],[0.8888888888888888,\"#fdca26\"],[1.0,\"#f0f921\"]],\"type\":\"histogram2d\"}],\"histogram2dcontour\":[{\"colorbar\":{\"outlinewidth\":0,\"ticks\":\"\"},\"colorscale\":[[0.0,\"#0d0887\"],[0.1111111111111111,\"#46039f\"],[0.2222222222222222,\"#7201a8\"],[0.3333333333333333,\"#9c179e\"],[0.4444444444444444,\"#bd3786\"],[0.5555555555555556,\"#d8576b\"],[0.6666666666666666,\"#ed7953\"],[0.7777777777777778,\"#fb9f3a\"],[0.8888888888888888,\"#fdca26\"],[1.0,\"#f0f921\"]],\"type\":\"histogram2dcontour\"}],\"mesh3d\":[{\"colorbar\":{\"outlinewidth\":0,\"ticks\":\"\"},\"type\":\"mesh3d\"}],\"parcoords\":[{\"line\":{\"colorbar\":{\"outlinewidth\":0,\"ticks\":\"\"}},\"type\":\"parcoords\"}],\"pie\":[{\"automargin\":true,\"type\":\"pie\"}],\"scatter\":[{\"marker\":{\"colorbar\":{\"outlinewidth\":0,\"ticks\":\"\"}},\"type\":\"scatter\"}],\"scatter3d\":[{\"line\":{\"colorbar\":{\"outlinewidth\":0,\"ticks\":\"\"}},\"marker\":{\"colorbar\":{\"outlinewidth\":0,\"ticks\":\"\"}},\"type\":\"scatter3d\"}],\"scattercarpet\":[{\"marker\":{\"colorbar\":{\"outlinewidth\":0,\"ticks\":\"\"}},\"type\":\"scattercarpet\"}],\"scattergeo\":[{\"marker\":{\"colorbar\":{\"outlinewidth\":0,\"ticks\":\"\"}},\"type\":\"scattergeo\"}],\"scattergl\":[{\"marker\":{\"colorbar\":{\"outlinewidth\":0,\"ticks\":\"\"}},\"type\":\"scattergl\"}],\"scattermapbox\":[{\"marker\":{\"colorbar\":{\"outlinewidth\":0,\"ticks\":\"\"}},\"type\":\"scattermapbox\"}],\"scatterpolar\":[{\"marker\":{\"colorbar\":{\"outlinewidth\":0,\"ticks\":\"\"}},\"type\":\"scatterpolar\"}],\"scatterpolargl\":[{\"marker\":{\"colorbar\":{\"outlinewidth\":0,\"ticks\":\"\"}},\"type\":\"scatterpolargl\"}],\"scatterternary\":[{\"marker\":{\"colorbar\":{\"outlinewidth\":0,\"ticks\":\"\"}},\"type\":\"scatterternary\"}],\"surface\":[{\"colorbar\":{\"outlinewidth\":0,\"ticks\":\"\"},\"colorscale\":[[0.0,\"#0d0887\"],[0.1111111111111111,\"#46039f\"],[0.2222222222222222,\"#7201a8\"],[0.3333333333333333,\"#9c179e\"],[0.4444444444444444,\"#bd3786\"],[0.5555555555555556,\"#d8576b\"],[0.6666666666666666,\"#ed7953\"],[0.7777777777777778,\"#fb9f3a\"],[0.8888888888888888,\"#fdca26\"],[1.0,\"#f0f921\"]],\"type\":\"surface\"}],\"table\":[{\"cells\":{\"fill\":{\"color\":\"#EBF0F8\"},\"line\":{\"color\":\"white\"}},\"header\":{\"fill\":{\"color\":\"#C8D4E3\"},\"line\":{\"color\":\"white\"}},\"type\":\"table\"}]},\"layout\":{\"annotationdefaults\":{\"arrowcolor\":\"#2a3f5f\",\"arrowhead\":0,\"arrowwidth\":1},\"autotypenumbers\":\"strict\",\"coloraxis\":{\"colorbar\":{\"outlinewidth\":0,\"ticks\":\"\"}},\"colorscale\":{\"diverging\":[[0,\"#8e0152\"],[0.1,\"#c51b7d\"],[0.2,\"#de77ae\"],[0.3,\"#f1b6da\"],[0.4,\"#fde0ef\"],[0.5,\"#f7f7f7\"],[0.6,\"#e6f5d0\"],[0.7,\"#b8e186\"],[0.8,\"#7fbc41\"],[0.9,\"#4d9221\"],[1,\"#276419\"]],\"sequential\":[[0.0,\"#0d0887\"],[0.1111111111111111,\"#46039f\"],[0.2222222222222222,\"#7201a8\"],[0.3333333333333333,\"#9c179e\"],[0.4444444444444444,\"#bd3786\"],[0.5555555555555556,\"#d8576b\"],[0.6666666666666666,\"#ed7953\"],[0.7777777777777778,\"#fb9f3a\"],[0.8888888888888888,\"#fdca26\"],[1.0,\"#f0f921\"]],\"sequentialminus\":[[0.0,\"#0d0887\"],[0.1111111111111111,\"#46039f\"],[0.2222222222222222,\"#7201a8\"],[0.3333333333333333,\"#9c179e\"],[0.4444444444444444,\"#bd3786\"],[0.5555555555555556,\"#d8576b\"],[0.6666666666666666,\"#ed7953\"],[0.7777777777777778,\"#fb9f3a\"],[0.8888888888888888,\"#fdca26\"],[1.0,\"#f0f921\"]]},\"colorway\":[\"#636efa\",\"#EF553B\",\"#00cc96\",\"#ab63fa\",\"#FFA15A\",\"#19d3f3\",\"#FF6692\",\"#B6E880\",\"#FF97FF\",\"#FECB52\"],\"font\":{\"color\":\"#2a3f5f\"},\"geo\":{\"bgcolor\":\"white\",\"lakecolor\":\"white\",\"landcolor\":\"#E5ECF6\",\"showlakes\":true,\"showland\":true,\"subunitcolor\":\"white\"},\"hoverlabel\":{\"align\":\"left\"},\"hovermode\":\"closest\",\"mapbox\":{\"style\":\"light\"},\"paper_bgcolor\":\"white\",\"plot_bgcolor\":\"#E5ECF6\",\"polar\":{\"angularaxis\":{\"gridcolor\":\"white\",\"linecolor\":\"white\",\"ticks\":\"\"},\"bgcolor\":\"#E5ECF6\",\"radialaxis\":{\"gridcolor\":\"white\",\"linecolor\":\"white\",\"ticks\":\"\"}},\"scene\":{\"xaxis\":{\"backgroundcolor\":\"#E5ECF6\",\"gridcolor\":\"white\",\"gridwidth\":2,\"linecolor\":\"white\",\"showbackground\":true,\"ticks\":\"\",\"zerolinecolor\":\"white\"},\"yaxis\":{\"backgroundcolor\":\"#E5ECF6\",\"gridcolor\":\"white\",\"gridwidth\":2,\"linecolor\":\"white\",\"showbackground\":true,\"ticks\":\"\",\"zerolinecolor\":\"white\"},\"zaxis\":{\"backgroundcolor\":\"#E5ECF6\",\"gridcolor\":\"white\",\"gridwidth\":2,\"linecolor\":\"white\",\"showbackground\":true,\"ticks\":\"\",\"zerolinecolor\":\"white\"}},\"shapedefaults\":{\"line\":{\"color\":\"#2a3f5f\"}},\"ternary\":{\"aaxis\":{\"gridcolor\":\"white\",\"linecolor\":\"white\",\"ticks\":\"\"},\"baxis\":{\"gridcolor\":\"white\",\"linecolor\":\"white\",\"ticks\":\"\"},\"bgcolor\":\"#E5ECF6\",\"caxis\":{\"gridcolor\":\"white\",\"linecolor\":\"white\",\"ticks\":\"\"}},\"title\":{\"x\":0.05},\"xaxis\":{\"automargin\":true,\"gridcolor\":\"white\",\"linecolor\":\"white\",\"ticks\":\"\",\"title\":{\"standoff\":15},\"zerolinecolor\":\"white\",\"zerolinewidth\":2},\"yaxis\":{\"automargin\":true,\"gridcolor\":\"white\",\"linecolor\":\"white\",\"ticks\":\"\",\"title\":{\"standoff\":15},\"zerolinecolor\":\"white\",\"zerolinewidth\":2}}},\"xaxis\":{\"anchor\":\"y\",\"domain\":[0.0,1.0],\"title\":{\"text\":\"Sex\"}},\"yaxis\":{\"anchor\":\"x\",\"domain\":[0.0,1.0],\"title\":{\"text\":\"Survived\"}},\"legend\":{\"tracegroupgap\":0},\"margin\":{\"t\":60},\"barmode\":\"relative\"},                        {\"responsive\": true}                    ).then(function(){\n",
              "                            \n",
              "var gd = document.getElementById('37ad26dd-a744-42a7-844e-47f5556118e6');\n",
              "var x = new MutationObserver(function (mutations, observer) {{\n",
              "        var display = window.getComputedStyle(gd).display;\n",
              "        if (!display || display === 'none') {{\n",
              "            console.log([gd, 'removed!']);\n",
              "            Plotly.purge(gd);\n",
              "            observer.disconnect();\n",
              "        }}\n",
              "}});\n",
              "\n",
              "// Listen for the removal of the full notebook cells\n",
              "var notebookContainer = gd.closest('#notebook-container');\n",
              "if (notebookContainer) {{\n",
              "    x.observe(notebookContainer, {childList: true});\n",
              "}}\n",
              "\n",
              "// Listen for the clearing of the current output cell\n",
              "var outputEl = gd.closest('.output');\n",
              "if (outputEl) {{\n",
              "    x.observe(outputEl, {childList: true});\n",
              "}}\n",
              "\n",
              "                        })                };                            </script>        </div>\n",
              "</body>\n",
              "</html>"
            ]
          },
          "metadata": {},
          "output_type": "display_data"
        }
      ],
      "source": [
        "fig = px.bar(df, x='Sex', y='Survived')\n",
        "fig.show()"
      ]
    },
    {
      "cell_type": "code",
      "execution_count": null,
      "metadata": {
        "colab": {
          "base_uri": "https://localhost:8080/",
          "height": 542
        },
        "id": "_dOwzL9CJ5fS",
        "outputId": "5a1d35e1-95bf-4a21-9542-2724be8423a0"
      },
      "outputs": [
        {
          "data": {
            "text/html": [
              "<html>\n",
              "<head><meta charset=\"utf-8\" /></head>\n",
              "<body>\n",
              "    <div>            <script src=\"https://cdnjs.cloudflare.com/ajax/libs/mathjax/2.7.5/MathJax.js?config=TeX-AMS-MML_SVG\"></script><script type=\"text/javascript\">if (window.MathJax) {MathJax.Hub.Config({SVG: {font: \"STIX-Web\"}});}</script>                <script type=\"text/javascript\">window.PlotlyConfig = {MathJaxConfig: 'local'};</script>\n",
              "        <script src=\"https://cdn.plot.ly/plotly-2.8.3.min.js\"></script>                <div id=\"f51bd426-67df-4902-9a22-a2e1588d4dc5\" class=\"plotly-graph-div\" style=\"height:525px; width:100%;\"></div>            <script type=\"text/javascript\">                                    window.PLOTLYENV=window.PLOTLYENV || {};                                    if (document.getElementById(\"f51bd426-67df-4902-9a22-a2e1588d4dc5\")) {                    Plotly.newPlot(                        \"f51bd426-67df-4902-9a22-a2e1588d4dc5\",                        [{\"hovertemplate\":\"<b>%{hovertext}</b><br><br>Age=%{x}<br>Survived=%{y}<br>Pclass=%{marker.color}<extra></extra>\",\"hovertext\":[\"McCarthy, Mr. Timothy J\",\"Wheadon, Mr. Edward H\",\"Ostby, Mr. Engelhart Cornelius\",\"Coxon, Mr. Daniel\",\"Goldschmidt, Mr. George B\",\"Connors, Mr. Patrick\",\"White, Mr. Percival Wayland\",\"Bateman, Rev. Robert James\",\"Meo, Mr. Alfonzo\",\"Williams, Mr. Charles Duane\",\"Van der hoef, Mr. Wyckoff\",\"Smith, Mr. James Clinch\",\"Green, Mr. George Henry\",\"Sjostedt, Mr. Ernst Adolf\",\"Carter, Rev. Ernest Courtenay\",\"Stead, Mr. William Thomas\",\"Taussig, Mr. Emil\",\"Duane, Mr. Frank\",\"Moraweck, Dr. Ernest\",\"Nysveen, Mr. Johan Hansen\",\"Widegren, Mr. Carl/Charles Peter\",\"Silvey, Mr. William Baird\",\"Fortune, Mr. Mark\",\"Peuchen, Major. Arthur Godfrey\",\"Millet, Mr. Francis Davis\",\"Smart, Mr. John Montgomery\",\"Rouse, Mr. Richard Henry\",\"Kent, Mr. Edward Austin\",\"Molson, Mr. Harry Markland\",\"Artagaveytia, Mr. Ramon\",\"Douglas, Mr. Walter Donald\",\"Nicholson, Mr. Arthur Ernest\",\"Wright, Mr. George\",\"Harris, Mr. George\",\"Downton, Mr. William James\",\"Frolicher-Stehli, Mr. Maxmillian\",\"Sutton, Mr. Frederick\",\"Kirkland, Rev. Charles Leonard\",\"Barkworth, Mr. Algernon Henry Wilson\",\"Lundahl, Mr. Johan Svensson\",\"Simonius-Blumer, Col. Oberst Alfons\",\"Newell, Mr. Arthur Webster\",\"Frauenthal, Dr. Henry William\",\"Mitchell, Mr. Henry Michael\",\"Brown, Mr. Thomas William Solomon\",\"Weir, Col. John\",\"Chapman, Mr. Charles Henry\",\"Greenberg, Mr. Samuel\",\"Hodges, Mr. Henry Price\",\"Crosby, Capt. Edward Gifford\",\"Svensson, Mr. Johan\",\"Daly, Mr. Peter Denis \"],\"legendgroup\":\"\",\"marker\":{\"color\":[1,2,1,3,1,3,1,2,3,1,1,1,3,2,2,1,1,3,2,3,3,1,1,1,1,1,3,1,1,1,1,1,1,2,2,1,1,2,1,3,1,1,1,2,2,1,2,2,2,1,3,1],\"coloraxis\":\"coloraxis\",\"size\":[1,2,1,3,1,3,1,2,3,1,1,1,3,2,2,1,1,3,2,3,3,1,1,1,1,1,3,1,1,1,1,1,1,2,2,1,1,2,1,3,1,1,1,2,2,1,2,2,2,1,3,1],\"sizemode\":\"area\",\"sizeref\":0.0008333333333333334,\"symbol\":\"circle\"},\"mode\":\"markers\",\"name\":\"\",\"orientation\":\"v\",\"showlegend\":false,\"x\":[54.0,66.0,65.0,59.0,71.0,70.5,54.0,51.0,55.5,51.0,61.0,56.0,51.0,59.0,54.0,62.0,52.0,65.0,54.0,61.0,51.0,50.0,64.0,52.0,65.0,56.0,50.0,58.0,55.0,71.0,50.0,64.0,62.0,62.0,54.0,60.0,61.0,57.0,80.0,51.0,56.0,58.0,50.0,70.0,60.0,60.0,52.0,52.0,50.0,70.0,74.0,51.0],\"xaxis\":\"x\",\"y\":[0,0,0,0,0,0,0,0,0,0,0,0,0,0,0,0,0,0,0,0,0,0,0,1,0,0,0,0,0,0,0,0,0,1,0,1,0,0,1,0,1,0,1,0,0,0,0,0,0,0,0,1],\"yaxis\":\"y\",\"type\":\"scatter\"}],                        {\"template\":{\"data\":{\"bar\":[{\"error_x\":{\"color\":\"#2a3f5f\"},\"error_y\":{\"color\":\"#2a3f5f\"},\"marker\":{\"line\":{\"color\":\"#E5ECF6\",\"width\":0.5},\"pattern\":{\"fillmode\":\"overlay\",\"size\":10,\"solidity\":0.2}},\"type\":\"bar\"}],\"barpolar\":[{\"marker\":{\"line\":{\"color\":\"#E5ECF6\",\"width\":0.5},\"pattern\":{\"fillmode\":\"overlay\",\"size\":10,\"solidity\":0.2}},\"type\":\"barpolar\"}],\"carpet\":[{\"aaxis\":{\"endlinecolor\":\"#2a3f5f\",\"gridcolor\":\"white\",\"linecolor\":\"white\",\"minorgridcolor\":\"white\",\"startlinecolor\":\"#2a3f5f\"},\"baxis\":{\"endlinecolor\":\"#2a3f5f\",\"gridcolor\":\"white\",\"linecolor\":\"white\",\"minorgridcolor\":\"white\",\"startlinecolor\":\"#2a3f5f\"},\"type\":\"carpet\"}],\"choropleth\":[{\"colorbar\":{\"outlinewidth\":0,\"ticks\":\"\"},\"type\":\"choropleth\"}],\"contour\":[{\"colorbar\":{\"outlinewidth\":0,\"ticks\":\"\"},\"colorscale\":[[0.0,\"#0d0887\"],[0.1111111111111111,\"#46039f\"],[0.2222222222222222,\"#7201a8\"],[0.3333333333333333,\"#9c179e\"],[0.4444444444444444,\"#bd3786\"],[0.5555555555555556,\"#d8576b\"],[0.6666666666666666,\"#ed7953\"],[0.7777777777777778,\"#fb9f3a\"],[0.8888888888888888,\"#fdca26\"],[1.0,\"#f0f921\"]],\"type\":\"contour\"}],\"contourcarpet\":[{\"colorbar\":{\"outlinewidth\":0,\"ticks\":\"\"},\"type\":\"contourcarpet\"}],\"heatmap\":[{\"colorbar\":{\"outlinewidth\":0,\"ticks\":\"\"},\"colorscale\":[[0.0,\"#0d0887\"],[0.1111111111111111,\"#46039f\"],[0.2222222222222222,\"#7201a8\"],[0.3333333333333333,\"#9c179e\"],[0.4444444444444444,\"#bd3786\"],[0.5555555555555556,\"#d8576b\"],[0.6666666666666666,\"#ed7953\"],[0.7777777777777778,\"#fb9f3a\"],[0.8888888888888888,\"#fdca26\"],[1.0,\"#f0f921\"]],\"type\":\"heatmap\"}],\"heatmapgl\":[{\"colorbar\":{\"outlinewidth\":0,\"ticks\":\"\"},\"colorscale\":[[0.0,\"#0d0887\"],[0.1111111111111111,\"#46039f\"],[0.2222222222222222,\"#7201a8\"],[0.3333333333333333,\"#9c179e\"],[0.4444444444444444,\"#bd3786\"],[0.5555555555555556,\"#d8576b\"],[0.6666666666666666,\"#ed7953\"],[0.7777777777777778,\"#fb9f3a\"],[0.8888888888888888,\"#fdca26\"],[1.0,\"#f0f921\"]],\"type\":\"heatmapgl\"}],\"histogram\":[{\"marker\":{\"pattern\":{\"fillmode\":\"overlay\",\"size\":10,\"solidity\":0.2}},\"type\":\"histogram\"}],\"histogram2d\":[{\"colorbar\":{\"outlinewidth\":0,\"ticks\":\"\"},\"colorscale\":[[0.0,\"#0d0887\"],[0.1111111111111111,\"#46039f\"],[0.2222222222222222,\"#7201a8\"],[0.3333333333333333,\"#9c179e\"],[0.4444444444444444,\"#bd3786\"],[0.5555555555555556,\"#d8576b\"],[0.6666666666666666,\"#ed7953\"],[0.7777777777777778,\"#fb9f3a\"],[0.8888888888888888,\"#fdca26\"],[1.0,\"#f0f921\"]],\"type\":\"histogram2d\"}],\"histogram2dcontour\":[{\"colorbar\":{\"outlinewidth\":0,\"ticks\":\"\"},\"colorscale\":[[0.0,\"#0d0887\"],[0.1111111111111111,\"#46039f\"],[0.2222222222222222,\"#7201a8\"],[0.3333333333333333,\"#9c179e\"],[0.4444444444444444,\"#bd3786\"],[0.5555555555555556,\"#d8576b\"],[0.6666666666666666,\"#ed7953\"],[0.7777777777777778,\"#fb9f3a\"],[0.8888888888888888,\"#fdca26\"],[1.0,\"#f0f921\"]],\"type\":\"histogram2dcontour\"}],\"mesh3d\":[{\"colorbar\":{\"outlinewidth\":0,\"ticks\":\"\"},\"type\":\"mesh3d\"}],\"parcoords\":[{\"line\":{\"colorbar\":{\"outlinewidth\":0,\"ticks\":\"\"}},\"type\":\"parcoords\"}],\"pie\":[{\"automargin\":true,\"type\":\"pie\"}],\"scatter\":[{\"marker\":{\"colorbar\":{\"outlinewidth\":0,\"ticks\":\"\"}},\"type\":\"scatter\"}],\"scatter3d\":[{\"line\":{\"colorbar\":{\"outlinewidth\":0,\"ticks\":\"\"}},\"marker\":{\"colorbar\":{\"outlinewidth\":0,\"ticks\":\"\"}},\"type\":\"scatter3d\"}],\"scattercarpet\":[{\"marker\":{\"colorbar\":{\"outlinewidth\":0,\"ticks\":\"\"}},\"type\":\"scattercarpet\"}],\"scattergeo\":[{\"marker\":{\"colorbar\":{\"outlinewidth\":0,\"ticks\":\"\"}},\"type\":\"scattergeo\"}],\"scattergl\":[{\"marker\":{\"colorbar\":{\"outlinewidth\":0,\"ticks\":\"\"}},\"type\":\"scattergl\"}],\"scattermapbox\":[{\"marker\":{\"colorbar\":{\"outlinewidth\":0,\"ticks\":\"\"}},\"type\":\"scattermapbox\"}],\"scatterpolar\":[{\"marker\":{\"colorbar\":{\"outlinewidth\":0,\"ticks\":\"\"}},\"type\":\"scatterpolar\"}],\"scatterpolargl\":[{\"marker\":{\"colorbar\":{\"outlinewidth\":0,\"ticks\":\"\"}},\"type\":\"scatterpolargl\"}],\"scatterternary\":[{\"marker\":{\"colorbar\":{\"outlinewidth\":0,\"ticks\":\"\"}},\"type\":\"scatterternary\"}],\"surface\":[{\"colorbar\":{\"outlinewidth\":0,\"ticks\":\"\"},\"colorscale\":[[0.0,\"#0d0887\"],[0.1111111111111111,\"#46039f\"],[0.2222222222222222,\"#7201a8\"],[0.3333333333333333,\"#9c179e\"],[0.4444444444444444,\"#bd3786\"],[0.5555555555555556,\"#d8576b\"],[0.6666666666666666,\"#ed7953\"],[0.7777777777777778,\"#fb9f3a\"],[0.8888888888888888,\"#fdca26\"],[1.0,\"#f0f921\"]],\"type\":\"surface\"}],\"table\":[{\"cells\":{\"fill\":{\"color\":\"#EBF0F8\"},\"line\":{\"color\":\"white\"}},\"header\":{\"fill\":{\"color\":\"#C8D4E3\"},\"line\":{\"color\":\"white\"}},\"type\":\"table\"}]},\"layout\":{\"annotationdefaults\":{\"arrowcolor\":\"#2a3f5f\",\"arrowhead\":0,\"arrowwidth\":1},\"autotypenumbers\":\"strict\",\"coloraxis\":{\"colorbar\":{\"outlinewidth\":0,\"ticks\":\"\"}},\"colorscale\":{\"diverging\":[[0,\"#8e0152\"],[0.1,\"#c51b7d\"],[0.2,\"#de77ae\"],[0.3,\"#f1b6da\"],[0.4,\"#fde0ef\"],[0.5,\"#f7f7f7\"],[0.6,\"#e6f5d0\"],[0.7,\"#b8e186\"],[0.8,\"#7fbc41\"],[0.9,\"#4d9221\"],[1,\"#276419\"]],\"sequential\":[[0.0,\"#0d0887\"],[0.1111111111111111,\"#46039f\"],[0.2222222222222222,\"#7201a8\"],[0.3333333333333333,\"#9c179e\"],[0.4444444444444444,\"#bd3786\"],[0.5555555555555556,\"#d8576b\"],[0.6666666666666666,\"#ed7953\"],[0.7777777777777778,\"#fb9f3a\"],[0.8888888888888888,\"#fdca26\"],[1.0,\"#f0f921\"]],\"sequentialminus\":[[0.0,\"#0d0887\"],[0.1111111111111111,\"#46039f\"],[0.2222222222222222,\"#7201a8\"],[0.3333333333333333,\"#9c179e\"],[0.4444444444444444,\"#bd3786\"],[0.5555555555555556,\"#d8576b\"],[0.6666666666666666,\"#ed7953\"],[0.7777777777777778,\"#fb9f3a\"],[0.8888888888888888,\"#fdca26\"],[1.0,\"#f0f921\"]]},\"colorway\":[\"#636efa\",\"#EF553B\",\"#00cc96\",\"#ab63fa\",\"#FFA15A\",\"#19d3f3\",\"#FF6692\",\"#B6E880\",\"#FF97FF\",\"#FECB52\"],\"font\":{\"color\":\"#2a3f5f\"},\"geo\":{\"bgcolor\":\"white\",\"lakecolor\":\"white\",\"landcolor\":\"#E5ECF6\",\"showlakes\":true,\"showland\":true,\"subunitcolor\":\"white\"},\"hoverlabel\":{\"align\":\"left\"},\"hovermode\":\"closest\",\"mapbox\":{\"style\":\"light\"},\"paper_bgcolor\":\"white\",\"plot_bgcolor\":\"#E5ECF6\",\"polar\":{\"angularaxis\":{\"gridcolor\":\"white\",\"linecolor\":\"white\",\"ticks\":\"\"},\"bgcolor\":\"#E5ECF6\",\"radialaxis\":{\"gridcolor\":\"white\",\"linecolor\":\"white\",\"ticks\":\"\"}},\"scene\":{\"xaxis\":{\"backgroundcolor\":\"#E5ECF6\",\"gridcolor\":\"white\",\"gridwidth\":2,\"linecolor\":\"white\",\"showbackground\":true,\"ticks\":\"\",\"zerolinecolor\":\"white\"},\"yaxis\":{\"backgroundcolor\":\"#E5ECF6\",\"gridcolor\":\"white\",\"gridwidth\":2,\"linecolor\":\"white\",\"showbackground\":true,\"ticks\":\"\",\"zerolinecolor\":\"white\"},\"zaxis\":{\"backgroundcolor\":\"#E5ECF6\",\"gridcolor\":\"white\",\"gridwidth\":2,\"linecolor\":\"white\",\"showbackground\":true,\"ticks\":\"\",\"zerolinecolor\":\"white\"}},\"shapedefaults\":{\"line\":{\"color\":\"#2a3f5f\"}},\"ternary\":{\"aaxis\":{\"gridcolor\":\"white\",\"linecolor\":\"white\",\"ticks\":\"\"},\"baxis\":{\"gridcolor\":\"white\",\"linecolor\":\"white\",\"ticks\":\"\"},\"bgcolor\":\"#E5ECF6\",\"caxis\":{\"gridcolor\":\"white\",\"linecolor\":\"white\",\"ticks\":\"\"}},\"title\":{\"x\":0.05},\"xaxis\":{\"automargin\":true,\"gridcolor\":\"white\",\"linecolor\":\"white\",\"ticks\":\"\",\"title\":{\"standoff\":15},\"zerolinecolor\":\"white\",\"zerolinewidth\":2},\"yaxis\":{\"automargin\":true,\"gridcolor\":\"white\",\"linecolor\":\"white\",\"ticks\":\"\",\"title\":{\"standoff\":15},\"zerolinecolor\":\"white\",\"zerolinewidth\":2}}},\"xaxis\":{\"anchor\":\"y\",\"domain\":[0.0,1.0],\"title\":{\"text\":\"Age\"},\"type\":\"log\"},\"yaxis\":{\"anchor\":\"x\",\"domain\":[0.0,1.0],\"title\":{\"text\":\"Survived\"}},\"coloraxis\":{\"colorbar\":{\"title\":{\"text\":\"Pclass\"}},\"colorscale\":[[0.0,\"#0d0887\"],[0.1111111111111111,\"#46039f\"],[0.2222222222222222,\"#7201a8\"],[0.3333333333333333,\"#9c179e\"],[0.4444444444444444,\"#bd3786\"],[0.5555555555555556,\"#d8576b\"],[0.6666666666666666,\"#ed7953\"],[0.7777777777777778,\"#fb9f3a\"],[0.8888888888888888,\"#fdca26\"],[1.0,\"#f0f921\"]]},\"legend\":{\"tracegroupgap\":0,\"itemsizing\":\"constant\"},\"margin\":{\"t\":60}},                        {\"responsive\": true}                    ).then(function(){\n",
              "                            \n",
              "var gd = document.getElementById('f51bd426-67df-4902-9a22-a2e1588d4dc5');\n",
              "var x = new MutationObserver(function (mutations, observer) {{\n",
              "        var display = window.getComputedStyle(gd).display;\n",
              "        if (!display || display === 'none') {{\n",
              "            console.log([gd, 'removed!']);\n",
              "            Plotly.purge(gd);\n",
              "            observer.disconnect();\n",
              "        }}\n",
              "}});\n",
              "\n",
              "// Listen for the removal of the full notebook cells\n",
              "var notebookContainer = gd.closest('#notebook-container');\n",
              "if (notebookContainer) {{\n",
              "    x.observe(notebookContainer, {childList: true});\n",
              "}}\n",
              "\n",
              "// Listen for the clearing of the current output cell\n",
              "var outputEl = gd.closest('.output');\n",
              "if (outputEl) {{\n",
              "    x.observe(outputEl, {childList: true});\n",
              "}}\n",
              "\n",
              "                        })                };                            </script>        </div>\n",
              "</body>\n",
              "</html>"
            ]
          },
          "metadata": {},
          "output_type": "display_data"
        }
      ],
      "source": [
        "fig = px.scatter(df.query(\"Age>=50 & Sex=='male'\" ) , x=\"Age\", y=\"Survived\", size=\"Pclass\", color=\"Pclass\",\n",
        "           hover_name=\"Name\", log_x=True, size_max=60)\n",
        "fig.show()"
      ]
    },
    {
      "cell_type": "markdown",
      "metadata": {
        "id": "ZhQ9YOlyJ5fS"
      },
      "source": [
        "A traves de la siguiente grafica podemos observar una Distribucion Acumulativa Empirica que demuestra la cantidad de hombres y mujeres que se encontraban dentro de la enbarcacion. Esta misma es capaz de demostrar la edad de los pasajeros y si estos sobrevivieron. A continuacion de esta misma grafica se mostrara la relacion que tuvieron las muertes respecto la edad especificada.\n"
      ]
    },
    {
      "cell_type": "code",
      "execution_count": null,
      "metadata": {
        "id": "q9NWwOslJ5fS"
      },
      "outputs": [],
      "source": [
        "# def hierarchy(condition):\n",
        "#     fig = px.ecdf(df.query(condition), x=\"Age\", color=\"Sex\",animation_frame=\"Survived\")\n",
        "#     fig.show()"
      ]
    },
    {
      "cell_type": "code",
      "execution_count": null,
      "metadata": {
        "colab": {
          "base_uri": "https://localhost:8080/",
          "height": 542
        },
        "id": "l9nqynraJ5fS",
        "outputId": "73d58419-724a-4a55-bcff-f5abe9596235"
      },
      "outputs": [
        {
          "data": {
            "text/html": [
              "<html>\n",
              "<head><meta charset=\"utf-8\" /></head>\n",
              "<body>\n",
              "    <div>            <script src=\"https://cdnjs.cloudflare.com/ajax/libs/mathjax/2.7.5/MathJax.js?config=TeX-AMS-MML_SVG\"></script><script type=\"text/javascript\">if (window.MathJax) {MathJax.Hub.Config({SVG: {font: \"STIX-Web\"}});}</script>                <script type=\"text/javascript\">window.PlotlyConfig = {MathJaxConfig: 'local'};</script>\n",
              "        <script src=\"https://cdn.plot.ly/plotly-2.8.3.min.js\"></script>                <div id=\"b676728d-21af-4446-86c3-707a38e39a5c\" class=\"plotly-graph-div\" style=\"height:525px; width:100%;\"></div>            <script type=\"text/javascript\">                                    window.PLOTLYENV=window.PLOTLYENV || {};                                    if (document.getElementById(\"b676728d-21af-4446-86c3-707a38e39a5c\")) {                    Plotly.newPlot(                        \"b676728d-21af-4446-86c3-707a38e39a5c\",                        [{\"alignmentgroup\":\"True\",\"box\":{\"visible\":true},\"customdata\":[[2,1,\"Cumings, Mrs. John Bradley (Florence Briggs Thayer)\",\"female\",1,0,\"PC 17599\",71.2833,2,1],[3,3,\"Heikkinen, Miss. Laina\",\"female\",0,0,\"STON/O2. 3101282\",7.925,1,1],[4,1,\"Futrelle, Mrs. Jacques Heath (Lily May Peel)\",\"female\",1,0,\"113803\",53.1,1,1],[9,3,\"Johnson, Mrs. Oscar W (Elisabeth Vilhelmina Berg)\",\"female\",0,2,\"347742\",11.1333,1,1],[10,2,\"Nasser, Mrs. Nicholas (Adele Achem)\",\"female\",1,0,\"237736\",30.0708,2,1],[11,3,\"Sandstrom, Miss. Marguerite Rut\",\"female\",1,1,\"PP 9549\",16.7,1,1],[12,1,\"Bonnell, Miss. Elizabeth\",\"female\",0,0,\"113783\",26.55,1,1],[16,2,\"Hewlett, Mrs. (Mary D Kingcome) \",\"female\",0,0,\"248706\",16.0,1,1],[20,3,\"Masselmani, Mrs. Fatima\",\"female\",0,0,\"2649\",7.225,2,1],[23,3,\"McGowan, Miss. Anna \\\"Annie\\\"\",\"female\",0,0,\"330923\",8.0292,3,1],[26,3,\"Asplund, Mrs. Carl Oscar (Selma Augusta Emilia Johansson)\",\"female\",1,5,\"347077\",31.3875,1,1],[29,3,\"O'Dwyer, Miss. Ellen \\\"Nellie\\\"\",\"female\",0,0,\"330959\",7.8792,3,1],[32,1,\"Spencer, Mrs. William Augustus (Marie Eugenie)\",\"female\",1,0,\"PC 17569\",146.5208,2,1],[33,3,\"Glynn, Miss. Mary Agatha\",\"female\",0,0,\"335677\",7.75,3,1],[40,3,\"Nicola-Yarred, Miss. Jamila\",\"female\",1,0,\"2651\",11.2417,2,1],[44,2,\"Laroche, Miss. Simonne Marie Anne Andree\",\"female\",1,2,\"SC/Paris 2123\",41.5792,2,1],[45,3,\"Devaney, Miss. Margaret Delia\",\"female\",0,0,\"330958\",7.8792,3,1],[48,3,\"O'Driscoll, Miss. Bridget\",\"female\",0,0,\"14311\",7.75,3,1],[53,1,\"Harper, Mrs. Henry Sleeper (Myna Haxtun)\",\"female\",1,0,\"PC 17572\",76.7292,2,1],[54,2,\"Faunthorpe, Mrs. Lizzie (Elizabeth Anne Wilkinson)\",\"female\",1,0,\"2926\",26.0,1,1],[57,2,\"Rugg, Miss. Emily\",\"female\",0,0,\"C.A. 31026\",10.5,1,1],[59,2,\"West, Miss. Constance Mirium\",\"female\",1,2,\"C.A. 34651\",27.75,1,1],[62,1,\"Icard, Miss. Amelie\",\"female\",0,0,\"113572\",80.0,1,1],[67,2,\"Nye, Mrs. (Elizabeth Ramell)\",\"female\",0,0,\"C.A. 29395\",10.5,1,1],[69,3,\"Andersson, Miss. Erna Alexandra\",\"female\",4,2,\"3101281\",7.925,1,1],[80,3,\"Dowdell, Miss. Elizabeth\",\"female\",0,0,\"364516\",12.475,1,1],[83,3,\"McDermott, Miss. Brigdet Delia\",\"female\",0,0,\"330932\",7.7875,3,1],[85,2,\"Ilett, Miss. Bertha\",\"female\",0,0,\"SO/C 14885\",10.5,1,1],[86,3,\"Backstrom, Mrs. Karl Alfred (Maria Mathilda Gustafsson)\",\"female\",3,0,\"3101278\",15.85,1,1],[89,1,\"Fortune, Miss. Mabel Helen\",\"female\",3,2,\"19950\",263.0,1,1],[99,2,\"Doling, Mrs. John T (Ada Julia Bone)\",\"female\",0,1,\"231919\",23.0,1,1],[107,3,\"Salkjelsvik, Miss. Anna Kristine\",\"female\",0,0,\"343120\",7.65,1,1],[110,3,\"Moran, Miss. Bertha\",\"female\",1,0,\"371110\",24.15,3,1],[124,2,\"Webber, Miss. Susan\",\"female\",0,0,\"27267\",13.0,1,1],[129,3,\"Peter, Miss. Anna\",\"female\",1,1,\"2668\",22.3583,2,1],[134,2,\"Weisz, Mrs. Leopold (Mathilde Francoise Pede)\",\"female\",1,0,\"228414\",26.0,1,1],[137,1,\"Newsom, Miss. Helen Monypeny\",\"female\",0,2,\"11752\",26.2833,1,1],[142,3,\"Nysten, Miss. Anna Sofia\",\"female\",0,0,\"347081\",7.75,1,1],[143,3,\"Hakkarainen, Mrs. Pekka Pietari (Elin Matilda Dolck)\",\"female\",1,0,\"STON/O2. 3101279\",15.85,1,1],[152,1,\"Pears, Mrs. Thomas (Edith Wearne)\",\"female\",1,0,\"113776\",66.6,1,1],[157,3,\"Gilnagh, Miss. Katherine \\\"Katie\\\"\",\"female\",0,0,\"35851\",7.7333,3,1],[162,2,\"Watt, Mrs. James (Elizabeth \\\"Bessie\\\" Inglis Milne)\",\"female\",0,0,\"C.A. 33595\",15.75,1,1],[167,1,\"Chibnall, Mrs. (Edith Martha Bowerman)\",\"female\",0,1,\"113505\",55.0,1,1],[173,3,\"Johnson, Miss. Eleanor Ileen\",\"female\",1,1,\"347742\",11.1333,1,1],[185,3,\"Kink-Heilmann, Miss. Luise Gretchen\",\"female\",0,2,\"315153\",22.025,1,1],[187,3,\"O'Brien, Mrs. Thomas (Johanna \\\"Hannah\\\" Godfrey)\",\"female\",1,0,\"370365\",15.5,3,1],[191,2,\"Pinsky, Mrs. (Rosa)\",\"female\",0,0,\"234604\",13.0,1,1],[193,3,\"Andersen-Jensen, Miss. Carla Christine Nielsine\",\"female\",1,0,\"350046\",7.8542,1,1],[195,1,\"Brown, Mrs. James Joseph (Margaret Tobin)\",\"female\",0,0,\"PC 17610\",27.7208,2,1],[196,1,\"Lurette, Miss. Elise\",\"female\",0,0,\"PC 17569\",146.5208,2,1],[199,3,\"Madigan, Miss. Margaret \\\"Maggie\\\"\",\"female\",0,0,\"370370\",7.75,3,1],[209,3,\"Carr, Miss. Helen \\\"Ellen\\\"\",\"female\",0,0,\"367231\",7.75,3,1],[212,2,\"Cameron, Miss. Clear Annie\",\"female\",0,0,\"F.C.C. 13528\",21.0,1,1],[216,1,\"Newell, Miss. Madeleine\",\"female\",1,0,\"35273\",113.275,2,1],[217,3,\"Honkanen, Miss. Eliina\",\"female\",0,0,\"STON/O2. 3101283\",7.925,1,1],[219,1,\"Bazzani, Miss. Albina\",\"female\",0,0,\"11813\",76.2917,2,1],[231,1,\"Harris, Mrs. Henry Birkhardt (Irene Wallach)\",\"female\",1,0,\"36973\",83.475,1,1],[234,3,\"Asplund, Miss. Lillian Gertrud\",\"female\",4,2,\"347077\",31.3875,1,1],[238,2,\"Collyer, Miss. Marjorie \\\"Lottie\\\"\",\"female\",0,2,\"C.A. 31921\",26.25,1,1],[242,3,\"Murphy, Miss. Katherine \\\"Kate\\\"\",\"female\",1,0,\"367230\",15.5,3,1],[248,2,\"Hamalainen, Mrs. William (Anna)\",\"female\",0,2,\"250649\",14.5,1,1],[256,3,\"Touma, Mrs. Darwis (Hanne Youssef Razi)\",\"female\",0,2,\"2650\",15.2458,2,1],[257,1,\"Thorne, Mrs. Gertrude Maybelle\",\"female\",0,0,\"PC 17585\",79.2,2,1],[258,1,\"Cherry, Miss. Gladys\",\"female\",0,0,\"110152\",86.5,1,1],[259,1,\"Ward, Miss. Anna\",\"female\",0,0,\"PC 17755\",512.3292,2,1],[260,2,\"Parrish, Mrs. (Lutie Davis)\",\"female\",0,1,\"230433\",26.0,1,1],[269,1,\"Graham, Mrs. William Thompson (Edith Junkins)\",\"female\",0,1,\"PC 17582\",153.4625,1,1],[270,1,\"Bissette, Miss. Amelia\",\"female\",0,0,\"PC 17760\",135.6333,1,1],[273,2,\"Mellinger, Mrs. (Elizabeth Anne Maidment)\",\"female\",0,1,\"250644\",19.5,1,1],[275,3,\"Healy, Miss. Hanora \\\"Nora\\\"\",\"female\",0,0,\"370375\",7.75,3,1],[276,1,\"Andrews, Miss. Kornelia Theodosia\",\"female\",1,0,\"13502\",77.9583,1,1],[280,3,\"Abbott, Mrs. Stanton (Rosa Hunt)\",\"female\",1,1,\"C.A. 2673\",20.25,1,1],[290,3,\"Connolly, Miss. Kate\",\"female\",0,0,\"370373\",7.75,3,1],[291,1,\"Barber, Miss. Ellen \\\"Nellie\\\"\",\"female\",0,0,\"19877\",78.85,1,1],[292,1,\"Bishop, Mrs. Dickinson H (Helen Walton)\",\"female\",1,0,\"11967\",91.0792,2,1],[300,1,\"Baxter, Mrs. James (Helene DeLaudeniere Chaput)\",\"female\",0,1,\"PC 17558\",247.5208,2,1],[301,3,\"Kelly, Miss. Anna Katherine \\\"Annie Kate\\\"\",\"female\",0,0,\"9234\",7.75,3,1],[304,2,\"Keane, Miss. Nora A\",\"female\",0,0,\"226593\",12.35,3,1],[307,1,\"Fleming, Miss. Margaret\",\"female\",0,0,\"17421\",110.8833,2,1],[308,1,\"Penasco y Castellana, Mrs. Victor de Satode (Maria Josefa Perez de Soto y Vallejo)\",\"female\",1,0,\"PC 17758\",108.9,2,1],[310,1,\"Francatelli, Miss. Laura Mabel\",\"female\",0,0,\"PC 17485\",56.9292,2,1],[311,1,\"Hays, Miss. Margaret Bechstein\",\"female\",0,0,\"11767\",83.1583,2,1],[312,1,\"Ryerson, Miss. Emily Borie\",\"female\",2,2,\"PC 17608\",262.375,2,1],[316,3,\"Nilsson, Miss. Helmina Josefina\",\"female\",0,0,\"347470\",7.8542,1,1],[317,2,\"Kantor, Mrs. Sinai (Miriam Sternin)\",\"female\",1,0,\"244367\",26.0,1,1],[319,1,\"Wick, Miss. Mary Natalie\",\"female\",0,2,\"36928\",164.8667,1,1],[320,1,\"Spedden, Mrs. Frederic Oakley (Margaretta Corning Stone)\",\"female\",1,1,\"16966\",134.5,2,1],[323,2,\"Slayter, Miss. Hilda Mary\",\"female\",0,0,\"234818\",12.35,3,1],[324,2,\"Caldwell, Mrs. Albert Francis (Sylvia Mae Harbaugh)\",\"female\",1,1,\"248738\",29.0,1,1],[326,1,\"Young, Miss. Marie Grice\",\"female\",0,0,\"PC 17760\",135.6333,2,1],[328,2,\"Ball, Mrs. (Ada E Hall)\",\"female\",0,0,\"28551\",13.0,1,1],[329,3,\"Goldsmith, Mrs. Frank John (Emily Alice Brown)\",\"female\",1,1,\"363291\",20.525,1,1],[330,1,\"Hippach, Miss. Jean Gertrude\",\"female\",0,1,\"111361\",57.9792,2,1],[331,3,\"McCoy, Miss. Agnes\",\"female\",2,0,\"367226\",23.25,3,1],[335,1,\"Frauenthal, Mrs. Henry William (Clara Heinsheimer)\",\"female\",1,0,\"PC 17611\",133.65,1,1],[338,1,\"Burns, Miss. Elizabeth Margaret\",\"female\",0,0,\"16966\",134.5,2,1],[342,1,\"Fortune, Miss. Alice Elizabeth\",\"female\",3,2,\"19950\",263.0,1,1],[346,2,\"Brown, Miss. Amelia \\\"Mildred\\\"\",\"female\",0,0,\"248733\",13.0,1,1],[347,2,\"Smith, Miss. Marion Elsie\",\"female\",0,0,\"31418\",13.0,1,1],[348,3,\"Davison, Mrs. Thomas Henry (Mary E Finck)\",\"female\",1,0,\"386525\",16.1,1,1],[357,1,\"Bowerman, Miss. Elsie Edith\",\"female\",0,1,\"113505\",55.0,1,1],[359,3,\"McGovern, Miss. Mary\",\"female\",0,0,\"330931\",7.8792,3,1],[360,3,\"Mockler, Miss. Helen Mary \\\"Ellie\\\"\",\"female\",0,0,\"330980\",7.8792,3,1],[367,1,\"Warren, Mrs. Frank Manley (Anna Sophia Atkinson)\",\"female\",1,0,\"110813\",75.25,2,1],[368,3,\"Moussa, Mrs. (Mantoura Boulos)\",\"female\",0,0,\"2626\",7.2292,2,1],[369,3,\"Jermyn, Miss. Annie\",\"female\",0,0,\"14313\",7.75,3,1],[370,1,\"Aubart, Mme. Leontine Pauline\",\"female\",0,0,\"PC 17477\",69.3,2,1],[376,1,\"Meyer, Mrs. Edgar Joseph (Leila Saks)\",\"female\",1,0,\"PC 17604\",82.1708,2,1],[377,3,\"Landergren, Miss. Aurora Adelia\",\"female\",0,0,\"C 7077\",7.25,1,1],[381,1,\"Bidois, Miss. Rosalie\",\"female\",0,0,\"PC 17757\",227.525,2,1],[382,3,\"Nakid, Miss. Maria (\\\"Mary\\\")\",\"female\",0,2,\"2653\",15.7417,2,1],[384,1,\"Holverson, Mrs. Alexander Oskar (Mary Aline Towner)\",\"female\",1,0,\"113789\",52.0,1,1],[388,2,\"Buss, Miss. Kate\",\"female\",0,0,\"27849\",13.0,1,1],[390,2,\"Lehmann, Miss. Bertha\",\"female\",0,0,\"SC 1748\",12.0,2,1],[394,1,\"Newell, Miss. Marjorie\",\"female\",1,0,\"35273\",113.275,2,1],[395,3,\"Sandstrom, Mrs. Hjalmar (Agnes Charlotta Bengtsson)\",\"female\",0,2,\"PP 9549\",16.7,1,1],[400,2,\"Trout, Mrs. William H (Jessie L)\",\"female\",0,0,\"240929\",12.65,1,1],[413,1,\"Minahan, Miss. Daisy E\",\"female\",1,0,\"19928\",90.0,3,1],[417,2,\"Drew, Mrs. James Vivian (Lulu Thorne Christian)\",\"female\",1,1,\"28220\",32.5,1,1],[418,2,\"Silven, Miss. Lyyli Karoliina\",\"female\",0,2,\"250652\",13.0,1,1],[427,2,\"Clarke, Mrs. Charles V (Ada Maria Winfield)\",\"female\",1,0,\"2003\",26.0,1,1],[428,2,\"Phillips, Miss. Kate Florence (\\\"Mrs Kate Louise Phillips Marshall\\\")\",\"female\",0,0,\"250655\",26.0,1,1],[432,3,\"Thorneycroft, Mrs. Percival (Florence Kate White)\",\"female\",1,0,\"376564\",16.1,1,1],[433,2,\"Louch, Mrs. Charles Alexander (Alice Adelaide Slow)\",\"female\",1,0,\"SC/AH 3085\",26.0,1,1],[436,1,\"Carter, Miss. Lucile Polk\",\"female\",1,2,\"113760\",120.0,1,1],[438,2,\"Richards, Mrs. Sidney (Emily Hocking)\",\"female\",2,3,\"29106\",18.75,1,1],[441,2,\"Hart, Mrs. Benjamin (Esther Ada Bloomfield)\",\"female\",1,1,\"F.C.C. 13529\",26.25,1,1],[444,2,\"Reynaldo, Ms. Encarnacion\",\"female\",0,0,\"230434\",13.0,1,1],[447,2,\"Mellinger, Miss. Madeleine Violet\",\"female\",0,1,\"250644\",19.5,1,1],[449,3,\"Baclini, Miss. Marie Catherine\",\"female\",2,1,\"2666\",19.2583,2,1],[458,1,\"Kenyon, Mrs. Frederick R (Marion)\",\"female\",1,0,\"17464\",51.8625,1,1],[459,2,\"Toomey, Miss. Ellen\",\"female\",0,0,\"F.C.C. 13531\",10.5,1,1],[470,3,\"Baclini, Miss. Helene Barbara\",\"female\",2,1,\"2666\",19.2583,2,1],[473,2,\"West, Mrs. Edwy Arthur (Ada Mary Worth)\",\"female\",1,2,\"C.A. 34651\",27.75,1,1],[474,2,\"Jerwan, Mrs. Amin S (Marie Marthe Thuillard)\",\"female\",0,0,\"SC/AH Basle 541\",13.7917,2,1],[480,3,\"Hirvonen, Miss. Hildur E\",\"female\",0,1,\"3101298\",12.2875,1,1],[484,3,\"Turkula, Mrs. (Hedwig)\",\"female\",0,0,\"4134\",9.5875,1,1],[487,1,\"Hoyt, Mrs. Frederick Maxfield (Jane Anne Forby)\",\"female\",1,0,\"19943\",90.0,1,1],[497,1,\"Eustis, Miss. Elizabeth Mussey\",\"female\",1,0,\"36947\",78.2667,2,1],[505,1,\"Maioni, Miss. Roberta\",\"female\",0,0,\"110152\",86.5,1,1],[507,2,\"Quick, Mrs. Frederick Charles (Jane Richards)\",\"female\",0,2,\"26360\",26.0,1,1],[514,1,\"Rothschild, Mrs. Martin (Elizabeth L. Barrett)\",\"female\",1,0,\"PC 17603\",59.4,2,1],[517,2,\"Lemore, Mrs. (Amelia Milley)\",\"female\",0,0,\"C.A. 34260\",10.5,1,1],[519,2,\"Angle, Mrs. William A (Florence \\\"Mary\\\" Agnes Hughes)\",\"female\",1,0,\"226875\",26.0,1,1],[521,1,\"Perreault, Miss. Anne\",\"female\",0,0,\"12749\",93.5,1,1],[524,1,\"Hippach, Mrs. Louis Albert (Ida Sophia Fischer)\",\"female\",0,1,\"111361\",57.9792,2,1],[527,2,\"Ridsdale, Miss. Lucy\",\"female\",0,0,\"W./C. 14258\",10.5,1,1],[531,2,\"Quick, Miss. Phyllis May\",\"female\",1,1,\"26360\",26.0,1,1],[534,3,\"Peter, Mrs. Catherine (Catherine Rizk)\",\"female\",0,2,\"2668\",22.3583,2,1],[536,2,\"Hart, Miss. Eva Miriam\",\"female\",0,2,\"F.C.C. 13529\",26.25,1,1],[538,1,\"LeRoy, Miss. Bertha\",\"female\",0,0,\"PC 17761\",106.425,2,1],[540,1,\"Frolicher, Miss. Hedwig Margaritha\",\"female\",0,2,\"13568\",49.5,2,1],[541,1,\"Crosby, Miss. Harriet R\",\"female\",0,2,\"WE/P 5735\",71.0,1,1],[547,2,\"Beane, Mrs. Edward (Ethel Clarke)\",\"female\",1,0,\"2908\",26.0,1,1],[555,3,\"Ohman, Miss. Velin\",\"female\",0,0,\"347085\",7.775,1,1],[557,1,\"Duff Gordon, Lady. (Lucille Christiana Sutherland) (\\\"Mrs Morgan\\\")\",\"female\",1,0,\"11755\",39.6,2,1],[559,1,\"Taussig, Mrs. Emil (Tillie Mandelbaum)\",\"female\",1,1,\"110413\",79.65,1,1],[560,3,\"de Messemaeker, Mrs. Guillaume Joseph (Emma)\",\"female\",1,0,\"345572\",17.4,1,1],[572,1,\"Appleton, Mrs. Edward Dale (Charlotte Lamson)\",\"female\",2,0,\"11769\",51.4792,1,1],[574,3,\"Kelly, Miss. Mary\",\"female\",0,0,\"14312\",7.75,3,1],[577,2,\"Garside, Miss. Ethel\",\"female\",0,0,\"243880\",13.0,1,1],[578,1,\"Silvey, Mrs. William Baird (Alice Munger)\",\"female\",1,0,\"13507\",55.9,1,1],[581,2,\"Christy, Miss. Julie Rachel\",\"female\",1,1,\"237789\",30.0,1,1],[582,1,\"Thayer, Mrs. John Borland (Marian Longstreth Morris)\",\"female\",1,1,\"17421\",110.8833,2,1],[586,1,\"Taussig, Miss. Ruth\",\"female\",0,2,\"110413\",79.65,1,1],[592,1,\"Stephenson, Mrs. Walter Bertram (Martha Eustis)\",\"female\",1,0,\"36947\",78.2667,2,1],[597,2,\"Leitch, Miss. Jessie Wills\",\"female\",0,0,\"248727\",33.0,1,1],[601,2,\"Jacobsohn, Mrs. Sidney Samuel (Amy Frances Christy)\",\"female\",2,1,\"243847\",27.0,1,1],[609,2,\"Laroche, Mrs. Joseph (Juliette Marie Louise Lafargue)\",\"female\",1,2,\"SC/Paris 2123\",41.5792,2,1],[610,1,\"Shutes, Miss. Elizabeth W\",\"female\",0,0,\"PC 17582\",153.4625,1,1],[613,3,\"Murphy, Miss. Margaret Jane\",\"female\",1,0,\"367230\",15.5,3,1],[616,2,\"Herman, Miss. Alice\",\"female\",1,2,\"220845\",65.0,1,1],[619,2,\"Becker, Miss. Marion Louise\",\"female\",2,1,\"230136\",39.0,1,1],[628,1,\"Longley, Miss. Gretchen Fiske\",\"female\",0,0,\"13502\",77.9583,1,1],[636,2,\"Davis, Miss. Mary\",\"female\",0,0,\"237668\",13.0,1,1],[642,1,\"Sagesser, Mlle. Emma\",\"female\",0,0,\"PC 17477\",69.3,2,1],[645,3,\"Baclini, Miss. Eugenie\",\"female\",2,1,\"2666\",19.2583,2,1],[650,3,\"Stanley, Miss. Amy Zillah Elsie\",\"female\",0,0,\"CA. 2314\",7.55,1,1],[652,2,\"Doling, Miss. Elsie\",\"female\",0,1,\"231919\",23.0,1,1],[654,3,\"O'Leary, Miss. Hanora \\\"Norah\\\"\",\"female\",0,0,\"330919\",7.8292,3,1],[670,1,\"Taylor, Mrs. Elmer Zebley (Juliet Cummins Wright)\",\"female\",1,0,\"19996\",52.0,1,1],[671,2,\"Brown, Mrs. Thomas William Solomon (Elizabeth Catherine Ford)\",\"female\",1,1,\"29750\",39.0,1,1],[678,3,\"Turja, Miss. Anna Sofia\",\"female\",0,0,\"4138\",9.8417,1,1],[690,1,\"Madill, Miss. Georgette Alexandra\",\"female\",0,1,\"24160\",211.3375,1,1],[692,3,\"Karun, Miss. Manca\",\"female\",0,1,\"349256\",13.4167,2,1],[698,3,\"Mullens, Miss. Katherine \\\"Katie\\\"\",\"female\",0,0,\"35852\",7.7333,3,1],[701,1,\"Astor, Mrs. John Jacob (Madeleine Talmadge Force)\",\"female\",1,0,\"PC 17757\",227.525,2,1],[707,2,\"Kelly, Mrs. Florence \\\"Fannie\\\"\",\"female\",0,0,\"223596\",13.5,1,1],[709,1,\"Cleaver, Miss. Alice\",\"female\",0,0,\"113781\",151.55,1,1],[711,1,\"Mayne, Mlle. Berthe Antonine (\\\"Mrs de Villiers\\\")\",\"female\",0,0,\"PC 17482\",49.5042,2,1],[717,1,\"Endres, Miss. Caroline Louise\",\"female\",0,0,\"PC 17757\",227.525,2,1],[718,2,\"Troutt, Miss. Edwina Celia \\\"Winnie\\\"\",\"female\",0,0,\"34218\",10.5,1,1],[721,2,\"Harper, Miss. Annie Jessie \\\"Nina\\\"\",\"female\",0,1,\"248727\",33.0,1,1],[727,2,\"Renouf, Mrs. Peter Henry (Lillian Jefferys)\",\"female\",3,0,\"31027\",21.0,1,1],[728,3,\"Mannion, Miss. Margareth\",\"female\",0,0,\"36866\",7.7375,3,1],[731,1,\"Allen, Miss. Elisabeth Walton\",\"female\",0,0,\"24160\",211.3375,1,1],[743,1,\"Ryerson, Miss. Susan Parker \\\"Suzette\\\"\",\"female\",2,2,\"PC 17608\",262.375,2,1],[748,2,\"Sinkkonen, Miss. Anna\",\"female\",0,0,\"250648\",13.0,1,1],[751,2,\"Wells, Miss. Joan\",\"female\",1,1,\"29103\",23.0,1,1],[755,2,\"Herman, Mrs. Samuel (Jane Laver)\",\"female\",1,2,\"220845\",65.0,1,1],[760,1,\"Rothes, the Countess. of (Lucy Noel Martha Dyer-Edwards)\",\"female\",0,0,\"110152\",86.5,1,1],[764,1,\"Carter, Mrs. William Ernest (Lucile Polk)\",\"female\",1,2,\"113760\",120.0,1,1],[766,1,\"Hogeboom, Mrs. John C (Anna Andrews)\",\"female\",1,0,\"13502\",77.9583,1,1],[775,2,\"Hocking, Mrs. Elizabeth (Eliza Needs)\",\"female\",1,3,\"29105\",23.0,1,1],[778,3,\"Emanuel, Miss. Virginia Ethel\",\"female\",0,0,\"364516\",12.475,1,1],[780,1,\"Robert, Mrs. Edward Scott (Elisabeth Walton McMillan)\",\"female\",0,1,\"24160\",211.3375,1,1],[781,3,\"Ayoub, Miss. Banoura\",\"female\",0,0,\"2687\",7.2292,2,1],[782,1,\"Dick, Mrs. Albert Adrian (Vera Gillespie)\",\"female\",1,0,\"17474\",57.0,1,1],[787,3,\"Sjoblom, Miss. Anna Sofia\",\"female\",0,0,\"3101265\",7.4958,1,1],[797,1,\"Leader, Dr. Alice (Farnham)\",\"female\",0,0,\"17465\",25.9292,1,1],[798,3,\"Osman, Mrs. Mara\",\"female\",0,0,\"349244\",8.6833,1,1],[802,2,\"Collyer, Mrs. Harvey (Charlotte Annie Tate)\",\"female\",1,1,\"C.A. 31921\",26.25,1,1],[810,1,\"Chambers, Mrs. Norman Campbell (Bertha Griggs)\",\"female\",1,0,\"113806\",53.1,1,1],[821,1,\"Hays, Mrs. Charles Melville (Clara Jennings Gregg)\",\"female\",1,1,\"12749\",93.5,1,1],[824,3,\"Moor, Mrs. (Beila)\",\"female\",0,1,\"392096\",12.475,1,1],[830,1,\"Stone, Mrs. George Nelson (Martha Evelyn)\",\"female\",0,0,\"113572\",80.0,1,1],[831,3,\"Yasbeck, Mrs. Antoni (Selini Alexander)\",\"female\",1,0,\"2659\",14.4542,2,1],[836,1,\"Compton, Miss. Sara Rebecca\",\"female\",1,1,\"PC 17756\",83.1583,2,1],[843,1,\"Serepeca, Miss. Augusta\",\"female\",0,0,\"113798\",31.0,2,1],[850,1,\"Goldenberg, Mrs. Samuel L (Edwiga Grabowska)\",\"female\",1,0,\"17453\",89.1042,2,1],[854,1,\"Lines, Miss. Mary Conover\",\"female\",0,1,\"PC 17592\",39.4,1,1],[856,3,\"Aks, Mrs. Sam (Leah Rosen)\",\"female\",0,1,\"392091\",9.35,1,1],[857,1,\"Wick, Mrs. George Dennick (Mary Hitchcock)\",\"female\",1,1,\"36928\",164.8667,1,1],[859,3,\"Baclini, Mrs. Solomon (Latifa Qurban)\",\"female\",0,3,\"2666\",19.2583,2,1],[863,1,\"Swift, Mrs. Frederick Joel (Margaret Welles Barron)\",\"female\",0,0,\"17466\",25.9292,1,1],[866,2,\"Bystrom, Mrs. (Karolina)\",\"female\",0,0,\"236852\",13.0,1,1],[867,2,\"Duran y More, Miss. Asuncion\",\"female\",1,0,\"SC/PARIS 2149\",13.8583,2,1],[872,1,\"Beckwith, Mrs. Richard Leonard (Sallie Monypeny)\",\"female\",1,1,\"11751\",52.5542,1,1],[875,2,\"Abelson, Mrs. Samuel (Hannah Wizosky)\",\"female\",1,0,\"P/PP 3381\",24.0,2,1],[876,3,\"Najib, Miss. Adele Kiamie \\\"Jane\\\"\",\"female\",0,0,\"2667\",7.225,2,1],[880,1,\"Potter, Mrs. Thomas Jr (Lily Alexenia Wilson)\",\"female\",0,1,\"11767\",83.1583,2,1],[881,2,\"Shelley, Mrs. William (Imanita Parrish Hall)\",\"female\",0,1,\"230433\",26.0,1,1],[888,1,\"Graham, Miss. Margaret Edith\",\"female\",0,0,\"112053\",30.0,1,1]],\"hovertemplate\":\"Sex=%{customdata[3]}<br>Survived=%{x}<br>Age=%{y}<br>PassengerId=%{customdata[0]}<br>Pclass=%{customdata[1]}<br>Name=%{customdata[2]}<br>SibSp=%{customdata[4]}<br>Parch=%{customdata[5]}<br>Ticket=%{customdata[6]}<br>Fare=%{customdata[7]}<br>Embarked=%{customdata[8]}<br>sex_num=%{customdata[9]}<extra></extra>\",\"legendgroup\":\"female\",\"marker\":{\"color\":\"#636efa\"},\"name\":\"female\",\"offsetgroup\":\"female\",\"orientation\":\"v\",\"points\":\"all\",\"scalegroup\":\"True\",\"showlegend\":true,\"x\":[1,1,1,1,1,1,1,1,1,1,1,1,1,1,1,1,1,1,1,1,1,1,1,1,1,1,1,1,1,1,1,1,1,1,1,1,1,1,1,1,1,1,1,1,1,1,1,1,1,1,1,1,1,1,1,1,1,1,1,1,1,1,1,1,1,1,1,1,1,1,1,1,1,1,1,1,1,1,1,1,1,1,1,1,1,1,1,1,1,1,1,1,1,1,1,1,1,1,1,1,1,1,1,1,1,1,1,1,1,1,1,1,1,1,1,1,1,1,1,1,1,1,1,1,1,1,1,1,1,1,1,1,1,1,1,1,1,1,1,1,1,1,1,1,1,1,1,1,1,1,1,1,1,1,1,1,1,1,1,1,1,1,1,1,1,1,1,1,1,1,1,1,1,1,1,1,1,1,1,1,1,1,1,1,1,1,1,1,1,1,1,1,1,1,1,1,1,1,1,1,1,1,1,1,1,1,1,1,1,1,1,1,1,1,1,1,1,1,1,1,1,1,1,1,1,1,1,1,1,1,1,1,1],\"x0\":\" \",\"xaxis\":\"x\",\"y\":[38.0,26.0,35.0,27.0,14.0,4.0,58.0,55.0,29.69911764705882,15.0,38.0,29.69911764705882,29.69911764705882,29.69911764705882,14.0,3.0,19.0,29.69911764705882,49.0,29.0,21.0,5.0,38.0,29.0,17.0,30.0,29.69911764705882,17.0,33.0,23.0,34.0,21.0,29.69911764705882,32.5,29.69911764705882,29.0,19.0,22.0,24.0,22.0,16.0,40.0,29.69911764705882,1.0,4.0,29.69911764705882,32.0,19.0,44.0,58.0,29.69911764705882,16.0,35.0,31.0,27.0,32.0,35.0,5.0,8.0,29.69911764705882,24.0,29.0,29.69911764705882,30.0,35.0,50.0,58.0,35.0,41.0,29.69911764705882,63.0,35.0,22.0,26.0,19.0,50.0,29.69911764705882,29.69911764705882,29.69911764705882,17.0,30.0,24.0,18.0,26.0,24.0,31.0,40.0,30.0,22.0,36.0,36.0,31.0,16.0,29.69911764705882,29.69911764705882,41.0,24.0,24.0,40.0,29.69911764705882,22.0,29.69911764705882,29.69911764705882,60.0,29.69911764705882,29.69911764705882,24.0,29.69911764705882,22.0,42.0,1.0,35.0,36.0,17.0,23.0,24.0,28.0,33.0,34.0,18.0,28.0,19.0,29.69911764705882,42.0,14.0,24.0,45.0,28.0,13.0,5.0,29.69911764705882,50.0,0.75,33.0,23.0,2.0,63.0,35.0,54.0,16.0,33.0,54.0,34.0,36.0,30.0,44.0,50.0,2.0,29.69911764705882,7.0,30.0,22.0,36.0,19.0,22.0,48.0,39.0,36.0,53.0,29.69911764705882,34.0,39.0,25.0,39.0,18.0,52.0,29.69911764705882,24.0,22.0,40.0,29.69911764705882,24.0,4.0,21.0,28.0,24.0,0.75,23.0,18.0,29.69911764705882,29.69911764705882,40.0,18.0,15.0,4.0,29.69911764705882,18.0,45.0,22.0,24.0,38.0,27.0,6.0,30.0,29.69911764705882,29.0,21.0,30.0,4.0,48.0,33.0,36.0,51.0,54.0,5.0,43.0,13.0,17.0,18.0,49.0,31.0,31.0,33.0,52.0,27.0,62.0,15.0,39.0,30.0,29.69911764705882,16.0,18.0,45.0,24.0,48.0,42.0,27.0,47.0,28.0,15.0,56.0,25.0,19.0],\"y0\":\" \",\"yaxis\":\"y\",\"type\":\"violin\"},{\"alignmentgroup\":\"True\",\"box\":{\"visible\":true},\"customdata\":[[18,2,\"Williams, Mr. Charles Eugene\",\"male\",0,0,\"244373\",13.0,1,2],[22,2,\"Beesley, Mr. Lawrence\",\"male\",0,0,\"248698\",13.0,1,2],[24,1,\"Sloper, Mr. William Thompson\",\"male\",0,0,\"113788\",35.5,1,2],[37,3,\"Mamee, Mr. Hanna\",\"male\",0,0,\"2677\",7.2292,2,2],[56,1,\"Woolner, Mr. Hugh\",\"male\",0,0,\"19947\",35.5,1,2],[66,3,\"Moubarek, Master. Gerios\",\"male\",1,1,\"2661\",15.2458,2,2],[75,3,\"Bing, Mr. Lee\",\"male\",0,0,\"1601\",56.4958,1,2],[79,2,\"Caldwell, Master. Alden Gates\",\"male\",0,2,\"248738\",29.0,1,2],[82,3,\"Sheerlinck, Mr. Jan Baptist\",\"male\",0,0,\"345779\",9.5,1,2],[98,1,\"Greenfield, Mr. William Bertram\",\"male\",0,1,\"PC 17759\",63.3583,2,2],[108,3,\"Moss, Mr. Albert Johan\",\"male\",0,0,\"312991\",7.775,1,2],[126,3,\"Nicola-Yarred, Master. Elias\",\"male\",1,0,\"2651\",11.2417,2,2],[128,3,\"Madsen, Mr. Fridtjof Arne\",\"male\",0,0,\"C 17369\",7.1417,1,2],[147,3,\"Andersson, Mr. August Edvard (\\\"Wennerstrom\\\")\",\"male\",0,0,\"350043\",7.7958,1,2],[166,3,\"Goldsmith, Master. Frank John William \\\"Frankie\\\"\",\"male\",0,2,\"363291\",20.525,1,2],[184,2,\"Becker, Master. Richard F\",\"male\",2,1,\"230136\",39.0,1,2],[188,1,\"Romaine, Mr. Charles Hallace (\\\"Mr C Rolmane\\\")\",\"male\",0,0,\"111428\",26.55,1,2],[194,2,\"Navratil, Master. Michel M\",\"male\",1,1,\"230080\",26.0,1,2],[205,3,\"Cohen, Mr. Gurshon \\\"Gus\\\"\",\"male\",0,0,\"A/5 3540\",8.05,1,2],[208,3,\"Albimona, Mr. Nassef Cassem\",\"male\",0,0,\"2699\",18.7875,2,2],[210,1,\"Blank, Mr. Henry\",\"male\",0,0,\"112277\",31.0,2,2],[221,3,\"Sunderland, Mr. Victor Francis\",\"male\",0,0,\"SOTON/OQ 392089\",8.05,1,2],[225,1,\"Hoyt, Mr. Frederick Maxfield\",\"male\",1,0,\"19943\",90.0,1,2],[227,2,\"Mellors, Mr. William John\",\"male\",0,0,\"SW/PP 751\",10.5,1,2],[249,1,\"Beckwith, Mr. Richard Leonard\",\"male\",1,1,\"11751\",52.5542,1,2],[262,3,\"Asplund, Master. Edvin Rojj Felix\",\"male\",4,2,\"347077\",31.3875,1,2],[268,3,\"Persson, Mr. Ernst Ulrik\",\"male\",1,0,\"347083\",7.775,1,2],[272,3,\"Tornquist, Mr. William Henry\",\"male\",0,0,\"LINE\",0.0,1,2],[284,3,\"Dorking, Mr. Edward Arthur\",\"male\",0,0,\"A/5. 10482\",8.05,1,2],[287,3,\"de Mulder, Mr. Theodore\",\"male\",0,0,\"345774\",9.5,1,2],[289,2,\"Hosono, Mr. Masabumi\",\"male\",0,0,\"237798\",13.0,1,2],[299,1,\"Saalfeld, Mr. Adolphe\",\"male\",0,0,\"19988\",30.5,1,2],[302,3,\"McCoy, Mr. Bernard\",\"male\",2,0,\"367226\",23.25,3,2],[306,1,\"Allison, Master. Hudson Trevor\",\"male\",1,2,\"113781\",151.55,1,2],[339,3,\"Dahl, Mr. Karl Edwart\",\"male\",0,0,\"7598\",8.05,1,2],[341,2,\"Navratil, Master. Edmond Roger\",\"male\",1,1,\"230080\",26.0,1,2],[349,3,\"Coutts, Master. William Loch \\\"William\\\"\",\"male\",1,1,\"C.A. 37671\",15.9,1,2],[371,1,\"Harder, Mr. George Achilles\",\"male\",1,0,\"11765\",55.4417,2,2],[391,1,\"Carter, Mr. William Ernest\",\"male\",1,2,\"113760\",120.0,1,2],[392,3,\"Jansson, Mr. Carl Olof\",\"male\",0,0,\"350034\",7.7958,1,2],[401,3,\"Niskanen, Mr. Juha\",\"male\",0,0,\"STON/O 2. 3101289\",7.925,1,2],[408,2,\"Richards, Master. William Rowe\",\"male\",1,1,\"29106\",18.75,1,2],[415,3,\"Sundman, Mr. Johan Julian\",\"male\",0,0,\"STON/O 2. 3101269\",7.925,1,2],[430,3,\"Pickard, Mr. Berk (Berk Trembisky)\",\"male\",0,0,\"SOTON/O.Q. 392078\",8.05,1,2],[431,1,\"Bjornstrom-Steffansson, Mr. Mauritz Hakan\",\"male\",0,0,\"110564\",26.55,1,2],[445,3,\"Johannesen-Bratthammer, Mr. Bernt\",\"male\",0,0,\"65306\",8.1125,1,2],[446,1,\"Dodge, Master. Washington\",\"male\",0,2,\"33638\",81.8583,1,2],[448,1,\"Seward, Mr. Frederic Kimber\",\"male\",0,0,\"113794\",26.55,1,2],[450,1,\"Peuchen, Major. Arthur Godfrey\",\"male\",0,0,\"113786\",30.5,1,2],[454,1,\"Goldenberg, Mr. Samuel L\",\"male\",1,0,\"17453\",89.1042,2,2],[456,3,\"Jalsevac, Mr. Ivan\",\"male\",0,0,\"349240\",7.8958,2,2],[461,1,\"Anderson, Mr. Harry\",\"male\",0,0,\"19952\",26.55,1,2],[485,1,\"Bishop, Mr. Dickinson H\",\"male\",1,0,\"11967\",91.0792,2,2],[490,3,\"Coutts, Master. Eden Leslie \\\"Neville\\\"\",\"male\",1,1,\"C.A. 37671\",15.9,1,2],[508,1,\"Bradley, Mr. George (\\\"George Arthur Brayton\\\")\",\"male\",0,0,\"111427\",26.55,1,2],[510,3,\"Lang, Mr. Fang\",\"male\",0,0,\"1601\",56.4958,1,2],[511,3,\"Daly, Mr. Eugene Patrick\",\"male\",0,0,\"382651\",7.75,3,2],[513,1,\"McGough, Mr. James Robert\",\"male\",0,0,\"PC 17473\",26.2875,1,2],[544,2,\"Beane, Mr. Edward\",\"male\",1,0,\"2908\",26.0,1,2],[548,2,\"Padro y Manent, Mr. Julian\",\"male\",0,0,\"SC/PARIS 2146\",13.8625,2,2],[550,2,\"Davies, Master. John Morgan Jr\",\"male\",1,1,\"C.A. 33112\",36.75,1,2],[551,1,\"Thayer, Mr. John Borland Jr\",\"male\",0,2,\"17421\",110.8833,2,2],[554,3,\"Leeni, Mr. Fahim (\\\"Philip Zenni\\\")\",\"male\",0,0,\"2620\",7.225,2,2],[570,3,\"Jonsson, Mr. Carl\",\"male\",0,0,\"350417\",7.8542,1,2],[571,2,\"Harris, Mr. George\",\"male\",0,0,\"S.W./PP 752\",10.5,1,2],[573,1,\"Flynn, Mr. John Irwin (\\\"Irving\\\")\",\"male\",0,0,\"PC 17474\",26.3875,1,2],[580,3,\"Jussila, Mr. Eiriik\",\"male\",0,0,\"STON/O 2. 3101286\",7.925,1,2],[588,1,\"Frolicher-Stehli, Mr. Maxmillian\",\"male\",1,1,\"13567\",79.2,2,2],[600,1,\"Duff Gordon, Sir. Cosmo Edmund (\\\"Mr Morgan\\\")\",\"male\",1,0,\"PC 17485\",56.9292,2,2],[605,1,\"Homer, Mr. Harry (\\\"Mr E Haven\\\")\",\"male\",0,0,\"111426\",26.55,2,2],[608,1,\"Daniel, Mr. Robert Williams\",\"male\",0,0,\"113804\",30.5,1,2],[622,1,\"Kimball, Mr. Edwin Nelson Jr\",\"male\",1,0,\"11753\",52.5542,1,2],[623,3,\"Nakid, Mr. Sahid\",\"male\",1,1,\"2653\",15.7417,2,2],[631,1,\"Barkworth, Mr. Algernon Henry Wilson\",\"male\",0,0,\"27042\",30.0,1,2],[633,1,\"Stahelin-Maeglin, Dr. Max\",\"male\",0,0,\"13214\",30.5,2,2],[644,3,\"Foo, Mr. Choong\",\"male\",0,0,\"1601\",56.4958,1,2],[646,1,\"Harper, Mr. Henry Sleeper\",\"male\",1,0,\"PC 17572\",76.7292,2,2],[648,1,\"Simonius-Blumer, Col. Oberst Alfons\",\"male\",0,0,\"13213\",35.5,2,2],[661,1,\"Frauenthal, Dr. Henry William\",\"male\",2,0,\"PC 17611\",133.65,1,2],[665,3,\"Lindqvist, Mr. Eino William\",\"male\",1,0,\"STON/O 2. 3101285\",7.925,1,2],[674,2,\"Wilhelms, Mr. Charles\",\"male\",0,0,\"244270\",13.0,1,2],[680,1,\"Cardeza, Mr. Thomas Drake Martinez\",\"male\",0,1,\"PC 17755\",512.3292,2,2],[682,1,\"Hassab, Mr. Hammad\",\"male\",0,0,\"PC 17572\",76.7292,2,2],[691,1,\"Dick, Mr. Albert Adrian\",\"male\",1,0,\"17474\",57.0,1,2],[693,3,\"Lam, Mr. Ali\",\"male\",0,0,\"1601\",56.4958,1,2],[702,1,\"Silverthorne, Mr. Spencer Victor\",\"male\",0,0,\"PC 17475\",26.2875,1,2],[708,1,\"Calderhead, Mr. Edward Pennington\",\"male\",0,0,\"PC 17476\",26.2875,1,2],[710,3,\"Moubarek, Master. Halim Gonios (\\\"William George\\\")\",\"male\",1,1,\"2661\",15.2458,2,2],[713,1,\"Taylor, Mr. Elmer Zebley\",\"male\",1,0,\"19996\",52.0,1,2],[725,1,\"Chambers, Mr. Norman Campbell\",\"male\",1,0,\"113806\",53.1,1,2],[738,1,\"Lesurer, Mr. Gustave J\",\"male\",0,0,\"PC 17755\",512.3292,2,2],[741,1,\"Hawksford, Mr. Walter James\",\"male\",0,0,\"16988\",30.0,1,2],[745,3,\"Stranden, Mr. Juho\",\"male\",0,0,\"STON/O 2. 3101288\",7.925,1,2],[752,3,\"Moor, Master. Meier\",\"male\",0,1,\"392096\",12.475,1,2],[756,2,\"Hamalainen, Master. Viljo\",\"male\",1,1,\"250649\",14.5,1,2],[763,3,\"Barah, Mr. Hanna Assi\",\"male\",0,0,\"2663\",7.2292,2,2],[789,3,\"Dean, Master. Bertram Vere\",\"male\",1,2,\"C.A. 2315\",20.575,1,2],[803,1,\"Carter, Master. William Thornton II\",\"male\",1,2,\"113760\",120.0,1,2],[804,3,\"Thomas, Master. Assad Alexander\",\"male\",0,1,\"2625\",8.5167,2,2],[805,3,\"Hedman, Mr. Oskar Arvid\",\"male\",0,0,\"347089\",6.975,1,2],[822,3,\"Lulic, Mr. Nikola\",\"male\",0,0,\"315098\",8.6625,1,2],[828,2,\"Mallet, Master. Andre\",\"male\",0,2,\"S.C./PARIS 2079\",37.0042,2,2],[829,3,\"McCormack, Mr. Thomas Joseph\",\"male\",0,0,\"367228\",7.75,3,2],[832,2,\"Richards, Master. George Sibley\",\"male\",1,1,\"29106\",18.75,1,2],[839,3,\"Chip, Mr. Chang\",\"male\",0,0,\"1601\",56.4958,1,2],[840,1,\"Marechal, Mr. Pierre\",\"male\",0,0,\"11774\",29.7,2,2],[858,1,\"Daly, Mr. Peter Denis \",\"male\",0,0,\"113055\",26.55,1,2],[870,3,\"Johnson, Master. Harold Theodor\",\"male\",1,1,\"347742\",11.1333,1,2],[890,1,\"Behr, Mr. Karl Howell\",\"male\",0,0,\"111369\",30.0,2,2]],\"hovertemplate\":\"Sex=%{customdata[3]}<br>Survived=%{x}<br>Age=%{y}<br>PassengerId=%{customdata[0]}<br>Pclass=%{customdata[1]}<br>Name=%{customdata[2]}<br>SibSp=%{customdata[4]}<br>Parch=%{customdata[5]}<br>Ticket=%{customdata[6]}<br>Fare=%{customdata[7]}<br>Embarked=%{customdata[8]}<br>sex_num=%{customdata[9]}<extra></extra>\",\"legendgroup\":\"male\",\"marker\":{\"color\":\"#EF553B\"},\"name\":\"male\",\"offsetgroup\":\"male\",\"orientation\":\"v\",\"points\":\"all\",\"scalegroup\":\"True\",\"showlegend\":true,\"x\":[1,1,1,1,1,1,1,1,1,1,1,1,1,1,1,1,1,1,1,1,1,1,1,1,1,1,1,1,1,1,1,1,1,1,1,1,1,1,1,1,1,1,1,1,1,1,1,1,1,1,1,1,1,1,1,1,1,1,1,1,1,1,1,1,1,1,1,1,1,1,1,1,1,1,1,1,1,1,1,1,1,1,1,1,1,1,1,1,1,1,1,1,1,1,1,1,1,1,1,1,1,1,1,1,1,1,1,1,1],\"x0\":\" \",\"xaxis\":\"x\",\"y\":[29.69911764705882,34.0,28.0,29.69911764705882,29.69911764705882,29.69911764705882,32.0,0.83,29.0,23.0,29.69911764705882,12.0,24.0,27.0,9.0,1.0,45.0,3.0,18.0,26.0,40.0,16.0,38.0,19.0,37.0,3.0,25.0,25.0,19.0,30.0,42.0,29.69911764705882,29.69911764705882,0.92,45.0,2.0,3.0,25.0,36.0,21.0,39.0,3.0,44.0,32.0,28.0,29.69911764705882,4.0,34.0,52.0,49.0,29.0,48.0,25.0,9.0,29.69911764705882,26.0,29.0,36.0,32.0,29.69911764705882,8.0,17.0,22.0,32.0,62.0,36.0,32.0,60.0,49.0,35.0,27.0,42.0,20.0,80.0,32.0,29.69911764705882,48.0,56.0,50.0,20.0,31.0,36.0,27.0,31.0,29.69911764705882,35.0,42.0,29.69911764705882,48.0,27.0,35.0,29.69911764705882,31.0,6.0,0.67,20.0,1.0,11.0,0.42,27.0,27.0,1.0,29.69911764705882,0.83,32.0,29.69911764705882,51.0,4.0,26.0],\"y0\":\" \",\"yaxis\":\"y\",\"type\":\"violin\"}],                        {\"template\":{\"data\":{\"bar\":[{\"error_x\":{\"color\":\"#2a3f5f\"},\"error_y\":{\"color\":\"#2a3f5f\"},\"marker\":{\"line\":{\"color\":\"#E5ECF6\",\"width\":0.5},\"pattern\":{\"fillmode\":\"overlay\",\"size\":10,\"solidity\":0.2}},\"type\":\"bar\"}],\"barpolar\":[{\"marker\":{\"line\":{\"color\":\"#E5ECF6\",\"width\":0.5},\"pattern\":{\"fillmode\":\"overlay\",\"size\":10,\"solidity\":0.2}},\"type\":\"barpolar\"}],\"carpet\":[{\"aaxis\":{\"endlinecolor\":\"#2a3f5f\",\"gridcolor\":\"white\",\"linecolor\":\"white\",\"minorgridcolor\":\"white\",\"startlinecolor\":\"#2a3f5f\"},\"baxis\":{\"endlinecolor\":\"#2a3f5f\",\"gridcolor\":\"white\",\"linecolor\":\"white\",\"minorgridcolor\":\"white\",\"startlinecolor\":\"#2a3f5f\"},\"type\":\"carpet\"}],\"choropleth\":[{\"colorbar\":{\"outlinewidth\":0,\"ticks\":\"\"},\"type\":\"choropleth\"}],\"contour\":[{\"colorbar\":{\"outlinewidth\":0,\"ticks\":\"\"},\"colorscale\":[[0.0,\"#0d0887\"],[0.1111111111111111,\"#46039f\"],[0.2222222222222222,\"#7201a8\"],[0.3333333333333333,\"#9c179e\"],[0.4444444444444444,\"#bd3786\"],[0.5555555555555556,\"#d8576b\"],[0.6666666666666666,\"#ed7953\"],[0.7777777777777778,\"#fb9f3a\"],[0.8888888888888888,\"#fdca26\"],[1.0,\"#f0f921\"]],\"type\":\"contour\"}],\"contourcarpet\":[{\"colorbar\":{\"outlinewidth\":0,\"ticks\":\"\"},\"type\":\"contourcarpet\"}],\"heatmap\":[{\"colorbar\":{\"outlinewidth\":0,\"ticks\":\"\"},\"colorscale\":[[0.0,\"#0d0887\"],[0.1111111111111111,\"#46039f\"],[0.2222222222222222,\"#7201a8\"],[0.3333333333333333,\"#9c179e\"],[0.4444444444444444,\"#bd3786\"],[0.5555555555555556,\"#d8576b\"],[0.6666666666666666,\"#ed7953\"],[0.7777777777777778,\"#fb9f3a\"],[0.8888888888888888,\"#fdca26\"],[1.0,\"#f0f921\"]],\"type\":\"heatmap\"}],\"heatmapgl\":[{\"colorbar\":{\"outlinewidth\":0,\"ticks\":\"\"},\"colorscale\":[[0.0,\"#0d0887\"],[0.1111111111111111,\"#46039f\"],[0.2222222222222222,\"#7201a8\"],[0.3333333333333333,\"#9c179e\"],[0.4444444444444444,\"#bd3786\"],[0.5555555555555556,\"#d8576b\"],[0.6666666666666666,\"#ed7953\"],[0.7777777777777778,\"#fb9f3a\"],[0.8888888888888888,\"#fdca26\"],[1.0,\"#f0f921\"]],\"type\":\"heatmapgl\"}],\"histogram\":[{\"marker\":{\"pattern\":{\"fillmode\":\"overlay\",\"size\":10,\"solidity\":0.2}},\"type\":\"histogram\"}],\"histogram2d\":[{\"colorbar\":{\"outlinewidth\":0,\"ticks\":\"\"},\"colorscale\":[[0.0,\"#0d0887\"],[0.1111111111111111,\"#46039f\"],[0.2222222222222222,\"#7201a8\"],[0.3333333333333333,\"#9c179e\"],[0.4444444444444444,\"#bd3786\"],[0.5555555555555556,\"#d8576b\"],[0.6666666666666666,\"#ed7953\"],[0.7777777777777778,\"#fb9f3a\"],[0.8888888888888888,\"#fdca26\"],[1.0,\"#f0f921\"]],\"type\":\"histogram2d\"}],\"histogram2dcontour\":[{\"colorbar\":{\"outlinewidth\":0,\"ticks\":\"\"},\"colorscale\":[[0.0,\"#0d0887\"],[0.1111111111111111,\"#46039f\"],[0.2222222222222222,\"#7201a8\"],[0.3333333333333333,\"#9c179e\"],[0.4444444444444444,\"#bd3786\"],[0.5555555555555556,\"#d8576b\"],[0.6666666666666666,\"#ed7953\"],[0.7777777777777778,\"#fb9f3a\"],[0.8888888888888888,\"#fdca26\"],[1.0,\"#f0f921\"]],\"type\":\"histogram2dcontour\"}],\"mesh3d\":[{\"colorbar\":{\"outlinewidth\":0,\"ticks\":\"\"},\"type\":\"mesh3d\"}],\"parcoords\":[{\"line\":{\"colorbar\":{\"outlinewidth\":0,\"ticks\":\"\"}},\"type\":\"parcoords\"}],\"pie\":[{\"automargin\":true,\"type\":\"pie\"}],\"scatter\":[{\"marker\":{\"colorbar\":{\"outlinewidth\":0,\"ticks\":\"\"}},\"type\":\"scatter\"}],\"scatter3d\":[{\"line\":{\"colorbar\":{\"outlinewidth\":0,\"ticks\":\"\"}},\"marker\":{\"colorbar\":{\"outlinewidth\":0,\"ticks\":\"\"}},\"type\":\"scatter3d\"}],\"scattercarpet\":[{\"marker\":{\"colorbar\":{\"outlinewidth\":0,\"ticks\":\"\"}},\"type\":\"scattercarpet\"}],\"scattergeo\":[{\"marker\":{\"colorbar\":{\"outlinewidth\":0,\"ticks\":\"\"}},\"type\":\"scattergeo\"}],\"scattergl\":[{\"marker\":{\"colorbar\":{\"outlinewidth\":0,\"ticks\":\"\"}},\"type\":\"scattergl\"}],\"scattermapbox\":[{\"marker\":{\"colorbar\":{\"outlinewidth\":0,\"ticks\":\"\"}},\"type\":\"scattermapbox\"}],\"scatterpolar\":[{\"marker\":{\"colorbar\":{\"outlinewidth\":0,\"ticks\":\"\"}},\"type\":\"scatterpolar\"}],\"scatterpolargl\":[{\"marker\":{\"colorbar\":{\"outlinewidth\":0,\"ticks\":\"\"}},\"type\":\"scatterpolargl\"}],\"scatterternary\":[{\"marker\":{\"colorbar\":{\"outlinewidth\":0,\"ticks\":\"\"}},\"type\":\"scatterternary\"}],\"surface\":[{\"colorbar\":{\"outlinewidth\":0,\"ticks\":\"\"},\"colorscale\":[[0.0,\"#0d0887\"],[0.1111111111111111,\"#46039f\"],[0.2222222222222222,\"#7201a8\"],[0.3333333333333333,\"#9c179e\"],[0.4444444444444444,\"#bd3786\"],[0.5555555555555556,\"#d8576b\"],[0.6666666666666666,\"#ed7953\"],[0.7777777777777778,\"#fb9f3a\"],[0.8888888888888888,\"#fdca26\"],[1.0,\"#f0f921\"]],\"type\":\"surface\"}],\"table\":[{\"cells\":{\"fill\":{\"color\":\"#EBF0F8\"},\"line\":{\"color\":\"white\"}},\"header\":{\"fill\":{\"color\":\"#C8D4E3\"},\"line\":{\"color\":\"white\"}},\"type\":\"table\"}]},\"layout\":{\"annotationdefaults\":{\"arrowcolor\":\"#2a3f5f\",\"arrowhead\":0,\"arrowwidth\":1},\"autotypenumbers\":\"strict\",\"coloraxis\":{\"colorbar\":{\"outlinewidth\":0,\"ticks\":\"\"}},\"colorscale\":{\"diverging\":[[0,\"#8e0152\"],[0.1,\"#c51b7d\"],[0.2,\"#de77ae\"],[0.3,\"#f1b6da\"],[0.4,\"#fde0ef\"],[0.5,\"#f7f7f7\"],[0.6,\"#e6f5d0\"],[0.7,\"#b8e186\"],[0.8,\"#7fbc41\"],[0.9,\"#4d9221\"],[1,\"#276419\"]],\"sequential\":[[0.0,\"#0d0887\"],[0.1111111111111111,\"#46039f\"],[0.2222222222222222,\"#7201a8\"],[0.3333333333333333,\"#9c179e\"],[0.4444444444444444,\"#bd3786\"],[0.5555555555555556,\"#d8576b\"],[0.6666666666666666,\"#ed7953\"],[0.7777777777777778,\"#fb9f3a\"],[0.8888888888888888,\"#fdca26\"],[1.0,\"#f0f921\"]],\"sequentialminus\":[[0.0,\"#0d0887\"],[0.1111111111111111,\"#46039f\"],[0.2222222222222222,\"#7201a8\"],[0.3333333333333333,\"#9c179e\"],[0.4444444444444444,\"#bd3786\"],[0.5555555555555556,\"#d8576b\"],[0.6666666666666666,\"#ed7953\"],[0.7777777777777778,\"#fb9f3a\"],[0.8888888888888888,\"#fdca26\"],[1.0,\"#f0f921\"]]},\"colorway\":[\"#636efa\",\"#EF553B\",\"#00cc96\",\"#ab63fa\",\"#FFA15A\",\"#19d3f3\",\"#FF6692\",\"#B6E880\",\"#FF97FF\",\"#FECB52\"],\"font\":{\"color\":\"#2a3f5f\"},\"geo\":{\"bgcolor\":\"white\",\"lakecolor\":\"white\",\"landcolor\":\"#E5ECF6\",\"showlakes\":true,\"showland\":true,\"subunitcolor\":\"white\"},\"hoverlabel\":{\"align\":\"left\"},\"hovermode\":\"closest\",\"mapbox\":{\"style\":\"light\"},\"paper_bgcolor\":\"white\",\"plot_bgcolor\":\"#E5ECF6\",\"polar\":{\"angularaxis\":{\"gridcolor\":\"white\",\"linecolor\":\"white\",\"ticks\":\"\"},\"bgcolor\":\"#E5ECF6\",\"radialaxis\":{\"gridcolor\":\"white\",\"linecolor\":\"white\",\"ticks\":\"\"}},\"scene\":{\"xaxis\":{\"backgroundcolor\":\"#E5ECF6\",\"gridcolor\":\"white\",\"gridwidth\":2,\"linecolor\":\"white\",\"showbackground\":true,\"ticks\":\"\",\"zerolinecolor\":\"white\"},\"yaxis\":{\"backgroundcolor\":\"#E5ECF6\",\"gridcolor\":\"white\",\"gridwidth\":2,\"linecolor\":\"white\",\"showbackground\":true,\"ticks\":\"\",\"zerolinecolor\":\"white\"},\"zaxis\":{\"backgroundcolor\":\"#E5ECF6\",\"gridcolor\":\"white\",\"gridwidth\":2,\"linecolor\":\"white\",\"showbackground\":true,\"ticks\":\"\",\"zerolinecolor\":\"white\"}},\"shapedefaults\":{\"line\":{\"color\":\"#2a3f5f\"}},\"ternary\":{\"aaxis\":{\"gridcolor\":\"white\",\"linecolor\":\"white\",\"ticks\":\"\"},\"baxis\":{\"gridcolor\":\"white\",\"linecolor\":\"white\",\"ticks\":\"\"},\"bgcolor\":\"#E5ECF6\",\"caxis\":{\"gridcolor\":\"white\",\"linecolor\":\"white\",\"ticks\":\"\"}},\"title\":{\"x\":0.05},\"xaxis\":{\"automargin\":true,\"gridcolor\":\"white\",\"linecolor\":\"white\",\"ticks\":\"\",\"title\":{\"standoff\":15},\"zerolinecolor\":\"white\",\"zerolinewidth\":2},\"yaxis\":{\"automargin\":true,\"gridcolor\":\"white\",\"linecolor\":\"white\",\"ticks\":\"\",\"title\":{\"standoff\":15},\"zerolinecolor\":\"white\",\"zerolinewidth\":2}}},\"xaxis\":{\"anchor\":\"y\",\"domain\":[0.0,1.0],\"title\":{\"text\":\"Survived\"}},\"yaxis\":{\"anchor\":\"x\",\"domain\":[0.0,1.0],\"title\":{\"text\":\"Age\"}},\"legend\":{\"title\":{\"text\":\"Sex\"},\"tracegroupgap\":0},\"margin\":{\"t\":60},\"violinmode\":\"group\"},                        {\"responsive\": true}                    ).then(function(){\n",
              "                            \n",
              "var gd = document.getElementById('b676728d-21af-4446-86c3-707a38e39a5c');\n",
              "var x = new MutationObserver(function (mutations, observer) {{\n",
              "        var display = window.getComputedStyle(gd).display;\n",
              "        if (!display || display === 'none') {{\n",
              "            console.log([gd, 'removed!']);\n",
              "            Plotly.purge(gd);\n",
              "            observer.disconnect();\n",
              "        }}\n",
              "}});\n",
              "\n",
              "// Listen for the removal of the full notebook cells\n",
              "var notebookContainer = gd.closest('#notebook-container');\n",
              "if (notebookContainer) {{\n",
              "    x.observe(notebookContainer, {childList: true});\n",
              "}}\n",
              "\n",
              "// Listen for the clearing of the current output cell\n",
              "var outputEl = gd.closest('.output');\n",
              "if (outputEl) {{\n",
              "    x.observe(outputEl, {childList: true});\n",
              "}}\n",
              "\n",
              "                        })                };                            </script>        </div>\n",
              "</body>\n",
              "</html>"
            ]
          },
          "metadata": {},
          "output_type": "display_data"
        }
      ],
      "source": [
        "# # Primera Infancia (0-5 años)\n",
        "# hierarchy(\"Age>=0 & Age<=5 \")\n",
        "# # Infancia (6 - 11 años)\n",
        "# hierarchy(\"Age>=6 & Age<=11 \")\n",
        "# # Adolescencia (12 - 18 años)\n",
        "# hierarchy(\"Age>=12 & Age<=18 \")\n",
        "# # Juventud (14 - 26 años)\n",
        "# hierarchy(\"Age>=14 & Age<=26 \")\n",
        "# # Adultez (27- 59 años)\n",
        "# hierarchy(\"Age>=27 & Age<=59 \")\n",
        "# # Persona Mayor (60 años o mas) envejecimiento y vejez\n",
        "# hierarchy(\"Age<=60\")\n",
        "\n",
        "fig = px.violin(df.query(\"Survived ==1\"), y=\"Age\", x=\"Survived\", color=\"Sex\", box=True, points=\"all\", hover_data=df.columns)\n",
        "fig.show()"
      ]
    },
    {
      "cell_type": "code",
      "execution_count": null,
      "metadata": {
        "colab": {
          "base_uri": "https://localhost:8080/",
          "height": 542
        },
        "id": "07xn_K6kJ5fT",
        "outputId": "b6a4073b-6cdf-4b91-a3ee-8966e54b1a2d"
      },
      "outputs": [
        {
          "data": {
            "text/html": [
              "<html>\n",
              "<head><meta charset=\"utf-8\" /></head>\n",
              "<body>\n",
              "    <div>            <script src=\"https://cdnjs.cloudflare.com/ajax/libs/mathjax/2.7.5/MathJax.js?config=TeX-AMS-MML_SVG\"></script><script type=\"text/javascript\">if (window.MathJax) {MathJax.Hub.Config({SVG: {font: \"STIX-Web\"}});}</script>                <script type=\"text/javascript\">window.PlotlyConfig = {MathJaxConfig: 'local'};</script>\n",
              "        <script src=\"https://cdn.plot.ly/plotly-2.8.3.min.js\"></script>                <div id=\"1e9b4040-bb82-4198-890f-7ed9ccbce09e\" class=\"plotly-graph-div\" style=\"height:525px; width:100%;\"></div>            <script type=\"text/javascript\">                                    window.PLOTLYENV=window.PLOTLYENV || {};                                    if (document.getElementById(\"1e9b4040-bb82-4198-890f-7ed9ccbce09e\")) {                    Plotly.newPlot(                        \"1e9b4040-bb82-4198-890f-7ed9ccbce09e\",                        [{\"hovertemplate\":\"Sex=male<br>Survived=0<br>Age=%{x}<br>probability=%{y}<extra></extra>\",\"legendgroup\":\"male\",\"line\":{\"dash\":\"solid\",\"shape\":\"hv\"},\"marker\":{\"color\":\"#636efa\",\"symbol\":\"circle\"},\"mode\":\"lines\",\"name\":\"male\",\"orientation\":\"v\",\"showlegend\":true,\"x\":[1.0,1.0,2.0,2.0,2.0,4.0,4.0,4.0,7.0,7.0,8.0,9.0,9.0,10.0,11.0,11.0,14.0,14.0,15.0,16.0,16.0,16.0,16.0,16.0,16.0,16.0,16.0,16.0,16.0,17.0,17.0,17.0,17.0,17.0,17.0,18.0,18.0,18.0,18.0,18.0,18.0,18.0,18.0,18.0,18.0,18.0,18.0,19.0,19.0,19.0,19.0,19.0,19.0,19.0,19.0,19.0,19.0,19.0,19.0,19.0,19.0,19.0,19.0,20.0,20.0,20.0,20.0,20.0,20.0,20.0,20.0,20.0,20.0,20.5,21.0,21.0,21.0,21.0,21.0,21.0,21.0,21.0,21.0,21.0,21.0,21.0,21.0,21.0,21.0,21.0,22.0,22.0,22.0,22.0,22.0,22.0,22.0,22.0,22.0,22.0,22.0,22.0,22.0,22.0,23.0,23.0,23.0,23.0,23.0,23.0,23.0,23.0,23.0,23.5,24.0,24.0,24.0,24.0,24.0,24.0,24.0,24.0,24.0,24.0,24.0,24.0,24.0,24.5,25.0,25.0,25.0,25.0,25.0,25.0,25.0,25.0,25.0,25.0,25.0,25.0,25.0,25.0,26.0,26.0,26.0,26.0,26.0,26.0,26.0,26.0,26.0,26.0,27.0,27.0,27.0,27.0,27.0,27.0,28.0,28.0,28.0,28.0,28.0,28.0,28.0,28.0,28.0,28.0,28.0,28.0,28.0,28.0,28.0,28.0,28.5,28.5,29.0,29.0,29.0,29.0,29.0,29.0,29.0,29.0,29.0,29.0,29.69911764705882,29.69911764705882,29.69911764705882,29.69911764705882,29.69911764705882,29.69911764705882,29.69911764705882,29.69911764705882,29.69911764705882,29.69911764705882,29.69911764705882,29.69911764705882,29.69911764705882,29.69911764705882,29.69911764705882,29.69911764705882,29.69911764705882,29.69911764705882,29.69911764705882,29.69911764705882,29.69911764705882,29.69911764705882,29.69911764705882,29.69911764705882,29.69911764705882,29.69911764705882,29.69911764705882,29.69911764705882,29.69911764705882,29.69911764705882,29.69911764705882,29.69911764705882,29.69911764705882,29.69911764705882,29.69911764705882,29.69911764705882,29.69911764705882,29.69911764705882,29.69911764705882,29.69911764705882,29.69911764705882,29.69911764705882,29.69911764705882,29.69911764705882,29.69911764705882,29.69911764705882,29.69911764705882,29.69911764705882,29.69911764705882,29.69911764705882,29.69911764705882,29.69911764705882,29.69911764705882,29.69911764705882,29.69911764705882,29.69911764705882,29.69911764705882,29.69911764705882,29.69911764705882,29.69911764705882,29.69911764705882,29.69911764705882,29.69911764705882,29.69911764705882,29.69911764705882,29.69911764705882,29.69911764705882,29.69911764705882,29.69911764705882,29.69911764705882,29.69911764705882,29.69911764705882,29.69911764705882,29.69911764705882,29.69911764705882,29.69911764705882,29.69911764705882,29.69911764705882,29.69911764705882,29.69911764705882,29.69911764705882,29.69911764705882,29.69911764705882,29.69911764705882,29.69911764705882,29.69911764705882,29.69911764705882,29.69911764705882,29.69911764705882,29.69911764705882,29.69911764705882,29.69911764705882,29.69911764705882,29.69911764705882,29.69911764705882,29.69911764705882,29.69911764705882,29.69911764705882,29.69911764705882,29.69911764705882,29.69911764705882,29.69911764705882,29.69911764705882,29.69911764705882,29.69911764705882,29.69911764705882,29.69911764705882,29.69911764705882,30.0,30.0,30.0,30.0,30.0,30.0,30.0,30.0,30.0,30.0,30.0,30.0,30.0,30.5,31.0,31.0,31.0,31.0,31.0,31.0,31.0,32.0,32.0,32.0,32.0,32.0,32.0,32.0,32.0,32.5,33.0,33.0,33.0,33.0,33.0,33.0,33.0,33.0,33.0,34.0,34.0,34.0,34.0,34.0,34.0,34.0,34.0,34.0,34.5,35.0,35.0,35.0,35.0,35.0,35.0,35.0,36.0,36.0,36.0,36.0,36.0,36.0,36.0,36.0,36.0,36.0,36.0,36.5,37.0,37.0,37.0,37.0,38.0,38.0,38.0,38.0,38.0,39.0,39.0,39.0,39.0,39.0,39.0,39.0,40.0,40.0,40.0,40.0,40.0,40.0,40.5,40.5,41.0,41.0,42.0,42.0,42.0,42.0,42.0,42.0,42.0,43.0,43.0,43.0,44.0,44.0,44.0,44.0,44.0,45.0,45.0,45.0,45.0,45.5,45.5,46.0,46.0,46.0,47.0,47.0,47.0,47.0,47.0,47.0,47.0,48.0,48.0,49.0,49.0,50.0,50.0,50.0,50.0,51.0,51.0,51.0,51.0,51.0,52.0,52.0,52.0,54.0,54.0,54.0,54.0,54.0,55.0,55.5,56.0,56.0,57.0,58.0,58.0,59.0,59.0,60.0,60.0,61.0,61.0,61.0,62.0,62.0,64.0,64.0,65.0,65.0,65.0,66.0,70.0,70.0,70.5,71.0,71.0,74.0],\"xaxis\":\"x\",\"y\":[0.002136752136752137,0.004273504273504274,0.00641025641025641,0.008547008547008548,0.010683760683760684,0.01282051282051282,0.014957264957264958,0.017094017094017096,0.019230769230769232,0.021367521367521368,0.023504273504273504,0.02564102564102564,0.027777777777777776,0.029914529914529916,0.03205128205128205,0.03418803418803419,0.03632478632478633,0.038461538461538464,0.0405982905982906,0.042735042735042736,0.04487179487179487,0.04700854700854701,0.049145299145299144,0.05128205128205128,0.053418803418803416,0.05555555555555555,0.057692307692307696,0.05982905982905983,0.06196581196581197,0.0641025641025641,0.06623931623931624,0.06837606837606838,0.07051282051282051,0.07264957264957266,0.07478632478632478,0.07692307692307693,0.07905982905982906,0.0811965811965812,0.08333333333333333,0.08547008547008547,0.0876068376068376,0.08974358974358974,0.09188034188034189,0.09401709401709402,0.09615384615384616,0.09829059829059829,0.10042735042735043,0.10256410256410256,0.1047008547008547,0.10683760683760683,0.10897435897435898,0.1111111111111111,0.11324786324786325,0.11538461538461539,0.11752136752136752,0.11965811965811966,0.12179487179487179,0.12393162393162394,0.12606837606837606,0.1282051282051282,0.13034188034188035,0.13247863247863248,0.1346153846153846,0.13675213675213677,0.1388888888888889,0.14102564102564102,0.14316239316239315,0.1452991452991453,0.14743589743589744,0.14957264957264957,0.1517094017094017,0.15384615384615385,0.15598290598290598,0.1581196581196581,0.16025641025641027,0.1623931623931624,0.16452991452991453,0.16666666666666666,0.16880341880341881,0.17094017094017094,0.17307692307692307,0.1752136752136752,0.17735042735042736,0.1794871794871795,0.18162393162393162,0.18376068376068377,0.1858974358974359,0.18803418803418803,0.19017094017094016,0.19230769230769232,0.19444444444444445,0.19658119658119658,0.1987179487179487,0.20085470085470086,0.202991452991453,0.20512820512820512,0.20726495726495728,0.2094017094017094,0.21153846153846154,0.21367521367521367,0.21581196581196582,0.21794871794871795,0.22008547008547008,0.2222222222222222,0.22435897435897437,0.2264957264957265,0.22863247863247863,0.23076923076923078,0.2329059829059829,0.23504273504273504,0.23717948717948717,0.23931623931623933,0.24145299145299146,0.24358974358974358,0.24572649572649571,0.24786324786324787,0.25,0.25213675213675213,0.25427350427350426,0.2564102564102564,0.25854700854700857,0.2606837606837607,0.26282051282051283,0.26495726495726496,0.2670940170940171,0.2692307692307692,0.27136752136752135,0.27350427350427353,0.27564102564102566,0.2777777777777778,0.2799145299145299,0.28205128205128205,0.2841880341880342,0.2863247863247863,0.28846153846153844,0.2905982905982906,0.29273504273504275,0.2948717948717949,0.297008547008547,0.29914529914529914,0.30128205128205127,0.3034188034188034,0.3055555555555556,0.3076923076923077,0.30982905982905984,0.31196581196581197,0.3141025641025641,0.3162393162393162,0.31837606837606836,0.32051282051282054,0.32264957264957267,0.3247863247863248,0.3269230769230769,0.32905982905982906,0.3311965811965812,0.3333333333333333,0.33547008547008544,0.33760683760683763,0.33974358974358976,0.3418803418803419,0.344017094017094,0.34615384615384615,0.3482905982905983,0.3504273504273504,0.3525641025641026,0.3547008547008547,0.35683760683760685,0.358974358974359,0.3611111111111111,0.36324786324786323,0.36538461538461536,0.36752136752136755,0.3696581196581197,0.3717948717948718,0.37393162393162394,0.37606837606837606,0.3782051282051282,0.3803418803418803,0.38247863247863245,0.38461538461538464,0.38675213675213677,0.3888888888888889,0.391025641025641,0.39316239316239315,0.3952991452991453,0.3974358974358974,0.3995726495726496,0.4017094017094017,0.40384615384615385,0.405982905982906,0.4081196581196581,0.41025641025641024,0.41239316239316237,0.41452991452991456,0.4166666666666667,0.4188034188034188,0.42094017094017094,0.4230769230769231,0.4252136752136752,0.42735042735042733,0.42948717948717946,0.43162393162393164,0.4337606837606838,0.4358974358974359,0.43803418803418803,0.44017094017094016,0.4423076923076923,0.4444444444444444,0.4465811965811966,0.44871794871794873,0.45085470085470086,0.452991452991453,0.4551282051282051,0.45726495726495725,0.4594017094017094,0.46153846153846156,0.4636752136752137,0.4658119658119658,0.46794871794871795,0.4700854700854701,0.4722222222222222,0.47435897435897434,0.47649572649572647,0.47863247863247865,0.4807692307692308,0.4829059829059829,0.48504273504273504,0.48717948717948717,0.4893162393162393,0.49145299145299143,0.4935897435897436,0.49572649572649574,0.49786324786324787,0.5,0.5021367521367521,0.5042735042735043,0.5064102564102564,0.5085470085470085,0.5106837606837606,0.5128205128205128,0.5149572649572649,0.5170940170940171,0.5192307692307693,0.5213675213675214,0.5235042735042735,0.5256410256410257,0.5277777777777778,0.5299145299145299,0.532051282051282,0.5341880341880342,0.5363247863247863,0.5384615384615384,0.5405982905982906,0.5427350427350427,0.5448717948717948,0.5470085470085471,0.5491452991452992,0.5512820512820513,0.5534188034188035,0.5555555555555556,0.5576923076923077,0.5598290598290598,0.561965811965812,0.5641025641025641,0.5662393162393162,0.5683760683760684,0.5705128205128205,0.5726495726495726,0.5747863247863247,0.5769230769230769,0.5790598290598291,0.5811965811965812,0.5833333333333334,0.5854700854700855,0.5876068376068376,0.5897435897435898,0.5918803418803419,0.594017094017094,0.5961538461538461,0.5982905982905983,0.6004273504273504,0.6025641025641025,0.6047008547008547,0.6068376068376068,0.6089743589743589,0.6111111111111112,0.6132478632478633,0.6153846153846154,0.6175213675213675,0.6196581196581197,0.6217948717948718,0.6239316239316239,0.6260683760683761,0.6282051282051282,0.6303418803418803,0.6324786324786325,0.6346153846153846,0.6367521367521367,0.6388888888888888,0.6410256410256411,0.6431623931623932,0.6452991452991453,0.6474358974358975,0.6495726495726496,0.6517094017094017,0.6538461538461539,0.655982905982906,0.6581196581196581,0.6602564102564102,0.6623931623931624,0.6645299145299145,0.6666666666666666,0.6688034188034188,0.6709401709401709,0.6730769230769231,0.6752136752136753,0.6773504273504274,0.6794871794871795,0.6816239316239316,0.6837606837606838,0.6858974358974359,0.688034188034188,0.6901709401709402,0.6923076923076923,0.6944444444444444,0.6965811965811965,0.6987179487179487,0.7008547008547008,0.7029914529914529,0.7051282051282052,0.7072649572649573,0.7094017094017094,0.7115384615384616,0.7136752136752137,0.7158119658119658,0.717948717948718,0.7200854700854701,0.7222222222222222,0.7243589743589743,0.7264957264957265,0.7286324786324786,0.7307692307692307,0.7329059829059829,0.7350427350427351,0.7371794871794872,0.7393162393162394,0.7414529914529915,0.7435897435897436,0.7457264957264957,0.7478632478632479,0.75,0.7521367521367521,0.7542735042735043,0.7564102564102564,0.7585470085470085,0.7606837606837606,0.7628205128205128,0.7649572649572649,0.7670940170940171,0.7692307692307693,0.7713675213675214,0.7735042735042735,0.7756410256410257,0.7777777777777778,0.7799145299145299,0.782051282051282,0.7841880341880342,0.7863247863247863,0.7884615384615384,0.7905982905982906,0.7927350427350427,0.7948717948717948,0.7970085470085471,0.7991452991452992,0.8012820512820513,0.8034188034188035,0.8055555555555556,0.8076923076923077,0.8098290598290598,0.811965811965812,0.8141025641025641,0.8162393162393162,0.8183760683760684,0.8205128205128205,0.8226495726495726,0.8247863247863247,0.8269230769230769,0.8290598290598291,0.8311965811965812,0.8333333333333334,0.8354700854700855,0.8376068376068376,0.8397435897435898,0.8418803418803419,0.844017094017094,0.8461538461538461,0.8482905982905983,0.8504273504273504,0.8525641025641025,0.8547008547008547,0.8568376068376068,0.8589743589743589,0.8611111111111112,0.8632478632478633,0.8653846153846154,0.8675213675213675,0.8696581196581197,0.8717948717948718,0.8739316239316239,0.8760683760683761,0.8782051282051282,0.8803418803418803,0.8824786324786325,0.8846153846153846,0.8867521367521367,0.8888888888888888,0.8910256410256411,0.8931623931623932,0.8952991452991453,0.8974358974358975,0.8995726495726496,0.9017094017094017,0.9038461538461539,0.905982905982906,0.9081196581196581,0.9102564102564102,0.9123931623931624,0.9145299145299145,0.9166666666666666,0.9188034188034188,0.9209401709401709,0.9230769230769231,0.9252136752136753,0.9273504273504274,0.9294871794871795,0.9316239316239316,0.9337606837606838,0.9358974358974359,0.938034188034188,0.9401709401709402,0.9423076923076923,0.9444444444444444,0.9465811965811965,0.9487179487179487,0.9508547008547008,0.9529914529914529,0.9551282051282052,0.9572649572649573,0.9594017094017094,0.9615384615384616,0.9636752136752137,0.9658119658119658,0.967948717948718,0.9700854700854701,0.9722222222222222,0.9743589743589743,0.9764957264957265,0.9786324786324786,0.9807692307692307,0.9829059829059829,0.9850427350427351,0.9871794871794872,0.9893162393162394,0.9914529914529915,0.9935897435897436,0.9957264957264957,0.9978632478632479,1.0],\"yaxis\":\"y\",\"type\":\"scatter\"},{\"hovertemplate\":\"Sex=female<br>Survived=0<br>Age=%{x}<br>probability=%{y}<extra></extra>\",\"legendgroup\":\"female\",\"line\":{\"dash\":\"solid\",\"shape\":\"hv\"},\"marker\":{\"color\":\"#EF553B\",\"symbol\":\"circle\"},\"mode\":\"lines\",\"name\":\"female\",\"orientation\":\"v\",\"showlegend\":true,\"x\":[2.0,2.0,2.0,2.0,3.0,6.0,8.0,9.0,9.0,9.0,9.0,10.0,11.0,14.0,14.5,16.0,17.0,18.0,18.0,18.0,18.0,18.0,20.0,20.0,21.0,21.0,21.0,22.0,22.0,23.0,24.0,24.0,25.0,25.0,25.0,26.0,26.0,27.0,28.0,28.0,29.0,29.0,29.69911764705882,29.69911764705882,29.69911764705882,29.69911764705882,29.69911764705882,29.69911764705882,29.69911764705882,29.69911764705882,29.69911764705882,29.69911764705882,29.69911764705882,29.69911764705882,29.69911764705882,29.69911764705882,29.69911764705882,29.69911764705882,29.69911764705882,30.0,30.0,30.5,31.0,31.0,32.0,37.0,38.0,39.0,39.0,40.0,41.0,41.0,43.0,44.0,45.0,45.0,45.0,47.0,48.0,50.0,57.0],\"xaxis\":\"x\",\"y\":[0.012345679012345678,0.024691358024691357,0.037037037037037035,0.04938271604938271,0.06172839506172839,0.07407407407407407,0.08641975308641975,0.09876543209876543,0.1111111111111111,0.12345679012345678,0.13580246913580246,0.14814814814814814,0.16049382716049382,0.1728395061728395,0.18518518518518517,0.19753086419753085,0.20987654320987653,0.2222222222222222,0.2345679012345679,0.24691358024691357,0.25925925925925924,0.2716049382716049,0.2839506172839506,0.2962962962962963,0.30864197530864196,0.32098765432098764,0.3333333333333333,0.345679012345679,0.35802469135802467,0.37037037037037035,0.38271604938271603,0.3950617283950617,0.4074074074074074,0.41975308641975306,0.43209876543209874,0.4444444444444444,0.4567901234567901,0.4691358024691358,0.48148148148148145,0.49382716049382713,0.5061728395061729,0.5185185185185185,0.5308641975308642,0.5432098765432098,0.5555555555555556,0.5679012345679012,0.5802469135802469,0.5925925925925926,0.6049382716049383,0.6172839506172839,0.6296296296296297,0.6419753086419753,0.654320987654321,0.6666666666666666,0.6790123456790124,0.691358024691358,0.7037037037037037,0.7160493827160493,0.7283950617283951,0.7407407407407407,0.7530864197530864,0.7654320987654321,0.7777777777777778,0.7901234567901234,0.8024691358024691,0.8148148148148148,0.8271604938271605,0.8395061728395061,0.8518518518518519,0.8641975308641975,0.8765432098765432,0.8888888888888888,0.9012345679012346,0.9135802469135802,0.9259259259259259,0.9382716049382716,0.9506172839506173,0.9629629629629629,0.9753086419753086,0.9876543209876543,1.0],\"yaxis\":\"y\",\"type\":\"scatter\"}],                        {\"template\":{\"data\":{\"bar\":[{\"error_x\":{\"color\":\"#2a3f5f\"},\"error_y\":{\"color\":\"#2a3f5f\"},\"marker\":{\"line\":{\"color\":\"#E5ECF6\",\"width\":0.5},\"pattern\":{\"fillmode\":\"overlay\",\"size\":10,\"solidity\":0.2}},\"type\":\"bar\"}],\"barpolar\":[{\"marker\":{\"line\":{\"color\":\"#E5ECF6\",\"width\":0.5},\"pattern\":{\"fillmode\":\"overlay\",\"size\":10,\"solidity\":0.2}},\"type\":\"barpolar\"}],\"carpet\":[{\"aaxis\":{\"endlinecolor\":\"#2a3f5f\",\"gridcolor\":\"white\",\"linecolor\":\"white\",\"minorgridcolor\":\"white\",\"startlinecolor\":\"#2a3f5f\"},\"baxis\":{\"endlinecolor\":\"#2a3f5f\",\"gridcolor\":\"white\",\"linecolor\":\"white\",\"minorgridcolor\":\"white\",\"startlinecolor\":\"#2a3f5f\"},\"type\":\"carpet\"}],\"choropleth\":[{\"colorbar\":{\"outlinewidth\":0,\"ticks\":\"\"},\"type\":\"choropleth\"}],\"contour\":[{\"colorbar\":{\"outlinewidth\":0,\"ticks\":\"\"},\"colorscale\":[[0.0,\"#0d0887\"],[0.1111111111111111,\"#46039f\"],[0.2222222222222222,\"#7201a8\"],[0.3333333333333333,\"#9c179e\"],[0.4444444444444444,\"#bd3786\"],[0.5555555555555556,\"#d8576b\"],[0.6666666666666666,\"#ed7953\"],[0.7777777777777778,\"#fb9f3a\"],[0.8888888888888888,\"#fdca26\"],[1.0,\"#f0f921\"]],\"type\":\"contour\"}],\"contourcarpet\":[{\"colorbar\":{\"outlinewidth\":0,\"ticks\":\"\"},\"type\":\"contourcarpet\"}],\"heatmap\":[{\"colorbar\":{\"outlinewidth\":0,\"ticks\":\"\"},\"colorscale\":[[0.0,\"#0d0887\"],[0.1111111111111111,\"#46039f\"],[0.2222222222222222,\"#7201a8\"],[0.3333333333333333,\"#9c179e\"],[0.4444444444444444,\"#bd3786\"],[0.5555555555555556,\"#d8576b\"],[0.6666666666666666,\"#ed7953\"],[0.7777777777777778,\"#fb9f3a\"],[0.8888888888888888,\"#fdca26\"],[1.0,\"#f0f921\"]],\"type\":\"heatmap\"}],\"heatmapgl\":[{\"colorbar\":{\"outlinewidth\":0,\"ticks\":\"\"},\"colorscale\":[[0.0,\"#0d0887\"],[0.1111111111111111,\"#46039f\"],[0.2222222222222222,\"#7201a8\"],[0.3333333333333333,\"#9c179e\"],[0.4444444444444444,\"#bd3786\"],[0.5555555555555556,\"#d8576b\"],[0.6666666666666666,\"#ed7953\"],[0.7777777777777778,\"#fb9f3a\"],[0.8888888888888888,\"#fdca26\"],[1.0,\"#f0f921\"]],\"type\":\"heatmapgl\"}],\"histogram\":[{\"marker\":{\"pattern\":{\"fillmode\":\"overlay\",\"size\":10,\"solidity\":0.2}},\"type\":\"histogram\"}],\"histogram2d\":[{\"colorbar\":{\"outlinewidth\":0,\"ticks\":\"\"},\"colorscale\":[[0.0,\"#0d0887\"],[0.1111111111111111,\"#46039f\"],[0.2222222222222222,\"#7201a8\"],[0.3333333333333333,\"#9c179e\"],[0.4444444444444444,\"#bd3786\"],[0.5555555555555556,\"#d8576b\"],[0.6666666666666666,\"#ed7953\"],[0.7777777777777778,\"#fb9f3a\"],[0.8888888888888888,\"#fdca26\"],[1.0,\"#f0f921\"]],\"type\":\"histogram2d\"}],\"histogram2dcontour\":[{\"colorbar\":{\"outlinewidth\":0,\"ticks\":\"\"},\"colorscale\":[[0.0,\"#0d0887\"],[0.1111111111111111,\"#46039f\"],[0.2222222222222222,\"#7201a8\"],[0.3333333333333333,\"#9c179e\"],[0.4444444444444444,\"#bd3786\"],[0.5555555555555556,\"#d8576b\"],[0.6666666666666666,\"#ed7953\"],[0.7777777777777778,\"#fb9f3a\"],[0.8888888888888888,\"#fdca26\"],[1.0,\"#f0f921\"]],\"type\":\"histogram2dcontour\"}],\"mesh3d\":[{\"colorbar\":{\"outlinewidth\":0,\"ticks\":\"\"},\"type\":\"mesh3d\"}],\"parcoords\":[{\"line\":{\"colorbar\":{\"outlinewidth\":0,\"ticks\":\"\"}},\"type\":\"parcoords\"}],\"pie\":[{\"automargin\":true,\"type\":\"pie\"}],\"scatter\":[{\"marker\":{\"colorbar\":{\"outlinewidth\":0,\"ticks\":\"\"}},\"type\":\"scatter\"}],\"scatter3d\":[{\"line\":{\"colorbar\":{\"outlinewidth\":0,\"ticks\":\"\"}},\"marker\":{\"colorbar\":{\"outlinewidth\":0,\"ticks\":\"\"}},\"type\":\"scatter3d\"}],\"scattercarpet\":[{\"marker\":{\"colorbar\":{\"outlinewidth\":0,\"ticks\":\"\"}},\"type\":\"scattercarpet\"}],\"scattergeo\":[{\"marker\":{\"colorbar\":{\"outlinewidth\":0,\"ticks\":\"\"}},\"type\":\"scattergeo\"}],\"scattergl\":[{\"marker\":{\"colorbar\":{\"outlinewidth\":0,\"ticks\":\"\"}},\"type\":\"scattergl\"}],\"scattermapbox\":[{\"marker\":{\"colorbar\":{\"outlinewidth\":0,\"ticks\":\"\"}},\"type\":\"scattermapbox\"}],\"scatterpolar\":[{\"marker\":{\"colorbar\":{\"outlinewidth\":0,\"ticks\":\"\"}},\"type\":\"scatterpolar\"}],\"scatterpolargl\":[{\"marker\":{\"colorbar\":{\"outlinewidth\":0,\"ticks\":\"\"}},\"type\":\"scatterpolargl\"}],\"scatterternary\":[{\"marker\":{\"colorbar\":{\"outlinewidth\":0,\"ticks\":\"\"}},\"type\":\"scatterternary\"}],\"surface\":[{\"colorbar\":{\"outlinewidth\":0,\"ticks\":\"\"},\"colorscale\":[[0.0,\"#0d0887\"],[0.1111111111111111,\"#46039f\"],[0.2222222222222222,\"#7201a8\"],[0.3333333333333333,\"#9c179e\"],[0.4444444444444444,\"#bd3786\"],[0.5555555555555556,\"#d8576b\"],[0.6666666666666666,\"#ed7953\"],[0.7777777777777778,\"#fb9f3a\"],[0.8888888888888888,\"#fdca26\"],[1.0,\"#f0f921\"]],\"type\":\"surface\"}],\"table\":[{\"cells\":{\"fill\":{\"color\":\"#EBF0F8\"},\"line\":{\"color\":\"white\"}},\"header\":{\"fill\":{\"color\":\"#C8D4E3\"},\"line\":{\"color\":\"white\"}},\"type\":\"table\"}]},\"layout\":{\"annotationdefaults\":{\"arrowcolor\":\"#2a3f5f\",\"arrowhead\":0,\"arrowwidth\":1},\"autotypenumbers\":\"strict\",\"coloraxis\":{\"colorbar\":{\"outlinewidth\":0,\"ticks\":\"\"}},\"colorscale\":{\"diverging\":[[0,\"#8e0152\"],[0.1,\"#c51b7d\"],[0.2,\"#de77ae\"],[0.3,\"#f1b6da\"],[0.4,\"#fde0ef\"],[0.5,\"#f7f7f7\"],[0.6,\"#e6f5d0\"],[0.7,\"#b8e186\"],[0.8,\"#7fbc41\"],[0.9,\"#4d9221\"],[1,\"#276419\"]],\"sequential\":[[0.0,\"#0d0887\"],[0.1111111111111111,\"#46039f\"],[0.2222222222222222,\"#7201a8\"],[0.3333333333333333,\"#9c179e\"],[0.4444444444444444,\"#bd3786\"],[0.5555555555555556,\"#d8576b\"],[0.6666666666666666,\"#ed7953\"],[0.7777777777777778,\"#fb9f3a\"],[0.8888888888888888,\"#fdca26\"],[1.0,\"#f0f921\"]],\"sequentialminus\":[[0.0,\"#0d0887\"],[0.1111111111111111,\"#46039f\"],[0.2222222222222222,\"#7201a8\"],[0.3333333333333333,\"#9c179e\"],[0.4444444444444444,\"#bd3786\"],[0.5555555555555556,\"#d8576b\"],[0.6666666666666666,\"#ed7953\"],[0.7777777777777778,\"#fb9f3a\"],[0.8888888888888888,\"#fdca26\"],[1.0,\"#f0f921\"]]},\"colorway\":[\"#636efa\",\"#EF553B\",\"#00cc96\",\"#ab63fa\",\"#FFA15A\",\"#19d3f3\",\"#FF6692\",\"#B6E880\",\"#FF97FF\",\"#FECB52\"],\"font\":{\"color\":\"#2a3f5f\"},\"geo\":{\"bgcolor\":\"white\",\"lakecolor\":\"white\",\"landcolor\":\"#E5ECF6\",\"showlakes\":true,\"showland\":true,\"subunitcolor\":\"white\"},\"hoverlabel\":{\"align\":\"left\"},\"hovermode\":\"closest\",\"mapbox\":{\"style\":\"light\"},\"paper_bgcolor\":\"white\",\"plot_bgcolor\":\"#E5ECF6\",\"polar\":{\"angularaxis\":{\"gridcolor\":\"white\",\"linecolor\":\"white\",\"ticks\":\"\"},\"bgcolor\":\"#E5ECF6\",\"radialaxis\":{\"gridcolor\":\"white\",\"linecolor\":\"white\",\"ticks\":\"\"}},\"scene\":{\"xaxis\":{\"backgroundcolor\":\"#E5ECF6\",\"gridcolor\":\"white\",\"gridwidth\":2,\"linecolor\":\"white\",\"showbackground\":true,\"ticks\":\"\",\"zerolinecolor\":\"white\"},\"yaxis\":{\"backgroundcolor\":\"#E5ECF6\",\"gridcolor\":\"white\",\"gridwidth\":2,\"linecolor\":\"white\",\"showbackground\":true,\"ticks\":\"\",\"zerolinecolor\":\"white\"},\"zaxis\":{\"backgroundcolor\":\"#E5ECF6\",\"gridcolor\":\"white\",\"gridwidth\":2,\"linecolor\":\"white\",\"showbackground\":true,\"ticks\":\"\",\"zerolinecolor\":\"white\"}},\"shapedefaults\":{\"line\":{\"color\":\"#2a3f5f\"}},\"ternary\":{\"aaxis\":{\"gridcolor\":\"white\",\"linecolor\":\"white\",\"ticks\":\"\"},\"baxis\":{\"gridcolor\":\"white\",\"linecolor\":\"white\",\"ticks\":\"\"},\"bgcolor\":\"#E5ECF6\",\"caxis\":{\"gridcolor\":\"white\",\"linecolor\":\"white\",\"ticks\":\"\"}},\"title\":{\"x\":0.05},\"xaxis\":{\"automargin\":true,\"gridcolor\":\"white\",\"linecolor\":\"white\",\"ticks\":\"\",\"title\":{\"standoff\":15},\"zerolinecolor\":\"white\",\"zerolinewidth\":2},\"yaxis\":{\"automargin\":true,\"gridcolor\":\"white\",\"linecolor\":\"white\",\"ticks\":\"\",\"title\":{\"standoff\":15},\"zerolinecolor\":\"white\",\"zerolinewidth\":2}}},\"xaxis\":{\"anchor\":\"y\",\"domain\":[0.0,1.0],\"title\":{\"text\":\"Age\"}},\"yaxis\":{\"anchor\":\"x\",\"domain\":[0.0,1.0],\"title\":{\"text\":\"probability\"},\"rangemode\":\"tozero\"},\"legend\":{\"title\":{\"text\":\"Sex\"},\"tracegroupgap\":0},\"margin\":{\"t\":60},\"updatemenus\":[{\"buttons\":[{\"args\":[null,{\"frame\":{\"duration\":500,\"redraw\":false},\"mode\":\"immediate\",\"fromcurrent\":true,\"transition\":{\"duration\":500,\"easing\":\"linear\"}}],\"label\":\"&#9654;\",\"method\":\"animate\"},{\"args\":[[null],{\"frame\":{\"duration\":0,\"redraw\":false},\"mode\":\"immediate\",\"fromcurrent\":true,\"transition\":{\"duration\":0,\"easing\":\"linear\"}}],\"label\":\"&#9724;\",\"method\":\"animate\"}],\"direction\":\"left\",\"pad\":{\"r\":10,\"t\":70},\"showactive\":false,\"type\":\"buttons\",\"x\":0.1,\"xanchor\":\"right\",\"y\":0,\"yanchor\":\"top\"}],\"sliders\":[{\"active\":0,\"currentvalue\":{\"prefix\":\"Survived=\"},\"len\":0.9,\"pad\":{\"b\":10,\"t\":60},\"steps\":[{\"args\":[[\"0\"],{\"frame\":{\"duration\":0,\"redraw\":false},\"mode\":\"immediate\",\"fromcurrent\":true,\"transition\":{\"duration\":0,\"easing\":\"linear\"}}],\"label\":\"0\",\"method\":\"animate\"},{\"args\":[[\"1\"],{\"frame\":{\"duration\":0,\"redraw\":false},\"mode\":\"immediate\",\"fromcurrent\":true,\"transition\":{\"duration\":0,\"easing\":\"linear\"}}],\"label\":\"1\",\"method\":\"animate\"}],\"x\":0.1,\"xanchor\":\"left\",\"y\":0,\"yanchor\":\"top\"}]},                        {\"responsive\": true}                    ).then(function(){\n",
              "                            Plotly.addFrames('1e9b4040-bb82-4198-890f-7ed9ccbce09e', [{\"data\":[{\"hovertemplate\":\"Sex=male<br>Survived=0<br>Age=%{x}<br>probability=%{y}<extra></extra>\",\"legendgroup\":\"male\",\"line\":{\"dash\":\"solid\",\"shape\":\"hv\"},\"marker\":{\"color\":\"#636efa\",\"symbol\":\"circle\"},\"mode\":\"lines\",\"name\":\"male\",\"orientation\":\"v\",\"showlegend\":true,\"x\":[1.0,1.0,2.0,2.0,2.0,4.0,4.0,4.0,7.0,7.0,8.0,9.0,9.0,10.0,11.0,11.0,14.0,14.0,15.0,16.0,16.0,16.0,16.0,16.0,16.0,16.0,16.0,16.0,16.0,17.0,17.0,17.0,17.0,17.0,17.0,18.0,18.0,18.0,18.0,18.0,18.0,18.0,18.0,18.0,18.0,18.0,18.0,19.0,19.0,19.0,19.0,19.0,19.0,19.0,19.0,19.0,19.0,19.0,19.0,19.0,19.0,19.0,19.0,20.0,20.0,20.0,20.0,20.0,20.0,20.0,20.0,20.0,20.0,20.5,21.0,21.0,21.0,21.0,21.0,21.0,21.0,21.0,21.0,21.0,21.0,21.0,21.0,21.0,21.0,21.0,22.0,22.0,22.0,22.0,22.0,22.0,22.0,22.0,22.0,22.0,22.0,22.0,22.0,22.0,23.0,23.0,23.0,23.0,23.0,23.0,23.0,23.0,23.0,23.5,24.0,24.0,24.0,24.0,24.0,24.0,24.0,24.0,24.0,24.0,24.0,24.0,24.0,24.5,25.0,25.0,25.0,25.0,25.0,25.0,25.0,25.0,25.0,25.0,25.0,25.0,25.0,25.0,26.0,26.0,26.0,26.0,26.0,26.0,26.0,26.0,26.0,26.0,27.0,27.0,27.0,27.0,27.0,27.0,28.0,28.0,28.0,28.0,28.0,28.0,28.0,28.0,28.0,28.0,28.0,28.0,28.0,28.0,28.0,28.0,28.5,28.5,29.0,29.0,29.0,29.0,29.0,29.0,29.0,29.0,29.0,29.0,29.69911764705882,29.69911764705882,29.69911764705882,29.69911764705882,29.69911764705882,29.69911764705882,29.69911764705882,29.69911764705882,29.69911764705882,29.69911764705882,29.69911764705882,29.69911764705882,29.69911764705882,29.69911764705882,29.69911764705882,29.69911764705882,29.69911764705882,29.69911764705882,29.69911764705882,29.69911764705882,29.69911764705882,29.69911764705882,29.69911764705882,29.69911764705882,29.69911764705882,29.69911764705882,29.69911764705882,29.69911764705882,29.69911764705882,29.69911764705882,29.69911764705882,29.69911764705882,29.69911764705882,29.69911764705882,29.69911764705882,29.69911764705882,29.69911764705882,29.69911764705882,29.69911764705882,29.69911764705882,29.69911764705882,29.69911764705882,29.69911764705882,29.69911764705882,29.69911764705882,29.69911764705882,29.69911764705882,29.69911764705882,29.69911764705882,29.69911764705882,29.69911764705882,29.69911764705882,29.69911764705882,29.69911764705882,29.69911764705882,29.69911764705882,29.69911764705882,29.69911764705882,29.69911764705882,29.69911764705882,29.69911764705882,29.69911764705882,29.69911764705882,29.69911764705882,29.69911764705882,29.69911764705882,29.69911764705882,29.69911764705882,29.69911764705882,29.69911764705882,29.69911764705882,29.69911764705882,29.69911764705882,29.69911764705882,29.69911764705882,29.69911764705882,29.69911764705882,29.69911764705882,29.69911764705882,29.69911764705882,29.69911764705882,29.69911764705882,29.69911764705882,29.69911764705882,29.69911764705882,29.69911764705882,29.69911764705882,29.69911764705882,29.69911764705882,29.69911764705882,29.69911764705882,29.69911764705882,29.69911764705882,29.69911764705882,29.69911764705882,29.69911764705882,29.69911764705882,29.69911764705882,29.69911764705882,29.69911764705882,29.69911764705882,29.69911764705882,29.69911764705882,29.69911764705882,29.69911764705882,29.69911764705882,29.69911764705882,29.69911764705882,30.0,30.0,30.0,30.0,30.0,30.0,30.0,30.0,30.0,30.0,30.0,30.0,30.0,30.5,31.0,31.0,31.0,31.0,31.0,31.0,31.0,32.0,32.0,32.0,32.0,32.0,32.0,32.0,32.0,32.5,33.0,33.0,33.0,33.0,33.0,33.0,33.0,33.0,33.0,34.0,34.0,34.0,34.0,34.0,34.0,34.0,34.0,34.0,34.5,35.0,35.0,35.0,35.0,35.0,35.0,35.0,36.0,36.0,36.0,36.0,36.0,36.0,36.0,36.0,36.0,36.0,36.0,36.5,37.0,37.0,37.0,37.0,38.0,38.0,38.0,38.0,38.0,39.0,39.0,39.0,39.0,39.0,39.0,39.0,40.0,40.0,40.0,40.0,40.0,40.0,40.5,40.5,41.0,41.0,42.0,42.0,42.0,42.0,42.0,42.0,42.0,43.0,43.0,43.0,44.0,44.0,44.0,44.0,44.0,45.0,45.0,45.0,45.0,45.5,45.5,46.0,46.0,46.0,47.0,47.0,47.0,47.0,47.0,47.0,47.0,48.0,48.0,49.0,49.0,50.0,50.0,50.0,50.0,51.0,51.0,51.0,51.0,51.0,52.0,52.0,52.0,54.0,54.0,54.0,54.0,54.0,55.0,55.5,56.0,56.0,57.0,58.0,58.0,59.0,59.0,60.0,60.0,61.0,61.0,61.0,62.0,62.0,64.0,64.0,65.0,65.0,65.0,66.0,70.0,70.0,70.5,71.0,71.0,74.0],\"xaxis\":\"x\",\"y\":[0.002136752136752137,0.004273504273504274,0.00641025641025641,0.008547008547008548,0.010683760683760684,0.01282051282051282,0.014957264957264958,0.017094017094017096,0.019230769230769232,0.021367521367521368,0.023504273504273504,0.02564102564102564,0.027777777777777776,0.029914529914529916,0.03205128205128205,0.03418803418803419,0.03632478632478633,0.038461538461538464,0.0405982905982906,0.042735042735042736,0.04487179487179487,0.04700854700854701,0.049145299145299144,0.05128205128205128,0.053418803418803416,0.05555555555555555,0.057692307692307696,0.05982905982905983,0.06196581196581197,0.0641025641025641,0.06623931623931624,0.06837606837606838,0.07051282051282051,0.07264957264957266,0.07478632478632478,0.07692307692307693,0.07905982905982906,0.0811965811965812,0.08333333333333333,0.08547008547008547,0.0876068376068376,0.08974358974358974,0.09188034188034189,0.09401709401709402,0.09615384615384616,0.09829059829059829,0.10042735042735043,0.10256410256410256,0.1047008547008547,0.10683760683760683,0.10897435897435898,0.1111111111111111,0.11324786324786325,0.11538461538461539,0.11752136752136752,0.11965811965811966,0.12179487179487179,0.12393162393162394,0.12606837606837606,0.1282051282051282,0.13034188034188035,0.13247863247863248,0.1346153846153846,0.13675213675213677,0.1388888888888889,0.14102564102564102,0.14316239316239315,0.1452991452991453,0.14743589743589744,0.14957264957264957,0.1517094017094017,0.15384615384615385,0.15598290598290598,0.1581196581196581,0.16025641025641027,0.1623931623931624,0.16452991452991453,0.16666666666666666,0.16880341880341881,0.17094017094017094,0.17307692307692307,0.1752136752136752,0.17735042735042736,0.1794871794871795,0.18162393162393162,0.18376068376068377,0.1858974358974359,0.18803418803418803,0.19017094017094016,0.19230769230769232,0.19444444444444445,0.19658119658119658,0.1987179487179487,0.20085470085470086,0.202991452991453,0.20512820512820512,0.20726495726495728,0.2094017094017094,0.21153846153846154,0.21367521367521367,0.21581196581196582,0.21794871794871795,0.22008547008547008,0.2222222222222222,0.22435897435897437,0.2264957264957265,0.22863247863247863,0.23076923076923078,0.2329059829059829,0.23504273504273504,0.23717948717948717,0.23931623931623933,0.24145299145299146,0.24358974358974358,0.24572649572649571,0.24786324786324787,0.25,0.25213675213675213,0.25427350427350426,0.2564102564102564,0.25854700854700857,0.2606837606837607,0.26282051282051283,0.26495726495726496,0.2670940170940171,0.2692307692307692,0.27136752136752135,0.27350427350427353,0.27564102564102566,0.2777777777777778,0.2799145299145299,0.28205128205128205,0.2841880341880342,0.2863247863247863,0.28846153846153844,0.2905982905982906,0.29273504273504275,0.2948717948717949,0.297008547008547,0.29914529914529914,0.30128205128205127,0.3034188034188034,0.3055555555555556,0.3076923076923077,0.30982905982905984,0.31196581196581197,0.3141025641025641,0.3162393162393162,0.31837606837606836,0.32051282051282054,0.32264957264957267,0.3247863247863248,0.3269230769230769,0.32905982905982906,0.3311965811965812,0.3333333333333333,0.33547008547008544,0.33760683760683763,0.33974358974358976,0.3418803418803419,0.344017094017094,0.34615384615384615,0.3482905982905983,0.3504273504273504,0.3525641025641026,0.3547008547008547,0.35683760683760685,0.358974358974359,0.3611111111111111,0.36324786324786323,0.36538461538461536,0.36752136752136755,0.3696581196581197,0.3717948717948718,0.37393162393162394,0.37606837606837606,0.3782051282051282,0.3803418803418803,0.38247863247863245,0.38461538461538464,0.38675213675213677,0.3888888888888889,0.391025641025641,0.39316239316239315,0.3952991452991453,0.3974358974358974,0.3995726495726496,0.4017094017094017,0.40384615384615385,0.405982905982906,0.4081196581196581,0.41025641025641024,0.41239316239316237,0.41452991452991456,0.4166666666666667,0.4188034188034188,0.42094017094017094,0.4230769230769231,0.4252136752136752,0.42735042735042733,0.42948717948717946,0.43162393162393164,0.4337606837606838,0.4358974358974359,0.43803418803418803,0.44017094017094016,0.4423076923076923,0.4444444444444444,0.4465811965811966,0.44871794871794873,0.45085470085470086,0.452991452991453,0.4551282051282051,0.45726495726495725,0.4594017094017094,0.46153846153846156,0.4636752136752137,0.4658119658119658,0.46794871794871795,0.4700854700854701,0.4722222222222222,0.47435897435897434,0.47649572649572647,0.47863247863247865,0.4807692307692308,0.4829059829059829,0.48504273504273504,0.48717948717948717,0.4893162393162393,0.49145299145299143,0.4935897435897436,0.49572649572649574,0.49786324786324787,0.5,0.5021367521367521,0.5042735042735043,0.5064102564102564,0.5085470085470085,0.5106837606837606,0.5128205128205128,0.5149572649572649,0.5170940170940171,0.5192307692307693,0.5213675213675214,0.5235042735042735,0.5256410256410257,0.5277777777777778,0.5299145299145299,0.532051282051282,0.5341880341880342,0.5363247863247863,0.5384615384615384,0.5405982905982906,0.5427350427350427,0.5448717948717948,0.5470085470085471,0.5491452991452992,0.5512820512820513,0.5534188034188035,0.5555555555555556,0.5576923076923077,0.5598290598290598,0.561965811965812,0.5641025641025641,0.5662393162393162,0.5683760683760684,0.5705128205128205,0.5726495726495726,0.5747863247863247,0.5769230769230769,0.5790598290598291,0.5811965811965812,0.5833333333333334,0.5854700854700855,0.5876068376068376,0.5897435897435898,0.5918803418803419,0.594017094017094,0.5961538461538461,0.5982905982905983,0.6004273504273504,0.6025641025641025,0.6047008547008547,0.6068376068376068,0.6089743589743589,0.6111111111111112,0.6132478632478633,0.6153846153846154,0.6175213675213675,0.6196581196581197,0.6217948717948718,0.6239316239316239,0.6260683760683761,0.6282051282051282,0.6303418803418803,0.6324786324786325,0.6346153846153846,0.6367521367521367,0.6388888888888888,0.6410256410256411,0.6431623931623932,0.6452991452991453,0.6474358974358975,0.6495726495726496,0.6517094017094017,0.6538461538461539,0.655982905982906,0.6581196581196581,0.6602564102564102,0.6623931623931624,0.6645299145299145,0.6666666666666666,0.6688034188034188,0.6709401709401709,0.6730769230769231,0.6752136752136753,0.6773504273504274,0.6794871794871795,0.6816239316239316,0.6837606837606838,0.6858974358974359,0.688034188034188,0.6901709401709402,0.6923076923076923,0.6944444444444444,0.6965811965811965,0.6987179487179487,0.7008547008547008,0.7029914529914529,0.7051282051282052,0.7072649572649573,0.7094017094017094,0.7115384615384616,0.7136752136752137,0.7158119658119658,0.717948717948718,0.7200854700854701,0.7222222222222222,0.7243589743589743,0.7264957264957265,0.7286324786324786,0.7307692307692307,0.7329059829059829,0.7350427350427351,0.7371794871794872,0.7393162393162394,0.7414529914529915,0.7435897435897436,0.7457264957264957,0.7478632478632479,0.75,0.7521367521367521,0.7542735042735043,0.7564102564102564,0.7585470085470085,0.7606837606837606,0.7628205128205128,0.7649572649572649,0.7670940170940171,0.7692307692307693,0.7713675213675214,0.7735042735042735,0.7756410256410257,0.7777777777777778,0.7799145299145299,0.782051282051282,0.7841880341880342,0.7863247863247863,0.7884615384615384,0.7905982905982906,0.7927350427350427,0.7948717948717948,0.7970085470085471,0.7991452991452992,0.8012820512820513,0.8034188034188035,0.8055555555555556,0.8076923076923077,0.8098290598290598,0.811965811965812,0.8141025641025641,0.8162393162393162,0.8183760683760684,0.8205128205128205,0.8226495726495726,0.8247863247863247,0.8269230769230769,0.8290598290598291,0.8311965811965812,0.8333333333333334,0.8354700854700855,0.8376068376068376,0.8397435897435898,0.8418803418803419,0.844017094017094,0.8461538461538461,0.8482905982905983,0.8504273504273504,0.8525641025641025,0.8547008547008547,0.8568376068376068,0.8589743589743589,0.8611111111111112,0.8632478632478633,0.8653846153846154,0.8675213675213675,0.8696581196581197,0.8717948717948718,0.8739316239316239,0.8760683760683761,0.8782051282051282,0.8803418803418803,0.8824786324786325,0.8846153846153846,0.8867521367521367,0.8888888888888888,0.8910256410256411,0.8931623931623932,0.8952991452991453,0.8974358974358975,0.8995726495726496,0.9017094017094017,0.9038461538461539,0.905982905982906,0.9081196581196581,0.9102564102564102,0.9123931623931624,0.9145299145299145,0.9166666666666666,0.9188034188034188,0.9209401709401709,0.9230769230769231,0.9252136752136753,0.9273504273504274,0.9294871794871795,0.9316239316239316,0.9337606837606838,0.9358974358974359,0.938034188034188,0.9401709401709402,0.9423076923076923,0.9444444444444444,0.9465811965811965,0.9487179487179487,0.9508547008547008,0.9529914529914529,0.9551282051282052,0.9572649572649573,0.9594017094017094,0.9615384615384616,0.9636752136752137,0.9658119658119658,0.967948717948718,0.9700854700854701,0.9722222222222222,0.9743589743589743,0.9764957264957265,0.9786324786324786,0.9807692307692307,0.9829059829059829,0.9850427350427351,0.9871794871794872,0.9893162393162394,0.9914529914529915,0.9935897435897436,0.9957264957264957,0.9978632478632479,1.0],\"yaxis\":\"y\",\"type\":\"scatter\"},{\"hovertemplate\":\"Sex=female<br>Survived=0<br>Age=%{x}<br>probability=%{y}<extra></extra>\",\"legendgroup\":\"female\",\"line\":{\"dash\":\"solid\",\"shape\":\"hv\"},\"marker\":{\"color\":\"#EF553B\",\"symbol\":\"circle\"},\"mode\":\"lines\",\"name\":\"female\",\"orientation\":\"v\",\"showlegend\":true,\"x\":[2.0,2.0,2.0,2.0,3.0,6.0,8.0,9.0,9.0,9.0,9.0,10.0,11.0,14.0,14.5,16.0,17.0,18.0,18.0,18.0,18.0,18.0,20.0,20.0,21.0,21.0,21.0,22.0,22.0,23.0,24.0,24.0,25.0,25.0,25.0,26.0,26.0,27.0,28.0,28.0,29.0,29.0,29.69911764705882,29.69911764705882,29.69911764705882,29.69911764705882,29.69911764705882,29.69911764705882,29.69911764705882,29.69911764705882,29.69911764705882,29.69911764705882,29.69911764705882,29.69911764705882,29.69911764705882,29.69911764705882,29.69911764705882,29.69911764705882,29.69911764705882,30.0,30.0,30.5,31.0,31.0,32.0,37.0,38.0,39.0,39.0,40.0,41.0,41.0,43.0,44.0,45.0,45.0,45.0,47.0,48.0,50.0,57.0],\"xaxis\":\"x\",\"y\":[0.012345679012345678,0.024691358024691357,0.037037037037037035,0.04938271604938271,0.06172839506172839,0.07407407407407407,0.08641975308641975,0.09876543209876543,0.1111111111111111,0.12345679012345678,0.13580246913580246,0.14814814814814814,0.16049382716049382,0.1728395061728395,0.18518518518518517,0.19753086419753085,0.20987654320987653,0.2222222222222222,0.2345679012345679,0.24691358024691357,0.25925925925925924,0.2716049382716049,0.2839506172839506,0.2962962962962963,0.30864197530864196,0.32098765432098764,0.3333333333333333,0.345679012345679,0.35802469135802467,0.37037037037037035,0.38271604938271603,0.3950617283950617,0.4074074074074074,0.41975308641975306,0.43209876543209874,0.4444444444444444,0.4567901234567901,0.4691358024691358,0.48148148148148145,0.49382716049382713,0.5061728395061729,0.5185185185185185,0.5308641975308642,0.5432098765432098,0.5555555555555556,0.5679012345679012,0.5802469135802469,0.5925925925925926,0.6049382716049383,0.6172839506172839,0.6296296296296297,0.6419753086419753,0.654320987654321,0.6666666666666666,0.6790123456790124,0.691358024691358,0.7037037037037037,0.7160493827160493,0.7283950617283951,0.7407407407407407,0.7530864197530864,0.7654320987654321,0.7777777777777778,0.7901234567901234,0.8024691358024691,0.8148148148148148,0.8271604938271605,0.8395061728395061,0.8518518518518519,0.8641975308641975,0.8765432098765432,0.8888888888888888,0.9012345679012346,0.9135802469135802,0.9259259259259259,0.9382716049382716,0.9506172839506173,0.9629629629629629,0.9753086419753086,0.9876543209876543,1.0],\"yaxis\":\"y\",\"type\":\"scatter\"}],\"name\":\"0\"},{\"data\":[{\"hovertemplate\":\"Sex=male<br>Survived=1<br>Age=%{x}<br>probability=%{y}<extra></extra>\",\"legendgroup\":\"male\",\"line\":{\"dash\":\"solid\",\"shape\":\"hv\"},\"marker\":{\"color\":\"#636efa\",\"symbol\":\"circle\"},\"mode\":\"lines\",\"name\":\"male\",\"orientation\":\"v\",\"showlegend\":true,\"x\":[0.42,0.67,0.83,0.83,0.92,1.0,1.0,1.0,2.0,3.0,3.0,3.0,3.0,4.0,4.0,6.0,8.0,9.0,9.0,11.0,12.0,16.0,17.0,18.0,19.0,19.0,20.0,20.0,20.0,21.0,22.0,23.0,24.0,25.0,25.0,25.0,25.0,26.0,26.0,26.0,27.0,27.0,27.0,27.0,27.0,27.0,28.0,28.0,29.0,29.0,29.0,29.69911764705882,29.69911764705882,29.69911764705882,29.69911764705882,29.69911764705882,29.69911764705882,29.69911764705882,29.69911764705882,29.69911764705882,29.69911764705882,29.69911764705882,29.69911764705882,29.69911764705882,29.69911764705882,29.69911764705882,29.69911764705882,30.0,31.0,31.0,31.0,32.0,32.0,32.0,32.0,32.0,32.0,32.0,34.0,34.0,35.0,35.0,35.0,36.0,36.0,36.0,36.0,37.0,38.0,39.0,40.0,42.0,42.0,42.0,44.0,45.0,45.0,48.0,48.0,48.0,49.0,49.0,50.0,51.0,52.0,56.0,60.0,62.0,80.0],\"xaxis\":\"x\",\"y\":[0.009174311926605505,0.01834862385321101,0.027522935779816515,0.03669724770642202,0.045871559633027525,0.05504587155963303,0.06422018348623854,0.07339449541284404,0.08256880733944955,0.09174311926605505,0.10091743119266056,0.11009174311926606,0.11926605504587157,0.12844036697247707,0.13761467889908258,0.14678899082568808,0.1559633027522936,0.1651376146788991,0.1743119266055046,0.1834862385321101,0.1926605504587156,0.2018348623853211,0.21100917431192662,0.22018348623853212,0.22935779816513763,0.23853211009174313,0.24770642201834864,0.25688073394495414,0.26605504587155965,0.27522935779816515,0.28440366972477066,0.29357798165137616,0.30275229357798167,0.3119266055045872,0.3211009174311927,0.3302752293577982,0.3394495412844037,0.3486238532110092,0.3577981651376147,0.3669724770642202,0.3761467889908257,0.3853211009174312,0.3944954128440367,0.4036697247706422,0.41284403669724773,0.42201834862385323,0.43119266055045874,0.44036697247706424,0.44954128440366975,0.45871559633027525,0.46788990825688076,0.47706422018348627,0.48623853211009177,0.4954128440366973,0.5045871559633027,0.5137614678899083,0.5229357798165137,0.5321100917431193,0.5412844036697247,0.5504587155963303,0.5596330275229358,0.5688073394495413,0.5779816513761468,0.5871559633027523,0.5963302752293578,0.6055045871559633,0.6146788990825688,0.6238532110091743,0.6330275229357798,0.6422018348623854,0.6513761467889908,0.6605504587155964,0.6697247706422018,0.6788990825688074,0.6880733944954128,0.6972477064220184,0.7064220183486238,0.7155963302752294,0.7247706422018348,0.7339449541284404,0.7431192660550459,0.7522935779816514,0.7614678899082569,0.7706422018348624,0.7798165137614679,0.7889908256880734,0.7981651376146789,0.8073394495412844,0.8165137614678899,0.8256880733944955,0.8348623853211009,0.8440366972477065,0.8532110091743119,0.8623853211009175,0.8715596330275229,0.8807339449541285,0.8899082568807339,0.8990825688073395,0.908256880733945,0.9174311926605505,0.926605504587156,0.9357798165137615,0.944954128440367,0.9541284403669725,0.963302752293578,0.9724770642201835,0.981651376146789,0.9908256880733946,1.0],\"yaxis\":\"y\",\"type\":\"scatter\"},{\"hovertemplate\":\"Sex=female<br>Survived=1<br>Age=%{x}<br>probability=%{y}<extra></extra>\",\"legendgroup\":\"female\",\"line\":{\"dash\":\"solid\",\"shape\":\"hv\"},\"marker\":{\"color\":\"#EF553B\",\"symbol\":\"circle\"},\"mode\":\"lines\",\"name\":\"female\",\"orientation\":\"v\",\"showlegend\":true,\"x\":[0.75,0.75,1.0,1.0,2.0,2.0,3.0,4.0,4.0,4.0,4.0,4.0,5.0,5.0,5.0,5.0,6.0,7.0,8.0,13.0,13.0,14.0,14.0,14.0,15.0,15.0,15.0,15.0,16.0,16.0,16.0,16.0,16.0,17.0,17.0,17.0,17.0,17.0,18.0,18.0,18.0,18.0,18.0,18.0,18.0,18.0,19.0,19.0,19.0,19.0,19.0,19.0,19.0,21.0,21.0,21.0,21.0,22.0,22.0,22.0,22.0,22.0,22.0,22.0,22.0,22.0,22.0,23.0,23.0,23.0,23.0,24.0,24.0,24.0,24.0,24.0,24.0,24.0,24.0,24.0,24.0,24.0,24.0,24.0,24.0,25.0,25.0,26.0,26.0,26.0,27.0,27.0,27.0,27.0,27.0,28.0,28.0,28.0,28.0,28.0,29.0,29.0,29.0,29.0,29.0,29.69911764705882,29.69911764705882,29.69911764705882,29.69911764705882,29.69911764705882,29.69911764705882,29.69911764705882,29.69911764705882,29.69911764705882,29.69911764705882,29.69911764705882,29.69911764705882,29.69911764705882,29.69911764705882,29.69911764705882,29.69911764705882,29.69911764705882,29.69911764705882,29.69911764705882,29.69911764705882,29.69911764705882,29.69911764705882,29.69911764705882,29.69911764705882,29.69911764705882,29.69911764705882,29.69911764705882,29.69911764705882,29.69911764705882,29.69911764705882,29.69911764705882,29.69911764705882,29.69911764705882,29.69911764705882,29.69911764705882,29.69911764705882,30.0,30.0,30.0,30.0,30.0,30.0,30.0,30.0,30.0,31.0,31.0,31.0,31.0,31.0,32.0,32.0,32.5,33.0,33.0,33.0,33.0,33.0,33.0,34.0,34.0,34.0,34.0,35.0,35.0,35.0,35.0,35.0,35.0,35.0,35.0,36.0,36.0,36.0,36.0,36.0,36.0,36.0,38.0,38.0,38.0,38.0,39.0,39.0,39.0,39.0,40.0,40.0,40.0,40.0,40.0,41.0,41.0,42.0,42.0,42.0,43.0,44.0,44.0,45.0,45.0,45.0,47.0,48.0,48.0,48.0,49.0,49.0,50.0,50.0,50.0,50.0,51.0,52.0,52.0,53.0,54.0,54.0,54.0,55.0,56.0,58.0,58.0,58.0,60.0,62.0,63.0,63.0],\"xaxis\":\"x\",\"y\":[0.004291845493562232,0.008583690987124463,0.012875536480686695,0.017167381974248927,0.02145922746781116,0.02575107296137339,0.030042918454935622,0.034334763948497854,0.03862660944206009,0.04291845493562232,0.04721030042918455,0.05150214592274678,0.055793991416309016,0.060085836909871244,0.06437768240343347,0.06866952789699571,0.07296137339055794,0.07725321888412018,0.0815450643776824,0.08583690987124463,0.09012875536480687,0.0944206008583691,0.09871244635193133,0.10300429184549356,0.1072961373390558,0.11158798283261803,0.11587982832618025,0.12017167381974249,0.12446351931330472,0.12875536480686695,0.13304721030042918,0.13733905579399142,0.14163090128755365,0.1459227467811159,0.15021459227467812,0.15450643776824036,0.15879828326180256,0.1630901287553648,0.16738197424892703,0.17167381974248927,0.1759656652360515,0.18025751072961374,0.18454935622317598,0.1888412017167382,0.19313304721030042,0.19742489270386265,0.2017167381974249,0.20600858369098712,0.21030042918454936,0.2145922746781116,0.21888412017167383,0.22317596566523606,0.22746781115879827,0.2317596566523605,0.23605150214592274,0.24034334763948498,0.2446351931330472,0.24892703862660945,0.2532188841201717,0.2575107296137339,0.26180257510729615,0.26609442060085836,0.2703862660944206,0.27467811158798283,0.27896995708154504,0.2832618025751073,0.2875536480686695,0.2918454935622318,0.296137339055794,0.30042918454935624,0.30472103004291845,0.3090128755364807,0.3133047210300429,0.31759656652360513,0.3218884120171674,0.3261802575107296,0.33047210300429186,0.33476394849785407,0.33905579399141633,0.34334763948497854,0.34763948497854075,0.351931330472103,0.3562231759656652,0.3605150214592275,0.3648068669527897,0.36909871244635195,0.37339055793991416,0.3776824034334764,0.38197424892703863,0.38626609442060084,0.3905579399141631,0.3948497854077253,0.39914163090128757,0.4034334763948498,0.40772532188841204,0.41201716738197425,0.41630901287553645,0.4206008583690987,0.4248927038626609,0.4291845493562232,0.4334763948497854,0.43776824034334766,0.44206008583690987,0.44635193133047213,0.45064377682403434,0.45493562231759654,0.4592274678111588,0.463519313304721,0.4678111587982833,0.4721030042918455,0.47639484978540775,0.48068669527896996,0.48497854077253216,0.4892703862660944,0.49356223175965663,0.4978540772532189,0.5021459227467812,0.5064377682403434,0.5107296137339056,0.5150214592274678,0.51931330472103,0.5236051502145923,0.5278969957081545,0.5321888412017167,0.5364806866952789,0.5407725321888412,0.5450643776824035,0.5493562231759657,0.5536480686695279,0.5579399141630901,0.5622317596566524,0.5665236051502146,0.5708154506437768,0.575107296137339,0.5793991416309013,0.5836909871244635,0.5879828326180258,0.592274678111588,0.5965665236051502,0.6008583690987125,0.6051502145922747,0.6094420600858369,0.6137339055793991,0.6180257510729614,0.6223175965665236,0.6266094420600858,0.630901287553648,0.6351931330472103,0.6394849785407726,0.6437768240343348,0.648068669527897,0.6523605150214592,0.6566523605150214,0.6609442060085837,0.6652360515021459,0.6695278969957081,0.6738197424892703,0.6781115879828327,0.6824034334763949,0.6866952789699571,0.6909871244635193,0.6952789699570815,0.6995708154506438,0.703862660944206,0.7081545064377682,0.7124463519313304,0.7167381974248928,0.721030042918455,0.7253218884120172,0.7296137339055794,0.7339055793991416,0.7381974248927039,0.7424892703862661,0.7467811158798283,0.7510729613733905,0.7553648068669528,0.759656652360515,0.7639484978540773,0.7682403433476395,0.7725321888412017,0.776824034334764,0.7811158798283262,0.7854077253218884,0.7896995708154506,0.7939914163090128,0.7982832618025751,0.8025751072961373,0.8068669527896996,0.8111587982832618,0.8154506437768241,0.8197424892703863,0.8240343347639485,0.8283261802575107,0.8326180257510729,0.8369098712446352,0.8412017167381974,0.8454935622317596,0.8497854077253219,0.8540772532188842,0.8583690987124464,0.8626609442060086,0.8669527896995708,0.871244635193133,0.8755364806866953,0.8798283261802575,0.8841201716738197,0.8884120171673819,0.8927038626609443,0.8969957081545065,0.9012875536480687,0.9055793991416309,0.9098712446351931,0.9141630901287554,0.9184549356223176,0.9227467811158798,0.927038626609442,0.9313304721030042,0.9356223175965666,0.9399141630901288,0.944206008583691,0.9484978540772532,0.9527896995708155,0.9570815450643777,0.9613733905579399,0.9656652360515021,0.9699570815450643,0.9742489270386266,0.9785407725321889,0.9828326180257511,0.9871244635193133,0.9914163090128756,0.9957081545064378,1.0],\"yaxis\":\"y\",\"type\":\"scatter\"}],\"name\":\"1\"}]);\n",
              "                        }).then(function(){\n",
              "                            \n",
              "var gd = document.getElementById('1e9b4040-bb82-4198-890f-7ed9ccbce09e');\n",
              "var x = new MutationObserver(function (mutations, observer) {{\n",
              "        var display = window.getComputedStyle(gd).display;\n",
              "        if (!display || display === 'none') {{\n",
              "            console.log([gd, 'removed!']);\n",
              "            Plotly.purge(gd);\n",
              "            observer.disconnect();\n",
              "        }}\n",
              "}});\n",
              "\n",
              "// Listen for the removal of the full notebook cells\n",
              "var notebookContainer = gd.closest('#notebook-container');\n",
              "if (notebookContainer) {{\n",
              "    x.observe(notebookContainer, {childList: true});\n",
              "}}\n",
              "\n",
              "// Listen for the clearing of the current output cell\n",
              "var outputEl = gd.closest('.output');\n",
              "if (outputEl) {{\n",
              "    x.observe(outputEl, {childList: true});\n",
              "}}\n",
              "\n",
              "                        })                };                            </script>        </div>\n",
              "</body>\n",
              "</html>"
            ]
          },
          "metadata": {},
          "output_type": "display_data"
        }
      ],
      "source": [
        "fig = px.ecdf(df, x=\"Age\", color=\"Sex\",animation_frame=\"Survived\")\n",
        "fig.show()"
      ]
    },
    {
      "cell_type": "code",
      "execution_count": null,
      "metadata": {
        "id": "cJV1sx47J5fT"
      },
      "outputs": [],
      "source": [
        "def hierarchy(cond):\n",
        "    inf = df.query(\"(Age>=0 & Age<=12) &\" + cond)\n",
        "    ado = df.query(\"(Age>=12 & Age<=18) &\" + cond)\n",
        "    juv = df.query(\"(Age>=18 & Age<=30) &\"+ cond)\n",
        "    adul = df.query(\"(Age>=30 & Age<=59) &\"+ cond)\n",
        "    may = df.query(\"Age>=60 & \"+ cond)\n",
        "\n",
        "    return [len(inf), len(ado), len(juv), len(adul),len(may)] "
      ]
    },
    {
      "cell_type": "code",
      "execution_count": null,
      "metadata": {
        "colab": {
          "base_uri": "https://localhost:8080/",
          "height": 542
        },
        "id": "h5glX3GlJ5fT",
        "outputId": "0e4c46ef-7a11-4ca0-984f-b30b90b58b9f"
      },
      "outputs": [
        {
          "data": {
            "text/html": [
              "<html>\n",
              "<head><meta charset=\"utf-8\" /></head>\n",
              "<body>\n",
              "    <div>            <script src=\"https://cdnjs.cloudflare.com/ajax/libs/mathjax/2.7.5/MathJax.js?config=TeX-AMS-MML_SVG\"></script><script type=\"text/javascript\">if (window.MathJax) {MathJax.Hub.Config({SVG: {font: \"STIX-Web\"}});}</script>                <script type=\"text/javascript\">window.PlotlyConfig = {MathJaxConfig: 'local'};</script>\n",
              "        <script src=\"https://cdn.plot.ly/plotly-2.8.3.min.js\"></script>                <div id=\"9e9ac446-9c33-44cc-bb6f-4d4e7cda12f5\" class=\"plotly-graph-div\" style=\"height:525px; width:100%;\"></div>            <script type=\"text/javascript\">                                    window.PLOTLYENV=window.PLOTLYENV || {};                                    if (document.getElementById(\"9e9ac446-9c33-44cc-bb6f-4d4e7cda12f5\")) {                    Plotly.newPlot(                        \"9e9ac446-9c33-44cc-bb6f-4d4e7cda12f5\",                        [{\"hovertemplate\":\"Sex=male<br>number=%{x}<br>stage=%{y}<extra></extra>\",\"legendgroup\":\"male\",\"marker\":{\"color\":\"#636efa\"},\"name\":\"male\",\"orientation\":\"h\",\"showlegend\":true,\"x\":[21,4,45,39,3],\"xaxis\":\"x\",\"y\":[\"Infancia\",\"Adolecencia\",\"Juventud\",\"Adultez\",\"Persona Mayor\"],\"yaxis\":\"y\",\"type\":\"funnel\"},{\"hovertemplate\":\"Sex=female<br>number=%{x}<br>stage=%{y}<extra></extra>\",\"legendgroup\":\"female\",\"marker\":{\"color\":\"#EF553B\"},\"name\":\"female\",\"orientation\":\"h\",\"showlegend\":true,\"x\":[19,27,112,88,4],\"xaxis\":\"x\",\"y\":[\"Infancia\",\"Adolecencia\",\"Juventud\",\"Adultez\",\"Persona Mayor\"],\"yaxis\":\"y\",\"type\":\"funnel\"}],                        {\"template\":{\"data\":{\"bar\":[{\"error_x\":{\"color\":\"#2a3f5f\"},\"error_y\":{\"color\":\"#2a3f5f\"},\"marker\":{\"line\":{\"color\":\"#E5ECF6\",\"width\":0.5},\"pattern\":{\"fillmode\":\"overlay\",\"size\":10,\"solidity\":0.2}},\"type\":\"bar\"}],\"barpolar\":[{\"marker\":{\"line\":{\"color\":\"#E5ECF6\",\"width\":0.5},\"pattern\":{\"fillmode\":\"overlay\",\"size\":10,\"solidity\":0.2}},\"type\":\"barpolar\"}],\"carpet\":[{\"aaxis\":{\"endlinecolor\":\"#2a3f5f\",\"gridcolor\":\"white\",\"linecolor\":\"white\",\"minorgridcolor\":\"white\",\"startlinecolor\":\"#2a3f5f\"},\"baxis\":{\"endlinecolor\":\"#2a3f5f\",\"gridcolor\":\"white\",\"linecolor\":\"white\",\"minorgridcolor\":\"white\",\"startlinecolor\":\"#2a3f5f\"},\"type\":\"carpet\"}],\"choropleth\":[{\"colorbar\":{\"outlinewidth\":0,\"ticks\":\"\"},\"type\":\"choropleth\"}],\"contour\":[{\"colorbar\":{\"outlinewidth\":0,\"ticks\":\"\"},\"colorscale\":[[0.0,\"#0d0887\"],[0.1111111111111111,\"#46039f\"],[0.2222222222222222,\"#7201a8\"],[0.3333333333333333,\"#9c179e\"],[0.4444444444444444,\"#bd3786\"],[0.5555555555555556,\"#d8576b\"],[0.6666666666666666,\"#ed7953\"],[0.7777777777777778,\"#fb9f3a\"],[0.8888888888888888,\"#fdca26\"],[1.0,\"#f0f921\"]],\"type\":\"contour\"}],\"contourcarpet\":[{\"colorbar\":{\"outlinewidth\":0,\"ticks\":\"\"},\"type\":\"contourcarpet\"}],\"heatmap\":[{\"colorbar\":{\"outlinewidth\":0,\"ticks\":\"\"},\"colorscale\":[[0.0,\"#0d0887\"],[0.1111111111111111,\"#46039f\"],[0.2222222222222222,\"#7201a8\"],[0.3333333333333333,\"#9c179e\"],[0.4444444444444444,\"#bd3786\"],[0.5555555555555556,\"#d8576b\"],[0.6666666666666666,\"#ed7953\"],[0.7777777777777778,\"#fb9f3a\"],[0.8888888888888888,\"#fdca26\"],[1.0,\"#f0f921\"]],\"type\":\"heatmap\"}],\"heatmapgl\":[{\"colorbar\":{\"outlinewidth\":0,\"ticks\":\"\"},\"colorscale\":[[0.0,\"#0d0887\"],[0.1111111111111111,\"#46039f\"],[0.2222222222222222,\"#7201a8\"],[0.3333333333333333,\"#9c179e\"],[0.4444444444444444,\"#bd3786\"],[0.5555555555555556,\"#d8576b\"],[0.6666666666666666,\"#ed7953\"],[0.7777777777777778,\"#fb9f3a\"],[0.8888888888888888,\"#fdca26\"],[1.0,\"#f0f921\"]],\"type\":\"heatmapgl\"}],\"histogram\":[{\"marker\":{\"pattern\":{\"fillmode\":\"overlay\",\"size\":10,\"solidity\":0.2}},\"type\":\"histogram\"}],\"histogram2d\":[{\"colorbar\":{\"outlinewidth\":0,\"ticks\":\"\"},\"colorscale\":[[0.0,\"#0d0887\"],[0.1111111111111111,\"#46039f\"],[0.2222222222222222,\"#7201a8\"],[0.3333333333333333,\"#9c179e\"],[0.4444444444444444,\"#bd3786\"],[0.5555555555555556,\"#d8576b\"],[0.6666666666666666,\"#ed7953\"],[0.7777777777777778,\"#fb9f3a\"],[0.8888888888888888,\"#fdca26\"],[1.0,\"#f0f921\"]],\"type\":\"histogram2d\"}],\"histogram2dcontour\":[{\"colorbar\":{\"outlinewidth\":0,\"ticks\":\"\"},\"colorscale\":[[0.0,\"#0d0887\"],[0.1111111111111111,\"#46039f\"],[0.2222222222222222,\"#7201a8\"],[0.3333333333333333,\"#9c179e\"],[0.4444444444444444,\"#bd3786\"],[0.5555555555555556,\"#d8576b\"],[0.6666666666666666,\"#ed7953\"],[0.7777777777777778,\"#fb9f3a\"],[0.8888888888888888,\"#fdca26\"],[1.0,\"#f0f921\"]],\"type\":\"histogram2dcontour\"}],\"mesh3d\":[{\"colorbar\":{\"outlinewidth\":0,\"ticks\":\"\"},\"type\":\"mesh3d\"}],\"parcoords\":[{\"line\":{\"colorbar\":{\"outlinewidth\":0,\"ticks\":\"\"}},\"type\":\"parcoords\"}],\"pie\":[{\"automargin\":true,\"type\":\"pie\"}],\"scatter\":[{\"marker\":{\"colorbar\":{\"outlinewidth\":0,\"ticks\":\"\"}},\"type\":\"scatter\"}],\"scatter3d\":[{\"line\":{\"colorbar\":{\"outlinewidth\":0,\"ticks\":\"\"}},\"marker\":{\"colorbar\":{\"outlinewidth\":0,\"ticks\":\"\"}},\"type\":\"scatter3d\"}],\"scattercarpet\":[{\"marker\":{\"colorbar\":{\"outlinewidth\":0,\"ticks\":\"\"}},\"type\":\"scattercarpet\"}],\"scattergeo\":[{\"marker\":{\"colorbar\":{\"outlinewidth\":0,\"ticks\":\"\"}},\"type\":\"scattergeo\"}],\"scattergl\":[{\"marker\":{\"colorbar\":{\"outlinewidth\":0,\"ticks\":\"\"}},\"type\":\"scattergl\"}],\"scattermapbox\":[{\"marker\":{\"colorbar\":{\"outlinewidth\":0,\"ticks\":\"\"}},\"type\":\"scattermapbox\"}],\"scatterpolar\":[{\"marker\":{\"colorbar\":{\"outlinewidth\":0,\"ticks\":\"\"}},\"type\":\"scatterpolar\"}],\"scatterpolargl\":[{\"marker\":{\"colorbar\":{\"outlinewidth\":0,\"ticks\":\"\"}},\"type\":\"scatterpolargl\"}],\"scatterternary\":[{\"marker\":{\"colorbar\":{\"outlinewidth\":0,\"ticks\":\"\"}},\"type\":\"scatterternary\"}],\"surface\":[{\"colorbar\":{\"outlinewidth\":0,\"ticks\":\"\"},\"colorscale\":[[0.0,\"#0d0887\"],[0.1111111111111111,\"#46039f\"],[0.2222222222222222,\"#7201a8\"],[0.3333333333333333,\"#9c179e\"],[0.4444444444444444,\"#bd3786\"],[0.5555555555555556,\"#d8576b\"],[0.6666666666666666,\"#ed7953\"],[0.7777777777777778,\"#fb9f3a\"],[0.8888888888888888,\"#fdca26\"],[1.0,\"#f0f921\"]],\"type\":\"surface\"}],\"table\":[{\"cells\":{\"fill\":{\"color\":\"#EBF0F8\"},\"line\":{\"color\":\"white\"}},\"header\":{\"fill\":{\"color\":\"#C8D4E3\"},\"line\":{\"color\":\"white\"}},\"type\":\"table\"}]},\"layout\":{\"annotationdefaults\":{\"arrowcolor\":\"#2a3f5f\",\"arrowhead\":0,\"arrowwidth\":1},\"autotypenumbers\":\"strict\",\"coloraxis\":{\"colorbar\":{\"outlinewidth\":0,\"ticks\":\"\"}},\"colorscale\":{\"diverging\":[[0,\"#8e0152\"],[0.1,\"#c51b7d\"],[0.2,\"#de77ae\"],[0.3,\"#f1b6da\"],[0.4,\"#fde0ef\"],[0.5,\"#f7f7f7\"],[0.6,\"#e6f5d0\"],[0.7,\"#b8e186\"],[0.8,\"#7fbc41\"],[0.9,\"#4d9221\"],[1,\"#276419\"]],\"sequential\":[[0.0,\"#0d0887\"],[0.1111111111111111,\"#46039f\"],[0.2222222222222222,\"#7201a8\"],[0.3333333333333333,\"#9c179e\"],[0.4444444444444444,\"#bd3786\"],[0.5555555555555556,\"#d8576b\"],[0.6666666666666666,\"#ed7953\"],[0.7777777777777778,\"#fb9f3a\"],[0.8888888888888888,\"#fdca26\"],[1.0,\"#f0f921\"]],\"sequentialminus\":[[0.0,\"#0d0887\"],[0.1111111111111111,\"#46039f\"],[0.2222222222222222,\"#7201a8\"],[0.3333333333333333,\"#9c179e\"],[0.4444444444444444,\"#bd3786\"],[0.5555555555555556,\"#d8576b\"],[0.6666666666666666,\"#ed7953\"],[0.7777777777777778,\"#fb9f3a\"],[0.8888888888888888,\"#fdca26\"],[1.0,\"#f0f921\"]]},\"colorway\":[\"#636efa\",\"#EF553B\",\"#00cc96\",\"#ab63fa\",\"#FFA15A\",\"#19d3f3\",\"#FF6692\",\"#B6E880\",\"#FF97FF\",\"#FECB52\"],\"font\":{\"color\":\"#2a3f5f\"},\"geo\":{\"bgcolor\":\"white\",\"lakecolor\":\"white\",\"landcolor\":\"#E5ECF6\",\"showlakes\":true,\"showland\":true,\"subunitcolor\":\"white\"},\"hoverlabel\":{\"align\":\"left\"},\"hovermode\":\"closest\",\"mapbox\":{\"style\":\"light\"},\"paper_bgcolor\":\"white\",\"plot_bgcolor\":\"#E5ECF6\",\"polar\":{\"angularaxis\":{\"gridcolor\":\"white\",\"linecolor\":\"white\",\"ticks\":\"\"},\"bgcolor\":\"#E5ECF6\",\"radialaxis\":{\"gridcolor\":\"white\",\"linecolor\":\"white\",\"ticks\":\"\"}},\"scene\":{\"xaxis\":{\"backgroundcolor\":\"#E5ECF6\",\"gridcolor\":\"white\",\"gridwidth\":2,\"linecolor\":\"white\",\"showbackground\":true,\"ticks\":\"\",\"zerolinecolor\":\"white\"},\"yaxis\":{\"backgroundcolor\":\"#E5ECF6\",\"gridcolor\":\"white\",\"gridwidth\":2,\"linecolor\":\"white\",\"showbackground\":true,\"ticks\":\"\",\"zerolinecolor\":\"white\"},\"zaxis\":{\"backgroundcolor\":\"#E5ECF6\",\"gridcolor\":\"white\",\"gridwidth\":2,\"linecolor\":\"white\",\"showbackground\":true,\"ticks\":\"\",\"zerolinecolor\":\"white\"}},\"shapedefaults\":{\"line\":{\"color\":\"#2a3f5f\"}},\"ternary\":{\"aaxis\":{\"gridcolor\":\"white\",\"linecolor\":\"white\",\"ticks\":\"\"},\"baxis\":{\"gridcolor\":\"white\",\"linecolor\":\"white\",\"ticks\":\"\"},\"bgcolor\":\"#E5ECF6\",\"caxis\":{\"gridcolor\":\"white\",\"linecolor\":\"white\",\"ticks\":\"\"}},\"title\":{\"x\":0.05},\"xaxis\":{\"automargin\":true,\"gridcolor\":\"white\",\"linecolor\":\"white\",\"ticks\":\"\",\"title\":{\"standoff\":15},\"zerolinecolor\":\"white\",\"zerolinewidth\":2},\"yaxis\":{\"automargin\":true,\"gridcolor\":\"white\",\"linecolor\":\"white\",\"ticks\":\"\",\"title\":{\"standoff\":15},\"zerolinecolor\":\"white\",\"zerolinewidth\":2}}},\"xaxis\":{\"anchor\":\"y\",\"domain\":[0.0,1.0],\"title\":{\"text\":\"number\"}},\"yaxis\":{\"anchor\":\"x\",\"domain\":[0.0,1.0],\"title\":{\"text\":\"stage\"}},\"legend\":{\"title\":{\"text\":\"Sex\"},\"tracegroupgap\":0},\"title\":{\"text\":\"Supervivencia por Fases y Genero\"}},                        {\"responsive\": true}                    ).then(function(){\n",
              "                            \n",
              "var gd = document.getElementById('9e9ac446-9c33-44cc-bb6f-4d4e7cda12f5');\n",
              "var x = new MutationObserver(function (mutations, observer) {{\n",
              "        var display = window.getComputedStyle(gd).display;\n",
              "        if (!display || display === 'none') {{\n",
              "            console.log([gd, 'removed!']);\n",
              "            Plotly.purge(gd);\n",
              "            observer.disconnect();\n",
              "        }}\n",
              "}});\n",
              "\n",
              "// Listen for the removal of the full notebook cells\n",
              "var notebookContainer = gd.closest('#notebook-container');\n",
              "if (notebookContainer) {{\n",
              "    x.observe(notebookContainer, {childList: true});\n",
              "}}\n",
              "\n",
              "// Listen for the clearing of the current output cell\n",
              "var outputEl = gd.closest('.output');\n",
              "if (outputEl) {{\n",
              "    x.observe(outputEl, {childList: true});\n",
              "}}\n",
              "\n",
              "                        })                };                            </script>        </div>\n",
              "</body>\n",
              "</html>"
            ]
          },
          "metadata": {},
          "output_type": "display_data"
        }
      ],
      "source": [
        "stages = [\"Infancia\", \"Adolecencia\", \"Juventud\", \"Adultez\",\"Persona Mayor\"]\n",
        "df_mtl = pd.DataFrame(dict(number=hierarchy(\"Survived == 1 & Sex=='male'\"), stage=stages))\n",
        "df_mtl['Sex'] = 'male'\n",
        "df_toronto = pd.DataFrame(dict(number=hierarchy(\"Survived == 1 & Sex=='female'\"), stage=stages))\n",
        "df_toronto['Sex'] = 'female'\n",
        "df = pd.concat([df_mtl, df_toronto], axis=0)\n",
        "fig = px.funnel(df, x='number', y='stage', color='Sex', title=\"Supervivencia por Fases y Genero\")\n",
        "fig.show()"
      ]
    },
    {
      "cell_type": "code",
      "execution_count": null,
      "metadata": {
        "colab": {
          "base_uri": "https://localhost:8080/",
          "height": 206
        },
        "id": "BJcJzEjCKvFa",
        "outputId": "9216a80b-68a5-4d34-eb32-7f55e15de7af"
      },
      "outputs": [
        {
          "data": {
            "text/html": [
              "\n",
              "  <div id=\"df-15a03567-c6d2-4769-9b4d-109d12c66e80\">\n",
              "    <div class=\"colab-df-container\">\n",
              "      <div>\n",
              "<style scoped>\n",
              "    .dataframe tbody tr th:only-of-type {\n",
              "        vertical-align: middle;\n",
              "    }\n",
              "\n",
              "    .dataframe tbody tr th {\n",
              "        vertical-align: top;\n",
              "    }\n",
              "\n",
              "    .dataframe thead th {\n",
              "        text-align: right;\n",
              "    }\n",
              "</style>\n",
              "<table border=\"1\" class=\"dataframe\">\n",
              "  <thead>\n",
              "    <tr style=\"text-align: right;\">\n",
              "      <th></th>\n",
              "      <th>number</th>\n",
              "      <th>stage</th>\n",
              "      <th>Sex</th>\n",
              "    </tr>\n",
              "  </thead>\n",
              "  <tbody>\n",
              "    <tr>\n",
              "      <th>0</th>\n",
              "      <td>19</td>\n",
              "      <td>Infancia</td>\n",
              "      <td>female</td>\n",
              "    </tr>\n",
              "    <tr>\n",
              "      <th>1</th>\n",
              "      <td>27</td>\n",
              "      <td>Adolecencia</td>\n",
              "      <td>female</td>\n",
              "    </tr>\n",
              "    <tr>\n",
              "      <th>2</th>\n",
              "      <td>112</td>\n",
              "      <td>Juventud</td>\n",
              "      <td>female</td>\n",
              "    </tr>\n",
              "    <tr>\n",
              "      <th>3</th>\n",
              "      <td>88</td>\n",
              "      <td>Adultez</td>\n",
              "      <td>female</td>\n",
              "    </tr>\n",
              "    <tr>\n",
              "      <th>4</th>\n",
              "      <td>4</td>\n",
              "      <td>Persona Mayor</td>\n",
              "      <td>female</td>\n",
              "    </tr>\n",
              "  </tbody>\n",
              "</table>\n",
              "</div>\n",
              "      <button class=\"colab-df-convert\" onclick=\"convertToInteractive('df-15a03567-c6d2-4769-9b4d-109d12c66e80')\"\n",
              "              title=\"Convert this dataframe to an interactive table.\"\n",
              "              style=\"display:none;\">\n",
              "        \n",
              "  <svg xmlns=\"http://www.w3.org/2000/svg\" height=\"24px\"viewBox=\"0 0 24 24\"\n",
              "       width=\"24px\">\n",
              "    <path d=\"M0 0h24v24H0V0z\" fill=\"none\"/>\n",
              "    <path d=\"M18.56 5.44l.94 2.06.94-2.06 2.06-.94-2.06-.94-.94-2.06-.94 2.06-2.06.94zm-11 1L8.5 8.5l.94-2.06 2.06-.94-2.06-.94L8.5 2.5l-.94 2.06-2.06.94zm10 10l.94 2.06.94-2.06 2.06-.94-2.06-.94-.94-2.06-.94 2.06-2.06.94z\"/><path d=\"M17.41 7.96l-1.37-1.37c-.4-.4-.92-.59-1.43-.59-.52 0-1.04.2-1.43.59L10.3 9.45l-7.72 7.72c-.78.78-.78 2.05 0 2.83L4 21.41c.39.39.9.59 1.41.59.51 0 1.02-.2 1.41-.59l7.78-7.78 2.81-2.81c.8-.78.8-2.07 0-2.86zM5.41 20L4 18.59l7.72-7.72 1.47 1.35L5.41 20z\"/>\n",
              "  </svg>\n",
              "      </button>\n",
              "      \n",
              "  <style>\n",
              "    .colab-df-container {\n",
              "      display:flex;\n",
              "      flex-wrap:wrap;\n",
              "      gap: 12px;\n",
              "    }\n",
              "\n",
              "    .colab-df-convert {\n",
              "      background-color: #E8F0FE;\n",
              "      border: none;\n",
              "      border-radius: 50%;\n",
              "      cursor: pointer;\n",
              "      display: none;\n",
              "      fill: #1967D2;\n",
              "      height: 32px;\n",
              "      padding: 0 0 0 0;\n",
              "      width: 32px;\n",
              "    }\n",
              "\n",
              "    .colab-df-convert:hover {\n",
              "      background-color: #E2EBFA;\n",
              "      box-shadow: 0px 1px 2px rgba(60, 64, 67, 0.3), 0px 1px 3px 1px rgba(60, 64, 67, 0.15);\n",
              "      fill: #174EA6;\n",
              "    }\n",
              "\n",
              "    [theme=dark] .colab-df-convert {\n",
              "      background-color: #3B4455;\n",
              "      fill: #D2E3FC;\n",
              "    }\n",
              "\n",
              "    [theme=dark] .colab-df-convert:hover {\n",
              "      background-color: #434B5C;\n",
              "      box-shadow: 0px 1px 3px 1px rgba(0, 0, 0, 0.15);\n",
              "      filter: drop-shadow(0px 1px 2px rgba(0, 0, 0, 0.3));\n",
              "      fill: #FFFFFF;\n",
              "    }\n",
              "  </style>\n",
              "\n",
              "      <script>\n",
              "        const buttonEl =\n",
              "          document.querySelector('#df-15a03567-c6d2-4769-9b4d-109d12c66e80 button.colab-df-convert');\n",
              "        buttonEl.style.display =\n",
              "          google.colab.kernel.accessAllowed ? 'block' : 'none';\n",
              "\n",
              "        async function convertToInteractive(key) {\n",
              "          const element = document.querySelector('#df-15a03567-c6d2-4769-9b4d-109d12c66e80');\n",
              "          const dataTable =\n",
              "            await google.colab.kernel.invokeFunction('convertToInteractive',\n",
              "                                                     [key], {});\n",
              "          if (!dataTable) return;\n",
              "\n",
              "          const docLinkHtml = 'Like what you see? Visit the ' +\n",
              "            '<a target=\"_blank\" href=https://colab.research.google.com/notebooks/data_table.ipynb>data table notebook</a>'\n",
              "            + ' to learn more about interactive tables.';\n",
              "          element.innerHTML = '';\n",
              "          dataTable['output_type'] = 'display_data';\n",
              "          await google.colab.output.renderOutput(dataTable, element);\n",
              "          const docLink = document.createElement('div');\n",
              "          docLink.innerHTML = docLinkHtml;\n",
              "          element.appendChild(docLink);\n",
              "        }\n",
              "      </script>\n",
              "    </div>\n",
              "  </div>\n",
              "  "
            ],
            "text/plain": [
              "   number          stage     Sex\n",
              "0      19       Infancia  female\n",
              "1      27    Adolecencia  female\n",
              "2     112       Juventud  female\n",
              "3      88        Adultez  female\n",
              "4       4  Persona Mayor  female"
            ]
          },
          "execution_count": 477,
          "metadata": {},
          "output_type": "execute_result"
        }
      ],
      "source": [
        "df.tail(5)"
      ]
    },
    {
      "cell_type": "markdown",
      "metadata": {
        "id": "ZN4A38PXJ5fT"
      },
      "source": [
        "# **Aplicación de Modelos de Clasificación**"
      ]
    },
    {
      "cell_type": "markdown",
      "metadata": {
        "id": "GXGblQmxJ5fU"
      },
      "source": [
        "## *Definir las variables que se van a predecir*"
      ]
    },
    {
      "cell_type": "code",
      "execution_count": null,
      "metadata": {
        "colab": {
          "base_uri": "https://localhost:8080/"
        },
        "id": "n37WVFDdJ5fU",
        "outputId": "5c7dd1d2-3f09-442f-e233-69c5c50f4874"
      },
      "outputs": [
        {
          "name": "stdout",
          "output_type": "stream",
          "text": [
            "<class 'pandas.core.frame.DataFrame'>\n",
            "Int64Index: 891 entries, 0 to 890\n",
            "Data columns (total 12 columns):\n",
            " #   Column       Non-Null Count  Dtype  \n",
            "---  ------       --------------  -----  \n",
            " 0   PassengerId  891 non-null    int64  \n",
            " 1   Survived     891 non-null    int64  \n",
            " 2   Pclass       891 non-null    int64  \n",
            " 3   Name         891 non-null    object \n",
            " 4   Sex          891 non-null    object \n",
            " 5   Age          891 non-null    float64\n",
            " 6   SibSp        891 non-null    int64  \n",
            " 7   Parch        891 non-null    int64  \n",
            " 8   Ticket       891 non-null    object \n",
            " 9   Fare         891 non-null    float64\n",
            " 10  Embarked     891 non-null    object \n",
            " 11  sex_num      891 non-null    int64  \n",
            "dtypes: float64(2), int64(6), object(4)\n",
            "memory usage: 90.5+ KB\n"
          ]
        }
      ],
      "source": [
        "# variables independientes , 'Sex', 'Pclass', 'Embarked'\n",
        "df = newData\n",
        "X = df[['Age', 'sex_num', 'Pclass', 'Embarked', 'Fare']].values\n",
        "y = df['Survived'].values  # variable dependiente\n",
        "df.info()"
      ]
    },
    {
      "cell_type": "markdown",
      "metadata": {
        "id": "ULTdYmc7J5fU"
      },
      "source": [
        "## Importar librerías"
      ]
    },
    {
      "cell_type": "code",
      "execution_count": null,
      "metadata": {
        "id": "EzcPTTsHJ5fU"
      },
      "outputs": [],
      "source": [
        "from sklearn.neighbors import KNeighborsClassifier\n",
        "from sklearn.svm import SVC\n",
        "from sklearn.linear_model import LogisticRegression\n",
        "from sklearn.tree import DecisionTreeClassifier\n",
        "from sklearn.naive_bayes import GaussianNB\n",
        "from sklearn.ensemble import RandomForestClassifier\n",
        "from sklearn.ensemble import GradientBoostingClassifier\n",
        "from sklearn.neural_network import MLPClassifier"
      ]
    },
    {
      "cell_type": "markdown",
      "metadata": {
        "id": "W_Jtf13BJ5fU"
      },
      "source": [
        "### Librerías para Evaluación y Validación de Modelos"
      ]
    },
    {
      "cell_type": "code",
      "execution_count": null,
      "metadata": {
        "id": "2yePonsBJ5fU"
      },
      "outputs": [],
      "source": [
        "from sklearn import metrics\n",
        "from sklearn.metrics import classification_report,confusion_matrix\n",
        "from sklearn.model_selection import train_test_split\n",
        "from sklearn.model_selection import cross_val_score\n",
        "from sklearn.metrics import accuracy_score"
      ]
    },
    {
      "cell_type": "markdown",
      "metadata": {
        "id": "800bhiA7J5fU"
      },
      "source": [
        "## Selección de Modelos a Utilizar"
      ]
    },
    {
      "cell_type": "code",
      "execution_count": null,
      "metadata": {
        "id": "E5Ere2HuJ5fV"
      },
      "outputs": [],
      "source": [
        "models = []\n",
        "models.append(('K-Neighbors', KNeighborsClassifier()))\n",
        "models.append(('Bayes', GaussianNB()))\n",
        "models.append(('SVC', SVC()))\n",
        "models.append(('Regresion Logistica', LogisticRegression()))\n",
        "models.append(('Arboles Desicion', DecisionTreeClassifier()))\n",
        "models.append(('Redes Neuronales', MLPClassifier()))\n",
        "models.append(('Bosques Aleatorios', RandomForestClassifier(n_estimators=5000)))\n"
      ]
    },
    {
      "cell_type": "markdown",
      "metadata": {
        "id": "a758vY0HJ5fV"
      },
      "source": [
        "## Dividir los datos en entrenamiento y testing"
      ]
    },
    {
      "cell_type": "code",
      "execution_count": null,
      "metadata": {
        "id": "pDoIF5vfJ5fV"
      },
      "outputs": [],
      "source": [
        "# split X and y into training and testing sets\n",
        "from sklearn.model_selection import train_test_split\n",
        "X_train, X_test, y_train, y_test = train_test_split(X, y, random_state=0)"
      ]
    },
    {
      "cell_type": "markdown",
      "metadata": {
        "id": "mYEQKYt1J5fV"
      },
      "source": [
        "## Entrenamiento de Modelos de Clasificación"
      ]
    },
    {
      "cell_type": "markdown",
      "metadata": {
        "id": "oCrfvXZDJ5fV"
      },
      "source": [
        "### Entrenamiento general de Modelos"
      ]
    },
    {
      "cell_type": "code",
      "execution_count": null,
      "metadata": {
        "colab": {
          "base_uri": "https://localhost:8080/"
        },
        "id": "ScgcMY9uJ5fV",
        "outputId": "c9293e87-3f20-493c-8e38-0041c4b7317b"
      },
      "outputs": [
        {
          "name": "stderr",
          "output_type": "stream",
          "text": [
            "/usr/local/lib/python3.7/dist-packages/sklearn/neural_network/_multilayer_perceptron.py:696: ConvergenceWarning:\n",
            "\n",
            "Stochastic Optimizer: Maximum iterations (200) reached and the optimization hasn't converged yet.\n",
            "\n"
          ]
        },
        {
          "name": "stdout",
          "output_type": "stream",
          "text": [
            "                  Name     Score\n",
            "0          K-Neighbors  0.717489\n",
            "1                Bayes  0.780269\n",
            "2                  SVC  0.721973\n",
            "3  Regresion Logistica  0.798206\n",
            "4     Arboles Desicion  0.780269\n",
            "5     Redes Neuronales  0.802691\n",
            "6   Bosques Aleatorios  0.843049\n"
          ]
        }
      ],
      "source": [
        "names = [] #Arreglo Vacío de Nombres\n",
        "accu_scores = [] #Arreglo Vacío de Accuracys\n",
        "accuracies = []\n",
        "\n",
        "for name, model in models:\n",
        "    model.fit(X_train, y_train)\n",
        "    y_pred = model.predict(X_test)\n",
        "    accu_scores.append(accuracy_score(y_test, y_pred))\n",
        "    names.append(name)\n",
        "tr_split = pd.DataFrame({'Name': names, 'Score': accu_scores})\n",
        "print(tr_split)"
      ]
    },
    {
      "cell_type": "markdown",
      "metadata": {
        "id": "M44w-DSLJ5fV"
      },
      "source": [
        "### K-neighbors"
      ]
    },
    {
      "cell_type": "code",
      "execution_count": null,
      "metadata": {
        "id": "TUtFZ-3EJ5fV"
      },
      "outputs": [],
      "source": [
        "algoritmo_kNN = KNeighborsClassifier(n_neighbors= 5, metric = 'minkowski', p = 2)\n",
        "algoritmo_kNN.fit(X_train, y_train)\n",
        "y_pred_kNN = algoritmo_kNN.predict(X_test)\n",
        "#p=1: Distancia euclideana\n",
        "#p=2: Distancia Manhattan"
      ]
    },
    {
      "cell_type": "code",
      "execution_count": null,
      "metadata": {
        "colab": {
          "base_uri": "https://localhost:8080/"
        },
        "id": "ch_4G4t0J5fW",
        "outputId": "e900c1b7-5e64-4524-a38b-4fa71ab6d74a"
      },
      "outputs": [
        {
          "name": "stdout",
          "output_type": "stream",
          "text": [
            "La exactitud del modelo K-NN es:\n",
            "72.0 %\n"
          ]
        }
      ],
      "source": [
        "#Se utiliza el método accuracy para calcular la exactitud del modelo. Checa cuantos si coinciden. \n",
        "accuracy_kNN = metrics.accuracy_score(y_test, y_pred_kNN)\n",
        "accuracy_kNN = round(accuracy_kNN, 2) * 100\n",
        "\n",
        "accuracies.append(accuracy_kNN)\n",
        "\n",
        "print(\"La exactitud del modelo K-NN es:\")\n",
        "print(accuracy_kNN, \"%\")"
      ]
    },
    {
      "cell_type": "markdown",
      "metadata": {
        "id": "BOjavgsPJ5fW"
      },
      "source": [
        "### *Bayes (Clasificación)*\n"
      ]
    },
    {
      "cell_type": "code",
      "execution_count": null,
      "metadata": {
        "id": "GFgNOOGKJ5fW"
      },
      "outputs": [],
      "source": [
        "algoritmo_BAY = GaussianNB()\n",
        "algoritmo_BAY.fit(X_train, y_train)\n",
        "y_pred_BAY = algoritmo_BAY.predict(X_test)"
      ]
    },
    {
      "cell_type": "code",
      "execution_count": null,
      "metadata": {
        "colab": {
          "base_uri": "https://localhost:8080/"
        },
        "id": "tIqffncjJ5fW",
        "outputId": "ea1a141d-18b4-4eb0-ccd5-6d6341072e41"
      },
      "outputs": [
        {
          "name": "stdout",
          "output_type": "stream",
          "text": [
            "Exactitud del modelo Naive Bayes: \n",
            "78.0 %\n"
          ]
        }
      ],
      "source": [
        "accuracy_BAY = metrics.accuracy_score(y_test, y_pred_BAY)\n",
        "accuracy_BAY = round(accuracy_BAY, 2) * 100\n",
        "\n",
        "accuracies.append(accuracy_BAY)\n",
        "\n",
        "print(\"Exactitud del modelo Naive Bayes: \")\n",
        "print(accuracy_BAY, \"%\")\n",
        "\n"
      ]
    },
    {
      "cell_type": "markdown",
      "metadata": {
        "id": "Xmcb5nLFJ5fW"
      },
      "source": [
        "### *SVC Support Vector Machine (Clasificación)*"
      ]
    },
    {
      "cell_type": "code",
      "execution_count": null,
      "metadata": {
        "id": "aLvAgKmsJ5fW"
      },
      "outputs": [],
      "source": [
        "algoritmo_SVC = SVC(kernel = \"linear\")\n",
        "algoritmo_SVC.fit(X_train, y_train)\n",
        "y_pred_SVC = algoritmo_SVC.predict(X_test)"
      ]
    },
    {
      "cell_type": "code",
      "execution_count": null,
      "metadata": {
        "colab": {
          "base_uri": "https://localhost:8080/"
        },
        "id": "s0O3l0hgJ5fW",
        "outputId": "2d7677f9-4f44-4f2b-f8f0-8ea2653e2298"
      },
      "outputs": [
        {
          "name": "stdout",
          "output_type": "stream",
          "text": [
            "Exactitud del modelo SVC:\n",
            "78.0 %\n"
          ]
        }
      ],
      "source": [
        "accuracy_SVC = metrics.accuracy_score(y_test, y_pred_SVC)\n",
        "accuracy_SVC = round(accuracy_SVC, 2) * 100\n",
        "\n",
        "accuracies.append(accuracy_SVC)\n",
        "\n",
        "print(\"Exactitud del modelo SVC:\")\n",
        "print(accuracy_SVC, \"%\")"
      ]
    },
    {
      "cell_type": "markdown",
      "metadata": {
        "id": "w70rvLJ5J5fX"
      },
      "source": [
        "### *Regresión Logística (Clasificación)*"
      ]
    },
    {
      "cell_type": "code",
      "execution_count": null,
      "metadata": {
        "id": "QOqy5VP7J5fX"
      },
      "outputs": [],
      "source": [
        "algoritmo_LOG = LogisticRegression(max_iter=10000) #es necesario poner el número de iteraciones\n",
        "algoritmo_LOG.fit(X_train, y_train)\n",
        "y_pred_LOG = algoritmo_LOG.predict(X_test)"
      ]
    },
    {
      "cell_type": "code",
      "execution_count": null,
      "metadata": {
        "colab": {
          "base_uri": "https://localhost:8080/"
        },
        "id": "XHmUt-VGJ5fX",
        "outputId": "46b308d4-19e1-4ee6-f0c6-b43abff3c9d3"
      },
      "outputs": [
        {
          "name": "stdout",
          "output_type": "stream",
          "text": [
            "Exactitud del modelo Regresión Logística:\n",
            "80.0 %\n"
          ]
        }
      ],
      "source": [
        "accuracy_LOG = metrics.accuracy_score(y_test, y_pred_LOG)\n",
        "accuracy_LOG = round(accuracy_LOG, 2) * 100\n",
        "\n",
        "accuracies.append(accuracy_LOG)\n",
        "\n",
        "print(\"Exactitud del modelo Regresión Logística:\")\n",
        "print(accuracy_LOG, \"%\")"
      ]
    },
    {
      "cell_type": "markdown",
      "metadata": {
        "id": "0rvt9lQLJ5fX"
      },
      "source": [
        "### *Árboles de Desición (Clasificación)*"
      ]
    },
    {
      "cell_type": "code",
      "execution_count": null,
      "metadata": {
        "id": "rSqKAGumJ5fX"
      },
      "outputs": [],
      "source": [
        "algoritmo_TREE = DecisionTreeClassifier(criterion = \"gini\", random_state=1234, max_depth=3)\n",
        "algoritmo_TREE.fit(X_train, y_train)\n",
        "y_pred_TREE = algoritmo_TREE.predict(X_test)"
      ]
    },
    {
      "cell_type": "code",
      "execution_count": null,
      "metadata": {
        "colab": {
          "base_uri": "https://localhost:8080/"
        },
        "id": "9anDdbbkJ5fX",
        "outputId": "8b669262-3cd4-40fb-efa1-20f3f4a6e9bf"
      },
      "outputs": [
        {
          "name": "stdout",
          "output_type": "stream",
          "text": [
            "Exactitud del modelo Árboles de Desición:\n",
            "80.0 %\n"
          ]
        }
      ],
      "source": [
        "accuracy_TREE = metrics.accuracy_score(y_test, y_pred_TREE)\n",
        "accuracy_TREE = round(accuracy_TREE, 2) * 100\n",
        "\n",
        "accuracies.append(accuracy_TREE)\n",
        "\n",
        "print(\"Exactitud del modelo Árboles de Desición:\")\n",
        "print(accuracy_TREE, \"%\")"
      ]
    },
    {
      "cell_type": "markdown",
      "metadata": {
        "id": "GoYSjc9LJ5fX"
      },
      "source": [
        "### *Redes Neuronales*"
      ]
    },
    {
      "cell_type": "code",
      "execution_count": null,
      "metadata": {
        "id": "pFTL_k68J5fX"
      },
      "outputs": [],
      "source": [
        "algoritmo_MLP = MLPClassifier(hidden_layer_sizes=(8,8,8), activation='relu', solver='adam', max_iter=500)\n",
        "algoritmo_MLP.fit(X_train,y_train)\n",
        "\n",
        "y_pred_MLP = algoritmo_MLP.predict(X_test)\n",
        "\n",
        "#Extras para la matriz de confusión\n",
        "predict_train = algoritmo_MLP.predict(X_train)\n",
        "predict_test = algoritmo_MLP.predict(X_test)"
      ]
    },
    {
      "cell_type": "code",
      "execution_count": null,
      "metadata": {
        "colab": {
          "base_uri": "https://localhost:8080/"
        },
        "id": "HkVaEWisJ5fY",
        "outputId": "40618601-1c0d-4199-cda1-c36a828dee54"
      },
      "outputs": [
        {
          "name": "stdout",
          "output_type": "stream",
          "text": [
            "Exactitud del modelo Redes Neuronales:\n",
            "80.0 %\n"
          ]
        }
      ],
      "source": [
        "accuracy_MLP = metrics.accuracy_score(y_test, y_pred_MLP)\n",
        "accuracy_MLP = round(accuracy_MLP, 2) * 100\n",
        "\n",
        "accuracies.append(accuracy_MLP)\n",
        "\n",
        "print(\"Exactitud del modelo Redes Neuronales:\")\n",
        "print(accuracy_TREE, \"%\")"
      ]
    },
    {
      "cell_type": "markdown",
      "metadata": {
        "id": "SwntrVo1J5fY"
      },
      "source": [
        "### *Random Forrest*"
      ]
    },
    {
      "cell_type": "code",
      "execution_count": null,
      "metadata": {
        "id": "pYnwTOU0J5fY"
      },
      "outputs": [],
      "source": [
        "algoritmo_RF = RandomForestClassifier(n_estimators = 100, criterion = \"entropy\")\n",
        "algoritmo_RF.fit(X_train, y_train)\n",
        "y_pred_RF = algoritmo_RF.predict(X_test)"
      ]
    },
    {
      "cell_type": "code",
      "execution_count": null,
      "metadata": {
        "colab": {
          "base_uri": "https://localhost:8080/"
        },
        "id": "QDfUuBmiJ5fY",
        "outputId": "221eab84-abd4-42b6-e58e-b260cbfa8c64"
      },
      "outputs": [
        {
          "name": "stdout",
          "output_type": "stream",
          "text": [
            "Exactitud del modelo Bosques Aleatorios:\n",
            "84.0 %\n"
          ]
        }
      ],
      "source": [
        "accuracy_RF = metrics.accuracy_score(y_test, y_pred_RF)\n",
        "accuracy_RF = round(accuracy_RF, 2) * 100\n",
        "\n",
        "accuracies.append(accuracy_RF)\n",
        "\n",
        "print(\"Exactitud del modelo Bosques Aleatorios:\")\n",
        "print(accuracy_RF, \"%\")"
      ]
    },
    {
      "cell_type": "markdown",
      "metadata": {
        "id": "S8R68RgXJ5fY"
      },
      "source": [
        "# **Evaluación de los Modelos**"
      ]
    },
    {
      "cell_type": "markdown",
      "metadata": {
        "id": "XRvDoJfCJ5fY"
      },
      "source": [
        "## *Matriz de Confusión*"
      ]
    },
    {
      "cell_type": "code",
      "execution_count": null,
      "metadata": {
        "colab": {
          "base_uri": "https://localhost:8080/"
        },
        "id": "LlgI1gZhJ5fY",
        "outputId": "f0df514c-d9f6-4c0d-c411-09aaba052426"
      },
      "outputs": [
        {
          "name": "stdout",
          "output_type": "stream",
          "text": [
            "Matriz de Confusión para  K-Neighbors [[110  29]\n",
            " [ 34  50]]\n",
            "Reporte de Clasificación para  K-Neighbors               precision    recall  f1-score   support\n",
            "\n",
            "           0       0.76      0.79      0.78       139\n",
            "           1       0.63      0.60      0.61        84\n",
            "\n",
            "    accuracy                           0.72       223\n",
            "   macro avg       0.70      0.69      0.70       223\n",
            "weighted avg       0.71      0.72      0.72       223\n",
            "\n",
            "Matriz de Confusión para  Bayes [[111  28]\n",
            " [ 21  63]]\n",
            "Reporte de Clasificación para  Bayes               precision    recall  f1-score   support\n",
            "\n",
            "           0       0.84      0.80      0.82       139\n",
            "           1       0.69      0.75      0.72        84\n",
            "\n",
            "    accuracy                           0.78       223\n",
            "   macro avg       0.77      0.77      0.77       223\n",
            "weighted avg       0.78      0.78      0.78       223\n",
            "\n",
            "Matriz de Confusión para  SVC [[133   6]\n",
            " [ 56  28]]\n",
            "Reporte de Clasificación para  SVC               precision    recall  f1-score   support\n",
            "\n",
            "           0       0.70      0.96      0.81       139\n",
            "           1       0.82      0.33      0.47        84\n",
            "\n",
            "    accuracy                           0.72       223\n",
            "   macro avg       0.76      0.65      0.64       223\n",
            "weighted avg       0.75      0.72      0.68       223\n",
            "\n",
            "Matriz de Confusión para  Regresion Logistica [[116  23]\n",
            " [ 22  62]]\n",
            "Reporte de Clasificación para  Regresion Logistica               precision    recall  f1-score   support\n",
            "\n",
            "           0       0.84      0.83      0.84       139\n",
            "           1       0.73      0.74      0.73        84\n",
            "\n",
            "    accuracy                           0.80       223\n",
            "   macro avg       0.78      0.79      0.79       223\n",
            "weighted avg       0.80      0.80      0.80       223\n",
            "\n",
            "Matriz de Confusión para  Arboles Desicion [[119  20]\n",
            " [ 27  57]]\n",
            "Reporte de Clasificación para  Arboles Desicion               precision    recall  f1-score   support\n",
            "\n",
            "           0       0.82      0.86      0.84       139\n",
            "           1       0.74      0.68      0.71        84\n",
            "\n",
            "    accuracy                           0.79       223\n",
            "   macro avg       0.78      0.77      0.77       223\n",
            "weighted avg       0.79      0.79      0.79       223\n",
            "\n"
          ]
        },
        {
          "name": "stderr",
          "output_type": "stream",
          "text": [
            "/usr/local/lib/python3.7/dist-packages/sklearn/neural_network/_multilayer_perceptron.py:696: ConvergenceWarning:\n",
            "\n",
            "Stochastic Optimizer: Maximum iterations (200) reached and the optimization hasn't converged yet.\n",
            "\n"
          ]
        },
        {
          "name": "stdout",
          "output_type": "stream",
          "text": [
            "Matriz de Confusión para  Redes Neuronales [[116  23]\n",
            " [ 23  61]]\n",
            "Reporte de Clasificación para  Redes Neuronales               precision    recall  f1-score   support\n",
            "\n",
            "           0       0.83      0.83      0.83       139\n",
            "           1       0.73      0.73      0.73        84\n",
            "\n",
            "    accuracy                           0.79       223\n",
            "   macro avg       0.78      0.78      0.78       223\n",
            "weighted avg       0.79      0.79      0.79       223\n",
            "\n",
            "Matriz de Confusión para  Bosques Aleatorios [[124  15]\n",
            " [ 21  63]]\n",
            "Reporte de Clasificación para  Bosques Aleatorios               precision    recall  f1-score   support\n",
            "\n",
            "           0       0.86      0.89      0.87       139\n",
            "           1       0.81      0.75      0.78        84\n",
            "\n",
            "    accuracy                           0.84       223\n",
            "   macro avg       0.83      0.82      0.83       223\n",
            "weighted avg       0.84      0.84      0.84       223\n",
            "\n"
          ]
        }
      ],
      "source": [
        "#Imprimir las matrices de confusión para todos los modelos\n",
        "for name, model in models:\n",
        "    model.fit(X_train, y_train)\n",
        "    y_pred = model.predict(X_test)\n",
        "    print(\"Matriz de Confusión para \", name, confusion_matrix(y_test,y_pred))\n",
        "    print(\"Reporte de Clasificación para \", name, classification_report(y_test,y_pred))"
      ]
    },
    {
      "cell_type": "markdown",
      "metadata": {
        "id": "9yZSWqszJ5fY"
      },
      "source": [
        "## *Método de Train/Test Split*"
      ]
    },
    {
      "cell_type": "markdown",
      "metadata": {
        "id": "X1DZNYAuJ5fY"
      },
      "source": [
        "### *Validación*"
      ]
    },
    {
      "cell_type": "code",
      "execution_count": null,
      "metadata": {
        "colab": {
          "base_uri": "https://localhost:8080/"
        },
        "id": "Rfcb_W_bJ5fZ",
        "outputId": "d70314b4-04f0-4bac-9466-fee52d1a8ecf"
      },
      "outputs": [
        {
          "name": "stderr",
          "output_type": "stream",
          "text": [
            "/usr/local/lib/python3.7/dist-packages/sklearn/neural_network/_multilayer_perceptron.py:696: ConvergenceWarning:\n",
            "\n",
            "Stochastic Optimizer: Maximum iterations (200) reached and the optimization hasn't converged yet.\n",
            "\n"
          ]
        },
        {
          "name": "stdout",
          "output_type": "stream",
          "text": [
            "                  Name   Score_a   Score_p   Score_r  Score_f1\n",
            "0          K-Neighbors  0.695067  0.618421  0.546512  0.580247\n",
            "1                Bayes  0.780269  0.722892  0.697674  0.710059\n",
            "2                  SVC  0.641256  0.583333  0.244186  0.344262\n",
            "3  Regresion Logistica  0.780269  0.740260  0.662791  0.699387\n",
            "4     Arboles Desicion  0.784753  0.731707  0.697674  0.714286\n",
            "5     Redes Neuronales  0.766816  0.723684  0.639535  0.679012\n",
            "6   Bosques Aleatorios  0.834081  0.865672  0.674419  0.758170\n"
          ]
        }
      ],
      "source": [
        "X_train, X_test, y_train, y_test = train_test_split(X, y, stratify = df.Survived, random_state=0)\n",
        "\n",
        "#Definir arreglos vacíos para cada score\n",
        "model_names = []\n",
        "scores_tr_split_a = []\n",
        "scores_tr_split_p = []\n",
        "scores_tr_split_r = []\n",
        "scores_tr_split_f1 = []\n",
        "\n",
        "#Obtener las métricas de Evaluación para cada modelo\n",
        "for name, model in models:\n",
        "    model.fit(X_train, y_train)\n",
        "    y_pred = model.predict(X_test)\n",
        "    scores_tr_split_a.append(accuracy_score(y_test, y_pred))\n",
        "    scores_tr_split_p.append(metrics.precision_score(y_test, y_pred))\n",
        "    scores_tr_split_r.append(metrics.recall_score(y_test, y_pred))\n",
        "    scores_tr_split_f1.append(metrics.f1_score(y_test, y_pred))\n",
        "    model_names.append(name)\n",
        "    \n",
        "#Generar DataFrame con las métricas de evaluación para cada modelo\n",
        "tr_split = pd.DataFrame({'Name': model_names, 'Score_a': scores_tr_split_a, 'Score_p': scores_tr_split_p, 'Score_r':scores_tr_split_r, 'Score_f1':scores_tr_split_f1})\n",
        "\n",
        "#Imprimir el dataframe con métricas\n",
        "print(tr_split)"
      ]
    },
    {
      "cell_type": "markdown",
      "metadata": {
        "id": "dFCaxTrHJ5fZ"
      },
      "source": [
        "#### *Exactitud*"
      ]
    },
    {
      "cell_type": "code",
      "execution_count": null,
      "metadata": {
        "colab": {
          "base_uri": "https://localhost:8080/"
        },
        "id": "GEmTOjbhJ5fZ",
        "outputId": "e34600c9-8b06-4490-fa68-d71a3741ea54"
      },
      "outputs": [
        {
          "data": {
            "image/png": "[encoded data removed]",
            "text/plain": [
              "<Figure size 432x288 with 1 Axes>"
            ]
          },
          "metadata": {
            "needs_background": "light"
          },
          "output_type": "display_data"
        }
      ],
      "source": [
        "axis = sns.barplot(x = tr_split['Name'], y = tr_split['Score_a'], data = tr_split)\n",
        "axis.set(xlabel='Classifier', ylabel='Accuracy')\n",
        "for p in axis.patches:\n",
        "    height = p.get_height()\n",
        "    axis.text(p.get_x() + p.get_width()/2, height + 0.005, '{:1.4f}'.format(height), ha=\"center\") \n",
        "    \n",
        "plt.show()"
      ]
    },
    {
      "cell_type": "markdown",
      "metadata": {
        "id": "SDmIG1T-J5fZ"
      },
      "source": [
        "#### *Precisión*"
      ]
    },
    {
      "cell_type": "code",
      "execution_count": null,
      "metadata": {
        "colab": {
          "base_uri": "https://localhost:8080/"
        },
        "id": "LZIsp9zOJ5fZ",
        "outputId": "8cac7ce3-4ef4-4d85-dc0d-efa7284bce8b"
      },
      "outputs": [
        {
          "data": {
            "image/png": "[encoded data removed]",
            "text/plain": [
              "<Figure size 432x288 with 1 Axes>"
            ]
          },
          "metadata": {
            "needs_background": "light"
          },
          "output_type": "display_data"
        }
      ],
      "source": [
        "axis = sns.barplot(x = tr_split['Name'], y = tr_split['Score_p'], data = tr_split)\n",
        "axis.set(xlabel='Classifier', ylabel='Precision')\n",
        "for p in axis.patches:\n",
        "    height = p.get_height()\n",
        "    axis.text(p.get_x() + p.get_width()/2, height + 0.005, '{:1.4f}'.format(height), ha=\"center\") \n",
        "    \n",
        "plt.show()"
      ]
    },
    {
      "cell_type": "markdown",
      "metadata": {
        "id": "tbkfWEY_J5fZ"
      },
      "source": [
        "#### *Especificidad*"
      ]
    },
    {
      "cell_type": "code",
      "execution_count": null,
      "metadata": {
        "colab": {
          "base_uri": "https://localhost:8080/"
        },
        "id": "UKb_qeYoJ5fZ",
        "outputId": "98af5884-40c7-4526-92e4-4a69dc3ee4b7"
      },
      "outputs": [
        {
          "data": {
            "image/png": "[encoded data removed]",
            "text/plain": [
              "<Figure size 432x288 with 1 Axes>"
            ]
          },
          "metadata": {
            "needs_background": "light"
          },
          "output_type": "display_data"
        }
      ],
      "source": [
        "axis = sns.barplot(x = tr_split['Name'], y = tr_split['Score_r'], data = tr_split)\n",
        "axis.set(xlabel='Classifier', ylabel='Recall')\n",
        "for p in axis.patches:\n",
        "    height = p.get_height()\n",
        "    axis.text(p.get_x() + p.get_width()/2, height + 0.005, '{:1.4f}'.format(height), ha=\"center\") \n",
        "    \n",
        "plt.show()"
      ]
    },
    {
      "cell_type": "markdown",
      "metadata": {
        "id": "3gvTNFi8J5fa"
      },
      "source": [
        "#### *F1 Score*"
      ]
    },
    {
      "cell_type": "code",
      "execution_count": null,
      "metadata": {
        "colab": {
          "base_uri": "https://localhost:8080/"
        },
        "id": "RQqCf0DoJ5fa",
        "outputId": "ec312f3a-4464-4567-9ac0-efc22ba1a633"
      },
      "outputs": [
        {
          "data": {
            "image/png": "[encoded data removed]",
            "text/plain": [
              "<Figure size 432x288 with 1 Axes>"
            ]
          },
          "metadata": {
            "needs_background": "light"
          },
          "output_type": "display_data"
        }
      ],
      "source": [
        "axis = sns.barplot(x = tr_split['Name'], y = tr_split['Score_f1'], data = tr_split)\n",
        "axis.set(xlabel='Classifier', ylabel='F1')\n",
        "for p in axis.patches:\n",
        "    height = p.get_height()\n",
        "    axis.text(p.get_x() + p.get_width()/2, height + 0.005, '{:1.4f}'.format(height), ha=\"center\") \n",
        "    \n",
        "plt.show()"
      ]
    },
    {
      "cell_type": "markdown",
      "metadata": {
        "id": "Sxk3-uMfJ5fa"
      },
      "source": [
        "## *Método de Validación K-Fold Cross*"
      ]
    },
    {
      "cell_type": "markdown",
      "metadata": {
        "id": "lI78AmHOJ5fa"
      },
      "source": [
        "### *Importar Librerías para Validación K-Fold Cross*"
      ]
    },
    {
      "cell_type": "code",
      "execution_count": null,
      "metadata": {
        "id": "xiwuoHWRJ5fa"
      },
      "outputs": [],
      "source": [
        "from sklearn.model_selection import KFold\n",
        "from sklearn.metrics import make_scorer\n",
        "from sklearn.model_selection import cross_validate"
      ]
    },
    {
      "cell_type": "markdown",
      "metadata": {
        "id": "BEJgDRdmJ5fa"
      },
      "source": [
        "### *Validación*"
      ]
    },
    {
      "cell_type": "code",
      "execution_count": null,
      "metadata": {
        "id": "fXtUoPgbJ5fa"
      },
      "outputs": [],
      "source": [
        "#Definir arreglos vacíos para cada score\n",
        "model_names = []\n",
        "scores_kf_a = []\n",
        "scores_kf_p = []\n",
        "scores_kf_r = []\n",
        "scores_kf_f1 = []\n",
        "\n",
        "#Obtener las métricas de Evaluación para cada modelo\n",
        "for name, model in models: \n",
        "    kfold = KFold(n_splits=10, random_state=10, shuffle=True) \n",
        "    scoring = ['accuracy', 'precision','recall','f1']\n",
        "    results = cross_validate(model, X, y, cv=kfold, scoring=scoring)\n",
        "    model_names.append(name)\n",
        "    scores_kf_a.append(np.mean(results['test_accuracy']))\n",
        "    scores_kf_p.append(np.mean(results['test_precision']))\n",
        "    scores_kf_r.append(np.mean(results['test_recall']))\n",
        "    scores_kf_f1.append(np.mean(results['test_f1']))\n",
        "\n",
        "#Generar DataFrame con las métricas de evaluación para cada modelo\n",
        "kf_cross_val = pd.DataFrame({'Name': names, 'Score_a': scores_kf_a, 'Score_p':scores_kf_p, 'Score_r':scores_kf_r, 'Score_f1':scores_kf_f1})\n",
        "\n",
        "#Imprimir el dataframe con métricas\n",
        "print(kf_cross_val)"
      ]
    },
    {
      "cell_type": "markdown",
      "metadata": {
        "id": "ZXsv9XcUJ5fa"
      },
      "source": [
        "#### *Exactitud*"
      ]
    },
    {
      "cell_type": "code",
      "execution_count": null,
      "metadata": {
        "id": "asOedVjnJ5fb"
      },
      "outputs": [],
      "source": [
        "#We can plot the accuracy scores using seaborn\n",
        "axis = sns.barplot(x = kf_cross_val['Name'], y = kf_cross_val['Score_a'], data = kf_cross_val)\n",
        "axis.set(xlabel='Classifier', ylabel='Accuracy')\n",
        "for p in axis.patches:\n",
        "    height = p.get_height()\n",
        "    axis.text(p.get_x() + p.get_width()/2, height + 0.005, '{:1.4f}'.format(height), ha=\"center\") \n",
        "    \n",
        "plt.show()"
      ]
    },
    {
      "cell_type": "markdown",
      "metadata": {
        "id": "NA7e_xsaJ5fb"
      },
      "source": [
        "#### *Precisión*"
      ]
    },
    {
      "cell_type": "code",
      "execution_count": null,
      "metadata": {
        "id": "Ta51nGH4J5fb"
      },
      "outputs": [],
      "source": [
        "#We can plot the accuracy scores using seaborn\n",
        "axis = sns.barplot(x = kf_cross_val['Name'], y = kf_cross_val['Score_p'], data = kf_cross_val)\n",
        "axis.set(xlabel='Classifier', ylabel='Precision')\n",
        "for p in axis.patches:\n",
        "    height = p.get_height()\n",
        "    axis.text(p.get_x() + p.get_width()/2, height + 0.005, '{:1.4f}'.format(height), ha=\"center\") \n",
        "    \n",
        "plt.show()"
      ]
    },
    {
      "cell_type": "markdown",
      "metadata": {
        "id": "bTYu2_arJ5fb"
      },
      "source": [
        "#### *Especificidad*"
      ]
    },
    {
      "cell_type": "code",
      "execution_count": null,
      "metadata": {
        "id": "pLQIcAsDJ5fb"
      },
      "outputs": [],
      "source": [
        "#We can plot the accuracy scores using seaborn\n",
        "axis = sns.barplot(x = kf_cross_val['Name'], y = kf_cross_val['Score_r'], data = kf_cross_val)\n",
        "axis.set(xlabel='Classifier', ylabel='Recall')\n",
        "for p in axis.patches:\n",
        "    height = p.get_height()\n",
        "    axis.text(p.get_x() + p.get_width()/2, height + 0.005, '{:1.4f}'.format(height), ha=\"center\") \n",
        "    \n",
        "plt.show()"
      ]
    },
    {
      "cell_type": "markdown",
      "metadata": {
        "id": "PLtLfKslJ5fb"
      },
      "source": [
        "#### *F1 Score*"
      ]
    },
    {
      "cell_type": "code",
      "execution_count": null,
      "metadata": {
        "id": "eKlDvktAJ5fb"
      },
      "outputs": [],
      "source": [
        "#We can plot the accuracy scores using seaborn\n",
        "axis = sns.barplot(x = kf_cross_val['Name'], y = kf_cross_val['Score_f1'], data = kf_cross_val)\n",
        "axis.set(xlabel='Classifier', ylabel='F1')\n",
        "for p in axis.patches:\n",
        "    height = p.get_height()\n",
        "    axis.text(p.get_x() + p.get_width()/2, height + 0.005, '{:1.4f}'.format(height), ha=\"center\") \n",
        "    \n",
        "plt.show()"
      ]
    },
    {
      "cell_type": "markdown",
      "metadata": {
        "id": "pIKyIb5gJ5fb"
      },
      "source": [
        "# **Conclusiones y Resultados**"
      ]
    },
    {
      "cell_type": "markdown",
      "metadata": {
        "id": "fhyawk_xR_QU"
      },
      "source": [
        "A través del estudio realizado en donde probamos distintos modelos de machine learning, podemos decir que, en la mayoria de los casos, el modelo más apto para el reto es el de *Bosques Aleatorios*. Esto es debido a que el modelo cuenta con una precisión del **86.57%**, del cual supera por **9%** al segundo modelo más preciso, *Redes Neuronales*, y por **12%** al tercer mejor modelo, *Arboles de decisión*. "
      ]
    },
    {
      "cell_type": "code",
      "execution_count": null,
      "metadata": {
        "id": "f4nhRNiJgmNZ",
        "outputId": "fe3bb47f-07c4-4def-b3c1-dca43736d873"
      },
      "outputs": [
        {
          "ename": "NameError",
          "evalue": "name 'RandomForestClassifier' is not defined",
          "output_type": "error",
          "traceback": [
            "\u001b[1;31m---------------------------------------------------------------------------\u001b[0m",
            "\u001b[1;31mNameError\u001b[0m                                 Traceback (most recent call last)",
            "\u001b[1;32mc:\\Users\\SR118\\Documents\\GitHub\\InteligenciaArtificial_NDG\\ReallyRealMachine.ipynb Cell 111\u001b[0m in \u001b[0;36m<cell line: 1>\u001b[1;34m()\u001b[0m\n\u001b[1;32m----> <a href='vscode-notebook-cell:/c%3A/Users/SR118/Documents/GitHub/InteligenciaArtificial_NDG/ReallyRealMachine.ipynb#Y216sZmlsZQ%3D%3D?line=0'>1</a>\u001b[0m algoritmo_RF \u001b[39m=\u001b[39m RandomForestClassifier(n_estimators \u001b[39m=\u001b[39m \u001b[39m100\u001b[39m, criterion \u001b[39m=\u001b[39m \u001b[39m\"\u001b[39m\u001b[39mentropy\u001b[39m\u001b[39m\"\u001b[39m)\n\u001b[0;32m      <a href='vscode-notebook-cell:/c%3A/Users/SR118/Documents/GitHub/InteligenciaArtificial_NDG/ReallyRealMachine.ipynb#Y216sZmlsZQ%3D%3D?line=1'>2</a>\u001b[0m algoritmo_RF\u001b[39m.\u001b[39mfit(X_train, y_train)\n\u001b[0;32m      <a href='vscode-notebook-cell:/c%3A/Users/SR118/Documents/GitHub/InteligenciaArtificial_NDG/ReallyRealMachine.ipynb#Y216sZmlsZQ%3D%3D?line=3'>4</a>\u001b[0m y_pred_RF \u001b[39m=\u001b[39m algoritmo_RF\u001b[39m.\u001b[39mpredict(X_test)\n",
            "\u001b[1;31mNameError\u001b[0m: name 'RandomForestClassifier' is not defined"
          ]
        }
      ],
      "source": [
        "algoritmo_RF = RandomForestClassifier(n_estimators = 100, criterion = \"entropy\")\n",
        "algoritmo_RF.fit(X_train, y_train)\n",
        "\n",
        "y_pred_RF = algoritmo_RF.predict(X_test)\n",
        "# Convert NumPy array to df for concat\n",
        "df_pred = pd.DataFrame(y_pred_RF)\n",
        "df_pred.columns = ['Predicted Value']\n",
        "\n",
        "df_sub = pd.read_csv('gender_submission.csv')\n",
        "df_sub = df_sub.drop('PassengerId', axis = 1)\n",
        "\n",
        "# Reset index to prevent NaN values in concat result\n",
        "df_pred.reset_index(drop=True, inplace=True)\n",
        "df_sub.reset_index(drop=True, inplace=True)\n",
        "\n",
        "# True values y predicted values\n",
        "result = pd.concat([df_sub,df_pred], axis=1)\n",
        "result.head(50)\n"
      ]
    }
  ],
  "metadata": {
    "colab": {
      "provenance": [],
      "toc_visible": true
    },
    "kernelspec": {
      "display_name": "Python 3.10.6 64-bit (windows store)",
      "language": "python",
      "name": "python3"
    },
    "language_info": {
      "codemirror_mode": {
        "name": "ipython",
        "version": 3
      },
      "file_extension": ".py",
      "mimetype": "text/x-python",
      "name": "python",
      "nbconvert_exporter": "python",
      "pygments_lexer": "ipython3",
      "version": "3.10.6"
    },
    "orig_nbformat": 4,
    "vscode": {
      "interpreter": {
        "hash": "7c53684bca72d5232e78005dcb307d0c18e834aaaba588d08c4be8f6d0b69a8d"
      }
    }
  },
  "nbformat": 4,
  "nbformat_minor": 0
}
